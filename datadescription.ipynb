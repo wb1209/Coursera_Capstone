{
 "cells": [
  {
   "cell_type": "markdown",
   "metadata": {},
   "source": [
    "### Data description"
   ]
  },
  {
   "cell_type": "markdown",
   "metadata": {},
   "source": [
    "First, we will use the Foursquare api to retrieve the lat and long values of high schools within a 30.000m radius from downtown Los Angelos' lattitude and longitude. The api will return 100 results as a maximum. The api call will be made such that the schools closest to the provided lattitude and longitude will be kept."
   ]
  },
  {
   "cell_type": "markdown",
   "metadata": {},
   "source": [
    "Next, we will determine per school (by repeatedly calling the api using the schools lat and long values from the previous step) if there are one of more venues of one of the following categories:\n",
    "* Bar\n",
    "* Liquor Store \n",
    "* Fast Food Restaurant\n",
    "\n",
    "Only those venues will be selected where on of the above categories is the primary category of the venue."
   ]
  },
  {
   "cell_type": "markdown",
   "metadata": {},
   "source": [
    "Based on the counts per venue clusters will be formed using the kmeans algoritm. \n",
    "Finally the schools will be plot on a map marking the clusters by color."
   ]
  }
 ],
 "metadata": {
  "kernelspec": {
   "display_name": "Python 3",
   "language": "python",
   "name": "python3"
  },
  "language_info": {
   "codemirror_mode": {
    "name": "ipython",
    "version": 3
   },
   "file_extension": ".py",
   "mimetype": "text/x-python",
   "name": "python",
   "nbconvert_exporter": "python",
   "pygments_lexer": "ipython3",
   "version": "3.7.4"
  }
 },
 "nbformat": 4,
 "nbformat_minor": 2
}
