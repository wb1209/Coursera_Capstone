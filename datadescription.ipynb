{
 "cells": [
  {
   "cell_type": "markdown",
   "metadata": {},
   "source": [
    "### Data description"
   ]
  },
  {
   "cell_type": "markdown",
   "metadata": {},
   "source": [
    "#### Foursquare"
   ]
  },
  {
   "cell_type": "markdown",
   "metadata": {},
   "source": [
    "For the assigment I will use the foursquare places API.\n",
    "\n",
    "Foursquare is a location-based social network (LBSN) that allows people to share their location with friends by ‘checking-in’ at a given place using their smartphone. The application can also access the location-based recommendations left by other users. Foursquare has tens of millions of users and a huge database containing information of venues and users. including detailed information on users preferences, tips, menus, photo's, categories etc.\n",
    "\n",
    "\n"
   ]
  },
  {
   "cell_type": "markdown",
   "metadata": {},
   "source": [
    "#### Accessing Foursquare information"
   ]
  },
  {
   "cell_type": "markdown",
   "metadata": {},
   "source": [
    "Foursquare data can be retrieved using its api (application program interface). Using api's we can define a request and get the results returned in a json format.\n",
    "\n",
    "There are multiple ways of calling the api (endpoints) where each endpoint has different inputparameters and returns different kind of information. \n",
    "\n",
    "For this assignment I use the 'explore' endpoint which returns the venues within a certain radius of a location provided as inputparameters (lat, lon) in the API call. In this api we can (but don't have to) provide one or more categoryId's which ensures we only get returned venues of a certain type (category). More information on the explore endpoint api here: https://developer.foursquare.com/docs/api-reference/venues/explore/\n",
    "\n",
    "\n"
   ]
  },
  {
   "cell_type": "markdown",
   "metadata": {},
   "source": [
    "First, we perform an explore-call to retrieve the schoolnames (**using categoyId's for high schools**) and location information (ie lat and long values) of high schools within a 30.000m radius from downtown Los Angelos' lattitude and longitude. \n",
    "\n",
    "The api will return 100 results as a maximum per call. Using the offset parameter we can do multiple calls to get the next 100 results until we have reached the total number of results.\n",
    "\n",
    "This is how we retrieve the location data of schools using the ___explore end point___ of the places API"
   ]
  },
  {
   "cell_type": "code",
   "execution_count": 42,
   "metadata": {},
   "outputs": [
    {
     "name": "stdout",
     "output_type": "stream",
     "text": [
      "Requirement already satisfied: geopy in /Users/wbouma/opt/anaconda3/lib/python3.7/site-packages (1.21.0)\r\n",
      "Requirement already satisfied: geographiclib<2,>=1.49 in /Users/wbouma/opt/anaconda3/lib/python3.7/site-packages (from geopy) (1.50)\r\n"
     ]
    }
   ],
   "source": [
    "#load libraries\n",
    "import pandas as pd\n",
    "import numpy as np\n",
    "\n",
    "!pip install geopy\n",
    "from geopy.geocoders import Nominatim # convert an address into latitude and longitude values\n",
    "import folium # map rendering library\n",
    "\n",
    "# Matplotlib and associated plotting modules\n",
    "import matplotlib.cm as cm\n",
    "import matplotlib.colors as colors\n",
    "\n",
    "# import k-means from clustering stage\n",
    "from sklearn.cluster import KMeans\n",
    "import requests # library to handle requests\n",
    "from pandas.io.json import json_normalize # tranform JSON file into a pandas dataframe\n",
    "import json"
   ]
  },
  {
   "cell_type": "code",
   "execution_count": 43,
   "metadata": {},
   "outputs": [],
   "source": [
    "#Los Angelos' Lattitude and longitude values using the website https://www.latlong.net\n",
    "locationLat= 34.052235\n",
    "locationLon= -118.243683"
   ]
  },
  {
   "cell_type": "code",
   "execution_count": 110,
   "metadata": {},
   "outputs": [],
   "source": [
    "#function te retrieve schools given an location and radius\n",
    "def getSchools(lat, long, radius):\n",
    "    \n",
    "    CLIENT_ID = 'W3GBMV2TBYXHDKZLEHAT1FISU2HS12CZBNMMAWRNTHEOWJYY' \n",
    "    CLIENT_SECRET = 'CYTFPE31SS30UG2XEIAS5DNLOWTABZLYRXCCW5AIE1JCB1NV' \n",
    "    VERSION = '20200401' # Foursquare API version\n",
    "    LIMIT = 50000 \n",
    "    \n",
    "    categoryId = '4bf58dd8d48988d13d941735' #high schools\n",
    "    offset = 0\n",
    "    \n",
    "    school_list=[]\n",
    "\n",
    "    #first call\n",
    "    url = 'https://api.foursquare.com/v2/venues/explore?&client_id={}&client_secret={}&v={}&ll={},{}&radius={}&categoryId={}&limit={}&sortByDistance=1&offset={}'.format(\n",
    "    CLIENT_ID, \n",
    "    CLIENT_SECRET, \n",
    "    VERSION, \n",
    "    lat, \n",
    "    long, \n",
    "    radius, \n",
    "    categoryId,\n",
    "    LIMIT,\n",
    "    offset)\n",
    "            \n",
    "    # make the GET request\n",
    "    totalNumberOfSchools = requests.get(url).json()[\"response\"]['totalResults'] #get total results\n",
    "    schools = requests.get(url).json()[\"response\"]['groups'][0]['items'] #get venues of category High School\n",
    "        \n",
    "    # return only relevant information for each school\n",
    "    school_list.append([(\n",
    "    s['venue']['name'], \n",
    "    s['venue']['location']['lat'], \n",
    "    s['venue']['location']['lng']) for s in schools])\n",
    "    \n",
    "  \n",
    "    #create dataframe of results\n",
    "    schools_df = pd.DataFrame([item for school in school_list for item in school])\n",
    "    schools_df.columns = ['Name', \n",
    "                  'Latitude', \n",
    "                  'Longitude']\n",
    "    \n",
    "    # Consecutive calls\n",
    "    while schools_df.Name.count() < totalNumberOfSchools:\n",
    "        offset += 100 #increase by 100 to get next 100 results\n",
    "        school_list.clear() # start with empty list for each iteration\n",
    "        \n",
    "        #call api again now using offset\n",
    "        url = 'https://api.foursquare.com/v2/venues/explore?&client_id={}&client_secret={}&v={}&ll={},{}&radius={}&categoryId={}&limit={}&sortByDistance=1&offset={}'.format(\n",
    "        CLIENT_ID, \n",
    "        CLIENT_SECRET, \n",
    "        VERSION, \n",
    "        lat, \n",
    "        long, \n",
    "        radius, \n",
    "        categoryId,\n",
    "        LIMIT,\n",
    "        offset)\n",
    "            \n",
    "        # Get results again\n",
    "        #totalNumberOfSchools = requests.get(url).json()[\"response\"]['totalResults'] #get total results\n",
    "        schools = requests.get(url).json()[\"response\"]['groups'][0]['items'] #get venues of category High School\n",
    "        \n",
    "        # return only relevant information for each school\n",
    "        school_list.append([(\n",
    "        s['venue']['name'], \n",
    "        s['venue']['location']['lat'], \n",
    "        s['venue']['location']['lng']) for s in schools])\n",
    "    \n",
    "        # store results in dataframe and append to previous results \n",
    "        schools_df_temp = pd.DataFrame([item for school in school_list for item in school])\n",
    "        \n",
    "        schools_df_temp.columns = ['Name', \n",
    "                              'Latitude', \n",
    "                              'Longitude']\n",
    "      \n",
    "        # Append to dataframe\n",
    "        schools_df = schools_df.append(schools_df_temp,sort=False,ignore_index=True) \n",
    "\n",
    "    \n",
    "        \n",
    "    return(schools_df)"
   ]
  },
  {
   "cell_type": "markdown",
   "metadata": {},
   "source": [
    "To get an idea of the (way the) data that is returned: below the result of just one item (ie venue)"
   ]
  },
  {
   "cell_type": "raw",
   "metadata": {},
   "source": [
    "{\n",
    "   \"meta\":{\n",
    "      \"code\":200,\n",
    "      \"requestId\":\"5e9d798483525f0029a43fbb\"\n",
    "   },\n",
    "   \"response\":{\n",
    "      \"headerLocation\":\"Los Angeles\",\n",
    "      \"headerFullLocation\":\"Los Angeles\",\n",
    "      \"headerLocationGranularity\":\"city\",\n",
    "      \"query\":\"high school\",\n",
    "      \"totalResults\":218,\n",
    "      \"suggestedBounds\":{\n",
    "         \"ne\":{\n",
    "            \"lat\":34.32223527000027,\n",
    "            \"lng\":-117.91841175397785\n",
    "         },\n",
    "         \"sw\":{\n",
    "            \"lat\":33.782234729999736,\n",
    "            \"lng\":-118.56895424602216\n",
    "         }\n",
    "      },\n",
    "      \"groups\":[\n",
    "         {\n",
    "            \"type\":\"Recommended Places\",\n",
    "            \"name\":\"recommended\",\n",
    "            \"items\":[\n",
    "               {\n",
    "                  \"reasons\":{\n",
    "                     \"count\":0,\n",
    "                     \"items\":[\n",
    "                        {\n",
    "                           \"summary\":\"This spot is popular\",\n",
    "                           \"type\":\"general\",\n",
    "                           \"reasonName\":\"globalInteractionReason\"\n",
    "                        }\n",
    "                     ]\n",
    "                  },\n",
    "                  \"venue\":{\n",
    "                     \"id\":\"58cee1d624ca6a7ef2d5f0b5\",\n",
    "                     \"name\":\"Tree Academy\",\n",
    "                     \"location\":{\n",
    "                        \"lat\":34.057398,\n",
    "                        \"lng\":-118.350313,\n",
    "                        \"labeledLatLngs\":[\n",
    "                           {\n",
    "                              \"label\":\"display\",\n",
    "                              \"lat\":34.057398,\n",
    "                              \"lng\":-118.350313\n",
    "                           }\n",
    "                        ],\n",
    "                        \"distance\":9851,\n",
    "                        \"cc\":\"US\",\n",
    "                        \"city\":\"Los Angeles\",\n",
    "                        \"state\":\"CA\",\n",
    "                        \"country\":\"United States\",\n",
    "                        \"formattedAddress\":[\n",
    "                           \"Los Angeles, CA\",\n",
    "                           \"United States\"\n",
    "                        ]\n",
    "                     },\n",
    "                     \"categories\":[\n",
    "                        {\n",
    "                           \"id\":\"4bf58dd8d48988d13d941735\",\n",
    "                           \"name\":\"High School\",\n",
    "                           \"pluralName\":\"High Schools\",\n",
    "                           \"shortName\":\"High School\",\n",
    "                           \"icon\":{\n",
    "                              \"prefix\":\"https:\\/\\/ss3.4sqi.net\\/img\\/categories_v2\\/building\\/school_\",\n",
    "                              \"suffix\":\".png\"\n",
    "                           },\n",
    "                           \"primary\":true\n",
    "                        }\n",
    "                     ],\n",
    "                     \"photos\":{\n",
    "                        \"count\":0,\n",
    "                        \"groups\":[\n",
    "\n",
    "                        ]\n",
    "                     }\n",
    "                  },\n",
    "                  \"referralId\":\"e-0-58cee1d624ca6a7ef2d5f0b5-200\"\n",
    "               },\n",
    "               \n",
    "            ]\n",
    "         }\n",
    "      ]\n",
    "   }\n",
    "}"
   ]
  },
  {
   "cell_type": "markdown",
   "metadata": {},
   "source": [
    "Using the location information of Los Angelos we can now get the name and location data of schools within a 30 km radius using our function"
   ]
  },
  {
   "cell_type": "code",
   "execution_count": 111,
   "metadata": {},
   "outputs": [
    {
     "data": {
      "text/html": [
       "<div>\n",
       "<style scoped>\n",
       "    .dataframe tbody tr th:only-of-type {\n",
       "        vertical-align: middle;\n",
       "    }\n",
       "\n",
       "    .dataframe tbody tr th {\n",
       "        vertical-align: top;\n",
       "    }\n",
       "\n",
       "    .dataframe thead th {\n",
       "        text-align: right;\n",
       "    }\n",
       "</style>\n",
       "<table border=\"1\" class=\"dataframe\">\n",
       "  <thead>\n",
       "    <tr style=\"text-align: right;\">\n",
       "      <th></th>\n",
       "      <th>Name</th>\n",
       "      <th>Latitude</th>\n",
       "      <th>Longitude</th>\n",
       "    </tr>\n",
       "  </thead>\n",
       "  <tbody>\n",
       "    <tr>\n",
       "      <td>0</td>\n",
       "      <td>Ramón C. Cortines School of Visual and Perform...</td>\n",
       "      <td>34.059485</td>\n",
       "      <td>-118.244042</td>\n",
       "    </tr>\n",
       "    <tr>\n",
       "      <td>1</td>\n",
       "      <td>Central Los Angeles High School #9 (VAPA)</td>\n",
       "      <td>34.059660</td>\n",
       "      <td>-118.244048</td>\n",
       "    </tr>\n",
       "    <tr>\n",
       "      <td>2</td>\n",
       "      <td>EightyTwo</td>\n",
       "      <td>34.045447</td>\n",
       "      <td>-118.237441</td>\n",
       "    </tr>\n",
       "    <tr>\n",
       "      <td>3</td>\n",
       "      <td>USC Hybrid High</td>\n",
       "      <td>34.054469</td>\n",
       "      <td>-118.254695</td>\n",
       "    </tr>\n",
       "    <tr>\n",
       "      <td>4</td>\n",
       "      <td>Downtown Business Magnet High School</td>\n",
       "      <td>34.063219</td>\n",
       "      <td>-118.250570</td>\n",
       "    </tr>\n",
       "  </tbody>\n",
       "</table>\n",
       "</div>"
      ],
      "text/plain": [
       "                                                Name   Latitude   Longitude\n",
       "0  Ramón C. Cortines School of Visual and Perform...  34.059485 -118.244042\n",
       "1          Central Los Angeles High School #9 (VAPA)  34.059660 -118.244048\n",
       "2                                          EightyTwo  34.045447 -118.237441\n",
       "3                                    USC Hybrid High  34.054469 -118.254695\n",
       "4               Downtown Business Magnet High School  34.063219 -118.250570"
      ]
     },
     "execution_count": 111,
     "metadata": {},
     "output_type": "execute_result"
    }
   ],
   "source": [
    "# get schools using 30.000m radius\n",
    "dfSchools = getSchools(locationLat,locationLon,30000)\n",
    "\n",
    "#look at first rows\n",
    "dfSchools.head()\n"
   ]
  },
  {
   "cell_type": "code",
   "execution_count": 112,
   "metadata": {},
   "outputs": [
    {
     "data": {
      "text/plain": [
       "218"
      ]
     },
     "execution_count": 112,
     "metadata": {},
     "output_type": "execute_result"
    }
   ],
   "source": [
    "# Look at the total number of schools\n",
    "dfSchools.Name.count()"
   ]
  },
  {
   "cell_type": "markdown",
   "metadata": {},
   "source": [
    "Next, in a similar way a function will be created that determines per school (by repeatedly calling the api using the schools lat and long values from the previous step) if there are one of more venues of one of the following categories:\n",
    "* Bar\n",
    "* Liquor Store \n",
    "* Fast Food Restaurant\n",
    "\n",
    "Only those venues will be selected where on of the above categories is the primary category of the venue.\n",
    "\n",
    "A full list of available categories can be found here: https://developer.foursquare.com/docs/build-with-foursquare/categories/\n",
    "\n",
    "*Please note not all categories are available for all countries*"
   ]
  },
  {
   "cell_type": "markdown",
   "metadata": {},
   "source": [
    "Based on the counts per venue clusters will be formed using the kmeans algoritm. \n",
    "Finally the schools will be plot on a map by assigning each cluster its own color."
   ]
  }
 ],
 "metadata": {
  "kernelspec": {
   "display_name": "Python 3",
   "language": "python",
   "name": "python3"
  },
  "language_info": {
   "codemirror_mode": {
    "name": "ipython",
    "version": 3
   },
   "file_extension": ".py",
   "mimetype": "text/x-python",
   "name": "python",
   "nbconvert_exporter": "python",
   "pygments_lexer": "ipython3",
   "version": "3.7.4"
  }
 },
 "nbformat": 4,
 "nbformat_minor": 2
}
