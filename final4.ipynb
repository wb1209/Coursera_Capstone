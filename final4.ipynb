{
 "cells": [
  {
   "cell_type": "markdown",
   "metadata": {
    "slideshow": {
     "slide_type": "slide"
    }
   },
   "source": [
    "# High School Choice\n",
    "## *How a k-means clustering algorithm might come in handy*\n",
    "\n",
    "#### By Wouter Bouma"
   ]
  },
  {
   "cell_type": "markdown",
   "metadata": {},
   "source": [
    "#  \n",
    "##### Note: Opening this file in a browser other than Chrome may result in the maps not rendering!"
   ]
  },
  {
   "cell_type": "markdown",
   "metadata": {},
   "source": [
    "### Introduction"
   ]
  },
  {
   "cell_type": "markdown",
   "metadata": {},
   "source": [
    "When children reach the age they go to high school or move to another city parents have to deal with an important decision: **which school should I choose for my child?**  \n",
    "\n",
    "Obviously parents will look at the schools' quality of education and probably take into account the travel distance as well. However, when children go into puberty you also want to protect them being exposed to unhealthy temptations in the world out there. Especially those that may exist in the immediate vicinity of the school.  \n",
    "\n",
    "Wouldn't it be nice to cluster schools based on the type and number of predefined 'bad locations' in their near vicinity and visualize these on a map?  \n",
    "In the next sections we show how Foursquare and a clustering algorithm called K-means can be of assistence.\n"
   ]
  },
  {
   "cell_type": "markdown",
   "metadata": {},
   "source": [
    "### Data"
   ]
  },
  {
   "cell_type": "markdown",
   "metadata": {},
   "source": [
    "##### What is Foursquare?\n",
    "\n",
    "Foursquare is a location-based social network (LBSN) that allows people to share their location with friends by ‘checking-in’ at a given place using their smartphone. The application can also access the location-based recommendations left by other users. Foursquare has tens of millions of users and a huge database containing information on both venues and users. Including detailed information on users preferences, tips, menus, photo's, location, categories etc.\n",
    "Fortunately Foursquare has an API (Application Program Interface) which allow us to retrieve information from their database efficiently."
   ]
  },
  {
   "cell_type": "markdown",
   "metadata": {},
   "source": [
    "##### How to get information from Foursquare?\n",
    "There are multiple ways of calling Foursqaures api (endpoints) where each endpoint has different inputparameters and returns different kind of information. \n",
    "\n",
    "For this purpose I use the *explore* endpoint which returns the venues within a certain radius of a location provided as inputparameters (lattitude and longitude) in the API call. In this api we can (but don't have to) provide one or more category id's which ensures we only get returned venues of a certain type (category). \n",
    "\n",
    "More information on the input and output of the explore endpoint api can be found [here](https://developer.foursquare.com/docs/api-reference/venues/explore/):   \n",
    "More information on the categories can be found [here](https://developer.foursquare.com/docs/build-with-foursquare/categories/)\n",
    "\n",
    "The api will return 100 results as a maximum per call. Using the offset parameter in the call we can do multiple calls to get the next 100 results until we have reached the total number of results."
   ]
  },
  {
   "cell_type": "markdown",
   "metadata": {},
   "source": [
    "#####  The general approach\n",
    "\n",
    "* First, we determine all the names and locations of all high schools within a certain given radius of a certain location. For our example we have choosen a radius of **30 km** and **Chicago** as its center. Hereto we call the Foursquare API using its explore endpoint providing radius, location and the **high school category id** as input.\n",
    "\n",
    "\n",
    "* Next, we call the API for each school returned in the previous step seperately. But now we use the category id's we have defined as being 'bad locations' within a radius of **1 km** of the school. For our example we have choosen the following categories:\n",
    "> * **Fast Food Restaurants**\n",
    "> * **Liquor stores**\n",
    "> * **Gun shops**\n",
    "\n",
    "> *At a later stage will be explained how weigths can be applied to the categories. The existence of a gun shop  should probably have a bigger impact than a fast food restaurant when classifying schools in terms of the 'safeness' of the school's neighborhood with respect to these categories.*\n",
    "\n",
    "* Finally we use the retrieved data to perform to cluster schools based on their similarity given the type and number of bad locations in their vicinity.\n",
    "\n",
    "In the next section we go into the details of each of these steps\n"
   ]
  },
  {
   "cell_type": "markdown",
   "metadata": {},
   "source": [
    "### Methodology"
   ]
  },
  {
   "cell_type": "markdown",
   "metadata": {},
   "source": [
    "First we import the necassary libraries"
   ]
  },
  {
   "cell_type": "code",
   "execution_count": 46,
   "metadata": {
    "hideOutput": true,
    "slideshow": {
     "slide_type": "fragment"
    }
   },
   "outputs": [
    {
     "name": "stdout",
     "output_type": "stream",
     "text": [
      "Requirement already satisfied: geopy in /Users/wbouma/opt/anaconda3/lib/python3.7/site-packages (1.21.0)\n",
      "Requirement already satisfied: geographiclib<2,>=1.49 in /Users/wbouma/opt/anaconda3/lib/python3.7/site-packages (from geopy) (1.50)\n"
     ]
    }
   ],
   "source": [
    "import pandas as pd\n",
    "import numpy as np\n",
    "\n",
    "!pip install geopy\n",
    "from geopy.geocoders import Nominatim # convert an address into latitude and longitude values\n",
    "import folium # map rendering library\n",
    "\n",
    "# Matplotlib and associated plotting modules\n",
    "import matplotlib.cm as cm\n",
    "import matplotlib.colors as colors\n",
    "import matplotlib.pyplot as plt\n",
    "\n",
    "# import k-means from clustering stage\n",
    "from sklearn.cluster import KMeans\n",
    "import requests # library to handle requests\n",
    "from pandas.io.json import json_normalize # tranform JSON file into a pandas dataframe\n",
    "import json"
   ]
  },
  {
   "cell_type": "markdown",
   "metadata": {
    "slideshow": {
     "slide_type": "slide"
    }
   },
   "source": [
    "Next we determine the location to examine."
   ]
  },
  {
   "cell_type": "code",
   "execution_count": 47,
   "metadata": {
    "slideshow": {
     "slide_type": "subslide"
    }
   },
   "outputs": [
    {
     "name": "stdout",
     "output_type": "stream",
     "text": [
      "The geograpical coordinates of Chicago are 41.8755616, -87.6244212.\n"
     ]
    }
   ],
   "source": [
    "address = 'Chicago'\n",
    "geolocator = Nominatim(user_agent=\"ny_explorer\")\n",
    "location = geolocator.geocode(address)\n",
    "locationLat = location.latitude\n",
    "locationLon = location.longitude\n",
    "print('The geograpical coordinates of Chicago are {}, {}.'.format(locationLat, locationLon))\n"
   ]
  },
  {
   "cell_type": "markdown",
   "metadata": {
    "slideshow": {
     "slide_type": "subslide"
    }
   },
   "source": [
    "Below we create url for the Foursquare API call to determine the high schools in a 30km radius of this location"
   ]
  },
  {
   "cell_type": "code",
   "execution_count": 78,
   "metadata": {
    "hideCode": false,
    "hidePrompt": true
   },
   "outputs": [],
   "source": [
    "\n",
    "CLIENT_ID = 'W3GBMV2TBYXHDKZLEHAT1FISU2HS12CZBNMMAWRNTHEOWJYY' \n",
    "CLIENT_SECRET = 'CYTFPE31SS30UG2XEIAS5DNLOWTABZLYRXCCW5AIE1JCB1NV' "
   ]
  },
  {
   "cell_type": "code",
   "execution_count": 49,
   "metadata": {
    "slideshow": {
     "slide_type": "subslide"
    }
   },
   "outputs": [],
   "source": [
    "LIMIT = 10000 # limit of number of venues returned by Foursquare API\n",
    "VERSION = '20180605' # Foursquare API version\n",
    "radius = 30000 # define radius\n",
    "\n",
    "categoryId = '4bf58dd8d48988d13d941735' #high school\n",
    "\n",
    "# create the API request URL\n",
    "url = 'https://api.foursquare.com/v2/venues/explore?&client_id={}&client_secret={}&v={}&ll={},{}&radius={}&categoryId={}&limit={}'.format(\n",
    "CLIENT_ID, \n",
    "CLIENT_SECRET, \n",
    "VERSION, \n",
    "locationLat, \n",
    "locationLon, \n",
    "radius, \n",
    "categoryId,\n",
    "LIMIT)"
   ]
  },
  {
   "cell_type": "markdown",
   "metadata": {},
   "source": [
    "The schools details are in the items section (part of groups which is part of response). Moreover we see that the total results are 176 high schools (of which in this single call only 100 are returned)."
   ]
  },
  {
   "cell_type": "code",
   "execution_count": 50,
   "metadata": {},
   "outputs": [
    {
     "data": {
      "text/plain": [
       "176"
      ]
     },
     "execution_count": 50,
     "metadata": {},
     "output_type": "execute_result"
    }
   ],
   "source": [
    "numberOfSchools = requests.get(url).json()[\"response\"]['totalResults']\n",
    "numberOfSchools"
   ]
  },
  {
   "cell_type": "markdown",
   "metadata": {},
   "source": [
    "Below we create a function that takes coordinates and a radius as parameters and iteratively call the API to ensure all results are fetched (using the offset parameter mentioned before). The function returns a dataframe containing the total number of the school's including their names and locations (lattitude and longitude)."
   ]
  },
  {
   "cell_type": "code",
   "execution_count": 77,
   "metadata": {},
   "outputs": [],
   "source": [
    "def getSchools(lat, long, radius):\n",
    "    \n",
    "\n",
    "    VERSION = '20200401' # Foursquare API version\n",
    "    LIMIT = 50000 \n",
    "    \n",
    "    categoryId = '4bf58dd8d48988d13d941735' #high schools\n",
    "    offset = 0\n",
    "    \n",
    "    school_list=[]\n",
    "\n",
    "    #first call\n",
    "    url = 'https://api.foursquare.com/v2/venues/explore?&client_id={}&client_secret={}&v={}&ll={},{}&radius={}&categoryId={}&limit={}&sortByDistance=1&offset={}'.format(\n",
    "    CLIENT_ID, \n",
    "    CLIENT_SECRET, \n",
    "    VERSION, \n",
    "    lat, \n",
    "    long, \n",
    "    radius, \n",
    "    categoryId,\n",
    "    LIMIT,\n",
    "    offset)\n",
    "            \n",
    "    # make the GET request\n",
    "    totalNumberOfSchools = requests.get(url).json()[\"response\"]['totalResults'] #get total results\n",
    "    schools = requests.get(url).json()[\"response\"]['groups'][0]['items'] #get venues of category High School\n",
    "        \n",
    "    # return only relevant information for each school\n",
    "    school_list.append([(\n",
    "    s['venue']['name'], \n",
    "    s['venue']['location']['lat'], \n",
    "    s['venue']['location']['lng']) for s in schools])\n",
    "    \n",
    "  \n",
    "    #create dataframe of results\n",
    "    schools_df = pd.DataFrame([item for school in school_list for item in school])\n",
    "    schools_df.columns = ['Name', \n",
    "                  'Latitude', \n",
    "                  'Longitude']\n",
    "    \n",
    "    # Consecutive calls\n",
    "    while schools_df.Name.count() < totalNumberOfSchools:\n",
    "        offset += 100 #increase by 100 to get next 100 results\n",
    "        school_list.clear() # start with empty list for each iteration\n",
    "        \n",
    "        #call api again now using offset\n",
    "        url = 'https://api.foursquare.com/v2/venues/explore?&client_id={}&client_secret={}&v={}&ll={},{}&radius={}&categoryId={}&limit={}&sortByDistance=1&offset={}'.format(\n",
    "        CLIENT_ID, \n",
    "        CLIENT_SECRET, \n",
    "        VERSION, \n",
    "        lat, \n",
    "        long, \n",
    "        radius, \n",
    "        categoryId,\n",
    "        LIMIT,\n",
    "        offset)\n",
    "            \n",
    "        # Get results again\n",
    "        #totalNumberOfSchools = requests.get(url).json()[\"response\"]['totalResults'] #get total results\n",
    "        schools = requests.get(url).json()[\"response\"]['groups'][0]['items'] #get venues of category High School\n",
    "        \n",
    "        # return only relevant information for each school\n",
    "        school_list.append([(\n",
    "        s['venue']['name'], \n",
    "        s['venue']['location']['lat'], \n",
    "        s['venue']['location']['lng']) for s in schools])\n",
    "    \n",
    "        # store results in dataframe and append to previous results \n",
    "        schools_df_temp = pd.DataFrame([item for school in school_list for item in school])\n",
    "        \n",
    "        schools_df_temp.columns = ['Name', \n",
    "                              'Latitude', \n",
    "                              'Longitude']\n",
    "      \n",
    "        # Append to dataframe\n",
    "        schools_df = schools_df.append(schools_df_temp,sort=False,ignore_index=True) \n",
    "\n",
    "    \n",
    "        \n",
    "    return(schools_df)"
   ]
  },
  {
   "cell_type": "markdown",
   "metadata": {},
   "source": [
    "Call the function"
   ]
  },
  {
   "cell_type": "code",
   "execution_count": 52,
   "metadata": {},
   "outputs": [],
   "source": [
    "dfSchools = getSchools(locationLat,locationLon,30000)"
   ]
  },
  {
   "cell_type": "markdown",
   "metadata": {},
   "source": [
    "Now check if we have all schools"
   ]
  },
  {
   "cell_type": "code",
   "execution_count": 53,
   "metadata": {},
   "outputs": [
    {
     "data": {
      "text/plain": [
       "(176, 3)"
      ]
     },
     "execution_count": 53,
     "metadata": {},
     "output_type": "execute_result"
    }
   ],
   "source": [
    "dfSchools.shape"
   ]
  },
  {
   "cell_type": "markdown",
   "metadata": {},
   "source": [
    "And what the returned dataframe looks like"
   ]
  },
  {
   "cell_type": "code",
   "execution_count": 54,
   "metadata": {},
   "outputs": [
    {
     "data": {
      "text/html": [
       "<div>\n",
       "<style scoped>\n",
       "    .dataframe tbody tr th:only-of-type {\n",
       "        vertical-align: middle;\n",
       "    }\n",
       "\n",
       "    .dataframe tbody tr th {\n",
       "        vertical-align: top;\n",
       "    }\n",
       "\n",
       "    .dataframe thead th {\n",
       "        text-align: right;\n",
       "    }\n",
       "</style>\n",
       "<table border=\"1\" class=\"dataframe\">\n",
       "  <thead>\n",
       "    <tr style=\"text-align: right;\">\n",
       "      <th></th>\n",
       "      <th>Name</th>\n",
       "      <th>Latitude</th>\n",
       "      <th>Longitude</th>\n",
       "    </tr>\n",
       "  </thead>\n",
       "  <tbody>\n",
       "    <tr>\n",
       "      <td>0</td>\n",
       "      <td>Jones College Prep</td>\n",
       "      <td>41.873561</td>\n",
       "      <td>-87.627558</td>\n",
       "    </tr>\n",
       "    <tr>\n",
       "      <td>1</td>\n",
       "      <td>Innovations High School</td>\n",
       "      <td>41.882640</td>\n",
       "      <td>-87.626343</td>\n",
       "    </tr>\n",
       "    <tr>\n",
       "      <td>2</td>\n",
       "      <td>The British International School of Chicago, S...</td>\n",
       "      <td>41.870491</td>\n",
       "      <td>-87.632715</td>\n",
       "    </tr>\n",
       "    <tr>\n",
       "      <td>3</td>\n",
       "      <td>The Dance Center (DE)</td>\n",
       "      <td>41.865597</td>\n",
       "      <td>-87.624243</td>\n",
       "    </tr>\n",
       "    <tr>\n",
       "      <td>4</td>\n",
       "      <td>Harold Washington College</td>\n",
       "      <td>41.886126</td>\n",
       "      <td>-87.626868</td>\n",
       "    </tr>\n",
       "  </tbody>\n",
       "</table>\n",
       "</div>"
      ],
      "text/plain": [
       "                                                Name   Latitude  Longitude\n",
       "0                                 Jones College Prep  41.873561 -87.627558\n",
       "1                            Innovations High School  41.882640 -87.626343\n",
       "2  The British International School of Chicago, S...  41.870491 -87.632715\n",
       "3                              The Dance Center (DE)  41.865597 -87.624243\n",
       "4                          Harold Washington College  41.886126 -87.626868"
      ]
     },
     "execution_count": 54,
     "metadata": {},
     "output_type": "execute_result"
    }
   ],
   "source": [
    "dfSchools.head()"
   ]
  },
  {
   "cell_type": "markdown",
   "metadata": {},
   "source": [
    "#### Next, let's see where the schools are located on a map (without any clustering yet)"
   ]
  },
  {
   "cell_type": "code",
   "execution_count": 55,
   "metadata": {},
   "outputs": [
    {
     "data": {
      "text/html": [
       "<div style=\"width:100%;\"><div style=\"position:relative;width:100%;height:0;padding-bottom:60%;\"><iframe src=\"about:blank\" style=\"position:absolute;width:100%;height:100%;left:0;top:0;border:none !important;\" data-html=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 onload=\"this.contentDocument.open();this.contentDocument.write(atob(this.getAttribute('data-html')));this.contentDocument.close();\" allowfullscreen webkitallowfullscreen mozallowfullscreen></iframe></div></div>"
      ],
      "text/plain": [
       "<folium.folium.Map at 0x1a1f180650>"
      ]
     },
     "execution_count": 55,
     "metadata": {},
     "output_type": "execute_result"
    }
   ],
   "source": [
    "# create map of New York using latitude and longitude values\n",
    "mapSelected = folium.Map(location=[locationLat, locationLon], zoom_start=10)\n",
    "\n",
    "# add markers to map\n",
    "for lat, lng, name in zip(dfSchools['Latitude'], dfSchools['Longitude'], dfSchools['Name']):\n",
    "    label = '{}'.format(name)\n",
    "    label = folium.Popup(label, parse_html=True)\n",
    "    folium.CircleMarker(\n",
    "        [lat, lng],\n",
    "        radius=5,\n",
    "        popup=label,\n",
    "        color='blue',\n",
    "        fill=True,\n",
    "        fill_color='#3186cc',\n",
    "        fill_opacity=0.7,\n",
    "        parse_html=False).add_to(mapSelected)  \n",
    "    \n",
    "mapSelected"
   ]
  },
  {
   "cell_type": "markdown",
   "metadata": {},
   "source": [
    "#### Similarly we create a function to search for liquor stores, gun shops and fastfood restaurants for each school\n",
    "This function takes the schools name and their coordinates as parameters and returns an enriched dataframe containing the bad locations.\n",
    "The category id's were retrieved [here](https://developer.foursquare.com/docs/build-with-foursquare/categories/)."
   ]
  },
  {
   "cell_type": "code",
   "execution_count": 56,
   "metadata": {},
   "outputs": [],
   "source": [
    "def getNearbyBadSpots(names, latitudes, longitudes, radius=1000):\n",
    "    \n",
    "    LIMIT = 1000 \n",
    "    categoryList = ['52f2ab2ebcbc57f1066b8b19','4bf58dd8d48988d16e941735','4bf58dd8d48988d186941735']\n",
    "  \n",
    "    badSpot_list=[]\n",
    "    for name, lat, lng in zip(names, latitudes, longitudes):\n",
    "        #print(name)\n",
    "            \n",
    "        # create the API request URL\n",
    "        url = 'https://api.foursquare.com/v2/venues/explore?&client_id={}&client_secret={}&v={}&ll={},{}&radius={}&categoryId=52f2ab2ebcbc57f1066b8b19,4bf58dd8d48988d116941735,4bf58dd8d48988d16e941735,4bf58dd8d48988d186941735&limit={}'.format(\n",
    "            CLIENT_ID, \n",
    "            CLIENT_SECRET, \n",
    "            VERSION, \n",
    "            lat, \n",
    "            lng, \n",
    "            radius, \n",
    "            LIMIT)\n",
    "        \n",
    "        # make the GET request\n",
    "        #print(requests.get(url).raise_for_status())\n",
    "        badSpots = requests.get(url).json()[\"response\"]['groups'][0]['items']\n",
    "        \n",
    "        # return only relevant information for each nearby venue\n",
    "        badSpot_list.append([(\n",
    "            name, \n",
    "            lat, \n",
    "            lng, \n",
    "            b['venue']['name'], \n",
    "            b['venue']['location']['lat'], \n",
    "            b['venue']['location']['lng'],  \n",
    "            b['venue']['categories'][0]['name'],\n",
    "            b['venue']['categories'][0]['id']) for b in badSpots])\n",
    "\n",
    "    nearby_badSpots = pd.DataFrame([item for badSpot_list in badSpot_list for item in badSpot_list])\n",
    "    nearby_badSpots.columns = ['School', \n",
    "                  'SchoolLatitude', \n",
    "                  'SchoolLongitude', \n",
    "                  'BadSpot', \n",
    "                  'BadSpotLatitude', \n",
    "                  'BadSpotLongitude', \n",
    "                  'BadSpotCategory',\n",
    "                  'BadSpotID']\n",
    "    \n",
    "    nearby_badSpots= nearby_badSpots[nearby_badSpots.BadSpotID.isin(categoryList)]\n",
    "    \n",
    "    return(nearby_badSpots)\n",
    "\n"
   ]
  },
  {
   "cell_type": "markdown",
   "metadata": {},
   "source": [
    "Let's apply this function to get all the 'bad locations' per school"
   ]
  },
  {
   "cell_type": "code",
   "execution_count": 58,
   "metadata": {
    "hideOutput": true
   },
   "outputs": [],
   "source": [
    "dfSchoolsWithBadSpots = getNearbyBadSpots(names=dfSchools['Name'],\n",
    "                        latitudes=dfSchools['Latitude'],\n",
    "                        longitudes=dfSchools['Longitude'],\n",
    "                        radius=1000)"
   ]
  },
  {
   "cell_type": "markdown",
   "metadata": {},
   "source": [
    "Let's look at the first 20 rows of the dataframe"
   ]
  },
  {
   "cell_type": "code",
   "execution_count": 59,
   "metadata": {},
   "outputs": [
    {
     "data": {
      "text/html": [
       "<div>\n",
       "<style scoped>\n",
       "    .dataframe tbody tr th:only-of-type {\n",
       "        vertical-align: middle;\n",
       "    }\n",
       "\n",
       "    .dataframe tbody tr th {\n",
       "        vertical-align: top;\n",
       "    }\n",
       "\n",
       "    .dataframe thead th {\n",
       "        text-align: right;\n",
       "    }\n",
       "</style>\n",
       "<table border=\"1\" class=\"dataframe\">\n",
       "  <thead>\n",
       "    <tr style=\"text-align: right;\">\n",
       "      <th></th>\n",
       "      <th>School</th>\n",
       "      <th>SchoolLatitude</th>\n",
       "      <th>SchoolLongitude</th>\n",
       "      <th>BadSpot</th>\n",
       "      <th>BadSpotLatitude</th>\n",
       "      <th>BadSpotLongitude</th>\n",
       "      <th>BadSpotCategory</th>\n",
       "      <th>BadSpotID</th>\n",
       "    </tr>\n",
       "  </thead>\n",
       "  <tbody>\n",
       "    <tr>\n",
       "      <td>0</td>\n",
       "      <td>Jones College Prep</td>\n",
       "      <td>41.873561</td>\n",
       "      <td>-87.627558</td>\n",
       "      <td>Warehouse Liquors</td>\n",
       "      <td>41.873375</td>\n",
       "      <td>-87.626033</td>\n",
       "      <td>Liquor Store</td>\n",
       "      <td>4bf58dd8d48988d186941735</td>\n",
       "    </tr>\n",
       "    <tr>\n",
       "      <td>1</td>\n",
       "      <td>Jones College Prep</td>\n",
       "      <td>41.873561</td>\n",
       "      <td>-87.627558</td>\n",
       "      <td>Five Guys</td>\n",
       "      <td>41.867835</td>\n",
       "      <td>-87.626060</td>\n",
       "      <td>Fast Food Restaurant</td>\n",
       "      <td>4bf58dd8d48988d16e941735</td>\n",
       "    </tr>\n",
       "    <tr>\n",
       "      <td>3</td>\n",
       "      <td>Jones College Prep</td>\n",
       "      <td>41.873561</td>\n",
       "      <td>-87.627558</td>\n",
       "      <td>Taco Bell</td>\n",
       "      <td>41.876464</td>\n",
       "      <td>-87.629413</td>\n",
       "      <td>Fast Food Restaurant</td>\n",
       "      <td>4bf58dd8d48988d16e941735</td>\n",
       "    </tr>\n",
       "    <tr>\n",
       "      <td>4</td>\n",
       "      <td>Jones College Prep</td>\n",
       "      <td>41.873561</td>\n",
       "      <td>-87.627558</td>\n",
       "      <td>Subway</td>\n",
       "      <td>41.874957</td>\n",
       "      <td>-87.626122</td>\n",
       "      <td>Fast Food Restaurant</td>\n",
       "      <td>4bf58dd8d48988d16e941735</td>\n",
       "    </tr>\n",
       "    <tr>\n",
       "      <td>6</td>\n",
       "      <td>Jones College Prep</td>\n",
       "      <td>41.873561</td>\n",
       "      <td>-87.627558</td>\n",
       "      <td>Jimmy John's</td>\n",
       "      <td>41.878300</td>\n",
       "      <td>-87.627815</td>\n",
       "      <td>Fast Food Restaurant</td>\n",
       "      <td>4bf58dd8d48988d16e941735</td>\n",
       "    </tr>\n",
       "    <tr>\n",
       "      <td>...</td>\n",
       "      <td>...</td>\n",
       "      <td>...</td>\n",
       "      <td>...</td>\n",
       "      <td>...</td>\n",
       "      <td>...</td>\n",
       "      <td>...</td>\n",
       "      <td>...</td>\n",
       "      <td>...</td>\n",
       "    </tr>\n",
       "    <tr>\n",
       "      <td>15</td>\n",
       "      <td>Jones College Prep</td>\n",
       "      <td>41.873561</td>\n",
       "      <td>-87.627558</td>\n",
       "      <td>Subway</td>\n",
       "      <td>41.877781</td>\n",
       "      <td>-87.630604</td>\n",
       "      <td>Fast Food Restaurant</td>\n",
       "      <td>4bf58dd8d48988d16e941735</td>\n",
       "    </tr>\n",
       "    <tr>\n",
       "      <td>18</td>\n",
       "      <td>Jones College Prep</td>\n",
       "      <td>41.873561</td>\n",
       "      <td>-87.627558</td>\n",
       "      <td>Subway</td>\n",
       "      <td>41.879675</td>\n",
       "      <td>-87.630517</td>\n",
       "      <td>Fast Food Restaurant</td>\n",
       "      <td>4bf58dd8d48988d16e941735</td>\n",
       "    </tr>\n",
       "    <tr>\n",
       "      <td>20</td>\n",
       "      <td>Jones College Prep</td>\n",
       "      <td>41.873561</td>\n",
       "      <td>-87.627558</td>\n",
       "      <td>Subway</td>\n",
       "      <td>41.873908</td>\n",
       "      <td>-87.630953</td>\n",
       "      <td>Fast Food Restaurant</td>\n",
       "      <td>4bf58dd8d48988d16e941735</td>\n",
       "    </tr>\n",
       "    <tr>\n",
       "      <td>21</td>\n",
       "      <td>Jones College Prep</td>\n",
       "      <td>41.873561</td>\n",
       "      <td>-87.627558</td>\n",
       "      <td>Jimmy John's</td>\n",
       "      <td>41.872237</td>\n",
       "      <td>-87.627738</td>\n",
       "      <td>Fast Food Restaurant</td>\n",
       "      <td>4bf58dd8d48988d16e941735</td>\n",
       "    </tr>\n",
       "    <tr>\n",
       "      <td>23</td>\n",
       "      <td>Jones College Prep</td>\n",
       "      <td>41.873561</td>\n",
       "      <td>-87.627558</td>\n",
       "      <td>Jimmy John's</td>\n",
       "      <td>41.878234</td>\n",
       "      <td>-87.634678</td>\n",
       "      <td>Fast Food Restaurant</td>\n",
       "      <td>4bf58dd8d48988d16e941735</td>\n",
       "    </tr>\n",
       "  </tbody>\n",
       "</table>\n",
       "<p>15 rows × 8 columns</p>\n",
       "</div>"
      ],
      "text/plain": [
       "                School  SchoolLatitude  SchoolLongitude            BadSpot  \\\n",
       "0   Jones College Prep       41.873561       -87.627558  Warehouse Liquors   \n",
       "1   Jones College Prep       41.873561       -87.627558          Five Guys   \n",
       "3   Jones College Prep       41.873561       -87.627558          Taco Bell   \n",
       "4   Jones College Prep       41.873561       -87.627558             Subway   \n",
       "6   Jones College Prep       41.873561       -87.627558       Jimmy John's   \n",
       "..                 ...             ...              ...                ...   \n",
       "15  Jones College Prep       41.873561       -87.627558             Subway   \n",
       "18  Jones College Prep       41.873561       -87.627558             Subway   \n",
       "20  Jones College Prep       41.873561       -87.627558             Subway   \n",
       "21  Jones College Prep       41.873561       -87.627558       Jimmy John's   \n",
       "23  Jones College Prep       41.873561       -87.627558       Jimmy John's   \n",
       "\n",
       "    BadSpotLatitude  BadSpotLongitude       BadSpotCategory  \\\n",
       "0         41.873375        -87.626033          Liquor Store   \n",
       "1         41.867835        -87.626060  Fast Food Restaurant   \n",
       "3         41.876464        -87.629413  Fast Food Restaurant   \n",
       "4         41.874957        -87.626122  Fast Food Restaurant   \n",
       "6         41.878300        -87.627815  Fast Food Restaurant   \n",
       "..              ...               ...                   ...   \n",
       "15        41.877781        -87.630604  Fast Food Restaurant   \n",
       "18        41.879675        -87.630517  Fast Food Restaurant   \n",
       "20        41.873908        -87.630953  Fast Food Restaurant   \n",
       "21        41.872237        -87.627738  Fast Food Restaurant   \n",
       "23        41.878234        -87.634678  Fast Food Restaurant   \n",
       "\n",
       "                   BadSpotID  \n",
       "0   4bf58dd8d48988d186941735  \n",
       "1   4bf58dd8d48988d16e941735  \n",
       "3   4bf58dd8d48988d16e941735  \n",
       "4   4bf58dd8d48988d16e941735  \n",
       "6   4bf58dd8d48988d16e941735  \n",
       "..                       ...  \n",
       "15  4bf58dd8d48988d16e941735  \n",
       "18  4bf58dd8d48988d16e941735  \n",
       "20  4bf58dd8d48988d16e941735  \n",
       "21  4bf58dd8d48988d16e941735  \n",
       "23  4bf58dd8d48988d16e941735  \n",
       "\n",
       "[15 rows x 8 columns]"
      ]
     },
     "execution_count": 59,
     "metadata": {},
     "output_type": "execute_result"
    }
   ],
   "source": [
    "dfSchoolsWithBadSpots.head(15)"
   ]
  },
  {
   "cell_type": "markdown",
   "metadata": {},
   "source": [
    "Below we create a dataframe with a separate columns for each category and see the first 10 rows"
   ]
  },
  {
   "cell_type": "code",
   "execution_count": 60,
   "metadata": {},
   "outputs": [
    {
     "data": {
      "text/html": [
       "<div>\n",
       "<style scoped>\n",
       "    .dataframe tbody tr th:only-of-type {\n",
       "        vertical-align: middle;\n",
       "    }\n",
       "\n",
       "    .dataframe tbody tr th {\n",
       "        vertical-align: top;\n",
       "    }\n",
       "\n",
       "    .dataframe thead th {\n",
       "        text-align: right;\n",
       "    }\n",
       "</style>\n",
       "<table border=\"1\" class=\"dataframe\">\n",
       "  <thead>\n",
       "    <tr style=\"text-align: right;\">\n",
       "      <th></th>\n",
       "      <th>School</th>\n",
       "      <th>Fast Food Restaurant</th>\n",
       "      <th>Gun Shop</th>\n",
       "      <th>Liquor Store</th>\n",
       "    </tr>\n",
       "  </thead>\n",
       "  <tbody>\n",
       "    <tr>\n",
       "      <td>0</td>\n",
       "      <td>Jones College Prep</td>\n",
       "      <td>0</td>\n",
       "      <td>0</td>\n",
       "      <td>1</td>\n",
       "    </tr>\n",
       "    <tr>\n",
       "      <td>1</td>\n",
       "      <td>Jones College Prep</td>\n",
       "      <td>1</td>\n",
       "      <td>0</td>\n",
       "      <td>0</td>\n",
       "    </tr>\n",
       "    <tr>\n",
       "      <td>3</td>\n",
       "      <td>Jones College Prep</td>\n",
       "      <td>1</td>\n",
       "      <td>0</td>\n",
       "      <td>0</td>\n",
       "    </tr>\n",
       "    <tr>\n",
       "      <td>4</td>\n",
       "      <td>Jones College Prep</td>\n",
       "      <td>1</td>\n",
       "      <td>0</td>\n",
       "      <td>0</td>\n",
       "    </tr>\n",
       "    <tr>\n",
       "      <td>6</td>\n",
       "      <td>Jones College Prep</td>\n",
       "      <td>1</td>\n",
       "      <td>0</td>\n",
       "      <td>0</td>\n",
       "    </tr>\n",
       "    <tr>\n",
       "      <td>7</td>\n",
       "      <td>Jones College Prep</td>\n",
       "      <td>1</td>\n",
       "      <td>0</td>\n",
       "      <td>0</td>\n",
       "    </tr>\n",
       "    <tr>\n",
       "      <td>9</td>\n",
       "      <td>Jones College Prep</td>\n",
       "      <td>1</td>\n",
       "      <td>0</td>\n",
       "      <td>0</td>\n",
       "    </tr>\n",
       "    <tr>\n",
       "      <td>10</td>\n",
       "      <td>Jones College Prep</td>\n",
       "      <td>1</td>\n",
       "      <td>0</td>\n",
       "      <td>0</td>\n",
       "    </tr>\n",
       "    <tr>\n",
       "      <td>13</td>\n",
       "      <td>Jones College Prep</td>\n",
       "      <td>1</td>\n",
       "      <td>0</td>\n",
       "      <td>0</td>\n",
       "    </tr>\n",
       "    <tr>\n",
       "      <td>14</td>\n",
       "      <td>Jones College Prep</td>\n",
       "      <td>1</td>\n",
       "      <td>0</td>\n",
       "      <td>0</td>\n",
       "    </tr>\n",
       "  </tbody>\n",
       "</table>\n",
       "</div>"
      ],
      "text/plain": [
       "                School  Fast Food Restaurant  Gun Shop  Liquor Store\n",
       "0   Jones College Prep                     0         0             1\n",
       "1   Jones College Prep                     1         0             0\n",
       "3   Jones College Prep                     1         0             0\n",
       "4   Jones College Prep                     1         0             0\n",
       "6   Jones College Prep                     1         0             0\n",
       "7   Jones College Prep                     1         0             0\n",
       "9   Jones College Prep                     1         0             0\n",
       "10  Jones College Prep                     1         0             0\n",
       "13  Jones College Prep                     1         0             0\n",
       "14  Jones College Prep                     1         0             0"
      ]
     },
     "execution_count": 60,
     "metadata": {},
     "output_type": "execute_result"
    }
   ],
   "source": [
    "# one hot encoding\n",
    "dfSchoolsWithBadSpots_onehot = pd.get_dummies(dfSchoolsWithBadSpots[['BadSpotCategory']], prefix=\"\", prefix_sep=\"\")\n",
    "\n",
    "# add schoolname column back to dataframe\n",
    "dfSchoolsWithBadSpots_onehot['School'] = dfSchoolsWithBadSpots['School'] \n",
    "\n",
    "# move School column to the first column\n",
    "fixed_columns = [dfSchoolsWithBadSpots_onehot.columns[-1]] + list(dfSchoolsWithBadSpots_onehot.columns[:-1])\n",
    "dfSchoolsWithBadSpots_onehot = dfSchoolsWithBadSpots_onehot[fixed_columns]\n",
    "\n",
    "dfSchoolsWithBadSpots_onehot.head(10)\n"
   ]
  },
  {
   "cell_type": "markdown",
   "metadata": {},
   "source": [
    "And sum the resulting numbers to have a unique row per school in a new dataframe"
   ]
  },
  {
   "cell_type": "code",
   "execution_count": 61,
   "metadata": {},
   "outputs": [
    {
     "data": {
      "text/html": [
       "<div>\n",
       "<style scoped>\n",
       "    .dataframe tbody tr th:only-of-type {\n",
       "        vertical-align: middle;\n",
       "    }\n",
       "\n",
       "    .dataframe tbody tr th {\n",
       "        vertical-align: top;\n",
       "    }\n",
       "\n",
       "    .dataframe thead th {\n",
       "        text-align: right;\n",
       "    }\n",
       "</style>\n",
       "<table border=\"1\" class=\"dataframe\">\n",
       "  <thead>\n",
       "    <tr style=\"text-align: right;\">\n",
       "      <th></th>\n",
       "      <th>School</th>\n",
       "      <th>Fast Food Restaurant</th>\n",
       "      <th>Gun Shop</th>\n",
       "      <th>Liquor Store</th>\n",
       "    </tr>\n",
       "  </thead>\n",
       "  <tbody>\n",
       "    <tr>\n",
       "      <td>0</td>\n",
       "      <td>Al Raby High School</td>\n",
       "      <td>3</td>\n",
       "      <td>0</td>\n",
       "      <td>2</td>\n",
       "    </tr>\n",
       "    <tr>\n",
       "      <td>1</td>\n",
       "      <td>Alan B Shepard High School</td>\n",
       "      <td>1</td>\n",
       "      <td>0</td>\n",
       "      <td>0</td>\n",
       "    </tr>\n",
       "    <tr>\n",
       "      <td>2</td>\n",
       "      <td>Amos Alonzo Stagg High School</td>\n",
       "      <td>3</td>\n",
       "      <td>0</td>\n",
       "      <td>0</td>\n",
       "    </tr>\n",
       "    <tr>\n",
       "      <td>3</td>\n",
       "      <td>Amundsen High School</td>\n",
       "      <td>11</td>\n",
       "      <td>0</td>\n",
       "      <td>9</td>\n",
       "    </tr>\n",
       "    <tr>\n",
       "      <td>4</td>\n",
       "      <td>Aspira Mirta Ramirez Computer Science High School</td>\n",
       "      <td>9</td>\n",
       "      <td>0</td>\n",
       "      <td>8</td>\n",
       "    </tr>\n",
       "    <tr>\n",
       "      <td>...</td>\n",
       "      <td>...</td>\n",
       "      <td>...</td>\n",
       "      <td>...</td>\n",
       "      <td>...</td>\n",
       "    </tr>\n",
       "    <tr>\n",
       "      <td>160</td>\n",
       "      <td>Willowbrook High School</td>\n",
       "      <td>7</td>\n",
       "      <td>0</td>\n",
       "      <td>2</td>\n",
       "    </tr>\n",
       "    <tr>\n",
       "      <td>161</td>\n",
       "      <td>Wolcott School</td>\n",
       "      <td>7</td>\n",
       "      <td>0</td>\n",
       "      <td>4</td>\n",
       "    </tr>\n",
       "    <tr>\n",
       "      <td>162</td>\n",
       "      <td>York High School</td>\n",
       "      <td>5</td>\n",
       "      <td>1</td>\n",
       "      <td>0</td>\n",
       "    </tr>\n",
       "    <tr>\n",
       "      <td>163</td>\n",
       "      <td>photography dark room</td>\n",
       "      <td>9</td>\n",
       "      <td>0</td>\n",
       "      <td>0</td>\n",
       "    </tr>\n",
       "    <tr>\n",
       "      <td>164</td>\n",
       "      <td>youth connection charter school</td>\n",
       "      <td>6</td>\n",
       "      <td>0</td>\n",
       "      <td>2</td>\n",
       "    </tr>\n",
       "  </tbody>\n",
       "</table>\n",
       "<p>165 rows × 4 columns</p>\n",
       "</div>"
      ],
      "text/plain": [
       "                                                School  Fast Food Restaurant  \\\n",
       "0                                  Al Raby High School                     3   \n",
       "1                           Alan B Shepard High School                     1   \n",
       "2                        Amos Alonzo Stagg High School                     3   \n",
       "3                                 Amundsen High School                    11   \n",
       "4    Aspira Mirta Ramirez Computer Science High School                     9   \n",
       "..                                                 ...                   ...   \n",
       "160                            Willowbrook High School                     7   \n",
       "161                                     Wolcott School                     7   \n",
       "162                                   York High School                     5   \n",
       "163                              photography dark room                     9   \n",
       "164                    youth connection charter school                     6   \n",
       "\n",
       "     Gun Shop  Liquor Store  \n",
       "0           0             2  \n",
       "1           0             0  \n",
       "2           0             0  \n",
       "3           0             9  \n",
       "4           0             8  \n",
       "..        ...           ...  \n",
       "160         0             2  \n",
       "161         0             4  \n",
       "162         1             0  \n",
       "163         0             0  \n",
       "164         0             2  \n",
       "\n",
       "[165 rows x 4 columns]"
      ]
     },
     "execution_count": 61,
     "metadata": {},
     "output_type": "execute_result"
    }
   ],
   "source": [
    "pd.set_option('display.max_rows',10)\n",
    "dfSchoolsWithBadSpots_grouped = dfSchoolsWithBadSpots_onehot.groupby('School').sum().reset_index()\n",
    "dfSchoolsWithBadSpots_grouped"
   ]
  },
  {
   "cell_type": "markdown",
   "metadata": {},
   "source": [
    "Now we can give some relative weight to each category: how important (ie concerning) is each category? (equal values means equal importance, a higher relative value means more importance/concern). In our example we give fastfood restaurants weight 1, liquor stores weight 2 and gun shops a weight of 20.\n",
    "Effectively this means we find 1 nearby gun shop the equivalent of 20 nearby fast food restaurants and 10 nearby liquor stores"
   ]
  },
  {
   "cell_type": "code",
   "execution_count": 62,
   "metadata": {},
   "outputs": [
    {
     "data": {
      "text/html": [
       "<div>\n",
       "<style scoped>\n",
       "    .dataframe tbody tr th:only-of-type {\n",
       "        vertical-align: middle;\n",
       "    }\n",
       "\n",
       "    .dataframe tbody tr th {\n",
       "        vertical-align: top;\n",
       "    }\n",
       "\n",
       "    .dataframe thead th {\n",
       "        text-align: right;\n",
       "    }\n",
       "</style>\n",
       "<table border=\"1\" class=\"dataframe\">\n",
       "  <thead>\n",
       "    <tr style=\"text-align: right;\">\n",
       "      <th></th>\n",
       "      <th>School</th>\n",
       "      <th>Fast Food Restaurant</th>\n",
       "      <th>Gun Shop</th>\n",
       "      <th>Liquor Store</th>\n",
       "    </tr>\n",
       "  </thead>\n",
       "  <tbody>\n",
       "    <tr>\n",
       "      <td>0</td>\n",
       "      <td>Al Raby High School</td>\n",
       "      <td>3</td>\n",
       "      <td>0</td>\n",
       "      <td>4</td>\n",
       "    </tr>\n",
       "    <tr>\n",
       "      <td>1</td>\n",
       "      <td>Alan B Shepard High School</td>\n",
       "      <td>1</td>\n",
       "      <td>0</td>\n",
       "      <td>0</td>\n",
       "    </tr>\n",
       "    <tr>\n",
       "      <td>2</td>\n",
       "      <td>Amos Alonzo Stagg High School</td>\n",
       "      <td>3</td>\n",
       "      <td>0</td>\n",
       "      <td>0</td>\n",
       "    </tr>\n",
       "    <tr>\n",
       "      <td>3</td>\n",
       "      <td>Amundsen High School</td>\n",
       "      <td>11</td>\n",
       "      <td>0</td>\n",
       "      <td>18</td>\n",
       "    </tr>\n",
       "    <tr>\n",
       "      <td>4</td>\n",
       "      <td>Aspira Mirta Ramirez Computer Science High School</td>\n",
       "      <td>9</td>\n",
       "      <td>0</td>\n",
       "      <td>16</td>\n",
       "    </tr>\n",
       "    <tr>\n",
       "      <td>...</td>\n",
       "      <td>...</td>\n",
       "      <td>...</td>\n",
       "      <td>...</td>\n",
       "      <td>...</td>\n",
       "    </tr>\n",
       "    <tr>\n",
       "      <td>160</td>\n",
       "      <td>Willowbrook High School</td>\n",
       "      <td>7</td>\n",
       "      <td>0</td>\n",
       "      <td>4</td>\n",
       "    </tr>\n",
       "    <tr>\n",
       "      <td>161</td>\n",
       "      <td>Wolcott School</td>\n",
       "      <td>7</td>\n",
       "      <td>0</td>\n",
       "      <td>8</td>\n",
       "    </tr>\n",
       "    <tr>\n",
       "      <td>162</td>\n",
       "      <td>York High School</td>\n",
       "      <td>5</td>\n",
       "      <td>20</td>\n",
       "      <td>0</td>\n",
       "    </tr>\n",
       "    <tr>\n",
       "      <td>163</td>\n",
       "      <td>photography dark room</td>\n",
       "      <td>9</td>\n",
       "      <td>0</td>\n",
       "      <td>0</td>\n",
       "    </tr>\n",
       "    <tr>\n",
       "      <td>164</td>\n",
       "      <td>youth connection charter school</td>\n",
       "      <td>6</td>\n",
       "      <td>0</td>\n",
       "      <td>4</td>\n",
       "    </tr>\n",
       "  </tbody>\n",
       "</table>\n",
       "<p>165 rows × 4 columns</p>\n",
       "</div>"
      ],
      "text/plain": [
       "                                                School  Fast Food Restaurant  \\\n",
       "0                                  Al Raby High School                     3   \n",
       "1                           Alan B Shepard High School                     1   \n",
       "2                        Amos Alonzo Stagg High School                     3   \n",
       "3                                 Amundsen High School                    11   \n",
       "4    Aspira Mirta Ramirez Computer Science High School                     9   \n",
       "..                                                 ...                   ...   \n",
       "160                            Willowbrook High School                     7   \n",
       "161                                     Wolcott School                     7   \n",
       "162                                   York High School                     5   \n",
       "163                              photography dark room                     9   \n",
       "164                    youth connection charter school                     6   \n",
       "\n",
       "     Gun Shop  Liquor Store  \n",
       "0           0             4  \n",
       "1           0             0  \n",
       "2           0             0  \n",
       "3           0            18  \n",
       "4           0            16  \n",
       "..        ...           ...  \n",
       "160         0             4  \n",
       "161         0             8  \n",
       "162        20             0  \n",
       "163         0             0  \n",
       "164         0             4  \n",
       "\n",
       "[165 rows x 4 columns]"
      ]
     },
     "execution_count": 62,
     "metadata": {},
     "output_type": "execute_result"
    }
   ],
   "source": [
    "pd.set_option('display.max_rows',10)\n",
    "dfSchoolsWithBadSpots_grouped_weighted = dfSchoolsWithBadSpots_grouped\n",
    "\n",
    "liquorWeight = 2\n",
    "fastfoodWeight = 1\n",
    "gunWeight = 20\n",
    "\n",
    "dfSchoolsWithBadSpots_grouped_weighted['Liquor Store'] = dfSchoolsWithBadSpots_grouped['Liquor Store']*liquorWeight\n",
    "dfSchoolsWithBadSpots_grouped_weighted['Fast Food Restaurant'] = dfSchoolsWithBadSpots_grouped['Fast Food Restaurant']*fastfoodWeight\n",
    "dfSchoolsWithBadSpots_grouped_weighted['Gun Shop'] = dfSchoolsWithBadSpots_grouped['Gun Shop']*gunWeight\n",
    "\n",
    "dfSchoolsWithBadSpots_grouped_weighted"
   ]
  },
  {
   "cell_type": "markdown",
   "metadata": {},
   "source": [
    "Look at the total number of unique school names"
   ]
  },
  {
   "cell_type": "code",
   "execution_count": 63,
   "metadata": {},
   "outputs": [
    {
     "data": {
      "text/plain": [
       "165"
      ]
     },
     "execution_count": 63,
     "metadata": {},
     "output_type": "execute_result"
    }
   ],
   "source": [
    "dfSchoolsWithBadSpots_grouped_weighted.School.unique().shape[0]\n"
   ]
  },
  {
   "cell_type": "markdown",
   "metadata": {},
   "source": [
    "This number differs from our original total number of schools. This is the result of schools that did not return any 'bad location' in the api call. Let's add these missing schools to the dataframe with a value of 0 for each category."
   ]
  },
  {
   "cell_type": "code",
   "execution_count": 64,
   "metadata": {},
   "outputs": [],
   "source": [
    "missingSchools = dfSchools[~dfSchools.Name.isin(dfSchoolsWithBadSpots_grouped_weighted.School.unique())]\n",
    "numberMissing = missingSchools.Name.count()\n",
    "\n",
    "#Create dataframe with 0 values for missing schools\n",
    "if numberMissing > 0:\n",
    "    listMissingSchools = list(missingSchools['Name'])\n",
    "    toAppend = {'School':  listMissingSchools,\n",
    "            'Fast Food Restaurant': np.repeat([0],numberMissing),\n",
    "            'Gun Shop': np.repeat([0],numberMissing),\n",
    "            'Liquor Store': np.repeat([0],numberMissing)}\n",
    "    toAppend = pd.DataFrame(toAppend)\n",
    "    dfSchoolsWithBadSpots_grouped_weighted=dfSchoolsWithBadSpots_grouped_weighted.append(toAppend,sort=False,ignore_index=True) \n",
    "\n"
   ]
  },
  {
   "cell_type": "markdown",
   "metadata": {},
   "source": [
    "#### It looks like we have a dataframe that we can work with for our clustering analysis now"
   ]
  },
  {
   "cell_type": "code",
   "execution_count": 65,
   "metadata": {},
   "outputs": [
    {
     "data": {
      "text/html": [
       "<div>\n",
       "<style scoped>\n",
       "    .dataframe tbody tr th:only-of-type {\n",
       "        vertical-align: middle;\n",
       "    }\n",
       "\n",
       "    .dataframe tbody tr th {\n",
       "        vertical-align: top;\n",
       "    }\n",
       "\n",
       "    .dataframe thead th {\n",
       "        text-align: right;\n",
       "    }\n",
       "</style>\n",
       "<table border=\"1\" class=\"dataframe\">\n",
       "  <thead>\n",
       "    <tr style=\"text-align: right;\">\n",
       "      <th></th>\n",
       "      <th>School</th>\n",
       "      <th>Fast Food Restaurant</th>\n",
       "      <th>Gun Shop</th>\n",
       "      <th>Liquor Store</th>\n",
       "    </tr>\n",
       "  </thead>\n",
       "  <tbody>\n",
       "    <tr>\n",
       "      <td>0</td>\n",
       "      <td>Al Raby High School</td>\n",
       "      <td>3</td>\n",
       "      <td>0</td>\n",
       "      <td>4</td>\n",
       "    </tr>\n",
       "    <tr>\n",
       "      <td>1</td>\n",
       "      <td>Alan B Shepard High School</td>\n",
       "      <td>1</td>\n",
       "      <td>0</td>\n",
       "      <td>0</td>\n",
       "    </tr>\n",
       "    <tr>\n",
       "      <td>2</td>\n",
       "      <td>Amos Alonzo Stagg High School</td>\n",
       "      <td>3</td>\n",
       "      <td>0</td>\n",
       "      <td>0</td>\n",
       "    </tr>\n",
       "    <tr>\n",
       "      <td>3</td>\n",
       "      <td>Amundsen High School</td>\n",
       "      <td>11</td>\n",
       "      <td>0</td>\n",
       "      <td>18</td>\n",
       "    </tr>\n",
       "    <tr>\n",
       "      <td>4</td>\n",
       "      <td>Aspira Mirta Ramirez Computer Science High School</td>\n",
       "      <td>9</td>\n",
       "      <td>0</td>\n",
       "      <td>16</td>\n",
       "    </tr>\n",
       "    <tr>\n",
       "      <td>...</td>\n",
       "      <td>...</td>\n",
       "      <td>...</td>\n",
       "      <td>...</td>\n",
       "      <td>...</td>\n",
       "    </tr>\n",
       "    <tr>\n",
       "      <td>170</td>\n",
       "      <td>Nazareth High School</td>\n",
       "      <td>0</td>\n",
       "      <td>0</td>\n",
       "      <td>0</td>\n",
       "    </tr>\n",
       "    <tr>\n",
       "      <td>171</td>\n",
       "      <td>Hinsdale Central High School</td>\n",
       "      <td>0</td>\n",
       "      <td>0</td>\n",
       "      <td>0</td>\n",
       "    </tr>\n",
       "    <tr>\n",
       "      <td>172</td>\n",
       "      <td>East Chicago Central High School</td>\n",
       "      <td>0</td>\n",
       "      <td>0</td>\n",
       "      <td>0</td>\n",
       "    </tr>\n",
       "    <tr>\n",
       "      <td>173</td>\n",
       "      <td>Bremen High School</td>\n",
       "      <td>0</td>\n",
       "      <td>0</td>\n",
       "      <td>0</td>\n",
       "    </tr>\n",
       "    <tr>\n",
       "      <td>174</td>\n",
       "      <td>Corndog Auditorium</td>\n",
       "      <td>0</td>\n",
       "      <td>0</td>\n",
       "      <td>0</td>\n",
       "    </tr>\n",
       "  </tbody>\n",
       "</table>\n",
       "<p>175 rows × 4 columns</p>\n",
       "</div>"
      ],
      "text/plain": [
       "                                                School  Fast Food Restaurant  \\\n",
       "0                                  Al Raby High School                     3   \n",
       "1                           Alan B Shepard High School                     1   \n",
       "2                        Amos Alonzo Stagg High School                     3   \n",
       "3                                 Amundsen High School                    11   \n",
       "4    Aspira Mirta Ramirez Computer Science High School                     9   \n",
       "..                                                 ...                   ...   \n",
       "170                               Nazareth High School                     0   \n",
       "171                       Hinsdale Central High School                     0   \n",
       "172                   East Chicago Central High School                     0   \n",
       "173                                 Bremen High School                     0   \n",
       "174                                 Corndog Auditorium                     0   \n",
       "\n",
       "     Gun Shop  Liquor Store  \n",
       "0           0             4  \n",
       "1           0             0  \n",
       "2           0             0  \n",
       "3           0            18  \n",
       "4           0            16  \n",
       "..        ...           ...  \n",
       "170         0             0  \n",
       "171         0             0  \n",
       "172         0             0  \n",
       "173         0             0  \n",
       "174         0             0  \n",
       "\n",
       "[175 rows x 4 columns]"
      ]
     },
     "execution_count": 65,
     "metadata": {},
     "output_type": "execute_result"
    }
   ],
   "source": [
    "dfSchoolsWithBadSpots_grouped_weighted"
   ]
  },
  {
   "cell_type": "markdown",
   "metadata": {},
   "source": [
    "#### K-means\n",
    "K-means is a clustering algorithm that clusters datapoints based on their similarity. Similarity is measured in terms of the 'distances' between each datapoint. It iteratively assignes datapoints to their nearest cluster centerpoint ensuring datapoints are assigned to a cluster as close as possible to datapoints assigned to the same cluster and as far away as possible to datapoints assigned to another cluster. \n",
    "\n",
    "In our case it means that similarity is measured as the difference in the **weighted** number of fastfood restaurants, liquor stores and gun shops.\n",
    "\n",
    "We use the so called elbow technique to find the optimal number of clusters (which is required to provide to the k-means function manually). "
   ]
  },
  {
   "cell_type": "code",
   "execution_count": 66,
   "metadata": {},
   "outputs": [],
   "source": [
    "#Elbow technique\n",
    "Sum_of_squared_distances = []\n",
    "K = range(1,15)\n",
    "for k in K:\n",
    "    km = KMeans(n_clusters=k)\n",
    "    km = km.fit(dfSchoolsWithBadSpots_grouped_weighted.drop('School', 1))\n",
    "    Sum_of_squared_distances.append(km.inertia_)"
   ]
  },
  {
   "cell_type": "code",
   "execution_count": 67,
   "metadata": {},
   "outputs": [
    {
     "data": {
      "image/png": "[encoded data removed]",
      "text/plain": [
       "<Figure size 432x288 with 1 Axes>"
      ]
     },
     "metadata": {
      "needs_background": "light"
     },
     "output_type": "display_data"
    }
   ],
   "source": [
    "plt.plot(K, Sum_of_squared_distances, 'bx-')\n",
    "plt.xlabel('k')\n",
    "plt.ylabel('Sum_of_squared_distances')\n",
    "plt.title('Elbow Method For Optimal k')\n",
    "plt.show()"
   ]
  },
  {
   "cell_type": "markdown",
   "metadata": {},
   "source": [
    "Allthough not very clear in this case we choose 5 to be te optimal number for k. \n",
    "In the code below we determine the cluster for each school based on k = 5 and add the clusters to the dataframe."
   ]
  },
  {
   "cell_type": "code",
   "execution_count": 68,
   "metadata": {},
   "outputs": [
    {
     "data": {
      "text/plain": [
       "array([0, 0, 0, 1, 1, 2, 2, 2, 2, 0], dtype=int32)"
      ]
     },
     "execution_count": 68,
     "metadata": {},
     "output_type": "execute_result"
    }
   ],
   "source": [
    "# set number of clusters\n",
    "kclusters = 5\n",
    "\n",
    "schools_grouped_clustering = dfSchoolsWithBadSpots_grouped_weighted.drop('School', 1)\n",
    "\n",
    "# run k-means clustering\n",
    "kmeans = KMeans(n_clusters=kclusters, random_state=0).fit(schools_grouped_clustering)\n",
    "\n",
    "# check cluster labels generated for each row in the dataframe\n",
    "kmeans.labels_[0:10] "
   ]
  },
  {
   "cell_type": "code",
   "execution_count": 69,
   "metadata": {},
   "outputs": [],
   "source": [
    "dfSchoolsWithBadSpots_grouped_weighted.insert(0, 'Cluster Labels', kmeans.labels_)\n",
    "\n",
    "\n",
    "# merge dfSchools with fSchoolsWithBadSpots_grouped_weighted to add latitude/longitude for each school\n",
    "dfFinal = pd.merge(dfSchools, dfSchoolsWithBadSpots_grouped_weighted, left_on='Name', right_on='School')"
   ]
  },
  {
   "cell_type": "markdown",
   "metadata": {},
   "source": [
    "Let's look what our dataframe looks like now"
   ]
  },
  {
   "cell_type": "code",
   "execution_count": 70,
   "metadata": {},
   "outputs": [
    {
     "data": {
      "text/html": [
       "<div>\n",
       "<style scoped>\n",
       "    .dataframe tbody tr th:only-of-type {\n",
       "        vertical-align: middle;\n",
       "    }\n",
       "\n",
       "    .dataframe tbody tr th {\n",
       "        vertical-align: top;\n",
       "    }\n",
       "\n",
       "    .dataframe thead th {\n",
       "        text-align: right;\n",
       "    }\n",
       "</style>\n",
       "<table border=\"1\" class=\"dataframe\">\n",
       "  <thead>\n",
       "    <tr style=\"text-align: right;\">\n",
       "      <th></th>\n",
       "      <th>Name</th>\n",
       "      <th>Latitude</th>\n",
       "      <th>Longitude</th>\n",
       "      <th>Cluster Labels</th>\n",
       "      <th>School</th>\n",
       "      <th>Fast Food Restaurant</th>\n",
       "      <th>Gun Shop</th>\n",
       "      <th>Liquor Store</th>\n",
       "    </tr>\n",
       "  </thead>\n",
       "  <tbody>\n",
       "    <tr>\n",
       "      <td>0</td>\n",
       "      <td>Jones College Prep</td>\n",
       "      <td>41.873561</td>\n",
       "      <td>-87.627558</td>\n",
       "      <td>3</td>\n",
       "      <td>Jones College Prep</td>\n",
       "      <td>35</td>\n",
       "      <td>0</td>\n",
       "      <td>6</td>\n",
       "    </tr>\n",
       "    <tr>\n",
       "      <td>1</td>\n",
       "      <td>Innovations High School</td>\n",
       "      <td>41.882640</td>\n",
       "      <td>-87.626343</td>\n",
       "      <td>3</td>\n",
       "      <td>Innovations High School</td>\n",
       "      <td>35</td>\n",
       "      <td>0</td>\n",
       "      <td>0</td>\n",
       "    </tr>\n",
       "    <tr>\n",
       "      <td>2</td>\n",
       "      <td>The British International School of Chicago, S...</td>\n",
       "      <td>41.870491</td>\n",
       "      <td>-87.632715</td>\n",
       "      <td>3</td>\n",
       "      <td>The British International School of Chicago, S...</td>\n",
       "      <td>33</td>\n",
       "      <td>0</td>\n",
       "      <td>10</td>\n",
       "    </tr>\n",
       "    <tr>\n",
       "      <td>3</td>\n",
       "      <td>The Dance Center (DE)</td>\n",
       "      <td>41.865597</td>\n",
       "      <td>-87.624243</td>\n",
       "      <td>2</td>\n",
       "      <td>The Dance Center (DE)</td>\n",
       "      <td>9</td>\n",
       "      <td>0</td>\n",
       "      <td>6</td>\n",
       "    </tr>\n",
       "    <tr>\n",
       "      <td>4</td>\n",
       "      <td>Harold Washington College</td>\n",
       "      <td>41.886126</td>\n",
       "      <td>-87.626868</td>\n",
       "      <td>3</td>\n",
       "      <td>Harold Washington College</td>\n",
       "      <td>32</td>\n",
       "      <td>0</td>\n",
       "      <td>4</td>\n",
       "    </tr>\n",
       "  </tbody>\n",
       "</table>\n",
       "</div>"
      ],
      "text/plain": [
       "                                                Name   Latitude  Longitude  \\\n",
       "0                                 Jones College Prep  41.873561 -87.627558   \n",
       "1                            Innovations High School  41.882640 -87.626343   \n",
       "2  The British International School of Chicago, S...  41.870491 -87.632715   \n",
       "3                              The Dance Center (DE)  41.865597 -87.624243   \n",
       "4                          Harold Washington College  41.886126 -87.626868   \n",
       "\n",
       "   Cluster Labels                                             School  \\\n",
       "0               3                                 Jones College Prep   \n",
       "1               3                            Innovations High School   \n",
       "2               3  The British International School of Chicago, S...   \n",
       "3               2                              The Dance Center (DE)   \n",
       "4               3                          Harold Washington College   \n",
       "\n",
       "   Fast Food Restaurant  Gun Shop  Liquor Store  \n",
       "0                    35         0             6  \n",
       "1                    35         0             0  \n",
       "2                    33         0            10  \n",
       "3                     9         0             6  \n",
       "4                    32         0             4  "
      ]
     },
     "execution_count": 70,
     "metadata": {},
     "output_type": "execute_result"
    }
   ],
   "source": [
    "dfFinal.head()"
   ]
  },
  {
   "cell_type": "markdown",
   "metadata": {},
   "source": [
    "We see we have redundant school columns so delete one"
   ]
  },
  {
   "cell_type": "code",
   "execution_count": 71,
   "metadata": {},
   "outputs": [],
   "source": [
    "dfFinal= dfFinal.drop('School',1)"
   ]
  },
  {
   "cell_type": "markdown",
   "metadata": {},
   "source": [
    "#### Before plotting on a map let's take a look at the meaning of the clusters using a 3d graph"
   ]
  },
  {
   "cell_type": "code",
   "execution_count": 72,
   "metadata": {},
   "outputs": [
    {
     "name": "stdout",
     "output_type": "stream",
     "text": [
      "Collecting package metadata (current_repodata.json): done\n",
      "Solving environment: done\n",
      "\n",
      "# All requested packages already installed.\n",
      "\n"
     ]
    }
   ],
   "source": [
    "import sys\n",
    "!conda install --yes --prefix {sys.prefix} plotly"
   ]
  },
  {
   "cell_type": "code",
   "execution_count": 73,
   "metadata": {},
   "outputs": [],
   "source": [
    "import plotly as pl\n",
    "import plotly.graph_objects as go\n",
    "import plotly.express as px"
   ]
  },
  {
   "cell_type": "code",
   "execution_count": 74,
   "metadata": {},
   "outputs": [
    {
     "data": {
      "application/vnd.plotly.v1+json": {
       "config": {
        "plotlyServerURL": "https://plot.ly"
       },
       "data": [
        {
         "hovertemplate": "Fast Food Restaurant=%{x}<br>Gun Shop=%{y}<br>Liquor Store=%{z}<br>Cluster Labels=%{marker.color}<extra></extra>",
         "legendgroup": "",
         "marker": {
          "color": [
           3,
           3,
           3,
           2,
           3,
           2,
           2,
           1,
           2,
           2,
           2,
           2,
           2,
           2,
           2,
           0,
           2,
           2,
           2,
           1,
           2,
           1,
           2,
           1,
           2,
           2,
           2,
           2,
           1,
           2,
           1,
           1,
           1,
           1,
           1,
           2,
           2,
           0,
           2,
           2,
           0,
           2,
           2,
           2,
           1,
           0,
           1,
           0,
           2,
           2,
           0,
           2,
           2,
           2,
           2,
           2,
           1,
           0,
           0,
           2,
           0,
           0,
           2,
           2,
           2,
           0,
           2,
           2,
           1,
           2,
           2,
           2,
           0,
           1,
           0,
           0,
           2,
           2,
           1,
           2,
           0,
           2,
           0,
           0,
           0,
           2,
           1,
           0,
           2,
           2,
           1,
           2,
           0,
           2,
           2,
           2,
           0,
           0,
           1,
           2,
           0,
           0,
           0,
           2,
           2,
           2,
           0,
           0,
           2,
           0,
           0,
           0,
           0,
           2,
           0,
           0,
           0,
           2,
           0,
           0,
           0,
           0,
           0,
           2,
           0,
           0,
           0,
           0,
           0,
           0,
           0,
           0,
           0,
           0,
           0,
           0,
           0,
           0,
           0,
           0,
           0,
           0,
           0,
           0,
           0,
           0,
           4,
           0,
           4,
           0,
           0,
           0,
           0,
           0,
           0,
           0,
           2,
           0,
           0,
           0,
           2,
           2,
           2,
           0,
           2,
           0,
           2,
           1,
           2,
           2,
           0,
           0,
           0,
           2,
           0,
           2
          ],
          "coloraxis": "coloraxis",
          "symbol": "circle"
         },
         "mode": "markers",
         "name": "",
         "scene": "scene",
         "showlegend": false,
         "type": "scatter3d",
         "x": [
          35,
          35,
          33,
          9,
          32,
          9,
          4,
          17,
          7,
          9,
          8,
          7,
          6,
          6,
          10,
          3,
          10,
          6,
          10,
          15,
          9,
          15,
          10,
          16,
          7,
          9,
          8,
          13,
          13,
          13,
          15,
          9,
          10,
          9,
          10,
          7,
          5,
          3,
          5,
          4,
          3,
          7,
          12,
          6,
          9,
          3,
          11,
          4,
          9,
          14,
          3,
          4,
          9,
          10,
          5,
          12,
          12,
          5,
          5,
          10,
          3,
          4,
          6,
          10,
          11,
          5,
          7,
          7,
          11,
          6,
          10,
          6,
          4,
          10,
          4,
          3,
          11,
          5,
          12,
          11,
          1,
          6,
          4,
          4,
          2,
          7,
          7,
          4,
          7,
          8,
          11,
          9,
          4,
          7,
          17,
          10,
          1,
          0,
          13,
          7,
          3,
          1,
          2,
          13,
          7,
          9,
          5,
          1,
          6,
          0,
          0,
          2,
          2,
          8,
          1,
          2,
          3,
          5,
          3,
          4,
          3,
          1,
          0,
          10,
          2,
          3,
          0,
          0,
          0,
          0,
          0,
          3,
          1,
          1,
          4,
          2,
          1,
          2,
          1,
          1,
          1,
          4,
          2,
          2,
          1,
          3,
          3,
          3,
          5,
          0,
          1,
          5,
          0,
          1,
          3,
          2,
          7,
          0,
          4,
          3,
          9,
          8,
          8,
          2,
          13,
          0,
          7,
          8,
          6,
          9,
          1,
          3,
          1,
          6,
          2,
          17
         ],
         "y": [
          0,
          0,
          0,
          0,
          0,
          0,
          0,
          0,
          0,
          0,
          0,
          0,
          0,
          0,
          0,
          0,
          0,
          0,
          0,
          0,
          0,
          0,
          0,
          0,
          0,
          0,
          0,
          0,
          0,
          0,
          0,
          0,
          0,
          0,
          0,
          0,
          0,
          0,
          0,
          0,
          0,
          0,
          0,
          0,
          0,
          0,
          0,
          0,
          0,
          0,
          0,
          0,
          0,
          0,
          0,
          0,
          0,
          0,
          0,
          0,
          0,
          0,
          0,
          0,
          0,
          0,
          0,
          0,
          0,
          0,
          0,
          0,
          0,
          0,
          0,
          0,
          0,
          0,
          0,
          0,
          0,
          0,
          0,
          0,
          0,
          0,
          0,
          0,
          0,
          0,
          0,
          0,
          0,
          0,
          0,
          0,
          0,
          0,
          0,
          0,
          0,
          0,
          0,
          0,
          0,
          0,
          0,
          0,
          0,
          0,
          0,
          0,
          0,
          0,
          0,
          0,
          0,
          0,
          0,
          0,
          0,
          0,
          0,
          0,
          0,
          0,
          0,
          0,
          0,
          0,
          0,
          0,
          0,
          0,
          0,
          0,
          0,
          0,
          0,
          0,
          0,
          0,
          0,
          0,
          0,
          0,
          20,
          0,
          20,
          0,
          0,
          0,
          0,
          0,
          0,
          0,
          0,
          0,
          0,
          0,
          0,
          0,
          0,
          0,
          0,
          0,
          0,
          0,
          0,
          0,
          0,
          0,
          0,
          0,
          0,
          0
         ],
         "z": [
          6,
          0,
          10,
          6,
          4,
          6,
          6,
          8,
          4,
          8,
          4,
          4,
          4,
          4,
          2,
          0,
          4,
          4,
          8,
          10,
          4,
          8,
          6,
          8,
          8,
          2,
          2,
          4,
          10,
          4,
          8,
          14,
          12,
          14,
          14,
          0,
          8,
          4,
          4,
          6,
          4,
          6,
          2,
          8,
          16,
          4,
          16,
          0,
          4,
          4,
          0,
          6,
          6,
          6,
          6,
          4,
          14,
          0,
          0,
          0,
          2,
          0,
          2,
          6,
          2,
          0,
          6,
          0,
          18,
          2,
          6,
          2,
          0,
          16,
          0,
          2,
          0,
          4,
          10,
          6,
          6,
          2,
          2,
          0,
          0,
          2,
          12,
          0,
          2,
          2,
          14,
          4,
          2,
          8,
          2,
          4,
          2,
          6,
          8,
          0,
          2,
          0,
          4,
          6,
          6,
          0,
          0,
          4,
          4,
          0,
          0,
          4,
          2,
          4,
          2,
          2,
          2,
          6,
          2,
          2,
          2,
          0,
          0,
          4,
          0,
          0,
          0,
          0,
          2,
          0,
          2,
          0,
          0,
          0,
          2,
          2,
          2,
          0,
          0,
          0,
          0,
          2,
          4,
          0,
          0,
          0,
          0,
          4,
          0,
          0,
          0,
          2,
          0,
          0,
          4,
          0,
          4,
          0,
          0,
          6,
          0,
          8,
          2,
          0,
          4,
          0,
          6,
          18,
          6,
          2,
          2,
          2,
          6,
          4,
          0,
          2
         ]
        }
       ],
       "layout": {
        "coloraxis": {
         "colorbar": {
          "title": {
           "text": "Cluster Labels"
          }
         },
         "colorscale": [
          [
           0,
           "#0d0887"
          ],
          [
           0.1111111111111111,
           "#46039f"
          ],
          [
           0.2222222222222222,
           "#7201a8"
          ],
          [
           0.3333333333333333,
           "#9c179e"
          ],
          [
           0.4444444444444444,
           "#bd3786"
          ],
          [
           0.5555555555555556,
           "#d8576b"
          ],
          [
           0.6666666666666666,
           "#ed7953"
          ],
          [
           0.7777777777777778,
           "#fb9f3a"
          ],
          [
           0.8888888888888888,
           "#fdca26"
          ],
          [
           1,
           "#f0f921"
          ]
         ]
        },
        "legend": {
         "tracegroupgap": 0
        },
        "margin": {
         "t": 60
        },
        "scene": {
         "domain": {
          "x": [
           0,
           1
          ],
          "y": [
           0,
           1
          ]
         },
         "xaxis": {
          "title": {
           "text": "Fast Food Restaurant"
          }
         },
         "yaxis": {
          "title": {
           "text": "Gun Shop"
          }
         },
         "zaxis": {
          "title": {
           "text": "Liquor Store"
          }
         }
        },
        "template": {
         "data": {
          "bar": [
           {
            "error_x": {
             "color": "#2a3f5f"
            },
            "error_y": {
             "color": "#2a3f5f"
            },
            "marker": {
             "line": {
              "color": "#E5ECF6",
              "width": 0.5
             }
            },
            "type": "bar"
           }
          ],
          "barpolar": [
           {
            "marker": {
             "line": {
              "color": "#E5ECF6",
              "width": 0.5
             }
            },
            "type": "barpolar"
           }
          ],
          "carpet": [
           {
            "aaxis": {
             "endlinecolor": "#2a3f5f",
             "gridcolor": "white",
             "linecolor": "white",
             "minorgridcolor": "white",
             "startlinecolor": "#2a3f5f"
            },
            "baxis": {
             "endlinecolor": "#2a3f5f",
             "gridcolor": "white",
             "linecolor": "white",
             "minorgridcolor": "white",
             "startlinecolor": "#2a3f5f"
            },
            "type": "carpet"
           }
          ],
          "choropleth": [
           {
            "colorbar": {
             "outlinewidth": 0,
             "ticks": ""
            },
            "type": "choropleth"
           }
          ],
          "contour": [
           {
            "colorbar": {
             "outlinewidth": 0,
             "ticks": ""
            },
            "colorscale": [
             [
              0,
              "#0d0887"
             ],
             [
              0.1111111111111111,
              "#46039f"
             ],
             [
              0.2222222222222222,
              "#7201a8"
             ],
             [
              0.3333333333333333,
              "#9c179e"
             ],
             [
              0.4444444444444444,
              "#bd3786"
             ],
             [
              0.5555555555555556,
              "#d8576b"
             ],
             [
              0.6666666666666666,
              "#ed7953"
             ],
             [
              0.7777777777777778,
              "#fb9f3a"
             ],
             [
              0.8888888888888888,
              "#fdca26"
             ],
             [
              1,
              "#f0f921"
             ]
            ],
            "type": "contour"
           }
          ],
          "contourcarpet": [
           {
            "colorbar": {
             "outlinewidth": 0,
             "ticks": ""
            },
            "type": "contourcarpet"
           }
          ],
          "heatmap": [
           {
            "colorbar": {
             "outlinewidth": 0,
             "ticks": ""
            },
            "colorscale": [
             [
              0,
              "#0d0887"
             ],
             [
              0.1111111111111111,
              "#46039f"
             ],
             [
              0.2222222222222222,
              "#7201a8"
             ],
             [
              0.3333333333333333,
              "#9c179e"
             ],
             [
              0.4444444444444444,
              "#bd3786"
             ],
             [
              0.5555555555555556,
              "#d8576b"
             ],
             [
              0.6666666666666666,
              "#ed7953"
             ],
             [
              0.7777777777777778,
              "#fb9f3a"
             ],
             [
              0.8888888888888888,
              "#fdca26"
             ],
             [
              1,
              "#f0f921"
             ]
            ],
            "type": "heatmap"
           }
          ],
          "heatmapgl": [
           {
            "colorbar": {
             "outlinewidth": 0,
             "ticks": ""
            },
            "colorscale": [
             [
              0,
              "#0d0887"
             ],
             [
              0.1111111111111111,
              "#46039f"
             ],
             [
              0.2222222222222222,
              "#7201a8"
             ],
             [
              0.3333333333333333,
              "#9c179e"
             ],
             [
              0.4444444444444444,
              "#bd3786"
             ],
             [
              0.5555555555555556,
              "#d8576b"
             ],
             [
              0.6666666666666666,
              "#ed7953"
             ],
             [
              0.7777777777777778,
              "#fb9f3a"
             ],
             [
              0.8888888888888888,
              "#fdca26"
             ],
             [
              1,
              "#f0f921"
             ]
            ],
            "type": "heatmapgl"
           }
          ],
          "histogram": [
           {
            "marker": {
             "colorbar": {
              "outlinewidth": 0,
              "ticks": ""
             }
            },
            "type": "histogram"
           }
          ],
          "histogram2d": [
           {
            "colorbar": {
             "outlinewidth": 0,
             "ticks": ""
            },
            "colorscale": [
             [
              0,
              "#0d0887"
             ],
             [
              0.1111111111111111,
              "#46039f"
             ],
             [
              0.2222222222222222,
              "#7201a8"
             ],
             [
              0.3333333333333333,
              "#9c179e"
             ],
             [
              0.4444444444444444,
              "#bd3786"
             ],
             [
              0.5555555555555556,
              "#d8576b"
             ],
             [
              0.6666666666666666,
              "#ed7953"
             ],
             [
              0.7777777777777778,
              "#fb9f3a"
             ],
             [
              0.8888888888888888,
              "#fdca26"
             ],
             [
              1,
              "#f0f921"
             ]
            ],
            "type": "histogram2d"
           }
          ],
          "histogram2dcontour": [
           {
            "colorbar": {
             "outlinewidth": 0,
             "ticks": ""
            },
            "colorscale": [
             [
              0,
              "#0d0887"
             ],
             [
              0.1111111111111111,
              "#46039f"
             ],
             [
              0.2222222222222222,
              "#7201a8"
             ],
             [
              0.3333333333333333,
              "#9c179e"
             ],
             [
              0.4444444444444444,
              "#bd3786"
             ],
             [
              0.5555555555555556,
              "#d8576b"
             ],
             [
              0.6666666666666666,
              "#ed7953"
             ],
             [
              0.7777777777777778,
              "#fb9f3a"
             ],
             [
              0.8888888888888888,
              "#fdca26"
             ],
             [
              1,
              "#f0f921"
             ]
            ],
            "type": "histogram2dcontour"
           }
          ],
          "mesh3d": [
           {
            "colorbar": {
             "outlinewidth": 0,
             "ticks": ""
            },
            "type": "mesh3d"
           }
          ],
          "parcoords": [
           {
            "line": {
             "colorbar": {
              "outlinewidth": 0,
              "ticks": ""
             }
            },
            "type": "parcoords"
           }
          ],
          "pie": [
           {
            "automargin": true,
            "type": "pie"
           }
          ],
          "scatter": [
           {
            "marker": {
             "colorbar": {
              "outlinewidth": 0,
              "ticks": ""
             }
            },
            "type": "scatter"
           }
          ],
          "scatter3d": [
           {
            "line": {
             "colorbar": {
              "outlinewidth": 0,
              "ticks": ""
             }
            },
            "marker": {
             "colorbar": {
              "outlinewidth": 0,
              "ticks": ""
             }
            },
            "type": "scatter3d"
           }
          ],
          "scattercarpet": [
           {
            "marker": {
             "colorbar": {
              "outlinewidth": 0,
              "ticks": ""
             }
            },
            "type": "scattercarpet"
           }
          ],
          "scattergeo": [
           {
            "marker": {
             "colorbar": {
              "outlinewidth": 0,
              "ticks": ""
             }
            },
            "type": "scattergeo"
           }
          ],
          "scattergl": [
           {
            "marker": {
             "colorbar": {
              "outlinewidth": 0,
              "ticks": ""
             }
            },
            "type": "scattergl"
           }
          ],
          "scattermapbox": [
           {
            "marker": {
             "colorbar": {
              "outlinewidth": 0,
              "ticks": ""
             }
            },
            "type": "scattermapbox"
           }
          ],
          "scatterpolar": [
           {
            "marker": {
             "colorbar": {
              "outlinewidth": 0,
              "ticks": ""
             }
            },
            "type": "scatterpolar"
           }
          ],
          "scatterpolargl": [
           {
            "marker": {
             "colorbar": {
              "outlinewidth": 0,
              "ticks": ""
             }
            },
            "type": "scatterpolargl"
           }
          ],
          "scatterternary": [
           {
            "marker": {
             "colorbar": {
              "outlinewidth": 0,
              "ticks": ""
             }
            },
            "type": "scatterternary"
           }
          ],
          "surface": [
           {
            "colorbar": {
             "outlinewidth": 0,
             "ticks": ""
            },
            "colorscale": [
             [
              0,
              "#0d0887"
             ],
             [
              0.1111111111111111,
              "#46039f"
             ],
             [
              0.2222222222222222,
              "#7201a8"
             ],
             [
              0.3333333333333333,
              "#9c179e"
             ],
             [
              0.4444444444444444,
              "#bd3786"
             ],
             [
              0.5555555555555556,
              "#d8576b"
             ],
             [
              0.6666666666666666,
              "#ed7953"
             ],
             [
              0.7777777777777778,
              "#fb9f3a"
             ],
             [
              0.8888888888888888,
              "#fdca26"
             ],
             [
              1,
              "#f0f921"
             ]
            ],
            "type": "surface"
           }
          ],
          "table": [
           {
            "cells": {
             "fill": {
              "color": "#EBF0F8"
             },
             "line": {
              "color": "white"
             }
            },
            "header": {
             "fill": {
              "color": "#C8D4E3"
             },
             "line": {
              "color": "white"
             }
            },
            "type": "table"
           }
          ]
         },
         "layout": {
          "annotationdefaults": {
           "arrowcolor": "#2a3f5f",
           "arrowhead": 0,
           "arrowwidth": 1
          },
          "coloraxis": {
           "colorbar": {
            "outlinewidth": 0,
            "ticks": ""
           }
          },
          "colorscale": {
           "diverging": [
            [
             0,
             "#8e0152"
            ],
            [
             0.1,
             "#c51b7d"
            ],
            [
             0.2,
             "#de77ae"
            ],
            [
             0.3,
             "#f1b6da"
            ],
            [
             0.4,
             "#fde0ef"
            ],
            [
             0.5,
             "#f7f7f7"
            ],
            [
             0.6,
             "#e6f5d0"
            ],
            [
             0.7,
             "#b8e186"
            ],
            [
             0.8,
             "#7fbc41"
            ],
            [
             0.9,
             "#4d9221"
            ],
            [
             1,
             "#276419"
            ]
           ],
           "sequential": [
            [
             0,
             "#0d0887"
            ],
            [
             0.1111111111111111,
             "#46039f"
            ],
            [
             0.2222222222222222,
             "#7201a8"
            ],
            [
             0.3333333333333333,
             "#9c179e"
            ],
            [
             0.4444444444444444,
             "#bd3786"
            ],
            [
             0.5555555555555556,
             "#d8576b"
            ],
            [
             0.6666666666666666,
             "#ed7953"
            ],
            [
             0.7777777777777778,
             "#fb9f3a"
            ],
            [
             0.8888888888888888,
             "#fdca26"
            ],
            [
             1,
             "#f0f921"
            ]
           ],
           "sequentialminus": [
            [
             0,
             "#0d0887"
            ],
            [
             0.1111111111111111,
             "#46039f"
            ],
            [
             0.2222222222222222,
             "#7201a8"
            ],
            [
             0.3333333333333333,
             "#9c179e"
            ],
            [
             0.4444444444444444,
             "#bd3786"
            ],
            [
             0.5555555555555556,
             "#d8576b"
            ],
            [
             0.6666666666666666,
             "#ed7953"
            ],
            [
             0.7777777777777778,
             "#fb9f3a"
            ],
            [
             0.8888888888888888,
             "#fdca26"
            ],
            [
             1,
             "#f0f921"
            ]
           ]
          },
          "colorway": [
           "#636efa",
           "#EF553B",
           "#00cc96",
           "#ab63fa",
           "#FFA15A",
           "#19d3f3",
           "#FF6692",
           "#B6E880",
           "#FF97FF",
           "#FECB52"
          ],
          "font": {
           "color": "#2a3f5f"
          },
          "geo": {
           "bgcolor": "white",
           "lakecolor": "white",
           "landcolor": "#E5ECF6",
           "showlakes": true,
           "showland": true,
           "subunitcolor": "white"
          },
          "hoverlabel": {
           "align": "left"
          },
          "hovermode": "closest",
          "mapbox": {
           "style": "light"
          },
          "paper_bgcolor": "white",
          "plot_bgcolor": "#E5ECF6",
          "polar": {
           "angularaxis": {
            "gridcolor": "white",
            "linecolor": "white",
            "ticks": ""
           },
           "bgcolor": "#E5ECF6",
           "radialaxis": {
            "gridcolor": "white",
            "linecolor": "white",
            "ticks": ""
           }
          },
          "scene": {
           "xaxis": {
            "backgroundcolor": "#E5ECF6",
            "gridcolor": "white",
            "gridwidth": 2,
            "linecolor": "white",
            "showbackground": true,
            "ticks": "",
            "zerolinecolor": "white"
           },
           "yaxis": {
            "backgroundcolor": "#E5ECF6",
            "gridcolor": "white",
            "gridwidth": 2,
            "linecolor": "white",
            "showbackground": true,
            "ticks": "",
            "zerolinecolor": "white"
           },
           "zaxis": {
            "backgroundcolor": "#E5ECF6",
            "gridcolor": "white",
            "gridwidth": 2,
            "linecolor": "white",
            "showbackground": true,
            "ticks": "",
            "zerolinecolor": "white"
           }
          },
          "shapedefaults": {
           "line": {
            "color": "#2a3f5f"
           }
          },
          "ternary": {
           "aaxis": {
            "gridcolor": "white",
            "linecolor": "white",
            "ticks": ""
           },
           "baxis": {
            "gridcolor": "white",
            "linecolor": "white",
            "ticks": ""
           },
           "bgcolor": "#E5ECF6",
           "caxis": {
            "gridcolor": "white",
            "linecolor": "white",
            "ticks": ""
           }
          },
          "title": {
           "x": 0.05
          },
          "xaxis": {
           "automargin": true,
           "gridcolor": "white",
           "linecolor": "white",
           "ticks": "",
           "title": {
            "standoff": 15
           },
           "zerolinecolor": "white",
           "zerolinewidth": 2
          },
          "yaxis": {
           "automargin": true,
           "gridcolor": "white",
           "linecolor": "white",
           "ticks": "",
           "title": {
            "standoff": 15
           },
           "zerolinecolor": "white",
           "zerolinewidth": 2
          }
         }
        }
       }
      },
      "text/html": [
       "<div>\n",
       "        \n",
       "        \n",
       "            <div id=\"0a4e3fc7-0c7a-499b-abb7-dfba8ad2e3e9\" class=\"plotly-graph-div\" style=\"height:525px; width:100%;\"></div>\n",
       "            <script type=\"text/javascript\">\n",
       "                require([\"plotly\"], function(Plotly) {\n",
       "                    window.PLOTLYENV=window.PLOTLYENV || {};\n",
       "                    \n",
       "                if (document.getElementById(\"0a4e3fc7-0c7a-499b-abb7-dfba8ad2e3e9\")) {\n",
       "                    Plotly.newPlot(\n",
       "                        '0a4e3fc7-0c7a-499b-abb7-dfba8ad2e3e9',\n",
       "                        [{\"hovertemplate\": \"Fast Food Restaurant=%{x}<br>Gun Shop=%{y}<br>Liquor Store=%{z}<br>Cluster Labels=%{marker.color}<extra></extra>\", \"legendgroup\": \"\", \"marker\": {\"color\": [3, 3, 3, 2, 3, 2, 2, 1, 2, 2, 2, 2, 2, 2, 2, 0, 2, 2, 2, 1, 2, 1, 2, 1, 2, 2, 2, 2, 1, 2, 1, 1, 1, 1, 1, 2, 2, 0, 2, 2, 0, 2, 2, 2, 1, 0, 1, 0, 2, 2, 0, 2, 2, 2, 2, 2, 1, 0, 0, 2, 0, 0, 2, 2, 2, 0, 2, 2, 1, 2, 2, 2, 0, 1, 0, 0, 2, 2, 1, 2, 0, 2, 0, 0, 0, 2, 1, 0, 2, 2, 1, 2, 0, 2, 2, 2, 0, 0, 1, 2, 0, 0, 0, 2, 2, 2, 0, 0, 2, 0, 0, 0, 0, 2, 0, 0, 0, 2, 0, 0, 0, 0, 0, 2, 0, 0, 0, 0, 0, 0, 0, 0, 0, 0, 0, 0, 0, 0, 0, 0, 0, 0, 0, 0, 0, 0, 4, 0, 4, 0, 0, 0, 0, 0, 0, 0, 2, 0, 0, 0, 2, 2, 2, 0, 2, 0, 2, 1, 2, 2, 0, 0, 0, 2, 0, 2], \"coloraxis\": \"coloraxis\", \"symbol\": \"circle\"}, \"mode\": \"markers\", \"name\": \"\", \"scene\": \"scene\", \"showlegend\": false, \"type\": \"scatter3d\", \"x\": [35, 35, 33, 9, 32, 9, 4, 17, 7, 9, 8, 7, 6, 6, 10, 3, 10, 6, 10, 15, 9, 15, 10, 16, 7, 9, 8, 13, 13, 13, 15, 9, 10, 9, 10, 7, 5, 3, 5, 4, 3, 7, 12, 6, 9, 3, 11, 4, 9, 14, 3, 4, 9, 10, 5, 12, 12, 5, 5, 10, 3, 4, 6, 10, 11, 5, 7, 7, 11, 6, 10, 6, 4, 10, 4, 3, 11, 5, 12, 11, 1, 6, 4, 4, 2, 7, 7, 4, 7, 8, 11, 9, 4, 7, 17, 10, 1, 0, 13, 7, 3, 1, 2, 13, 7, 9, 5, 1, 6, 0, 0, 2, 2, 8, 1, 2, 3, 5, 3, 4, 3, 1, 0, 10, 2, 3, 0, 0, 0, 0, 0, 3, 1, 1, 4, 2, 1, 2, 1, 1, 1, 4, 2, 2, 1, 3, 3, 3, 5, 0, 1, 5, 0, 1, 3, 2, 7, 0, 4, 3, 9, 8, 8, 2, 13, 0, 7, 8, 6, 9, 1, 3, 1, 6, 2, 17], \"y\": [0, 0, 0, 0, 0, 0, 0, 0, 0, 0, 0, 0, 0, 0, 0, 0, 0, 0, 0, 0, 0, 0, 0, 0, 0, 0, 0, 0, 0, 0, 0, 0, 0, 0, 0, 0, 0, 0, 0, 0, 0, 0, 0, 0, 0, 0, 0, 0, 0, 0, 0, 0, 0, 0, 0, 0, 0, 0, 0, 0, 0, 0, 0, 0, 0, 0, 0, 0, 0, 0, 0, 0, 0, 0, 0, 0, 0, 0, 0, 0, 0, 0, 0, 0, 0, 0, 0, 0, 0, 0, 0, 0, 0, 0, 0, 0, 0, 0, 0, 0, 0, 0, 0, 0, 0, 0, 0, 0, 0, 0, 0, 0, 0, 0, 0, 0, 0, 0, 0, 0, 0, 0, 0, 0, 0, 0, 0, 0, 0, 0, 0, 0, 0, 0, 0, 0, 0, 0, 0, 0, 0, 0, 0, 0, 0, 0, 20, 0, 20, 0, 0, 0, 0, 0, 0, 0, 0, 0, 0, 0, 0, 0, 0, 0, 0, 0, 0, 0, 0, 0, 0, 0, 0, 0, 0, 0], \"z\": [6, 0, 10, 6, 4, 6, 6, 8, 4, 8, 4, 4, 4, 4, 2, 0, 4, 4, 8, 10, 4, 8, 6, 8, 8, 2, 2, 4, 10, 4, 8, 14, 12, 14, 14, 0, 8, 4, 4, 6, 4, 6, 2, 8, 16, 4, 16, 0, 4, 4, 0, 6, 6, 6, 6, 4, 14, 0, 0, 0, 2, 0, 2, 6, 2, 0, 6, 0, 18, 2, 6, 2, 0, 16, 0, 2, 0, 4, 10, 6, 6, 2, 2, 0, 0, 2, 12, 0, 2, 2, 14, 4, 2, 8, 2, 4, 2, 6, 8, 0, 2, 0, 4, 6, 6, 0, 0, 4, 4, 0, 0, 4, 2, 4, 2, 2, 2, 6, 2, 2, 2, 0, 0, 4, 0, 0, 0, 0, 2, 0, 2, 0, 0, 0, 2, 2, 2, 0, 0, 0, 0, 2, 4, 0, 0, 0, 0, 4, 0, 0, 0, 2, 0, 0, 4, 0, 4, 0, 0, 6, 0, 8, 2, 0, 4, 0, 6, 18, 6, 2, 2, 2, 6, 4, 0, 2]}],\n",
       "                        {\"coloraxis\": {\"colorbar\": {\"title\": {\"text\": \"Cluster Labels\"}}, \"colorscale\": [[0.0, \"#0d0887\"], [0.1111111111111111, \"#46039f\"], [0.2222222222222222, \"#7201a8\"], [0.3333333333333333, \"#9c179e\"], [0.4444444444444444, \"#bd3786\"], [0.5555555555555556, \"#d8576b\"], [0.6666666666666666, \"#ed7953\"], [0.7777777777777778, \"#fb9f3a\"], [0.8888888888888888, \"#fdca26\"], [1.0, \"#f0f921\"]]}, \"legend\": {\"tracegroupgap\": 0}, \"margin\": {\"t\": 60}, \"scene\": {\"domain\": {\"x\": [0.0, 1.0], \"y\": [0.0, 1.0]}, \"xaxis\": {\"title\": {\"text\": \"Fast Food Restaurant\"}}, \"yaxis\": {\"title\": {\"text\": \"Gun Shop\"}}, \"zaxis\": {\"title\": {\"text\": \"Liquor Store\"}}}, \"template\": {\"data\": {\"bar\": [{\"error_x\": {\"color\": \"#2a3f5f\"}, \"error_y\": {\"color\": \"#2a3f5f\"}, \"marker\": {\"line\": {\"color\": \"#E5ECF6\", \"width\": 0.5}}, \"type\": \"bar\"}], \"barpolar\": [{\"marker\": {\"line\": {\"color\": \"#E5ECF6\", \"width\": 0.5}}, \"type\": \"barpolar\"}], \"carpet\": [{\"aaxis\": {\"endlinecolor\": \"#2a3f5f\", \"gridcolor\": \"white\", \"linecolor\": \"white\", \"minorgridcolor\": \"white\", \"startlinecolor\": \"#2a3f5f\"}, \"baxis\": {\"endlinecolor\": \"#2a3f5f\", \"gridcolor\": \"white\", \"linecolor\": \"white\", \"minorgridcolor\": \"white\", \"startlinecolor\": \"#2a3f5f\"}, \"type\": \"carpet\"}], \"choropleth\": [{\"colorbar\": {\"outlinewidth\": 0, \"ticks\": \"\"}, \"type\": \"choropleth\"}], \"contour\": [{\"colorbar\": {\"outlinewidth\": 0, \"ticks\": \"\"}, \"colorscale\": [[0.0, \"#0d0887\"], [0.1111111111111111, \"#46039f\"], [0.2222222222222222, \"#7201a8\"], [0.3333333333333333, \"#9c179e\"], [0.4444444444444444, \"#bd3786\"], [0.5555555555555556, \"#d8576b\"], [0.6666666666666666, \"#ed7953\"], [0.7777777777777778, \"#fb9f3a\"], [0.8888888888888888, \"#fdca26\"], [1.0, \"#f0f921\"]], \"type\": \"contour\"}], \"contourcarpet\": [{\"colorbar\": {\"outlinewidth\": 0, \"ticks\": \"\"}, \"type\": \"contourcarpet\"}], \"heatmap\": [{\"colorbar\": {\"outlinewidth\": 0, \"ticks\": \"\"}, \"colorscale\": [[0.0, \"#0d0887\"], [0.1111111111111111, \"#46039f\"], [0.2222222222222222, \"#7201a8\"], [0.3333333333333333, \"#9c179e\"], [0.4444444444444444, \"#bd3786\"], [0.5555555555555556, \"#d8576b\"], [0.6666666666666666, \"#ed7953\"], [0.7777777777777778, \"#fb9f3a\"], [0.8888888888888888, \"#fdca26\"], [1.0, \"#f0f921\"]], \"type\": \"heatmap\"}], \"heatmapgl\": [{\"colorbar\": {\"outlinewidth\": 0, \"ticks\": \"\"}, \"colorscale\": [[0.0, \"#0d0887\"], [0.1111111111111111, \"#46039f\"], [0.2222222222222222, \"#7201a8\"], [0.3333333333333333, \"#9c179e\"], [0.4444444444444444, \"#bd3786\"], [0.5555555555555556, \"#d8576b\"], [0.6666666666666666, \"#ed7953\"], [0.7777777777777778, \"#fb9f3a\"], [0.8888888888888888, \"#fdca26\"], [1.0, \"#f0f921\"]], \"type\": \"heatmapgl\"}], \"histogram\": [{\"marker\": {\"colorbar\": {\"outlinewidth\": 0, \"ticks\": \"\"}}, \"type\": \"histogram\"}], \"histogram2d\": [{\"colorbar\": {\"outlinewidth\": 0, \"ticks\": \"\"}, \"colorscale\": [[0.0, \"#0d0887\"], [0.1111111111111111, \"#46039f\"], [0.2222222222222222, \"#7201a8\"], [0.3333333333333333, \"#9c179e\"], [0.4444444444444444, \"#bd3786\"], [0.5555555555555556, \"#d8576b\"], [0.6666666666666666, \"#ed7953\"], [0.7777777777777778, \"#fb9f3a\"], [0.8888888888888888, \"#fdca26\"], [1.0, \"#f0f921\"]], \"type\": \"histogram2d\"}], \"histogram2dcontour\": [{\"colorbar\": {\"outlinewidth\": 0, \"ticks\": \"\"}, \"colorscale\": [[0.0, \"#0d0887\"], [0.1111111111111111, \"#46039f\"], [0.2222222222222222, \"#7201a8\"], [0.3333333333333333, \"#9c179e\"], [0.4444444444444444, \"#bd3786\"], [0.5555555555555556, \"#d8576b\"], [0.6666666666666666, \"#ed7953\"], [0.7777777777777778, \"#fb9f3a\"], [0.8888888888888888, \"#fdca26\"], [1.0, \"#f0f921\"]], \"type\": \"histogram2dcontour\"}], \"mesh3d\": [{\"colorbar\": {\"outlinewidth\": 0, \"ticks\": \"\"}, \"type\": \"mesh3d\"}], \"parcoords\": [{\"line\": {\"colorbar\": {\"outlinewidth\": 0, \"ticks\": \"\"}}, \"type\": \"parcoords\"}], \"pie\": [{\"automargin\": true, \"type\": \"pie\"}], \"scatter\": [{\"marker\": {\"colorbar\": {\"outlinewidth\": 0, \"ticks\": \"\"}}, \"type\": \"scatter\"}], \"scatter3d\": [{\"line\": {\"colorbar\": {\"outlinewidth\": 0, \"ticks\": \"\"}}, \"marker\": {\"colorbar\": {\"outlinewidth\": 0, \"ticks\": \"\"}}, \"type\": \"scatter3d\"}], \"scattercarpet\": [{\"marker\": {\"colorbar\": {\"outlinewidth\": 0, \"ticks\": \"\"}}, \"type\": \"scattercarpet\"}], \"scattergeo\": [{\"marker\": {\"colorbar\": {\"outlinewidth\": 0, \"ticks\": \"\"}}, \"type\": \"scattergeo\"}], \"scattergl\": [{\"marker\": {\"colorbar\": {\"outlinewidth\": 0, \"ticks\": \"\"}}, \"type\": \"scattergl\"}], \"scattermapbox\": [{\"marker\": {\"colorbar\": {\"outlinewidth\": 0, \"ticks\": \"\"}}, \"type\": \"scattermapbox\"}], \"scatterpolar\": [{\"marker\": {\"colorbar\": {\"outlinewidth\": 0, \"ticks\": \"\"}}, \"type\": \"scatterpolar\"}], \"scatterpolargl\": [{\"marker\": {\"colorbar\": {\"outlinewidth\": 0, \"ticks\": \"\"}}, \"type\": \"scatterpolargl\"}], \"scatterternary\": [{\"marker\": {\"colorbar\": {\"outlinewidth\": 0, \"ticks\": \"\"}}, \"type\": \"scatterternary\"}], \"surface\": [{\"colorbar\": {\"outlinewidth\": 0, \"ticks\": \"\"}, \"colorscale\": [[0.0, \"#0d0887\"], [0.1111111111111111, \"#46039f\"], [0.2222222222222222, \"#7201a8\"], [0.3333333333333333, \"#9c179e\"], [0.4444444444444444, \"#bd3786\"], [0.5555555555555556, \"#d8576b\"], [0.6666666666666666, \"#ed7953\"], [0.7777777777777778, \"#fb9f3a\"], [0.8888888888888888, \"#fdca26\"], [1.0, \"#f0f921\"]], \"type\": \"surface\"}], \"table\": [{\"cells\": {\"fill\": {\"color\": \"#EBF0F8\"}, \"line\": {\"color\": \"white\"}}, \"header\": {\"fill\": {\"color\": \"#C8D4E3\"}, \"line\": {\"color\": \"white\"}}, \"type\": \"table\"}]}, \"layout\": {\"annotationdefaults\": {\"arrowcolor\": \"#2a3f5f\", \"arrowhead\": 0, \"arrowwidth\": 1}, \"coloraxis\": {\"colorbar\": {\"outlinewidth\": 0, \"ticks\": \"\"}}, \"colorscale\": {\"diverging\": [[0, \"#8e0152\"], [0.1, \"#c51b7d\"], [0.2, \"#de77ae\"], [0.3, \"#f1b6da\"], [0.4, \"#fde0ef\"], [0.5, \"#f7f7f7\"], [0.6, \"#e6f5d0\"], [0.7, \"#b8e186\"], [0.8, \"#7fbc41\"], [0.9, \"#4d9221\"], [1, \"#276419\"]], \"sequential\": [[0.0, \"#0d0887\"], [0.1111111111111111, \"#46039f\"], [0.2222222222222222, \"#7201a8\"], [0.3333333333333333, \"#9c179e\"], [0.4444444444444444, \"#bd3786\"], [0.5555555555555556, \"#d8576b\"], [0.6666666666666666, \"#ed7953\"], [0.7777777777777778, \"#fb9f3a\"], [0.8888888888888888, \"#fdca26\"], [1.0, \"#f0f921\"]], \"sequentialminus\": [[0.0, \"#0d0887\"], [0.1111111111111111, \"#46039f\"], [0.2222222222222222, \"#7201a8\"], [0.3333333333333333, \"#9c179e\"], [0.4444444444444444, \"#bd3786\"], [0.5555555555555556, \"#d8576b\"], [0.6666666666666666, \"#ed7953\"], [0.7777777777777778, \"#fb9f3a\"], [0.8888888888888888, \"#fdca26\"], [1.0, \"#f0f921\"]]}, \"colorway\": [\"#636efa\", \"#EF553B\", \"#00cc96\", \"#ab63fa\", \"#FFA15A\", \"#19d3f3\", \"#FF6692\", \"#B6E880\", \"#FF97FF\", \"#FECB52\"], \"font\": {\"color\": \"#2a3f5f\"}, \"geo\": {\"bgcolor\": \"white\", \"lakecolor\": \"white\", \"landcolor\": \"#E5ECF6\", \"showlakes\": true, \"showland\": true, \"subunitcolor\": \"white\"}, \"hoverlabel\": {\"align\": \"left\"}, \"hovermode\": \"closest\", \"mapbox\": {\"style\": \"light\"}, \"paper_bgcolor\": \"white\", \"plot_bgcolor\": \"#E5ECF6\", \"polar\": {\"angularaxis\": {\"gridcolor\": \"white\", \"linecolor\": \"white\", \"ticks\": \"\"}, \"bgcolor\": \"#E5ECF6\", \"radialaxis\": {\"gridcolor\": \"white\", \"linecolor\": \"white\", \"ticks\": \"\"}}, \"scene\": {\"xaxis\": {\"backgroundcolor\": \"#E5ECF6\", \"gridcolor\": \"white\", \"gridwidth\": 2, \"linecolor\": \"white\", \"showbackground\": true, \"ticks\": \"\", \"zerolinecolor\": \"white\"}, \"yaxis\": {\"backgroundcolor\": \"#E5ECF6\", \"gridcolor\": \"white\", \"gridwidth\": 2, \"linecolor\": \"white\", \"showbackground\": true, \"ticks\": \"\", \"zerolinecolor\": \"white\"}, \"zaxis\": {\"backgroundcolor\": \"#E5ECF6\", \"gridcolor\": \"white\", \"gridwidth\": 2, \"linecolor\": \"white\", \"showbackground\": true, \"ticks\": \"\", \"zerolinecolor\": \"white\"}}, \"shapedefaults\": {\"line\": {\"color\": \"#2a3f5f\"}}, \"ternary\": {\"aaxis\": {\"gridcolor\": \"white\", \"linecolor\": \"white\", \"ticks\": \"\"}, \"baxis\": {\"gridcolor\": \"white\", \"linecolor\": \"white\", \"ticks\": \"\"}, \"bgcolor\": \"#E5ECF6\", \"caxis\": {\"gridcolor\": \"white\", \"linecolor\": \"white\", \"ticks\": \"\"}}, \"title\": {\"x\": 0.05}, \"xaxis\": {\"automargin\": true, \"gridcolor\": \"white\", \"linecolor\": \"white\", \"ticks\": \"\", \"title\": {\"standoff\": 15}, \"zerolinecolor\": \"white\", \"zerolinewidth\": 2}, \"yaxis\": {\"automargin\": true, \"gridcolor\": \"white\", \"linecolor\": \"white\", \"ticks\": \"\", \"title\": {\"standoff\": 15}, \"zerolinecolor\": \"white\", \"zerolinewidth\": 2}}}},\n",
       "                        {\"responsive\": true}\n",
       "                    ).then(function(){\n",
       "                            \n",
       "var gd = document.getElementById('0a4e3fc7-0c7a-499b-abb7-dfba8ad2e3e9');\n",
       "var x = new MutationObserver(function (mutations, observer) {{\n",
       "        var display = window.getComputedStyle(gd).display;\n",
       "        if (!display || display === 'none') {{\n",
       "            console.log([gd, 'removed!']);\n",
       "            Plotly.purge(gd);\n",
       "            observer.disconnect();\n",
       "        }}\n",
       "}});\n",
       "\n",
       "// Listen for the removal of the full notebook cells\n",
       "var notebookContainer = gd.closest('#notebook-container');\n",
       "if (notebookContainer) {{\n",
       "    x.observe(notebookContainer, {childList: true});\n",
       "}}\n",
       "\n",
       "// Listen for the clearing of the current output cell\n",
       "var outputEl = gd.closest('.output');\n",
       "if (outputEl) {{\n",
       "    x.observe(outputEl, {childList: true});\n",
       "}}\n",
       "\n",
       "                        })\n",
       "                };\n",
       "                });\n",
       "            </script>\n",
       "        </div>"
      ]
     },
     "metadata": {},
     "output_type": "display_data"
    }
   ],
   "source": [
    "df = dfFinal\n",
    "fig = px.scatter_3d(df, x='Fast Food Restaurant', y='Gun Shop', z='Liquor Store',\n",
    "              color='Cluster Labels')\n",
    "fig.show()"
   ]
  },
  {
   "cell_type": "markdown",
   "metadata": {},
   "source": [
    "We see that the datapoints are clearly clustered based on their similarities.\n",
    "Turning the graph and hovering over and zooming in to the datapoints we can disinguish the following clusters:\n",
    "> * Cluster 0: Low number of all 'bad locations'\n",
    "> * Cluster 1: Some fastfood restaurants but high number of liquor stores, no gun shops\n",
    "> * Cluster 2: Some fastfood restaurants and some liquor stores, no gun shops\n",
    "> * Cluster 3: High number of fastfoodrestaurants, some liquor stores, no gun shops\n",
    "> * Cluster 4: Low number of fastfood restaurants and no liquor stores and high number of gun shops, "
   ]
  },
  {
   "cell_type": "code",
   "execution_count": 75,
   "metadata": {},
   "outputs": [
    {
     "data": {
      "text/html": [
       "<div>\n",
       "<style scoped>\n",
       "    .dataframe tbody tr th:only-of-type {\n",
       "        vertical-align: middle;\n",
       "    }\n",
       "\n",
       "    .dataframe tbody tr th {\n",
       "        vertical-align: top;\n",
       "    }\n",
       "\n",
       "    .dataframe thead th {\n",
       "        text-align: right;\n",
       "    }\n",
       "</style>\n",
       "<table border=\"1\" class=\"dataframe\">\n",
       "  <thead>\n",
       "    <tr style=\"text-align: right;\">\n",
       "      <th></th>\n",
       "      <th>Name</th>\n",
       "      <th>Latitude</th>\n",
       "      <th>Longitude</th>\n",
       "      <th>Cluster Labels</th>\n",
       "      <th>Fast Food Restaurant</th>\n",
       "      <th>Gun Shop</th>\n",
       "      <th>Liquor Store</th>\n",
       "    </tr>\n",
       "  </thead>\n",
       "  <tbody>\n",
       "    <tr>\n",
       "      <td>0</td>\n",
       "      <td>Jones College Prep</td>\n",
       "      <td>41.873561</td>\n",
       "      <td>-87.627558</td>\n",
       "      <td>3</td>\n",
       "      <td>35</td>\n",
       "      <td>0</td>\n",
       "      <td>6</td>\n",
       "    </tr>\n",
       "    <tr>\n",
       "      <td>1</td>\n",
       "      <td>Innovations High School</td>\n",
       "      <td>41.882640</td>\n",
       "      <td>-87.626343</td>\n",
       "      <td>3</td>\n",
       "      <td>35</td>\n",
       "      <td>0</td>\n",
       "      <td>0</td>\n",
       "    </tr>\n",
       "    <tr>\n",
       "      <td>2</td>\n",
       "      <td>The British International School of Chicago, S...</td>\n",
       "      <td>41.870491</td>\n",
       "      <td>-87.632715</td>\n",
       "      <td>3</td>\n",
       "      <td>33</td>\n",
       "      <td>0</td>\n",
       "      <td>10</td>\n",
       "    </tr>\n",
       "    <tr>\n",
       "      <td>3</td>\n",
       "      <td>The Dance Center (DE)</td>\n",
       "      <td>41.865597</td>\n",
       "      <td>-87.624243</td>\n",
       "      <td>2</td>\n",
       "      <td>9</td>\n",
       "      <td>0</td>\n",
       "      <td>6</td>\n",
       "    </tr>\n",
       "    <tr>\n",
       "      <td>4</td>\n",
       "      <td>Harold Washington College</td>\n",
       "      <td>41.886126</td>\n",
       "      <td>-87.626868</td>\n",
       "      <td>3</td>\n",
       "      <td>32</td>\n",
       "      <td>0</td>\n",
       "      <td>4</td>\n",
       "    </tr>\n",
       "    <tr>\n",
       "      <td>...</td>\n",
       "      <td>...</td>\n",
       "      <td>...</td>\n",
       "      <td>...</td>\n",
       "      <td>...</td>\n",
       "      <td>...</td>\n",
       "      <td>...</td>\n",
       "      <td>...</td>\n",
       "    </tr>\n",
       "    <tr>\n",
       "      <td>171</td>\n",
       "      <td>The Harold G. Baer Natatorium (Pool)</td>\n",
       "      <td>42.019987</td>\n",
       "      <td>-87.906867</td>\n",
       "      <td>0</td>\n",
       "      <td>3</td>\n",
       "      <td>0</td>\n",
       "      <td>2</td>\n",
       "    </tr>\n",
       "    <tr>\n",
       "      <td>172</td>\n",
       "      <td>Maine West High School Campus</td>\n",
       "      <td>42.024354</td>\n",
       "      <td>-87.878265</td>\n",
       "      <td>0</td>\n",
       "      <td>1</td>\n",
       "      <td>0</td>\n",
       "      <td>6</td>\n",
       "    </tr>\n",
       "    <tr>\n",
       "      <td>173</td>\n",
       "      <td>youth connection charter school</td>\n",
       "      <td>41.751500</td>\n",
       "      <td>-87.641909</td>\n",
       "      <td>2</td>\n",
       "      <td>6</td>\n",
       "      <td>0</td>\n",
       "      <td>4</td>\n",
       "    </tr>\n",
       "    <tr>\n",
       "      <td>174</td>\n",
       "      <td>UNO Soccer Academy High School</td>\n",
       "      <td>41.802036</td>\n",
       "      <td>-87.710527</td>\n",
       "      <td>0</td>\n",
       "      <td>2</td>\n",
       "      <td>0</td>\n",
       "      <td>0</td>\n",
       "    </tr>\n",
       "    <tr>\n",
       "      <td>175</td>\n",
       "      <td>M240 In SCHOOL SUSPENSION</td>\n",
       "      <td>41.846380</td>\n",
       "      <td>-87.800129</td>\n",
       "      <td>2</td>\n",
       "      <td>17</td>\n",
       "      <td>0</td>\n",
       "      <td>2</td>\n",
       "    </tr>\n",
       "  </tbody>\n",
       "</table>\n",
       "<p>176 rows × 7 columns</p>\n",
       "</div>"
      ],
      "text/plain": [
       "                                                  Name   Latitude  Longitude  \\\n",
       "0                                   Jones College Prep  41.873561 -87.627558   \n",
       "1                              Innovations High School  41.882640 -87.626343   \n",
       "2    The British International School of Chicago, S...  41.870491 -87.632715   \n",
       "3                                The Dance Center (DE)  41.865597 -87.624243   \n",
       "4                            Harold Washington College  41.886126 -87.626868   \n",
       "..                                                 ...        ...        ...   \n",
       "171               The Harold G. Baer Natatorium (Pool)  42.019987 -87.906867   \n",
       "172                      Maine West High School Campus  42.024354 -87.878265   \n",
       "173                    youth connection charter school  41.751500 -87.641909   \n",
       "174                     UNO Soccer Academy High School  41.802036 -87.710527   \n",
       "175                          M240 In SCHOOL SUSPENSION  41.846380 -87.800129   \n",
       "\n",
       "     Cluster Labels  Fast Food Restaurant  Gun Shop  Liquor Store  \n",
       "0                 3                    35         0             6  \n",
       "1                 3                    35         0             0  \n",
       "2                 3                    33         0            10  \n",
       "3                 2                     9         0             6  \n",
       "4                 3                    32         0             4  \n",
       "..              ...                   ...       ...           ...  \n",
       "171               0                     3         0             2  \n",
       "172               0                     1         0             6  \n",
       "173               2                     6         0             4  \n",
       "174               0                     2         0             0  \n",
       "175               2                    17         0             2  \n",
       "\n",
       "[176 rows x 7 columns]"
      ]
     },
     "execution_count": 75,
     "metadata": {},
     "output_type": "execute_result"
    }
   ],
   "source": [
    "dfFinal"
   ]
  },
  {
   "cell_type": "markdown",
   "metadata": {},
   "source": [
    "#### Let's plot the results on a map"
   ]
  },
  {
   "cell_type": "code",
   "execution_count": 76,
   "metadata": {},
   "outputs": [
    {
     "data": {
      "text/html": [
       "<div style=\"width:100%;\"><div style=\"position:relative;width:100%;height:0;padding-bottom:60%;\"><iframe src=\"about:blank\" style=\"position:absolute;width:100%;height:100%;left:0;top:0;border:none !important;\" data-html=PCFET0NUWVBFIGh0bWw+CjxoZWFkPiAgICAKICAgIDxtZXRhIGh0dHAtZXF1aXY9ImNvbnRlbnQtdHlwZSIgY29udGVudD0idGV4dC9odG1sOyBjaGFyc2V0PVVURi04IiAvPgogICAgPHNjcmlwdD5MX1BSRUZFUl9DQU5WQVMgPSBmYWxzZTsgTF9OT19UT1VDSCA9IGZhbHNlOyBMX0RJU0FCTEVfM0QgPSBmYWxzZTs8L3NjcmlwdD4KICAgIDxzY3JpcHQgc3JjPSJodHRwczovL2Nkbi5qc2RlbGl2ci5uZXQvbnBtL2xlYWZsZXRAMS4yLjAvZGlzdC9sZWFmbGV0LmpzIj48L3NjcmlwdD4KICAgIDxzY3JpcHQgc3JjPSJodHRwczovL2FqYXguZ29vZ2xlYXBpcy5jb20vYWpheC9saWJzL2pxdWVyeS8xLjExLjEvanF1ZXJ5Lm1pbi5qcyI+PC9zY3JpcHQ+CiAgICA8c2NyaXB0IHNyYz0iaHR0cHM6Ly9tYXhjZG4uYm9vdHN0cmFwY2RuLmNvbS9ib290c3RyYXAvMy4yLjAvanMvYm9vdHN0cmFwLm1pbi5qcyI+PC9zY3JpcHQ+CiAgICA8c2NyaXB0IHNyYz0iaHR0cHM6Ly9jZG5qcy5jbG91ZGZsYXJlLmNvbS9hamF4L2xpYnMvTGVhZmxldC5hd2Vzb21lLW1hcmtlcnMvMi4wLjIvbGVhZmxldC5hd2Vzb21lLW1hcmtlcnMuanMiPjwvc2NyaXB0PgogICAgPGxpbmsgcmVsPSJzdHlsZXNoZWV0IiBocmVmPSJodHRwczovL2Nkbi5qc2RlbGl2ci5uZXQvbnBtL2xlYWZsZXRAMS4yLjAvZGlzdC9sZWFmbGV0LmNzcyIvPgogICAgPGxpbmsgcmVsPSJzdHlsZXNoZWV0IiBocmVmPSJodHRwczovL21heGNkbi5ib290c3RyYXBjZG4uY29tL2Jvb3RzdHJhcC8zLjIuMC9jc3MvYm9vdHN0cmFwLm1pbi5jc3MiLz4KICAgIDxsaW5rIHJlbD0ic3R5bGVzaGVldCIgaHJlZj0iaHR0cHM6Ly9tYXhjZG4uYm9vdHN0cmFwY2RuLmNvbS9ib290c3RyYXAvMy4yLjAvY3NzL2Jvb3RzdHJhcC10aGVtZS5taW4uY3NzIi8+CiAgICA8bGluayByZWw9InN0eWxlc2hlZXQiIGhyZWY9Imh0dHBzOi8vbWF4Y2RuLmJvb3RzdHJhcGNkbi5jb20vZm9udC1hd2Vzb21lLzQuNi4zL2Nzcy9mb250LWF3ZXNvbWUubWluLmNzcyIvPgogICAgPGxpbmsgcmVsPSJzdHlsZXNoZWV0IiBocmVmPSJodHRwczovL2NkbmpzLmNsb3VkZmxhcmUuY29tL2FqYXgvbGlicy9MZWFmbGV0LmF3ZXNvbWUtbWFya2Vycy8yLjAuMi9sZWFmbGV0LmF3ZXNvbWUtbWFya2Vycy5jc3MiLz4KICAgIDxsaW5rIHJlbD0ic3R5bGVzaGVldCIgaHJlZj0iaHR0cHM6Ly9yYXdnaXQuY29tL3B5dGhvbi12aXN1YWxpemF0aW9uL2ZvbGl1bS9tYXN0ZXIvZm9saXVtL3RlbXBsYXRlcy9sZWFmbGV0LmF3ZXNvbWUucm90YXRlLmNzcyIvPgogICAgPHN0eWxlPmh0bWwsIGJvZHkge3dpZHRoOiAxMDAlO2hlaWdodDogMTAwJTttYXJnaW46IDA7cGFkZGluZzogMDt9PC9zdHlsZT4KICAgIDxzdHlsZT4jbWFwIHtwb3NpdGlvbjphYnNvbHV0ZTt0b3A6MDtib3R0b206MDtyaWdodDowO2xlZnQ6MDt9PC9zdHlsZT4KICAgIAogICAgICAgICAgICA8c3R5bGU+ICNtYXBfYjYxNzVmY2YxZTUzNDY2NmJjZjc4M2RiNDVjNDRjNzMgewogICAgICAgICAgICAgICAgcG9zaXRpb24gOiByZWxhdGl2ZTsKICAgICAgICAgICAgICAgIHdpZHRoIDogMTAwLjAlOwogICAgICAgICAgICAgICAgaGVpZ2h0OiAxMDAuMCU7CiAgICAgICAgICAgICAgICBsZWZ0OiAwLjAlOwogICAgICAgICAgICAgICAgdG9wOiAwLjAlOwogICAgICAgICAgICAgICAgfQogICAgICAgICAgICA8L3N0eWxlPgogICAgICAgIAo8L2hlYWQ+Cjxib2R5PiAgICAKICAgIAogICAgICAgICAgICA8ZGl2IGNsYXNzPSJmb2xpdW0tbWFwIiBpZD0ibWFwX2I2MTc1ZmNmMWU1MzQ2NjZiY2Y3ODNkYjQ1YzQ0YzczIiA+PC9kaXY+CiAgICAgICAgCjwvYm9keT4KPHNjcmlwdD4gICAgCiAgICAKCiAgICAgICAgICAgIAogICAgICAgICAgICAgICAgdmFyIGJvdW5kcyA9IG51bGw7CiAgICAgICAgICAgIAoKICAgICAgICAgICAgdmFyIG1hcF9iNjE3NWZjZjFlNTM0NjY2YmNmNzgzZGI0NWM0NGM3MyA9IEwubWFwKAogICAgICAgICAgICAgICAgICAgICAgICAgICAgICAgICAgJ21hcF9iNjE3NWZjZjFlNTM0NjY2YmNmNzgzZGI0NWM0NGM3MycsCiAgICAgICAgICAgICAgICAgICAgICAgICAgICAgICAgICB7Y2VudGVyOiBbNDEuODc1NTYxNiwtODcuNjI0NDIxMl0sCiAgICAgICAgICAgICAgICAgICAgICAgICAgICAgICAgICB6b29tOiAxMCwKICAgICAgICAgICAgICAgICAgICAgICAgICAgICAgICAgIG1heEJvdW5kczogYm91bmRzLAogICAgICAgICAgICAgICAgICAgICAgICAgICAgICAgICAgbGF5ZXJzOiBbXSwKICAgICAgICAgICAgICAgICAgICAgICAgICAgICAgICAgIHdvcmxkQ29weUp1bXA6IGZhbHNlLAogICAgICAgICAgICAgICAgICAgICAgICAgICAgICAgICAgY3JzOiBMLkNSUy5FUFNHMzg1NwogICAgICAgICAgICAgICAgICAgICAgICAgICAgICAgICB9KTsKICAgICAgICAgICAgCiAgICAgICAgCiAgICAKICAgICAgICAgICAgdmFyIHRpbGVfbGF5ZXJfY2MwYWZkYzk3OTM0NGZjZDkzZjNkZTY2MjFlMmNmODggPSBMLnRpbGVMYXllcigKICAgICAgICAgICAgICAgICdodHRwczovL3tzfS50aWxlLm9wZW5zdHJlZXRtYXAub3JnL3t6fS97eH0ve3l9LnBuZycsCiAgICAgICAgICAgICAgICB7CiAgImF0dHJpYnV0aW9uIjogbnVsbCwKICAiZGV0ZWN0UmV0aW5hIjogZmFsc2UsCiAgIm1heFpvb20iOiAxOCwKICAibWluWm9vbSI6IDEsCiAgIm5vV3JhcCI6IGZhbHNlLAogICJzdWJkb21haW5zIjogImFiYyIKfQogICAgICAgICAgICAgICAgKS5hZGRUbyhtYXBfYjYxNzVmY2YxZTUzNDY2NmJjZjc4M2RiNDVjNDRjNzMpOwogICAgICAgIAogICAgCiAgICAgICAgICAgIHZhciBjaXJjbGVfbWFya2VyXzBjNjU1ZTU1OTk3NDQ2MGZiNTMwNzkzZWQyMjkxYTE5ID0gTC5jaXJjbGVNYXJrZXIoCiAgICAgICAgICAgICAgICBbNDEuODczNTYxMDkyMTI4OTk1LC04Ny42Mjc1NTc5NzQyODY5Nl0sCiAgICAgICAgICAgICAgICB7CiAgImJ1YmJsaW5nTW91c2VFdmVudHMiOiB0cnVlLAogICJjb2xvciI6ICIjODBmZmI0IiwKICAiZGFzaEFycmF5IjogbnVsbCwKICAiZGFzaE9mZnNldCI6IG51bGwsCiAgImZpbGwiOiB0cnVlLAogICJmaWxsQ29sb3IiOiAiIzgwZmZiNCIsCiAgImZpbGxPcGFjaXR5IjogMC43LAogICJmaWxsUnVsZSI6ICJldmVub2RkIiwKICAibGluZUNhcCI6ICJyb3VuZCIsCiAgImxpbmVKb2luIjogInJvdW5kIiwKICAib3BhY2l0eSI6IDEuMCwKICAicmFkaXVzIjogNSwKICAic3Ryb2tlIjogdHJ1ZSwKICAid2VpZ2h0IjogMwp9CiAgICAgICAgICAgICAgICApLmFkZFRvKG1hcF9iNjE3NWZjZjFlNTM0NjY2YmNmNzgzZGI0NWM0NGM3Myk7CiAgICAgICAgICAgIAogICAgCiAgICAgICAgICAgIHZhciBwb3B1cF80OTZiOWY3ZDFiNGU0NDAzYWY3OGZiYjEwYWFhOTRmYyA9IEwucG9wdXAoe21heFdpZHRoOiAnMzAwJ30pOwoKICAgICAgICAgICAgCiAgICAgICAgICAgICAgICB2YXIgaHRtbF9lMWQ5NDBmZGU4OGY0ZDJmOWRhNWMyMzlmY2ZmNWJlNSA9ICQoJzxkaXYgaWQ9Imh0bWxfZTFkOTQwZmRlODhmNGQyZjlkYTVjMjM5ZmNmZjViZTUiIHN0eWxlPSJ3aWR0aDogMTAwLjAlOyBoZWlnaHQ6IDEwMC4wJTsiPkpvbmVzIENvbGxlZ2UgUHJlcCBDbHVzdGVyIDM8L2Rpdj4nKVswXTsKICAgICAgICAgICAgICAgIHBvcHVwXzQ5NmI5ZjdkMWI0ZTQ0MDNhZjc4ZmJiMTBhYWE5NGZjLnNldENvbnRlbnQoaHRtbF9lMWQ5NDBmZGU4OGY0ZDJmOWRhNWMyMzlmY2ZmNWJlNSk7CiAgICAgICAgICAgIAoKICAgICAgICAgICAgY2lyY2xlX21hcmtlcl8wYzY1NWU1NTk5NzQ0NjBmYjUzMDc5M2VkMjI5MWExOS5iaW5kUG9wdXAocG9wdXBfNDk2YjlmN2QxYjRlNDQwM2FmNzhmYmIxMGFhYTk0ZmMpOwoKICAgICAgICAgICAgCiAgICAgICAgCiAgICAKICAgICAgICAgICAgdmFyIGNpcmNsZV9tYXJrZXJfMWE1ZjEzZGRjNTMxNGFjNjlkNjllYjJmYzk0MmFkZTUgPSBMLmNpcmNsZU1hcmtlcigKICAgICAgICAgICAgICAgIFs0MS44ODI2NDAzNTk4NTY2LC04Ny42MjYzNDMzNDgzNjMyNl0sCiAgICAgICAgICAgICAgICB7CiAgImJ1YmJsaW5nTW91c2VFdmVudHMiOiB0cnVlLAogICJjb2xvciI6ICIjODBmZmI0IiwKICAiZGFzaEFycmF5IjogbnVsbCwKICAiZGFzaE9mZnNldCI6IG51bGwsCiAgImZpbGwiOiB0cnVlLAogICJmaWxsQ29sb3IiOiAiIzgwZmZiNCIsCiAgImZpbGxPcGFjaXR5IjogMC43LAogICJmaWxsUnVsZSI6ICJldmVub2RkIiwKICAibGluZUNhcCI6ICJyb3VuZCIsCiAgImxpbmVKb2luIjogInJvdW5kIiwKICAib3BhY2l0eSI6IDEuMCwKICAicmFkaXVzIjogNSwKICAic3Ryb2tlIjogdHJ1ZSwKICAid2VpZ2h0IjogMwp9CiAgICAgICAgICAgICAgICApLmFkZFRvKG1hcF9iNjE3NWZjZjFlNTM0NjY2YmNmNzgzZGI0NWM0NGM3Myk7CiAgICAgICAgICAgIAogICAgCiAgICAgICAgICAgIHZhciBwb3B1cF9hMjA3MzVlMGM0ZTA0MjU1YjNkYTI4NWY5MzJkYjkzMCA9IEwucG9wdXAoe21heFdpZHRoOiAnMzAwJ30pOwoKICAgICAgICAgICAgCiAgICAgICAgICAgICAgICB2YXIgaHRtbF9lMDdmNWU5NWYwYzM0N2M0YjI4NmIxZjIxNmMwZWFiMiA9ICQoJzxkaXYgaWQ9Imh0bWxfZTA3ZjVlOTVmMGMzNDdjNGIyODZiMWYyMTZjMGVhYjIiIHN0eWxlPSJ3aWR0aDogMTAwLjAlOyBoZWlnaHQ6IDEwMC4wJTsiPklubm92YXRpb25zIEhpZ2ggU2Nob29sIENsdXN0ZXIgMzwvZGl2PicpWzBdOwogICAgICAgICAgICAgICAgcG9wdXBfYTIwNzM1ZTBjNGUwNDI1NWIzZGEyODVmOTMyZGI5MzAuc2V0Q29udGVudChodG1sX2UwN2Y1ZTk1ZjBjMzQ3YzRiMjg2YjFmMjE2YzBlYWIyKTsKICAgICAgICAgICAgCgogICAgICAgICAgICBjaXJjbGVfbWFya2VyXzFhNWYxM2RkYzUzMTRhYzY5ZDY5ZWIyZmM5NDJhZGU1LmJpbmRQb3B1cChwb3B1cF9hMjA3MzVlMGM0ZTA0MjU1YjNkYTI4NWY5MzJkYjkzMCk7CgogICAgICAgICAgICAKICAgICAgICAKICAgIAogICAgICAgICAgICB2YXIgY2lyY2xlX21hcmtlcl8wYzQ2ODMwZWUwYjE0MTlmYjUyYTE0YzRhNmMwNjMxMCA9IEwuY2lyY2xlTWFya2VyKAogICAgICAgICAgICAgICAgWzQxLjg3MDQ5MDgsLTg3LjYzMjcxNV0sCiAgICAgICAgICAgICAgICB7CiAgImJ1YmJsaW5nTW91c2VFdmVudHMiOiB0cnVlLAogICJjb2xvciI6ICIjODBmZmI0IiwKICAiZGFzaEFycmF5IjogbnVsbCwKICAiZGFzaE9mZnNldCI6IG51bGwsCiAgImZpbGwiOiB0cnVlLAogICJmaWxsQ29sb3IiOiAiIzgwZmZiNCIsCiAgImZpbGxPcGFjaXR5IjogMC43LAogICJmaWxsUnVsZSI6ICJldmVub2RkIiwKICAibGluZUNhcCI6ICJyb3VuZCIsCiAgImxpbmVKb2luIjogInJvdW5kIiwKICAib3BhY2l0eSI6IDEuMCwKICAicmFkaXVzIjogNSwKICAic3Ryb2tlIjogdHJ1ZSwKICAid2VpZ2h0IjogMwp9CiAgICAgICAgICAgICAgICApLmFkZFRvKG1hcF9iNjE3NWZjZjFlNTM0NjY2YmNmNzgzZGI0NWM0NGM3Myk7CiAgICAgICAgICAgIAogICAgCiAgICAgICAgICAgIHZhciBwb3B1cF8zZGRjNjQ1MDE4MDI0ZjU3ODcyNGIzOGI3ZmI3ODE2NyA9IEwucG9wdXAoe21heFdpZHRoOiAnMzAwJ30pOwoKICAgICAgICAgICAgCiAgICAgICAgICAgICAgICB2YXIgaHRtbF84ZWFjNGU4MGZhYWU0NmM5YmZlZmNiNGRkZGVkNmEwYiA9ICQoJzxkaXYgaWQ9Imh0bWxfOGVhYzRlODBmYWFlNDZjOWJmZWZjYjRkZGRlZDZhMGIiIHN0eWxlPSJ3aWR0aDogMTAwLjAlOyBoZWlnaHQ6IDEwMC4wJTsiPlRoZSBCcml0aXNoIEludGVybmF0aW9uYWwgU2Nob29sIG9mIENoaWNhZ28sIFNvdXRoIExvb3AgQ2x1c3RlciAzPC9kaXY+JylbMF07CiAgICAgICAgICAgICAgICBwb3B1cF8zZGRjNjQ1MDE4MDI0ZjU3ODcyNGIzOGI3ZmI3ODE2Ny5zZXRDb250ZW50KGh0bWxfOGVhYzRlODBmYWFlNDZjOWJmZWZjYjRkZGRlZDZhMGIpOwogICAgICAgICAgICAKCiAgICAgICAgICAgIGNpcmNsZV9tYXJrZXJfMGM0NjgzMGVlMGIxNDE5ZmI1MmExNGM0YTZjMDYzMTAuYmluZFBvcHVwKHBvcHVwXzNkZGM2NDUwMTgwMjRmNTc4NzI0YjM4YjdmYjc4MTY3KTsKCiAgICAgICAgICAgIAogICAgICAgIAogICAgCiAgICAgICAgICAgIHZhciBjaXJjbGVfbWFya2VyXzc0N2E1NjY5MWRmMTQ1MTZhMTU0MDAxMTM5YWRlMWNiID0gTC5jaXJjbGVNYXJrZXIoCiAgICAgICAgICAgICAgICBbNDEuODY1NTk2ODIzNjY2ODYsLTg3LjYyNDI0MzIzNTYwOTQ3XSwKICAgICAgICAgICAgICAgIHsKICAiYnViYmxpbmdNb3VzZUV2ZW50cyI6IHRydWUsCiAgImNvbG9yIjogIiMwMGI1ZWIiLAogICJkYXNoQXJyYXkiOiBudWxsLAogICJkYXNoT2Zmc2V0IjogbnVsbCwKICAiZmlsbCI6IHRydWUsCiAgImZpbGxDb2xvciI6ICIjMDBiNWViIiwKICAiZmlsbE9wYWNpdHkiOiAwLjcsCiAgImZpbGxSdWxlIjogImV2ZW5vZGQiLAogICJsaW5lQ2FwIjogInJvdW5kIiwKICAibGluZUpvaW4iOiAicm91bmQiLAogICJvcGFjaXR5IjogMS4wLAogICJyYWRpdXMiOiA1LAogICJzdHJva2UiOiB0cnVlLAogICJ3ZWlnaHQiOiAzCn0KICAgICAgICAgICAgICAgICkuYWRkVG8obWFwX2I2MTc1ZmNmMWU1MzQ2NjZiY2Y3ODNkYjQ1YzQ0YzczKTsKICAgICAgICAgICAgCiAgICAKICAgICAgICAgICAgdmFyIHBvcHVwXzY4NDQ0OWE0NTgyMjQ2MmJhYzY3NGFmZjg3MTk0MWE4ID0gTC5wb3B1cCh7bWF4V2lkdGg6ICczMDAnfSk7CgogICAgICAgICAgICAKICAgICAgICAgICAgICAgIHZhciBodG1sXzlhMWU4ODY1ZjE5ZjQwYTlhYjc0ZjA5OTEzODhkODk0ID0gJCgnPGRpdiBpZD0iaHRtbF85YTFlODg2NWYxOWY0MGE5YWI3NGYwOTkxMzg4ZDg5NCIgc3R5bGU9IndpZHRoOiAxMDAuMCU7IGhlaWdodDogMTAwLjAlOyI+VGhlIERhbmNlIENlbnRlciAoREUpIENsdXN0ZXIgMjwvZGl2PicpWzBdOwogICAgICAgICAgICAgICAgcG9wdXBfNjg0NDQ5YTQ1ODIyNDYyYmFjNjc0YWZmODcxOTQxYTguc2V0Q29udGVudChodG1sXzlhMWU4ODY1ZjE5ZjQwYTlhYjc0ZjA5OTEzODhkODk0KTsKICAgICAgICAgICAgCgogICAgICAgICAgICBjaXJjbGVfbWFya2VyXzc0N2E1NjY5MWRmMTQ1MTZhMTU0MDAxMTM5YWRlMWNiLmJpbmRQb3B1cChwb3B1cF82ODQ0NDlhNDU4MjI0NjJiYWM2NzRhZmY4NzE5NDFhOCk7CgogICAgICAgICAgICAKICAgICAgICAKICAgIAogICAgICAgICAgICB2YXIgY2lyY2xlX21hcmtlcl80ZGJhNTMwOTdlNWQ0OGQzYmFjZDFmNTVkMjFmZDMzYiA9IEwuY2lyY2xlTWFya2VyKAogICAgICAgICAgICAgICAgWzQxLjg4NjEyNjIwODYzMTEyLC04Ny42MjY4NjgxNzE3NDQ5Ml0sCiAgICAgICAgICAgICAgICB7CiAgImJ1YmJsaW5nTW91c2VFdmVudHMiOiB0cnVlLAogICJjb2xvciI6ICIjODBmZmI0IiwKICAiZGFzaEFycmF5IjogbnVsbCwKICAiZGFzaE9mZnNldCI6IG51bGwsCiAgImZpbGwiOiB0cnVlLAogICJmaWxsQ29sb3IiOiAiIzgwZmZiNCIsCiAgImZpbGxPcGFjaXR5IjogMC43LAogICJmaWxsUnVsZSI6ICJldmVub2RkIiwKICAibGluZUNhcCI6ICJyb3VuZCIsCiAgImxpbmVKb2luIjogInJvdW5kIiwKICAib3BhY2l0eSI6IDEuMCwKICAicmFkaXVzIjogNSwKICAic3Ryb2tlIjogdHJ1ZSwKICAid2VpZ2h0IjogMwp9CiAgICAgICAgICAgICAgICApLmFkZFRvKG1hcF9iNjE3NWZjZjFlNTM0NjY2YmNmNzgzZGI0NWM0NGM3Myk7CiAgICAgICAgICAgIAogICAgCiAgICAgICAgICAgIHZhciBwb3B1cF9iYzAxZDlkMjM0N2E0MmI5YWM4YzA5MDQyYTA4YjBmNyA9IEwucG9wdXAoe21heFdpZHRoOiAnMzAwJ30pOwoKICAgICAgICAgICAgCiAgICAgICAgICAgICAgICB2YXIgaHRtbF9iOWZhYmUzZTgwMzI0NzExYmZjNDgzOTliN2M1NzZiMSA9ICQoJzxkaXYgaWQ9Imh0bWxfYjlmYWJlM2U4MDMyNDcxMWJmYzQ4Mzk5YjdjNTc2YjEiIHN0eWxlPSJ3aWR0aDogMTAwLjAlOyBoZWlnaHQ6IDEwMC4wJTsiPkhhcm9sZCBXYXNoaW5ndG9uIENvbGxlZ2UgQ2x1c3RlciAzPC9kaXY+JylbMF07CiAgICAgICAgICAgICAgICBwb3B1cF9iYzAxZDlkMjM0N2E0MmI5YWM4YzA5MDQyYTA4YjBmNy5zZXRDb250ZW50KGh0bWxfYjlmYWJlM2U4MDMyNDcxMWJmYzQ4Mzk5YjdjNTc2YjEpOwogICAgICAgICAgICAKCiAgICAgICAgICAgIGNpcmNsZV9tYXJrZXJfNGRiYTUzMDk3ZTVkNDhkM2JhY2QxZjU1ZDIxZmQzM2IuYmluZFBvcHVwKHBvcHVwX2JjMDFkOWQyMzQ3YTQyYjlhYzhjMDkwNDJhMDhiMGY3KTsKCiAgICAgICAgICAgIAogICAgICAgIAogICAgCiAgICAgICAgICAgIHZhciBjaXJjbGVfbWFya2VyX2EyY2Y3MmZlMDllYjRjYzY5NzkwZWJlMTYxN2UyYjU5ID0gTC5jaXJjbGVNYXJrZXIoCiAgICAgICAgICAgICAgICBbNDEuODY3MDk5NTEwNjM0OTEsLTg3LjY1NDAyOTUyNTg0NTY2XSwKICAgICAgICAgICAgICAgIHsKICAiYnViYmxpbmdNb3VzZUV2ZW50cyI6IHRydWUsCiAgImNvbG9yIjogIiMwMGI1ZWIiLAogICJkYXNoQXJyYXkiOiBudWxsLAogICJkYXNoT2Zmc2V0IjogbnVsbCwKICAiZmlsbCI6IHRydWUsCiAgImZpbGxDb2xvciI6ICIjMDBiNWViIiwKICAiZmlsbE9wYWNpdHkiOiAwLjcsCiAgImZpbGxSdWxlIjogImV2ZW5vZGQiLAogICJsaW5lQ2FwIjogInJvdW5kIiwKICAibGluZUpvaW4iOiAicm91bmQiLAogICJvcGFjaXR5IjogMS4wLAogICJyYWRpdXMiOiA1LAogICJzdHJva2UiOiB0cnVlLAogICJ3ZWlnaHQiOiAzCn0KICAgICAgICAgICAgICAgICkuYWRkVG8obWFwX2I2MTc1ZmNmMWU1MzQ2NjZiY2Y3ODNkYjQ1YzQ0YzczKTsKICAgICAgICAgICAgCiAgICAKICAgICAgICAgICAgdmFyIHBvcHVwX2RjY2FhMmEzMGI2ODQzOTlhYTNmMDQ3MDg5NzEwOWQwID0gTC5wb3B1cCh7bWF4V2lkdGg6ICczMDAnfSk7CgogICAgICAgICAgICAKICAgICAgICAgICAgICAgIHZhciBodG1sXzZmMDAwN2E5YzAzMTRkOWNiZGI0OGNmNDI5MTEwNjdmID0gJCgnPGRpdiBpZD0iaHRtbF82ZjAwMDdhOWMwMzE0ZDljYmRiNDhjZjQyOTExMDY3ZiIgc3R5bGU9IndpZHRoOiAxMDAuMCU7IGhlaWdodDogMTAwLjAlOyI+U3QuIElnbmF0aXVzIENvbGxlZ2UgUHJlcCBDbHVzdGVyIDI8L2Rpdj4nKVswXTsKICAgICAgICAgICAgICAgIHBvcHVwX2RjY2FhMmEzMGI2ODQzOTlhYTNmMDQ3MDg5NzEwOWQwLnNldENvbnRlbnQoaHRtbF82ZjAwMDdhOWMwMzE0ZDljYmRiNDhjZjQyOTExMDY3Zik7CiAgICAgICAgICAgIAoKICAgICAgICAgICAgY2lyY2xlX21hcmtlcl9hMmNmNzJmZTA5ZWI0Y2M2OTc5MGViZTE2MTdlMmI1OS5iaW5kUG9wdXAocG9wdXBfZGNjYWEyYTMwYjY4NDM5OWFhM2YwNDcwODk3MTA5ZDApOwoKICAgICAgICAgICAgCiAgICAgICAgCiAgICAKICAgICAgICAgICAgdmFyIGNpcmNsZV9tYXJrZXJfNjc0OTA1OTEyNGNlNGMwNTgxNjcyYjg5YmU5N2VmMzIgPSBMLmNpcmNsZU1hcmtlcigKICAgICAgICAgICAgICAgIFs0MS44NTY5Njk5MzAxNzgzMiwtODcuNjQ1MDMxMDQ1NzQ4MTNdLAogICAgICAgICAgICAgICAgewogICJidWJibGluZ01vdXNlRXZlbnRzIjogdHJ1ZSwKICAiY29sb3IiOiAiIzAwYjVlYiIsCiAgImRhc2hBcnJheSI6IG51bGwsCiAgImRhc2hPZmZzZXQiOiBudWxsLAogICJmaWxsIjogdHJ1ZSwKICAiZmlsbENvbG9yIjogIiMwMGI1ZWIiLAogICJmaWxsT3BhY2l0eSI6IDAuNywKICAiZmlsbFJ1bGUiOiAiZXZlbm9kZCIsCiAgImxpbmVDYXAiOiAicm91bmQiLAogICJsaW5lSm9pbiI6ICJyb3VuZCIsCiAgIm9wYWNpdHkiOiAxLjAsCiAgInJhZGl1cyI6IDUsCiAgInN0cm9rZSI6IHRydWUsCiAgIndlaWdodCI6IDMKfQogICAgICAgICAgICAgICAgKS5hZGRUbyhtYXBfYjYxNzVmY2YxZTUzNDY2NmJjZjc4M2RiNDVjNDRjNzMpOwogICAgICAgICAgICAKICAgIAogICAgICAgICAgICB2YXIgcG9wdXBfNzBjNGUxNTJlNzg5NGIxNWJmN2ExYzdhYjgzZGNjMmMgPSBMLnBvcHVwKHttYXhXaWR0aDogJzMwMCd9KTsKCiAgICAgICAgICAgIAogICAgICAgICAgICAgICAgdmFyIGh0bWxfNzVkNDkyMmQ1YTJlNGIxZjk1ZmRkYWQ1OTU1YjA1ZWIgPSAkKCc8ZGl2IGlkPSJodG1sXzc1ZDQ5MjJkNWEyZTRiMWY5NWZkZGFkNTk1NWIwNWViIiBzdHlsZT0id2lkdGg6IDEwMC4wJTsgaGVpZ2h0OiAxMDAuMCU7Ij5KYW5lIEFkZGFtcyBIaWdoIFNjaG9vbCBDbHVzdGVyIDI8L2Rpdj4nKVswXTsKICAgICAgICAgICAgICAgIHBvcHVwXzcwYzRlMTUyZTc4OTRiMTViZjdhMWM3YWI4M2RjYzJjLnNldENvbnRlbnQoaHRtbF83NWQ0OTIyZDVhMmU0YjFmOTVmZGRhZDU5NTViMDVlYik7CiAgICAgICAgICAgIAoKICAgICAgICAgICAgY2lyY2xlX21hcmtlcl82NzQ5MDU5MTI0Y2U0YzA1ODE2NzJiODliZTk3ZWYzMi5iaW5kUG9wdXAocG9wdXBfNzBjNGUxNTJlNzg5NGIxNWJmN2ExYzdhYjgzZGNjMmMpOwoKICAgICAgICAgICAgCiAgICAgICAgCiAgICAKICAgICAgICAgICAgdmFyIGNpcmNsZV9tYXJrZXJfY2Q3ZDliNWEyMDlhNGYyODk2ZmVjOWRiZWZkYjIzNDcgPSBMLmNpcmNsZU1hcmtlcigKICAgICAgICAgICAgICAgIFs0MS45MDE2MzQ4MzUyMjQzNywtODcuNjM0ODk4MDYxMDg2MjNdLAogICAgICAgICAgICAgICAgewogICJidWJibGluZ01vdXNlRXZlbnRzIjogdHJ1ZSwKICAiY29sb3IiOiAiIzgwMDBmZiIsCiAgImRhc2hBcnJheSI6IG51bGwsCiAgImRhc2hPZmZzZXQiOiBudWxsLAogICJmaWxsIjogdHJ1ZSwKICAiZmlsbENvbG9yIjogIiM4MDAwZmYiLAogICJmaWxsT3BhY2l0eSI6IDAuNywKICAiZmlsbFJ1bGUiOiAiZXZlbm9kZCIsCiAgImxpbmVDYXAiOiAicm91bmQiLAogICJsaW5lSm9pbiI6ICJyb3VuZCIsCiAgIm9wYWNpdHkiOiAxLjAsCiAgInJhZGl1cyI6IDUsCiAgInN0cm9rZSI6IHRydWUsCiAgIndlaWdodCI6IDMKfQogICAgICAgICAgICAgICAgKS5hZGRUbyhtYXBfYjYxNzVmY2YxZTUzNDY2NmJjZjc4M2RiNDVjNDRjNzMpOwogICAgICAgICAgICAKICAgIAogICAgICAgICAgICB2YXIgcG9wdXBfOWUwN2E2NDhiMzAzNDdiMmFiNTM2MzgzNzk3OTExYjAgPSBMLnBvcHVwKHttYXhXaWR0aDogJzMwMCd9KTsKCiAgICAgICAgICAgIAogICAgICAgICAgICAgICAgdmFyIGh0bWxfOGY1MmY4ODZhZjNkNDYxOWE3MDA3Y2JlYmNiNWRlMDggPSAkKCc8ZGl2IGlkPSJodG1sXzhmNTJmODg2YWYzZDQ2MTlhNzAwN2NiZWJjYjVkZTA4IiBzdHlsZT0id2lkdGg6IDEwMC4wJTsgaGVpZ2h0OiAxMDAuMCU7Ij5XYWx0ZXIgUGF5dG9uIEhpZ2ggU2Nob29sIENsdXN0ZXIgMTwvZGl2PicpWzBdOwogICAgICAgICAgICAgICAgcG9wdXBfOWUwN2E2NDhiMzAzNDdiMmFiNTM2MzgzNzk3OTExYjAuc2V0Q29udGVudChodG1sXzhmNTJmODg2YWYzZDQ2MTlhNzAwN2NiZWJjYjVkZTA4KTsKICAgICAgICAgICAgCgogICAgICAgICAgICBjaXJjbGVfbWFya2VyX2NkN2Q5YjVhMjA5YTRmMjg5NmZlYzlkYmVmZGIyMzQ3LmJpbmRQb3B1cChwb3B1cF85ZTA3YTY0OGIzMDM0N2IyYWI1MzYzODM3OTc5MTFiMCk7CgogICAgICAgICAgICAKICAgICAgICAKICAgIAogICAgICAgICAgICB2YXIgY2lyY2xlX21hcmtlcl9hMDU1ZDg1ZmQwOTE0MmUxYmNmMzk3YTRkZDA1ODg1NCA9IEwuY2lyY2xlTWFya2VyKAogICAgICAgICAgICAgICAgWzQxLjg3ODI1NDQyOTM4NTQxNCwtODcuNjYzNzc5NDU3NzkzMTNdLAogICAgICAgICAgICAgICAgewogICJidWJibGluZ01vdXNlRXZlbnRzIjogdHJ1ZSwKICAiY29sb3IiOiAiIzAwYjVlYiIsCiAgImRhc2hBcnJheSI6IG51bGwsCiAgImRhc2hPZmZzZXQiOiBudWxsLAogICJmaWxsIjogdHJ1ZSwKICAiZmlsbENvbG9yIjogIiMwMGI1ZWIiLAogICJmaWxsT3BhY2l0eSI6IDAuNywKICAiZmlsbFJ1bGUiOiAiZXZlbm9kZCIsCiAgImxpbmVDYXAiOiAicm91bmQiLAogICJsaW5lSm9pbiI6ICJyb3VuZCIsCiAgIm9wYWNpdHkiOiAxLjAsCiAgInJhZGl1cyI6IDUsCiAgInN0cm9rZSI6IHRydWUsCiAgIndlaWdodCI6IDMKfQogICAgICAgICAgICAgICAgKS5hZGRUbyhtYXBfYjYxNzVmY2YxZTUzNDY2NmJjZjc4M2RiNDVjNDRjNzMpOwogICAgICAgICAgICAKICAgIAogICAgICAgICAgICB2YXIgcG9wdXBfODAzNGU3YWM3MGVlNDhkYmFiMmU3MzcxMGY3YmM3NDQgPSBMLnBvcHVwKHttYXhXaWR0aDogJzMwMCd9KTsKCiAgICAgICAgICAgIAogICAgICAgICAgICAgICAgdmFyIGh0bWxfNmFkYTg5YWMwNDRhNDdlY2ExY2Y4MDY0YzExMjIxODcgPSAkKCc8ZGl2IGlkPSJodG1sXzZhZGE4OWFjMDQ0YTQ3ZWNhMWNmODA2NGMxMTIyMTg3IiBzdHlsZT0id2lkdGg6IDEwMC4wJTsgaGVpZ2h0OiAxMDAuMCU7Ij5XaGl0bmV5IFlvdW5nIEhpZ2ggU2Nob29sIENsdXN0ZXIgMjwvZGl2PicpWzBdOwogICAgICAgICAgICAgICAgcG9wdXBfODAzNGU3YWM3MGVlNDhkYmFiMmU3MzcxMGY3YmM3NDQuc2V0Q29udGVudChodG1sXzZhZGE4OWFjMDQ0YTQ3ZWNhMWNmODA2NGMxMTIyMTg3KTsKICAgICAgICAgICAgCgogICAgICAgICAgICBjaXJjbGVfbWFya2VyX2EwNTVkODVmZDA5MTQyZTFiY2YzOTdhNGRkMDU4ODU0LmJpbmRQb3B1cChwb3B1cF84MDM0ZTdhYzcwZWU0OGRiYWIyZTczNzEwZjdiYzc0NCk7CgogICAgICAgICAgICAKICAgICAgICAKICAgIAogICAgICAgICAgICB2YXIgY2lyY2xlX21hcmtlcl80ZTMzN2E0ODAxNjA0ZmM2ODQ4ZmFjNDI5Nzc4ZDVlNSA9IEwuY2lyY2xlTWFya2VyKAogICAgICAgICAgICAgICAgWzQxLjg2MjU5ODk2MzgyOTg3LC04Ny42NjAyMTkzODY1MTQ0Nl0sCiAgICAgICAgICAgICAgICB7CiAgImJ1YmJsaW5nTW91c2VFdmVudHMiOiB0cnVlLAogICJjb2xvciI6ICIjMDBiNWViIiwKICAiZGFzaEFycmF5IjogbnVsbCwKICAiZGFzaE9mZnNldCI6IG51bGwsCiAgImZpbGwiOiB0cnVlLAogICJmaWxsQ29sb3IiOiAiIzAwYjVlYiIsCiAgImZpbGxPcGFjaXR5IjogMC43LAogICJmaWxsUnVsZSI6ICJldmVub2RkIiwKICAibGluZUNhcCI6ICJyb3VuZCIsCiAgImxpbmVKb2luIjogInJvdW5kIiwKICAib3BhY2l0eSI6IDEuMCwKICAicmFkaXVzIjogNSwKICAic3Ryb2tlIjogdHJ1ZSwKICAid2VpZ2h0IjogMwp9CiAgICAgICAgICAgICAgICApLmFkZFRvKG1hcF9iNjE3NWZjZjFlNTM0NjY2YmNmNzgzZGI0NWM0NGM3Myk7CiAgICAgICAgICAgIAogICAgCiAgICAgICAgICAgIHZhciBwb3B1cF84NjBlNTZhNGFjZTk0NDUwOTNhYTA5NzNkMDQ4ODE3YSA9IEwucG9wdXAoe21heFdpZHRoOiAnMzAwJ30pOwoKICAgICAgICAgICAgCiAgICAgICAgICAgICAgICB2YXIgaHRtbF9kODRiYTU5ZmU3MmU0MTdhOGI0OTE4ZTA0YzJkOWNhMyA9ICQoJzxkaXYgaWQ9Imh0bWxfZDg0YmE1OWZlNzJlNDE3YThiNDkxOGUwNGMyZDljYTMiIHN0eWxlPSJ3aWR0aDogMTAwLjAlOyBoZWlnaHQ6IDEwMC4wJTsiPlVyYmFuIFByZXAgQWNhZGVteSAtIFdlc3QgQ2FtcHVzIENsdXN0ZXIgMjwvZGl2PicpWzBdOwogICAgICAgICAgICAgICAgcG9wdXBfODYwZTU2YTRhY2U5NDQ1MDkzYWEwOTczZDA0ODgxN2Euc2V0Q29udGVudChodG1sX2Q4NGJhNTlmZTcyZTQxN2E4YjQ5MThlMDRjMmQ5Y2EzKTsKICAgICAgICAgICAgCgogICAgICAgICAgICBjaXJjbGVfbWFya2VyXzRlMzM3YTQ4MDE2MDRmYzY4NDhmYWM0Mjk3NzhkNWU1LmJpbmRQb3B1cChwb3B1cF84NjBlNTZhNGFjZTk0NDUwOTNhYTA5NzNkMDQ4ODE3YSk7CgogICAgICAgICAgICAKICAgICAgICAKICAgIAogICAgICAgICAgICB2YXIgY2lyY2xlX21hcmtlcl9jMGVlNGMzYjg2OTU0NTQ2ODAwM2Q0ZDBiODAwNTVhMiA9IEwuY2lyY2xlTWFya2VyKAogICAgICAgICAgICAgICAgWzQxLjg5MzQ3NTcxODE2MDQ4LC04Ny42NTg1MTQ3Mzg0OTcxOV0sCiAgICAgICAgICAgICAgICB7CiAgImJ1YmJsaW5nTW91c2VFdmVudHMiOiB0cnVlLAogICJjb2xvciI6ICIjMDBiNWViIiwKICAiZGFzaEFycmF5IjogbnVsbCwKICAiZGFzaE9mZnNldCI6IG51bGwsCiAgImZpbGwiOiB0cnVlLAogICJmaWxsQ29sb3IiOiAiIzAwYjVlYiIsCiAgImZpbGxPcGFjaXR5IjogMC43LAogICJmaWxsUnVsZSI6ICJldmVub2RkIiwKICAibGluZUNhcCI6ICJyb3VuZCIsCiAgImxpbmVKb2luIjogInJvdW5kIiwKICAib3BhY2l0eSI6IDEuMCwKICAicmFkaXVzIjogNSwKICAic3Ryb2tlIjogdHJ1ZSwKICAid2VpZ2h0IjogMwp9CiAgICAgICAgICAgICAgICApLmFkZFRvKG1hcF9iNjE3NWZjZjFlNTM0NjY2YmNmNzgzZGI0NWM0NGM3Myk7CiAgICAgICAgICAgIAogICAgCiAgICAgICAgICAgIHZhciBwb3B1cF81NGUzM2I2OGIwZDY0MTlmOGNiOGFiZmViNmY3MDZjMyA9IEwucG9wdXAoe21heFdpZHRoOiAnMzAwJ30pOwoKICAgICAgICAgICAgCiAgICAgICAgICAgICAgICB2YXIgaHRtbF83NjIwN2FlYzQwZTY0OGQzODVhMjc2YjIwMTQ0MmZkNCA9ICQoJzxkaXYgaWQ9Imh0bWxfNzYyMDdhZWM0MGU2NDhkMzg1YTI3NmIyMDE0NDJmZDQiIHN0eWxlPSJ3aWR0aDogMTAwLjAlOyBoZWlnaHQ6IDEwMC4wJTsiPk9nZGVuIEludGVybmF0aW9uYWwgSGlnaCBTY2hvb2wgQ2x1c3RlciAyPC9kaXY+JylbMF07CiAgICAgICAgICAgICAgICBwb3B1cF81NGUzM2I2OGIwZDY0MTlmOGNiOGFiZmViNmY3MDZjMy5zZXRDb250ZW50KGh0bWxfNzYyMDdhZWM0MGU2NDhkMzg1YTI3NmIyMDE0NDJmZDQpOwogICAgICAgICAgICAKCiAgICAgICAgICAgIGNpcmNsZV9tYXJrZXJfYzBlZTRjM2I4Njk1NDU0NjgwMDNkNGQwYjgwMDU1YTIuYmluZFBvcHVwKHBvcHVwXzU0ZTMzYjY4YjBkNjQxOWY4Y2I4YWJmZWI2ZjcwNmMzKTsKCiAgICAgICAgICAgIAogICAgICAgIAogICAgCiAgICAgICAgICAgIHZhciBjaXJjbGVfbWFya2VyXzlkM2MyZTZkMjEwNTRiYmI4ZWU4ZTE2OTQzMDVmYjI3ID0gTC5jaXJjbGVNYXJrZXIoCiAgICAgICAgICAgICAgICBbNDEuODkyMjY4MDIxMjExNjMsLTg3LjY2MTA2Njc5MDgwMTMxXSwKICAgICAgICAgICAgICAgIHsKICAiYnViYmxpbmdNb3VzZUV2ZW50cyI6IHRydWUsCiAgImNvbG9yIjogIiMwMGI1ZWIiLAogICJkYXNoQXJyYXkiOiBudWxsLAogICJkYXNoT2Zmc2V0IjogbnVsbCwKICAiZmlsbCI6IHRydWUsCiAgImZpbGxDb2xvciI6ICIjMDBiNWViIiwKICAiZmlsbE9wYWNpdHkiOiAwLjcsCiAgImZpbGxSdWxlIjogImV2ZW5vZGQiLAogICJsaW5lQ2FwIjogInJvdW5kIiwKICAibGluZUpvaW4iOiAicm91bmQiLAogICJvcGFjaXR5IjogMS4wLAogICJyYWRpdXMiOiA1LAogICJzdHJva2UiOiB0cnVlLAogICJ3ZWlnaHQiOiAzCn0KICAgICAgICAgICAgICAgICkuYWRkVG8obWFwX2I2MTc1ZmNmMWU1MzQ2NjZiY2Y3ODNkYjQ1YzQ0YzczKTsKICAgICAgICAgICAgCiAgICAKICAgICAgICAgICAgdmFyIHBvcHVwXzkwYzQ2OTRiMDRhYzQyOGQ4NmIxZGU0YzBjMGU2ZjZhID0gTC5wb3B1cCh7bWF4V2lkdGg6ICczMDAnfSk7CgogICAgICAgICAgICAKICAgICAgICAgICAgICAgIHZhciBodG1sX2NlYzE3NGMwZTJiNDRjNjY5NDhjMzE0MmRlMjUxODA3ID0gJCgnPGRpdiBpZD0iaHRtbF9jZWMxNzRjMGUyYjQ0YzY2OTQ4YzMxNDJkZTI1MTgwNyIgc3R5bGU9IndpZHRoOiAxMDAuMCU7IGhlaWdodDogMTAwLjAlOyI+UmF1bmVyIENvbGxlZ2UgUHJlcCBDbHVzdGVyIDI8L2Rpdj4nKVswXTsKICAgICAgICAgICAgICAgIHBvcHVwXzkwYzQ2OTRiMDRhYzQyOGQ4NmIxZGU0YzBjMGU2ZjZhLnNldENvbnRlbnQoaHRtbF9jZWMxNzRjMGUyYjQ0YzY2OTQ4YzMxNDJkZTI1MTgwNyk7CiAgICAgICAgICAgIAoKICAgICAgICAgICAgY2lyY2xlX21hcmtlcl85ZDNjMmU2ZDIxMDU0YmJiOGVlOGUxNjk0MzA1ZmIyNy5iaW5kUG9wdXAocG9wdXBfOTBjNDY5NGIwNGFjNDI4ZDg2YjFkZTRjMGMwZTZmNmEpOwoKICAgICAgICAgICAgCiAgICAgICAgCiAgICAKICAgICAgICAgICAgdmFyIGNpcmNsZV9tYXJrZXJfYWI3ZjU3NDQxNjk1NDhjZGJkYjIyMjM0YTI0M2Q4N2QgPSBMLmNpcmNsZU1hcmtlcigKICAgICAgICAgICAgICAgIFs0MS44NzAwNTU3MTI1NDA5NCwtODcuNjY5Mjc5MDYxNzQyODZdLAogICAgICAgICAgICAgICAgewogICJidWJibGluZ01vdXNlRXZlbnRzIjogdHJ1ZSwKICAiY29sb3IiOiAiIzAwYjVlYiIsCiAgImRhc2hBcnJheSI6IG51bGwsCiAgImRhc2hPZmZzZXQiOiBudWxsLAogICJmaWxsIjogdHJ1ZSwKICAiZmlsbENvbG9yIjogIiMwMGI1ZWIiLAogICJmaWxsT3BhY2l0eSI6IDAuNywKICAiZmlsbFJ1bGUiOiAiZXZlbm9kZCIsCiAgImxpbmVDYXAiOiAicm91bmQiLAogICJsaW5lSm9pbiI6ICJyb3VuZCIsCiAgIm9wYWNpdHkiOiAxLjAsCiAgInJhZGl1cyI6IDUsCiAgInN0cm9rZSI6IHRydWUsCiAgIndlaWdodCI6IDMKfQogICAgICAgICAgICAgICAgKS5hZGRUbyhtYXBfYjYxNzVmY2YxZTUzNDY2NmJjZjc4M2RiNDVjNDRjNzMpOwogICAgICAgICAgICAKICAgIAogICAgICAgICAgICB2YXIgcG9wdXBfYjVhYTk4M2Y0M2RiNDM1YWJmYjJmMzMxNTJhMzg5ZmYgPSBMLnBvcHVwKHttYXhXaWR0aDogJzMwMCd9KTsKCiAgICAgICAgICAgIAogICAgICAgICAgICAgICAgdmFyIGh0bWxfYzlmNDhmZmI5ZGRjNDViMGEwM2YxN2RhNDNmODU1ZDEgPSAkKCc8ZGl2IGlkPSJodG1sX2M5ZjQ4ZmZiOWRkYzQ1YjBhMDNmMTdkYTQzZjg1NWQxIiBzdHlsZT0id2lkdGg6IDEwMC4wJTsgaGVpZ2h0OiAxMDAuMCU7Ij5VSUMgQ2x1c3RlciAyPC9kaXY+JylbMF07CiAgICAgICAgICAgICAgICBwb3B1cF9iNWFhOTgzZjQzZGI0MzVhYmZiMmYzMzE1MmEzODlmZi5zZXRDb250ZW50KGh0bWxfYzlmNDhmZmI5ZGRjNDViMGEwM2YxN2RhNDNmODU1ZDEpOwogICAgICAgICAgICAKCiAgICAgICAgICAgIGNpcmNsZV9tYXJrZXJfYWI3ZjU3NDQxNjk1NDhjZGJkYjIyMjM0YTI0M2Q4N2QuYmluZFBvcHVwKHBvcHVwX2I1YWE5ODNmNDNkYjQzNWFiZmIyZjMzMTUyYTM4OWZmKTsKCiAgICAgICAgICAgIAogICAgICAgIAogICAgCiAgICAgICAgICAgIHZhciBjaXJjbGVfbWFya2VyX2UyOTdkMmY5MTFmNDRiNGQ5YmFkNmU0MDVhNDIzMjdiID0gTC5jaXJjbGVNYXJrZXIoCiAgICAgICAgICAgICAgICBbNDEuODY0NDgzLC04Ny42NjgyNzA5OTk5OTk5OV0sCiAgICAgICAgICAgICAgICB7CiAgImJ1YmJsaW5nTW91c2VFdmVudHMiOiB0cnVlLAogICJjb2xvciI6ICIjMDBiNWViIiwKICAiZGFzaEFycmF5IjogbnVsbCwKICAiZGFzaE9mZnNldCI6IG51bGwsCiAgImZpbGwiOiB0cnVlLAogICJmaWxsQ29sb3IiOiAiIzAwYjVlYiIsCiAgImZpbGxPcGFjaXR5IjogMC43LAogICJmaWxsUnVsZSI6ICJldmVub2RkIiwKICAibGluZUNhcCI6ICJyb3VuZCIsCiAgImxpbmVKb2luIjogInJvdW5kIiwKICAib3BhY2l0eSI6IDEuMCwKICAicmFkaXVzIjogNSwKICAic3Ryb2tlIjogdHJ1ZSwKICAid2VpZ2h0IjogMwp9CiAgICAgICAgICAgICAgICApLmFkZFRvKG1hcF9iNjE3NWZjZjFlNTM0NjY2YmNmNzgzZGI0NWM0NGM3Myk7CiAgICAgICAgICAgIAogICAgCiAgICAgICAgICAgIHZhciBwb3B1cF9mZTZlNWYwNGIzYzE0ZDk4OWYyZDA4YzkwMWVjMmUxOSA9IEwucG9wdXAoe21heFdpZHRoOiAnMzAwJ30pOwoKICAgICAgICAgICAgCiAgICAgICAgICAgICAgICB2YXIgaHRtbF8wYWIzM2FmMTc3NGU0ODgxYTYwYzc4ZTkxN2ViNjI2MiA9ICQoJzxkaXYgaWQ9Imh0bWxfMGFiMzNhZjE3NzRlNDg4MWE2MGM3OGU5MTdlYjYyNjIiIHN0eWxlPSJ3aWR0aDogMTAwLjAlOyBoZWlnaHQ6IDEwMC4wJTsiPlNpbXBzb24gQWNhZGVteSBmb3IgWW91bmcgV29tZW4gQ2x1c3RlciAyPC9kaXY+JylbMF07CiAgICAgICAgICAgICAgICBwb3B1cF9mZTZlNWYwNGIzYzE0ZDk4OWYyZDA4YzkwMWVjMmUxOS5zZXRDb250ZW50KGh0bWxfMGFiMzNhZjE3NzRlNDg4MWE2MGM3OGU5MTdlYjYyNjIpOwogICAgICAgICAgICAKCiAgICAgICAgICAgIGNpcmNsZV9tYXJrZXJfZTI5N2QyZjkxMWY0NGI0ZDliYWQ2ZTQwNWE0MjMyN2IuYmluZFBvcHVwKHBvcHVwX2ZlNmU1ZjA0YjNjMTRkOTg5ZjJkMDhjOTAxZWMyZTE5KTsKCiAgICAgICAgICAgIAogICAgICAgIAogICAgCiAgICAgICAgICAgIHZhciBjaXJjbGVfbWFya2VyX2FjYzk0ZDZjNTNiYzQyZDY5OWQ0OTk5MTc1YTYxOWJkID0gTC5jaXJjbGVNYXJrZXIoCiAgICAgICAgICAgICAgICBbNDEuOTEwNTk2NzczNzI1MDc1LC04Ny42MzA4ODE0MDgwMzM3M10sCiAgICAgICAgICAgICAgICB7CiAgImJ1YmJsaW5nTW91c2VFdmVudHMiOiB0cnVlLAogICJjb2xvciI6ICIjMDBiNWViIiwKICAiZGFzaEFycmF5IjogbnVsbCwKICAiZGFzaE9mZnNldCI6IG51bGwsCiAgImZpbGwiOiB0cnVlLAogICJmaWxsQ29sb3IiOiAiIzAwYjVlYiIsCiAgImZpbGxPcGFjaXR5IjogMC43LAogICJmaWxsUnVsZSI6ICJldmVub2RkIiwKICAibGluZUNhcCI6ICJyb3VuZCIsCiAgImxpbmVKb2luIjogInJvdW5kIiwKICAib3BhY2l0eSI6IDEuMCwKICAicmFkaXVzIjogNSwKICAic3Ryb2tlIjogdHJ1ZSwKICAid2VpZ2h0IjogMwp9CiAgICAgICAgICAgICAgICApLmFkZFRvKG1hcF9iNjE3NWZjZjFlNTM0NjY2YmNmNzgzZGI0NWM0NGM3Myk7CiAgICAgICAgICAgIAogICAgCiAgICAgICAgICAgIHZhciBwb3B1cF85N2U0MzgzY2ViMmU0MDdiOGI2MmQ4NmM5MTM3ZjYzYSA9IEwucG9wdXAoe21heFdpZHRoOiAnMzAwJ30pOwoKICAgICAgICAgICAgCiAgICAgICAgICAgICAgICB2YXIgaHRtbF9jNmZhZDFlMGU3MWM0NGJjOWRkZmQ4MzIxNzczMTFhNCA9ICQoJzxkaXYgaWQ9Imh0bWxfYzZmYWQxZTBlNzFjNDRiYzlkZGZkODMyMTc3MzExYTQiIHN0eWxlPSJ3aWR0aDogMTAwLjAlOyBoZWlnaHQ6IDEwMC4wJTsiPkxhdGluIFNjaG9vbCBvZiBDaGljYWdvIENsdXN0ZXIgMjwvZGl2PicpWzBdOwogICAgICAgICAgICAgICAgcG9wdXBfOTdlNDM4M2NlYjJlNDA3YjhiNjJkODZjOTEzN2Y2M2Euc2V0Q29udGVudChodG1sX2M2ZmFkMWUwZTcxYzQ0YmM5ZGRmZDgzMjE3NzMxMWE0KTsKICAgICAgICAgICAgCgogICAgICAgICAgICBjaXJjbGVfbWFya2VyX2FjYzk0ZDZjNTNiYzQyZDY5OWQ0OTk5MTc1YTYxOWJkLmJpbmRQb3B1cChwb3B1cF85N2U0MzgzY2ViMmU0MDdiOGI2MmQ4NmM5MTM3ZjYzYSk7CgogICAgICAgICAgICAKICAgICAgICAKICAgIAogICAgICAgICAgICB2YXIgY2lyY2xlX21hcmtlcl81OThjYTg2ZmQ5MjA0ZmZjYjlhMjBmZDhjZTk3M2Q0NyA9IEwuY2lyY2xlTWFya2VyKAogICAgICAgICAgICAgICAgWzQxLjgzOTU2NCwtODcuNjMyMDA2XSwKICAgICAgICAgICAgICAgIHsKICAiYnViYmxpbmdNb3VzZUV2ZW50cyI6IHRydWUsCiAgImNvbG9yIjogIiNmZjAwMDAiLAogICJkYXNoQXJyYXkiOiBudWxsLAogICJkYXNoT2Zmc2V0IjogbnVsbCwKICAiZmlsbCI6IHRydWUsCiAgImZpbGxDb2xvciI6ICIjZmYwMDAwIiwKICAiZmlsbE9wYWNpdHkiOiAwLjcsCiAgImZpbGxSdWxlIjogImV2ZW5vZGQiLAogICJsaW5lQ2FwIjogInJvdW5kIiwKICAibGluZUpvaW4iOiAicm91bmQiLAogICJvcGFjaXR5IjogMS4wLAogICJyYWRpdXMiOiA1LAogICJzdHJva2UiOiB0cnVlLAogICJ3ZWlnaHQiOiAzCn0KICAgICAgICAgICAgICAgICkuYWRkVG8obWFwX2I2MTc1ZmNmMWU1MzQ2NjZiY2Y3ODNkYjQ1YzQ0YzczKTsKICAgICAgICAgICAgCiAgICAKICAgICAgICAgICAgdmFyIHBvcHVwXzJlYmU1ZWU2NTc1ZjQxYzk4MzcwYzM4NDdkZWM0MTkzID0gTC5wb3B1cCh7bWF4V2lkdGg6ICczMDAnfSk7CgogICAgICAgICAgICAKICAgICAgICAgICAgICAgIHZhciBodG1sXzI0MGIxMjc0NzgxMDRiODE4ZGE2MjI5NDE3MzVmY2U4ID0gJCgnPGRpdiBpZD0iaHRtbF8yNDBiMTI3NDc4MTA0YjgxOGRhNjIyOTQxNzM1ZmNlOCIgc3R5bGU9IndpZHRoOiAxMDAuMCU7IGhlaWdodDogMTAwLjAlOyI+VXBiZWF0IE11c2ljIFNjaG9vbCBDbHVzdGVyIDA8L2Rpdj4nKVswXTsKICAgICAgICAgICAgICAgIHBvcHVwXzJlYmU1ZWU2NTc1ZjQxYzk4MzcwYzM4NDdkZWM0MTkzLnNldENvbnRlbnQoaHRtbF8yNDBiMTI3NDc4MTA0YjgxOGRhNjIyOTQxNzM1ZmNlOCk7CiAgICAgICAgICAgIAoKICAgICAgICAgICAgY2lyY2xlX21hcmtlcl81OThjYTg2ZmQ5MjA0ZmZjYjlhMjBmZDhjZTk3M2Q0Ny5iaW5kUG9wdXAocG9wdXBfMmViZTVlZTY1NzVmNDFjOTgzNzBjMzg0N2RlYzQxOTMpOwoKICAgICAgICAgICAgCiAgICAgICAgCiAgICAKICAgICAgICAgICAgdmFyIGNpcmNsZV9tYXJrZXJfY2UxMThkM2IxNTQ3NGJiNzg0NmNlNzBkYzNiNGRkMDcgPSBMLmNpcmNsZU1hcmtlcigKICAgICAgICAgICAgICAgIFs0MS45MDkzNzA4ODEzMjIyMywtODcuNjQ0MjEyNDQxNTAyNzVdLAogICAgICAgICAgICAgICAgewogICJidWJibGluZ01vdXNlRXZlbnRzIjogdHJ1ZSwKICAiY29sb3IiOiAiIzAwYjVlYiIsCiAgImRhc2hBcnJheSI6IG51bGwsCiAgImRhc2hPZmZzZXQiOiBudWxsLAogICJmaWxsIjogdHJ1ZSwKICAiZmlsbENvbG9yIjogIiMwMGI1ZWIiLAogICJmaWxsT3BhY2l0eSI6IDAuNywKICAiZmlsbFJ1bGUiOiAiZXZlbm9kZCIsCiAgImxpbmVDYXAiOiAicm91bmQiLAogICJsaW5lSm9pbiI6ICJyb3VuZCIsCiAgIm9wYWNpdHkiOiAxLjAsCiAgInJhZGl1cyI6IDUsCiAgInN0cm9rZSI6IHRydWUsCiAgIndlaWdodCI6IDMKfQogICAgICAgICAgICAgICAgKS5hZGRUbyhtYXBfYjYxNzVmY2YxZTUzNDY2NmJjZjc4M2RiNDVjNDRjNzMpOwogICAgICAgICAgICAKICAgIAogICAgICAgICAgICB2YXIgcG9wdXBfNDQxYTViYzQ2ZGQyNDEzNjkwN2NiMWE5MmMwNWJkZTMgPSBMLnBvcHVwKHttYXhXaWR0aDogJzMwMCd9KTsKCiAgICAgICAgICAgIAogICAgICAgICAgICAgICAgdmFyIGh0bWxfZWNiZDI1OWQ5ZWZmNGE5ZTliOTY2MjFlMDIyZWUxYTIgPSAkKCc8ZGl2IGlkPSJodG1sX2VjYmQyNTlkOWVmZjRhOWU5Yjk2NjIxZTAyMmVlMWEyIiBzdHlsZT0id2lkdGg6IDEwMC4wJTsgaGVpZ2h0OiAxMDAuMCU7Ij5OZWFyIE5vcnRoIEhpZ2ggU2Nob29sIENsdXN0ZXIgMjwvZGl2PicpWzBdOwogICAgICAgICAgICAgICAgcG9wdXBfNDQxYTViYzQ2ZGQyNDEzNjkwN2NiMWE5MmMwNWJkZTMuc2V0Q29udGVudChodG1sX2VjYmQyNTlkOWVmZjRhOWU5Yjk2NjIxZTAyMmVlMWEyKTsKICAgICAgICAgICAgCgogICAgICAgICAgICBjaXJjbGVfbWFya2VyX2NlMTE4ZDNiMTU0NzRiYjc4NDZjZTcwZGMzYjRkZDA3LmJpbmRQb3B1cChwb3B1cF80NDFhNWJjNDZkZDI0MTM2OTA3Y2IxYTkyYzA1YmRlMyk7CgogICAgICAgICAgICAKICAgICAgICAKICAgIAogICAgICAgICAgICB2YXIgY2lyY2xlX21hcmtlcl8yMzlhM2UxZjNmOTE0NTc3YTdmYWU0MzEwYTE0MjUzNSA9IEwuY2lyY2xlTWFya2VyKAogICAgICAgICAgICAgICAgWzQxLjg1Mjg3NjQ4NTIxODU5LC04Ny42NjM2OTc1ODQ3Njk4NF0sCiAgICAgICAgICAgICAgICB7CiAgImJ1YmJsaW5nTW91c2VFdmVudHMiOiB0cnVlLAogICJjb2xvciI6ICIjMDBiNWViIiwKICAiZGFzaEFycmF5IjogbnVsbCwKICAiZGFzaE9mZnNldCI6IG51bGwsCiAgImZpbGwiOiB0cnVlLAogICJmaWxsQ29sb3IiOiAiIzAwYjVlYiIsCiAgImZpbGxPcGFjaXR5IjogMC43LAogICJmaWxsUnVsZSI6ICJldmVub2RkIiwKICAibGluZUNhcCI6ICJyb3VuZCIsCiAgImxpbmVKb2luIjogInJvdW5kIiwKICAib3BhY2l0eSI6IDEuMCwKICAicmFkaXVzIjogNSwKICAic3Ryb2tlIjogdHJ1ZSwKICAid2VpZ2h0IjogMwp9CiAgICAgICAgICAgICAgICApLmFkZFRvKG1hcF9iNjE3NWZjZjFlNTM0NjY2YmNmNzgzZGI0NWM0NGM3Myk7CiAgICAgICAgICAgIAogICAgCiAgICAgICAgICAgIHZhciBwb3B1cF9lM2M1MTU1OWUxMWQ0OGJkOWVhZDUzZTMyNDk3MGI3OCA9IEwucG9wdXAoe21heFdpZHRoOiAnMzAwJ30pOwoKICAgICAgICAgICAgCiAgICAgICAgICAgICAgICB2YXIgaHRtbF82MzIwMGZhMmNiZWI0MmFlYjZkYzg3ZGQwZmViZmIxYiA9ICQoJzxkaXYgaWQ9Imh0bWxfNjMyMDBmYTJjYmViNDJhZWI2ZGM4N2RkMGZlYmZiMWIiIHN0eWxlPSJ3aWR0aDogMTAwLjAlOyBoZWlnaHQ6IDEwMC4wJTsiPkJlbml0byBKdWFyZXogQ29tbXVuaXR5IEFjYWRlbXkgQ2x1c3RlciAyPC9kaXY+JylbMF07CiAgICAgICAgICAgICAgICBwb3B1cF9lM2M1MTU1OWUxMWQ0OGJkOWVhZDUzZTMyNDk3MGI3OC5zZXRDb250ZW50KGh0bWxfNjMyMDBmYTJjYmViNDJhZWI2ZGM4N2RkMGZlYmZiMWIpOwogICAgICAgICAgICAKCiAgICAgICAgICAgIGNpcmNsZV9tYXJrZXJfMjM5YTNlMWYzZjkxNDU3N2E3ZmFlNDMxMGExNDI1MzUuYmluZFBvcHVwKHBvcHVwX2UzYzUxNTU5ZTExZDQ4YmQ5ZWFkNTNlMzI0OTcwYjc4KTsKCiAgICAgICAgICAgIAogICAgICAgIAogICAgCiAgICAgICAgICAgIHZhciBjaXJjbGVfbWFya2VyXzNjZGNkMDYxZWUxOTRkN2RiM2YwMWRiNTViOGJjNThjID0gTC5jaXJjbGVNYXJrZXIoCiAgICAgICAgICAgICAgICBbNDEuOTAwMDc4LC04Ny42NjI3ODVdLAogICAgICAgICAgICAgICAgewogICJidWJibGluZ01vdXNlRXZlbnRzIjogdHJ1ZSwKICAiY29sb3IiOiAiIzAwYjVlYiIsCiAgImRhc2hBcnJheSI6IG51bGwsCiAgImRhc2hPZmZzZXQiOiBudWxsLAogICJmaWxsIjogdHJ1ZSwKICAiZmlsbENvbG9yIjogIiMwMGI1ZWIiLAogICJmaWxsT3BhY2l0eSI6IDAuNywKICAiZmlsbFJ1bGUiOiAiZXZlbm9kZCIsCiAgImxpbmVDYXAiOiAicm91bmQiLAogICJsaW5lSm9pbiI6ICJyb3VuZCIsCiAgIm9wYWNpdHkiOiAxLjAsCiAgInJhZGl1cyI6IDUsCiAgInN0cm9rZSI6IHRydWUsCiAgIndlaWdodCI6IDMKfQogICAgICAgICAgICAgICAgKS5hZGRUbyhtYXBfYjYxNzVmY2YxZTUzNDY2NmJjZjc4M2RiNDVjNDRjNzMpOwogICAgICAgICAgICAKICAgIAogICAgICAgICAgICB2YXIgcG9wdXBfMTdlNjk4YWQwMjNmNDE1MmFmODlkMDhkMWY3YTE0MjAgPSBMLnBvcHVwKHttYXhXaWR0aDogJzMwMCd9KTsKCiAgICAgICAgICAgIAogICAgICAgICAgICAgICAgdmFyIGh0bWxfZmQyZGRkYzkwYzFjNDcyMjhhZDQyODA3ZmEzNDJlMmQgPSAkKCc8ZGl2IGlkPSJodG1sX2ZkMmRkZGM5MGMxYzQ3MjI4YWQ0MjgwN2ZhMzQyZTJkIiBzdHlsZT0id2lkdGg6IDEwMC4wJTsgaGVpZ2h0OiAxMDAuMCU7Ij5Ob2JsZSBTdHJlZXQgQ29sbGVnZSBQcmVwIENsdXN0ZXIgMjwvZGl2PicpWzBdOwogICAgICAgICAgICAgICAgcG9wdXBfMTdlNjk4YWQwMjNmNDE1MmFmODlkMDhkMWY3YTE0MjAuc2V0Q29udGVudChodG1sX2ZkMmRkZGM5MGMxYzQ3MjI4YWQ0MjgwN2ZhMzQyZTJkKTsKICAgICAgICAgICAgCgogICAgICAgICAgICBjaXJjbGVfbWFya2VyXzNjZGNkMDYxZWUxOTRkN2RiM2YwMWRiNTViOGJjNThjLmJpbmRQb3B1cChwb3B1cF8xN2U2OThhZDAyM2Y0MTUyYWY4OWQwOGQxZjdhMTQyMCk7CgogICAgICAgICAgICAKICAgICAgICAKICAgIAogICAgICAgICAgICB2YXIgY2lyY2xlX21hcmtlcl9jMzI4NTI4MzU1Y2Y0OGJhYjM0NWY4Njg0ZWViY2YxZSA9IEwuY2lyY2xlTWFya2VyKAogICAgICAgICAgICAgICAgWzQxLjg5ODc5NTY3ODgwNTQ4NCwtODcuNjY3NDk1ODM1NTg4NTddLAogICAgICAgICAgICAgICAgewogICJidWJibGluZ01vdXNlRXZlbnRzIjogdHJ1ZSwKICAiY29sb3IiOiAiIzgwMDBmZiIsCiAgImRhc2hBcnJheSI6IG51bGwsCiAgImRhc2hPZmZzZXQiOiBudWxsLAogICJmaWxsIjogdHJ1ZSwKICAiZmlsbENvbG9yIjogIiM4MDAwZmYiLAogICJmaWxsT3BhY2l0eSI6IDAuNywKICAiZmlsbFJ1bGUiOiAiZXZlbm9kZCIsCiAgImxpbmVDYXAiOiAicm91bmQiLAogICJsaW5lSm9pbiI6ICJyb3VuZCIsCiAgIm9wYWNpdHkiOiAxLjAsCiAgInJhZGl1cyI6IDUsCiAgInN0cm9rZSI6IHRydWUsCiAgIndlaWdodCI6IDMKfQogICAgICAgICAgICAgICAgKS5hZGRUbyhtYXBfYjYxNzVmY2YxZTUzNDY2NmJjZjc4M2RiNDVjNDRjNzMpOwogICAgICAgICAgICAKICAgIAogICAgICAgICAgICB2YXIgcG9wdXBfMTRkNzQ5MTFiYzQ1NDNlNzkxM2VjNzFhNWI4N2UzYjIgPSBMLnBvcHVwKHttYXhXaWR0aDogJzMwMCd9KTsKCiAgICAgICAgICAgIAogICAgICAgICAgICAgICAgdmFyIGh0bWxfMTg2ZmI3MGYzNmVmNDQ0YmJjMTlhMmI1OGZhYTExMjggPSAkKCc8ZGl2IGlkPSJodG1sXzE4NmZiNzBmMzZlZjQ0NGJiYzE5YTJiNThmYWExMTI4IiBzdHlsZT0id2lkdGg6IDEwMC4wJTsgaGVpZ2h0OiAxMDAuMCU7Ij5XaWxsaWFtIEguIFdlbGxzIENvbW11bml0eSBILlMuIENsdXN0ZXIgMTwvZGl2PicpWzBdOwogICAgICAgICAgICAgICAgcG9wdXBfMTRkNzQ5MTFiYzQ1NDNlNzkxM2VjNzFhNWI4N2UzYjIuc2V0Q29udGVudChodG1sXzE4NmZiNzBmMzZlZjQ0NGJiYzE5YTJiNThmYWExMTI4KTsKICAgICAgICAgICAgCgogICAgICAgICAgICBjaXJjbGVfbWFya2VyX2MzMjg1MjgzNTVjZjQ4YmFiMzQ1Zjg2ODRlZWJjZjFlLmJpbmRQb3B1cChwb3B1cF8xNGQ3NDkxMWJjNDU0M2U3OTEzZWM3MWE1Yjg3ZTNiMik7CgogICAgICAgICAgICAKICAgICAgICAKICAgIAogICAgICAgICAgICB2YXIgY2lyY2xlX21hcmtlcl9hMmQxZmM5ODU5ODM0ZTNjODRkOTVlMTY3NzlkNDA4ZiA9IEwuY2lyY2xlTWFya2VyKAogICAgICAgICAgICAgICAgWzQxLjg2NTY1MDIxMzAyODY3LC04Ny42NzU5NTYxMjc3Mjc0Nl0sCiAgICAgICAgICAgICAgICB7CiAgImJ1YmJsaW5nTW91c2VFdmVudHMiOiB0cnVlLAogICJjb2xvciI6ICIjMDBiNWViIiwKICAiZGFzaEFycmF5IjogbnVsbCwKICAiZGFzaE9mZnNldCI6IG51bGwsCiAgImZpbGwiOiB0cnVlLAogICJmaWxsQ29sb3IiOiAiIzAwYjVlYiIsCiAgImZpbGxPcGFjaXR5IjogMC43LAogICJmaWxsUnVsZSI6ICJldmVub2RkIiwKICAibGluZUNhcCI6ICJyb3VuZCIsCiAgImxpbmVKb2luIjogInJvdW5kIiwKICAib3BhY2l0eSI6IDEuMCwKICAicmFkaXVzIjogNSwKICAic3Ryb2tlIjogdHJ1ZSwKICAid2VpZ2h0IjogMwp9CiAgICAgICAgICAgICAgICApLmFkZFRvKG1hcF9iNjE3NWZjZjFlNTM0NjY2YmNmNzgzZGI0NWM0NGM3Myk7CiAgICAgICAgICAgIAogICAgCiAgICAgICAgICAgIHZhciBwb3B1cF9mMmU4OGQxNjQ2OTk0NjBlYTkxNTVjMGZmMDBkOTNlOCA9IEwucG9wdXAoe21heFdpZHRoOiAnMzAwJ30pOwoKICAgICAgICAgICAgCiAgICAgICAgICAgICAgICB2YXIgaHRtbF9jYjk3ZTdmN2IwYjU0ZmJmYTVmYzNhNTFiMjAzZjMwMSA9ICQoJzxkaXYgaWQ9Imh0bWxfY2I5N2U3ZjdiMGI1NGZiZmE1ZmMzYTUxYjIwM2YzMDEiIHN0eWxlPSJ3aWR0aDogMTAwLjAlOyBoZWlnaHQ6IDEwMC4wJTsiPlVJQyBDb2xsZWdlIFByZXAgQ2x1c3RlciAyPC9kaXY+JylbMF07CiAgICAgICAgICAgICAgICBwb3B1cF9mMmU4OGQxNjQ2OTk0NjBlYTkxNTVjMGZmMDBkOTNlOC5zZXRDb250ZW50KGh0bWxfY2I5N2U3ZjdiMGI1NGZiZmE1ZmMzYTUxYjIwM2YzMDEpOwogICAgICAgICAgICAKCiAgICAgICAgICAgIGNpcmNsZV9tYXJrZXJfYTJkMWZjOTg1OTgzNGUzYzg0ZDk1ZTE2Nzc5ZDQwOGYuYmluZFBvcHVwKHBvcHVwX2YyZTg4ZDE2NDY5OTQ2MGVhOTE1NWMwZmYwMGQ5M2U4KTsKCiAgICAgICAgICAgIAogICAgICAgIAogICAgCiAgICAgICAgICAgIHZhciBjaXJjbGVfbWFya2VyXzVlYTllZjFjN2M0ZDRhOTE5MzNmYTU0YjZiYzFiMDAyID0gTC5jaXJjbGVNYXJrZXIoCiAgICAgICAgICAgICAgICBbNDEuODk5NTQ0OTE2MjYxNDU1LC04Ny42Njc1MzQ5MDQzMjA5XSwKICAgICAgICAgICAgICAgIHsKICAiYnViYmxpbmdNb3VzZUV2ZW50cyI6IHRydWUsCiAgImNvbG9yIjogIiM4MDAwZmYiLAogICJkYXNoQXJyYXkiOiBudWxsLAogICJkYXNoT2Zmc2V0IjogbnVsbCwKICAiZmlsbCI6IHRydWUsCiAgImZpbGxDb2xvciI6ICIjODAwMGZmIiwKICAiZmlsbE9wYWNpdHkiOiAwLjcsCiAgImZpbGxSdWxlIjogImV2ZW5vZGQiLAogICJsaW5lQ2FwIjogInJvdW5kIiwKICAibGluZUpvaW4iOiAicm91bmQiLAogICJvcGFjaXR5IjogMS4wLAogICJyYWRpdXMiOiA1LAogICJzdHJva2UiOiB0cnVlLAogICJ3ZWlnaHQiOiAzCn0KICAgICAgICAgICAgICAgICkuYWRkVG8obWFwX2I2MTc1ZmNmMWU1MzQ2NjZiY2Y3ODNkYjQ1YzQ0YzczKTsKICAgICAgICAgICAgCiAgICAKICAgICAgICAgICAgdmFyIHBvcHVwXzhjNGY5Y2VjYWQxMTQxYjc5YTdlZDRmZGM3ODcxZmQ0ID0gTC5wb3B1cCh7bWF4V2lkdGg6ICczMDAnfSk7CgogICAgICAgICAgICAKICAgICAgICAgICAgICAgIHZhciBodG1sXzBmZmMyYWMxMWU4YTQzMzdhOTA0ODU4ODhmNzk5NmU5ID0gJCgnPGRpdiBpZD0iaHRtbF8wZmZjMmFjMTFlOGE0MzM3YTkwNDg1ODg4Zjc5OTZlOSIgc3R5bGU9IndpZHRoOiAxMDAuMCU7IGhlaWdodDogMTAwLjAlOyI+V2VsbHMgQ29tbXVuaXR5IEFjYWRlbXkgSGlnaCBTY2hvb2wgQ2x1c3RlciAxPC9kaXY+JylbMF07CiAgICAgICAgICAgICAgICBwb3B1cF84YzRmOWNlY2FkMTE0MWI3OWE3ZWQ0ZmRjNzg3MWZkNC5zZXRDb250ZW50KGh0bWxfMGZmYzJhYzExZThhNDMzN2E5MDQ4NTg4OGY3OTk2ZTkpOwogICAgICAgICAgICAKCiAgICAgICAgICAgIGNpcmNsZV9tYXJrZXJfNWVhOWVmMWM3YzRkNGE5MTkzM2ZhNTRiNmJjMWIwMDIuYmluZFBvcHVwKHBvcHVwXzhjNGY5Y2VjYWQxMTQxYjc5YTdlZDRmZGM3ODcxZmQ0KTsKCiAgICAgICAgICAgIAogICAgICAgIAogICAgCiAgICAgICAgICAgIHZhciBjaXJjbGVfbWFya2VyX2EzNzcyNjIwNWViMzQxZDJhOGM0MGNmNzI3M2I3YmFhID0gTC5jaXJjbGVNYXJrZXIoCiAgICAgICAgICAgICAgICBbNDEuOTAzMzYzNDYwMTI4OTcsLTg3LjY2MzkzMDc5Mjc0NTE4XSwKICAgICAgICAgICAgICAgIHsKICAiYnViYmxpbmdNb3VzZUV2ZW50cyI6IHRydWUsCiAgImNvbG9yIjogIiMwMGI1ZWIiLAogICJkYXNoQXJyYXkiOiBudWxsLAogICJkYXNoT2Zmc2V0IjogbnVsbCwKICAiZmlsbCI6IHRydWUsCiAgImZpbGxDb2xvciI6ICIjMDBiNWViIiwKICAiZmlsbE9wYWNpdHkiOiAwLjcsCiAgImZpbGxSdWxlIjogImV2ZW5vZGQiLAogICJsaW5lQ2FwIjogInJvdW5kIiwKICAibGluZUpvaW4iOiAicm91bmQiLAogICJvcGFjaXR5IjogMS4wLAogICJyYWRpdXMiOiA1LAogICJzdHJva2UiOiB0cnVlLAogICJ3ZWlnaHQiOiAzCn0KICAgICAgICAgICAgICAgICkuYWRkVG8obWFwX2I2MTc1ZmNmMWU1MzQ2NjZiY2Y3ODNkYjQ1YzQ0YzczKTsKICAgICAgICAgICAgCiAgICAKICAgICAgICAgICAgdmFyIHBvcHVwXzNmMWM0ZjVkZjI2MzQ4NmU4MWJkNTIyZjgzNzZiYjJjID0gTC5wb3B1cCh7bWF4V2lkdGg6ICczMDAnfSk7CgogICAgICAgICAgICAKICAgICAgICAgICAgICAgIHZhciBodG1sXzliYTdkYzY5MWU4NDQ5MzA5ZWI5MzM1N2U3Y2E5ZTQ0ID0gJCgnPGRpdiBpZD0iaHRtbF85YmE3ZGM2OTFlODQ0OTMwOWViOTMzNTdlN2NhOWU0NCIgc3R5bGU9IndpZHRoOiAxMDAuMCU7IGhlaWdodDogMTAwLjAlOyI+SG9seSBUcmluaXR5IEhpZ2ggU2Nob29sIENsdXN0ZXIgMjwvZGl2PicpWzBdOwogICAgICAgICAgICAgICAgcG9wdXBfM2YxYzRmNWRmMjYzNDg2ZTgxYmQ1MjJmODM3NmJiMmMuc2V0Q29udGVudChodG1sXzliYTdkYzY5MWU4NDQ5MzA5ZWI5MzM1N2U3Y2E5ZTQ0KTsKICAgICAgICAgICAgCgogICAgICAgICAgICBjaXJjbGVfbWFya2VyX2EzNzcyNjIwNWViMzQxZDJhOGM0MGNmNzI3M2I3YmFhLmJpbmRQb3B1cChwb3B1cF8zZjFjNGY1ZGYyNjM0ODZlODFiZDUyMmY4Mzc2YmIyYyk7CgogICAgICAgICAgICAKICAgICAgICAKICAgIAogICAgICAgICAgICB2YXIgY2lyY2xlX21hcmtlcl9jYzc1Nzc3YjkyNjQ0NmJjOGNhMzczNWE2YzM4YmQzNSA9IEwuY2lyY2xlTWFya2VyKAogICAgICAgICAgICAgICAgWzQxLjg5OTQ4NTEzMDY1MTI1LC04Ny42Njg3MzQ5MDk4NTUxNV0sCiAgICAgICAgICAgICAgICB7CiAgImJ1YmJsaW5nTW91c2VFdmVudHMiOiB0cnVlLAogICJjb2xvciI6ICIjODAwMGZmIiwKICAiZGFzaEFycmF5IjogbnVsbCwKICAiZGFzaE9mZnNldCI6IG51bGwsCiAgImZpbGwiOiB0cnVlLAogICJmaWxsQ29sb3IiOiAiIzgwMDBmZiIsCiAgImZpbGxPcGFjaXR5IjogMC43LAogICJmaWxsUnVsZSI6ICJldmVub2RkIiwKICAibGluZUNhcCI6ICJyb3VuZCIsCiAgImxpbmVKb2luIjogInJvdW5kIiwKICAib3BhY2l0eSI6IDEuMCwKICAicmFkaXVzIjogNSwKICAic3Ryb2tlIjogdHJ1ZSwKICAid2VpZ2h0IjogMwp9CiAgICAgICAgICAgICAgICApLmFkZFRvKG1hcF9iNjE3NWZjZjFlNTM0NjY2YmNmNzgzZGI0NWM0NGM3Myk7CiAgICAgICAgICAgIAogICAgCiAgICAgICAgICAgIHZhciBwb3B1cF8xNGFlNzJiNDRmMDk0N2EzODQyOTEyMDFhZTEyMDExNCA9IEwucG9wdXAoe21heFdpZHRoOiAnMzAwJ30pOwoKICAgICAgICAgICAgCiAgICAgICAgICAgICAgICB2YXIgaHRtbF82YjAzYmFhMmNlYzQ0MmI5OTY3NWNjYWVkODc2YjlmZiA9ICQoJzxkaXYgaWQ9Imh0bWxfNmIwM2JhYTJjZWM0NDJiOTk2NzVjY2FlZDg3NmI5ZmYiIHN0eWxlPSJ3aWR0aDogMTAwLjAlOyBoZWlnaHQ6IDEwMC4wJTsiPldlbGxzIEhpZ2ggU2Nob29sIENsdXN0ZXIgMTwvZGl2PicpWzBdOwogICAgICAgICAgICAgICAgcG9wdXBfMTRhZTcyYjQ0ZjA5NDdhMzg0MjkxMjAxYWUxMjAxMTQuc2V0Q29udGVudChodG1sXzZiMDNiYWEyY2VjNDQyYjk5Njc1Y2NhZWQ4NzZiOWZmKTsKICAgICAgICAgICAgCgogICAgICAgICAgICBjaXJjbGVfbWFya2VyX2NjNzU3NzdiOTI2NDQ2YmM4Y2EzNzM1YTZjMzhiZDM1LmJpbmRQb3B1cChwb3B1cF8xNGFlNzJiNDRmMDk0N2EzODQyOTEyMDFhZTEyMDExNCk7CgogICAgICAgICAgICAKICAgICAgICAKICAgIAogICAgICAgICAgICB2YXIgY2lyY2xlX21hcmtlcl9hOGZkZmJmZGM1OWQ0NzBiYjUyYjU1ZDVhN2VjNWRkNiA9IEwuY2lyY2xlTWFya2VyKAogICAgICAgICAgICAgICAgWzQxLjg5MTc5NiwtODcuNjc0NzY4XSwKICAgICAgICAgICAgICAgIHsKICAiYnViYmxpbmdNb3VzZUV2ZW50cyI6IHRydWUsCiAgImNvbG9yIjogIiMwMGI1ZWIiLAogICJkYXNoQXJyYXkiOiBudWxsLAogICJkYXNoT2Zmc2V0IjogbnVsbCwKICAiZmlsbCI6IHRydWUsCiAgImZpbGxDb2xvciI6ICIjMDBiNWViIiwKICAiZmlsbE9wYWNpdHkiOiAwLjcsCiAgImZpbGxSdWxlIjogImV2ZW5vZGQiLAogICJsaW5lQ2FwIjogInJvdW5kIiwKICAibGluZUpvaW4iOiAicm91bmQiLAogICJvcGFjaXR5IjogMS4wLAogICJyYWRpdXMiOiA1LAogICJzdHJva2UiOiB0cnVlLAogICJ3ZWlnaHQiOiAzCn0KICAgICAgICAgICAgICAgICkuYWRkVG8obWFwX2I2MTc1ZmNmMWU1MzQ2NjZiY2Y3ODNkYjQ1YzQ0YzczKTsKICAgICAgICAgICAgCiAgICAKICAgICAgICAgICAgdmFyIHBvcHVwX2JiYzM0NmRlZGU5ZjQ4ZTc5M2EwNWJhMDcwOGIwYWI2ID0gTC5wb3B1cCh7bWF4V2lkdGg6ICczMDAnfSk7CgogICAgICAgICAgICAKICAgICAgICAgICAgICAgIHZhciBodG1sXzIwNDBjOTZlMGIwNDQ0NjhiZjIxOTZiZmJmMzlkYmNiID0gJCgnPGRpdiBpZD0iaHRtbF8yMDQwYzk2ZTBiMDQ0NDY4YmYyMTk2YmZiZjM5ZGJjYiIgc3R5bGU9IndpZHRoOiAxMDAuMCU7IGhlaWdodDogMTAwLjAlOyI+V29sY290dCBTY2hvb2wgQ2x1c3RlciAyPC9kaXY+JylbMF07CiAgICAgICAgICAgICAgICBwb3B1cF9iYmMzNDZkZWRlOWY0OGU3OTNhMDViYTA3MDhiMGFiNi5zZXRDb250ZW50KGh0bWxfMjA0MGM5NmUwYjA0NDQ2OGJmMjE5NmJmYmYzOWRiY2IpOwogICAgICAgICAgICAKCiAgICAgICAgICAgIGNpcmNsZV9tYXJrZXJfYThmZGZiZmRjNTlkNDcwYmI1MmI1NWQ1YTdlYzVkZDYuYmluZFBvcHVwKHBvcHVwX2JiYzM0NmRlZGU5ZjQ4ZTc5M2EwNWJhMDcwOGIwYWI2KTsKCiAgICAgICAgICAgIAogICAgICAgIAogICAgCiAgICAgICAgICAgIHZhciBjaXJjbGVfbWFya2VyX2Q1NzZiMDBhMTRiODQxMzRhNmQ0MjI0NDQ1MWQxYmYxID0gTC5jaXJjbGVNYXJrZXIoCiAgICAgICAgICAgICAgICBbNDEuODc3Mzg4NjgxODE3OTI2LC04Ny42ODIxMTA0OTQwODU1OF0sCiAgICAgICAgICAgICAgICB7CiAgImJ1YmJsaW5nTW91c2VFdmVudHMiOiB0cnVlLAogICJjb2xvciI6ICIjMDBiNWViIiwKICAiZGFzaEFycmF5IjogbnVsbCwKICAiZGFzaE9mZnNldCI6IG51bGwsCiAgImZpbGwiOiB0cnVlLAogICJmaWxsQ29sb3IiOiAiIzAwYjVlYiIsCiAgImZpbGxPcGFjaXR5IjogMC43LAogICJmaWxsUnVsZSI6ICJldmVub2RkIiwKICAibGluZUNhcCI6ICJyb3VuZCIsCiAgImxpbmVKb2luIjogInJvdW5kIiwKICAib3BhY2l0eSI6IDEuMCwKICAicmFkaXVzIjogNSwKICAic3Ryb2tlIjogdHJ1ZSwKICAid2VpZ2h0IjogMwp9CiAgICAgICAgICAgICAgICApLmFkZFRvKG1hcF9iNjE3NWZjZjFlNTM0NjY2YmNmNzgzZGI0NWM0NGM3Myk7CiAgICAgICAgICAgIAogICAgCiAgICAgICAgICAgIHZhciBwb3B1cF82OTdmZjcwMGNhZTA0OTU0YmI5Zjg1YThiOWJmMGM3NiA9IEwucG9wdXAoe21heFdpZHRoOiAnMzAwJ30pOwoKICAgICAgICAgICAgCiAgICAgICAgICAgICAgICB2YXIgaHRtbF83NTNhNmRkYmUyY2M0OTYyYTMyYmYwNzEwOWE4NTA3OSA9ICQoJzxkaXYgaWQ9Imh0bWxfNzUzYTZkZGJlMmNjNDk2MmEzMmJmMDcxMDlhODUwNzkiIHN0eWxlPSJ3aWR0aDogMTAwLjAlOyBoZWlnaHQ6IDEwMC4wJTsiPkNyYW5lIEhpZ2ggU2Nob29sIENsdXN0ZXIgMjwvZGl2PicpWzBdOwogICAgICAgICAgICAgICAgcG9wdXBfNjk3ZmY3MDBjYWUwNDk1NGJiOWY4NWE4YjliZjBjNzYuc2V0Q29udGVudChodG1sXzc1M2E2ZGRiZTJjYzQ5NjJhMzJiZjA3MTA5YTg1MDc5KTsKICAgICAgICAgICAgCgogICAgICAgICAgICBjaXJjbGVfbWFya2VyX2Q1NzZiMDBhMTRiODQxMzRhNmQ0MjI0NDQ1MWQxYmYxLmJpbmRQb3B1cChwb3B1cF82OTdmZjcwMGNhZTA0OTU0YmI5Zjg1YThiOWJmMGM3Nik7CgogICAgICAgICAgICAKICAgICAgICAKICAgIAogICAgICAgICAgICB2YXIgY2lyY2xlX21hcmtlcl85OTkxNGU3OWNiODU0YmYxOTVjNmU1YTNkN2VhNmQzNCA9IEwuY2lyY2xlTWFya2VyKAogICAgICAgICAgICAgICAgWzQxLjg3NzE3ODU5NTY3MTA0LC04Ny42ODQwMTIwMzA5NjYzMV0sCiAgICAgICAgICAgICAgICB7CiAgImJ1YmJsaW5nTW91c2VFdmVudHMiOiB0cnVlLAogICJjb2xvciI6ICIjMDBiNWViIiwKICAiZGFzaEFycmF5IjogbnVsbCwKICAiZGFzaE9mZnNldCI6IG51bGwsCiAgImZpbGwiOiB0cnVlLAogICJmaWxsQ29sb3IiOiAiIzAwYjVlYiIsCiAgImZpbGxPcGFjaXR5IjogMC43LAogICJmaWxsUnVsZSI6ICJldmVub2RkIiwKICAibGluZUNhcCI6ICJyb3VuZCIsCiAgImxpbmVKb2luIjogInJvdW5kIiwKICAib3BhY2l0eSI6IDEuMCwKICAicmFkaXVzIjogNSwKICAic3Ryb2tlIjogdHJ1ZSwKICAid2VpZ2h0IjogMwp9CiAgICAgICAgICAgICAgICApLmFkZFRvKG1hcF9iNjE3NWZjZjFlNTM0NjY2YmNmNzgzZGI0NWM0NGM3Myk7CiAgICAgICAgICAgIAogICAgCiAgICAgICAgICAgIHZhciBwb3B1cF9iNmYyYjYzNzdjYjY0MGZjYmRiOGJhOGUzZjVhMTNkYyA9IEwucG9wdXAoe21heFdpZHRoOiAnMzAwJ30pOwoKICAgICAgICAgICAgCiAgICAgICAgICAgICAgICB2YXIgaHRtbF9lNWQ2Nzg5NjBjOGE0OTA4YmI3YWJkNGVjNDBiM2ZmNCA9ICQoJzxkaXYgaWQ9Imh0bWxfZTVkNjc4OTYwYzhhNDkwOGJiN2FiZDRlYzQwYjNmZjQiIHN0eWxlPSJ3aWR0aDogMTAwLjAlOyBoZWlnaHQ6IDEwMC4wJTsiPlJpY2hhcmQgVC4gQ3JhbmUgTWVkaWNhbCBQcmVwYXJhdG9yeSBIaWdoIFNjaG9vbCBDbHVzdGVyIDI8L2Rpdj4nKVswXTsKICAgICAgICAgICAgICAgIHBvcHVwX2I2ZjJiNjM3N2NiNjQwZmNiZGI4YmE4ZTNmNWExM2RjLnNldENvbnRlbnQoaHRtbF9lNWQ2Nzg5NjBjOGE0OTA4YmI3YWJkNGVjNDBiM2ZmNCk7CiAgICAgICAgICAgIAoKICAgICAgICAgICAgY2lyY2xlX21hcmtlcl85OTkxNGU3OWNiODU0YmYxOTVjNmU1YTNkN2VhNmQzNC5iaW5kUG9wdXAocG9wdXBfYjZmMmI2Mzc3Y2I2NDBmY2JkYjhiYThlM2Y1YTEzZGMpOwoKICAgICAgICAgICAgCiAgICAgICAgCiAgICAKICAgICAgICAgICAgdmFyIGNpcmNsZV9tYXJrZXJfMGJkNjI5MmRiOTIwNGU1MWJjOTFlMTcxNzAyNGYwMmMgPSBMLmNpcmNsZU1hcmtlcigKICAgICAgICAgICAgICAgIFs0MS44MzA1MzYxNzY0NjA0NywtODcuNjE5MjUyNTY3NjQ5MTRdLAogICAgICAgICAgICAgICAgewogICJidWJibGluZ01vdXNlRXZlbnRzIjogdHJ1ZSwKICAiY29sb3IiOiAiIzAwYjVlYiIsCiAgImRhc2hBcnJheSI6IG51bGwsCiAgImRhc2hPZmZzZXQiOiBudWxsLAogICJmaWxsIjogdHJ1ZSwKICAiZmlsbENvbG9yIjogIiMwMGI1ZWIiLAogICJmaWxsT3BhY2l0eSI6IDAuNywKICAiZmlsbFJ1bGUiOiAiZXZlbm9kZCIsCiAgImxpbmVDYXAiOiAicm91bmQiLAogICJsaW5lSm9pbiI6ICJyb3VuZCIsCiAgIm9wYWNpdHkiOiAxLjAsCiAgInJhZGl1cyI6IDUsCiAgInN0cm9rZSI6IHRydWUsCiAgIndlaWdodCI6IDMKfQogICAgICAgICAgICAgICAgKS5hZGRUbyhtYXBfYjYxNzVmY2YxZTUzNDY2NmJjZjc4M2RiNDVjNDRjNzMpOwogICAgICAgICAgICAKICAgIAogICAgICAgICAgICB2YXIgcG9wdXBfZWY5YTQ3MWY5ODA1NDE3Nzg2YTU2NzQ3NGVlZDJjYWQgPSBMLnBvcHVwKHttYXhXaWR0aDogJzMwMCd9KTsKCiAgICAgICAgICAgIAogICAgICAgICAgICAgICAgdmFyIGh0bWxfMTU4NGVhNzMwYjMwNGNiOTk3NzA1ZTFhMzBiN2U4M2UgPSAkKCc8ZGl2IGlkPSJodG1sXzE1ODRlYTczMGIzMDRjYjk5NzcwNWUxYTMwYjdlODNlIiBzdHlsZT0id2lkdGg6IDEwMC4wJTsgaGVpZ2h0OiAxMDAuMCU7Ij5DaGljYWdvIE1pbGl0YXJ5IEFjYWRlbXkgLSBCcm9uemV2aWxsZSBDbHVzdGVyIDI8L2Rpdj4nKVswXTsKICAgICAgICAgICAgICAgIHBvcHVwX2VmOWE0NzFmOTgwNTQxNzc4NmE1Njc0NzRlZWQyY2FkLnNldENvbnRlbnQoaHRtbF8xNTg0ZWE3MzBiMzA0Y2I5OTc3MDVlMWEzMGI3ZTgzZSk7CiAgICAgICAgICAgIAoKICAgICAgICAgICAgY2lyY2xlX21hcmtlcl8wYmQ2MjkyZGI5MjA0ZTUxYmM5MWUxNzE3MDI0ZjAyYy5iaW5kUG9wdXAocG9wdXBfZWY5YTQ3MWY5ODA1NDE3Nzg2YTU2NzQ3NGVlZDJjYWQpOwoKICAgICAgICAgICAgCiAgICAgICAgCiAgICAKICAgICAgICAgICAgdmFyIGNpcmNsZV9tYXJrZXJfOWIzOWJjMTk1MzNlNGY5MGFmNDViOTNiYjg3NmIwZDkgPSBMLmNpcmNsZU1hcmtlcigKICAgICAgICAgICAgICAgIFs0MS45MTg2MjQwMDk3NDg1MiwtODcuNjQ3NDI2NzQ5OTE0MDJdLAogICAgICAgICAgICAgICAgewogICJidWJibGluZ01vdXNlRXZlbnRzIjogdHJ1ZSwKICAiY29sb3IiOiAiIzgwMDBmZiIsCiAgImRhc2hBcnJheSI6IG51bGwsCiAgImRhc2hPZmZzZXQiOiBudWxsLAogICJmaWxsIjogdHJ1ZSwKICAiZmlsbENvbG9yIjogIiM4MDAwZmYiLAogICJmaWxsT3BhY2l0eSI6IDAuNywKICAiZmlsbFJ1bGUiOiAiZXZlbm9kZCIsCiAgImxpbmVDYXAiOiAicm91bmQiLAogICJsaW5lSm9pbiI6ICJyb3VuZCIsCiAgIm9wYWNpdHkiOiAxLjAsCiAgInJhZGl1cyI6IDUsCiAgInN0cm9rZSI6IHRydWUsCiAgIndlaWdodCI6IDMKfQogICAgICAgICAgICAgICAgKS5hZGRUbyhtYXBfYjYxNzVmY2YxZTUzNDY2NmJjZjc4M2RiNDVjNDRjNzMpOwogICAgICAgICAgICAKICAgIAogICAgICAgICAgICB2YXIgcG9wdXBfMDlkNWUxYmNlYWJjNGI5Y2I4MmJjNzcwYWQxMjhhZGYgPSBMLnBvcHVwKHttYXhXaWR0aDogJzMwMCd9KTsKCiAgICAgICAgICAgIAogICAgICAgICAgICAgICAgdmFyIGh0bWxfYmI1OWJmNGU1MmJlNGVhMWFhODJhODdlMjFiZWUwNmYgPSAkKCc8ZGl2IGlkPSJodG1sX2JiNTliZjRlNTJiZTRlYTFhYTgyYTg3ZTIxYmVlMDZmIiBzdHlsZT0id2lkdGg6IDEwMC4wJTsgaGVpZ2h0OiAxMDAuMCU7Ij5MaW5jb2xuIFBhcmsgSGlnaCBTY2hvb2wgQ2x1c3RlciAxPC9kaXY+JylbMF07CiAgICAgICAgICAgICAgICBwb3B1cF8wOWQ1ZTFiY2VhYmM0YjljYjgyYmM3NzBhZDEyOGFkZi5zZXRDb250ZW50KGh0bWxfYmI1OWJmNGU1MmJlNGVhMWFhODJhODdlMjFiZWUwNmYpOwogICAgICAgICAgICAKCiAgICAgICAgICAgIGNpcmNsZV9tYXJrZXJfOWIzOWJjMTk1MzNlNGY5MGFmNDViOTNiYjg3NmIwZDkuYmluZFBvcHVwKHBvcHVwXzA5ZDVlMWJjZWFiYzRiOWNiODJiYzc3MGFkMTI4YWRmKTsKCiAgICAgICAgICAgIAogICAgICAgIAogICAgCiAgICAgICAgICAgIHZhciBjaXJjbGVfbWFya2VyX2MyZDJjMGQ0YzkwYjQ2YmViMjlhYjBiYTBkOGU3NGFkID0gTC5jaXJjbGVNYXJrZXIoCiAgICAgICAgICAgICAgICBbNDEuODI3NDA5MjY1MjU5NTksLTg3LjYyNDk1MDM0NTE0NTgyXSwKICAgICAgICAgICAgICAgIHsKICAiYnViYmxpbmdNb3VzZUV2ZW50cyI6IHRydWUsCiAgImNvbG9yIjogIiMwMGI1ZWIiLAogICJkYXNoQXJyYXkiOiBudWxsLAogICJkYXNoT2Zmc2V0IjogbnVsbCwKICAiZmlsbCI6IHRydWUsCiAgImZpbGxDb2xvciI6ICIjMDBiNWViIiwKICAiZmlsbE9wYWNpdHkiOiAwLjcsCiAgImZpbGxSdWxlIjogImV2ZW5vZGQiLAogICJsaW5lQ2FwIjogInJvdW5kIiwKICAibGluZUpvaW4iOiAicm91bmQiLAogICJvcGFjaXR5IjogMS4wLAogICJyYWRpdXMiOiA1LAogICJzdHJva2UiOiB0cnVlLAogICJ3ZWlnaHQiOiAzCn0KICAgICAgICAgICAgICAgICkuYWRkVG8obWFwX2I2MTc1ZmNmMWU1MzQ2NjZiY2Y3ODNkYjQ1YzQ0YzczKTsKICAgICAgICAgICAgCiAgICAKICAgICAgICAgICAgdmFyIHBvcHVwX2ZmYTg4MjEwMGNiYTRkMWZiYmU1OWI0MjllNTRhYzlkID0gTC5wb3B1cCh7bWF4V2lkdGg6ICczMDAnfSk7CgogICAgICAgICAgICAKICAgICAgICAgICAgICAgIHZhciBodG1sXzNjYWZjZWE4MzgyYTQ5OGZiNTUxZjg1ZjYyN2I0ZTY1ID0gJCgnPGRpdiBpZD0iaHRtbF8zY2FmY2VhODM4MmE0OThmYjU1MWY4NWY2MjdiNGU2NSIgc3R5bGU9IndpZHRoOiAxMDAuMCU7IGhlaWdodDogMTAwLjAlOyI+UGVyc3BlY3RpdmVzIElJVCBNU0EgQ2x1c3RlciAyPC9kaXY+JylbMF07CiAgICAgICAgICAgICAgICBwb3B1cF9mZmE4ODIxMDBjYmE0ZDFmYmJlNTliNDI5ZTU0YWM5ZC5zZXRDb250ZW50KGh0bWxfM2NhZmNlYTgzODJhNDk4ZmI1NTFmODVmNjI3YjRlNjUpOwogICAgICAgICAgICAKCiAgICAgICAgICAgIGNpcmNsZV9tYXJrZXJfYzJkMmMwZDRjOTBiNDZiZWIyOWFiMGJhMGQ4ZTc0YWQuYmluZFBvcHVwKHBvcHVwX2ZmYTg4MjEwMGNiYTRkMWZiYmU1OWI0MjllNTRhYzlkKTsKCiAgICAgICAgICAgIAogICAgICAgIAogICAgCiAgICAgICAgICAgIHZhciBjaXJjbGVfbWFya2VyX2QzOWZmNzhiMjY5YzQ5MzliZGU3MTA0ZTJiYTI5MTk5ID0gTC5jaXJjbGVNYXJrZXIoCiAgICAgICAgICAgICAgICBbNDEuOTIyODQyMzkxMDQ5NjcsLTg3LjYzODUxNjMyOTczNzA5XSwKICAgICAgICAgICAgICAgIHsKICAiYnViYmxpbmdNb3VzZUV2ZW50cyI6IHRydWUsCiAgImNvbG9yIjogIiM4MDAwZmYiLAogICJkYXNoQXJyYXkiOiBudWxsLAogICJkYXNoT2Zmc2V0IjogbnVsbCwKICAiZmlsbCI6IHRydWUsCiAgImZpbGxDb2xvciI6ICIjODAwMGZmIiwKICAiZmlsbE9wYWNpdHkiOiAwLjcsCiAgImZpbGxSdWxlIjogImV2ZW5vZGQiLAogICJsaW5lQ2FwIjogInJvdW5kIiwKICAibGluZUpvaW4iOiAicm91bmQiLAogICJvcGFjaXR5IjogMS4wLAogICJyYWRpdXMiOiA1LAogICJzdHJva2UiOiB0cnVlLAogICJ3ZWlnaHQiOiAzCn0KICAgICAgICAgICAgICAgICkuYWRkVG8obWFwX2I2MTc1ZmNmMWU1MzQ2NjZiY2Y3ODNkYjQ1YzQ0YzczKTsKICAgICAgICAgICAgCiAgICAKICAgICAgICAgICAgdmFyIHBvcHVwXzE4NWQzMzU3ZjFhMjQ2ZWQ4ZWRiMDM1ZDUwZjc3MWM1ID0gTC5wb3B1cCh7bWF4V2lkdGg6ICczMDAnfSk7CgogICAgICAgICAgICAKICAgICAgICAgICAgICAgIHZhciBodG1sXzNkYjExNWZiYmY0ZjQ1MjI4Zjg3MjUwODQ1NDc1NzQwID0gJCgnPGRpdiBpZD0iaHRtbF8zZGIxMTVmYmJmNGY0NTIyOGY4NzI1MDg0NTQ3NTc0MCIgc3R5bGU9IndpZHRoOiAxMDAuMCU7IGhlaWdodDogMTAwLjAlOyI+RnJhbmNpcyBXLiBQYXJrZXIgU2Nob29sIENsdXN0ZXIgMTwvZGl2PicpWzBdOwogICAgICAgICAgICAgICAgcG9wdXBfMTg1ZDMzNTdmMWEyNDZlZDhlZGIwMzVkNTBmNzcxYzUuc2V0Q29udGVudChodG1sXzNkYjExNWZiYmY0ZjQ1MjI4Zjg3MjUwODQ1NDc1NzQwKTsKICAgICAgICAgICAgCgogICAgICAgICAgICBjaXJjbGVfbWFya2VyX2QzOWZmNzhiMjY5YzQ5MzliZGU3MTA0ZTJiYTI5MTk5LmJpbmRQb3B1cChwb3B1cF8xODVkMzM1N2YxYTI0NmVkOGVkYjAzNWQ1MGY3NzFjNSk7CgogICAgICAgICAgICAKICAgICAgICAKICAgIAogICAgICAgICAgICB2YXIgY2lyY2xlX21hcmtlcl8xNzVmMzk1ZTQ1ZTk0NGE2YWY2ODlkYjA4ODgyZGNlZiA9IEwuY2lyY2xlTWFya2VyKAogICAgICAgICAgICAgICAgWzQxLjkwMjcyMTk1NDY2NzY3LC04Ny42ODY1NTU5MTU1MjUyMl0sCiAgICAgICAgICAgICAgICB7CiAgImJ1YmJsaW5nTW91c2VFdmVudHMiOiB0cnVlLAogICJjb2xvciI6ICIjODAwMGZmIiwKICAiZGFzaEFycmF5IjogbnVsbCwKICAiZGFzaE9mZnNldCI6IG51bGwsCiAgImZpbGwiOiB0cnVlLAogICJmaWxsQ29sb3IiOiAiIzgwMDBmZiIsCiAgImZpbGxPcGFjaXR5IjogMC43LAogICJmaWxsUnVsZSI6ICJldmVub2RkIiwKICAibGluZUNhcCI6ICJyb3VuZCIsCiAgImxpbmVKb2luIjogInJvdW5kIiwKICAib3BhY2l0eSI6IDEuMCwKICAicmFkaXVzIjogNSwKICAic3Ryb2tlIjogdHJ1ZSwKICAid2VpZ2h0IjogMwp9CiAgICAgICAgICAgICAgICApLmFkZFRvKG1hcF9iNjE3NWZjZjFlNTM0NjY2YmNmNzgzZGI0NWM0NGM3Myk7CiAgICAgICAgICAgIAogICAgCiAgICAgICAgICAgIHZhciBwb3B1cF84MjEyMDQyMzgwZTQ0MGM1YmMzYzFiNTRjMjliYzM1MyA9IEwucG9wdXAoe21heFdpZHRoOiAnMzAwJ30pOwoKICAgICAgICAgICAgCiAgICAgICAgICAgICAgICB2YXIgaHRtbF84NGU4MTIwNWRjYmQ0Y2U1YTRiYmI1OTZkYjg5OTE4OSA9ICQoJzxkaXYgaWQ9Imh0bWxfODRlODEyMDVkY2JkNGNlNWE0YmJiNTk2ZGI4OTkxODkiIHN0eWxlPSJ3aWR0aDogMTAwLjAlOyBoZWlnaHQ6IDEwMC4wJTsiPlJvYmVydG8gQ2xlbWVudGUgQ29tbXVuaXR5IEFjYWRlbXkgQ2x1c3RlciAxPC9kaXY+JylbMF07CiAgICAgICAgICAgICAgICBwb3B1cF84MjEyMDQyMzgwZTQ0MGM1YmMzYzFiNTRjMjliYzM1My5zZXRDb250ZW50KGh0bWxfODRlODEyMDVkY2JkNGNlNWE0YmJiNTk2ZGI4OTkxODkpOwogICAgICAgICAgICAKCiAgICAgICAgICAgIGNpcmNsZV9tYXJrZXJfMTc1ZjM5NWU0NWU5NDRhNmFmNjg5ZGIwODg4MmRjZWYuYmluZFBvcHVwKHBvcHVwXzgyMTIwNDIzODBlNDQwYzViYzNjMWI1NGMyOWJjMzUzKTsKCiAgICAgICAgICAgIAogICAgICAgIAogICAgCiAgICAgICAgICAgIHZhciBjaXJjbGVfbWFya2VyX2ViNTQ4OGY1OTI2MjQ4NDU4NmE0YTZlZDc5MmI4NGMxID0gTC5jaXJjbGVNYXJrZXIoCiAgICAgICAgICAgICAgICBbNDEuOTAzNTA2NzY3MTM4NiwtODcuNjg2MDkwNDY5MzYwMzVdLAogICAgICAgICAgICAgICAgewogICJidWJibGluZ01vdXNlRXZlbnRzIjogdHJ1ZSwKICAiY29sb3IiOiAiIzgwMDBmZiIsCiAgImRhc2hBcnJheSI6IG51bGwsCiAgImRhc2hPZmZzZXQiOiBudWxsLAogICJmaWxsIjogdHJ1ZSwKICAiZmlsbENvbG9yIjogIiM4MDAwZmYiLAogICJmaWxsT3BhY2l0eSI6IDAuNywKICAiZmlsbFJ1bGUiOiAiZXZlbm9kZCIsCiAgImxpbmVDYXAiOiAicm91bmQiLAogICJsaW5lSm9pbiI6ICJyb3VuZCIsCiAgIm9wYWNpdHkiOiAxLjAsCiAgInJhZGl1cyI6IDUsCiAgInN0cm9rZSI6IHRydWUsCiAgIndlaWdodCI6IDMKfQogICAgICAgICAgICAgICAgKS5hZGRUbyhtYXBfYjYxNzVmY2YxZTUzNDY2NmJjZjc4M2RiNDVjNDRjNzMpOwogICAgICAgICAgICAKICAgIAogICAgICAgICAgICB2YXIgcG9wdXBfM2UxOTQ5ODI0Y2Q3NGY4ZWE4OTM2N2E3MTFlZDE2ZmQgPSBMLnBvcHVwKHttYXhXaWR0aDogJzMwMCd9KTsKCiAgICAgICAgICAgIAogICAgICAgICAgICAgICAgdmFyIGh0bWxfZmExODBjZjQzODFiNDU0MWE5NTAyMzBmM2EyMDJkZDIgPSAkKCc8ZGl2IGlkPSJodG1sX2ZhMTgwY2Y0MzgxYjQ1NDFhOTUwMjMwZjNhMjAyZGQyIiBzdHlsZT0id2lkdGg6IDEwMC4wJTsgaGVpZ2h0OiAxMDAuMCU7Ij5DbGVtZW50ZSBQYXJrIENsdXN0ZXIgMTwvZGl2PicpWzBdOwogICAgICAgICAgICAgICAgcG9wdXBfM2UxOTQ5ODI0Y2Q3NGY4ZWE4OTM2N2E3MTFlZDE2ZmQuc2V0Q29udGVudChodG1sX2ZhMTgwY2Y0MzgxYjQ1NDFhOTUwMjMwZjNhMjAyZGQyKTsKICAgICAgICAgICAgCgogICAgICAgICAgICBjaXJjbGVfbWFya2VyX2ViNTQ4OGY1OTI2MjQ4NDU4NmE0YTZlZDc5MmI4NGMxLmJpbmRQb3B1cChwb3B1cF8zZTE5NDk4MjRjZDc0ZjhlYTg5MzY3YTcxMWVkMTZmZCk7CgogICAgICAgICAgICAKICAgICAgICAKICAgIAogICAgICAgICAgICB2YXIgY2lyY2xlX21hcmtlcl9lODNjMTE4NWVjOTM0YzM4OTA1ZjYzYTZmZWRhMzA1MSA9IEwuY2lyY2xlTWFya2VyKAogICAgICAgICAgICAgICAgWzQxLjkwNTM3NzIxMDM2MzM1NSwtODcuNjg1OTIzMTE1ODI3NTZdLAogICAgICAgICAgICAgICAgewogICJidWJibGluZ01vdXNlRXZlbnRzIjogdHJ1ZSwKICAiY29sb3IiOiAiIzgwMDBmZiIsCiAgImRhc2hBcnJheSI6IG51bGwsCiAgImRhc2hPZmZzZXQiOiBudWxsLAogICJmaWxsIjogdHJ1ZSwKICAiZmlsbENvbG9yIjogIiM4MDAwZmYiLAogICJmaWxsT3BhY2l0eSI6IDAuNywKICAiZmlsbFJ1bGUiOiAiZXZlbm9kZCIsCiAgImxpbmVDYXAiOiAicm91bmQiLAogICJsaW5lSm9pbiI6ICJyb3VuZCIsCiAgIm9wYWNpdHkiOiAxLjAsCiAgInJhZGl1cyI6IDUsCiAgInN0cm9rZSI6IHRydWUsCiAgIndlaWdodCI6IDMKfQogICAgICAgICAgICAgICAgKS5hZGRUbyhtYXBfYjYxNzVmY2YxZTUzNDY2NmJjZjc4M2RiNDVjNDRjNzMpOwogICAgICAgICAgICAKICAgIAogICAgICAgICAgICB2YXIgcG9wdXBfNWVkNjAwZjY3MGE5NDdkZTllOWU4Zjk5MTUwYTE2NDQgPSBMLnBvcHVwKHttYXhXaWR0aDogJzMwMCd9KTsKCiAgICAgICAgICAgIAogICAgICAgICAgICAgICAgdmFyIGh0bWxfMWMyYjE1OWVhZmJjNDljNDgwMzU3YWY3ODVmYzBiYjkgPSAkKCc8ZGl2IGlkPSJodG1sXzFjMmIxNTllYWZiYzQ5YzQ4MDM1N2FmNzg1ZmMwYmI5IiBzdHlsZT0id2lkdGg6IDEwMC4wJTsgaGVpZ2h0OiAxMDAuMCU7Ij5Kb3NlIGRlIERpZWdvIENvbW11bml0eSBBY2FkZW15IENsdXN0ZXIgMTwvZGl2PicpWzBdOwogICAgICAgICAgICAgICAgcG9wdXBfNWVkNjAwZjY3MGE5NDdkZTllOWU4Zjk5MTUwYTE2NDQuc2V0Q29udGVudChodG1sXzFjMmIxNTllYWZiYzQ5YzQ4MDM1N2FmNzg1ZmMwYmI5KTsKICAgICAgICAgICAgCgogICAgICAgICAgICBjaXJjbGVfbWFya2VyX2U4M2MxMTg1ZWM5MzRjMzg5MDVmNjNhNmZlZGEzMDUxLmJpbmRQb3B1cChwb3B1cF81ZWQ2MDBmNjcwYTk0N2RlOWU5ZThmOTkxNTBhMTY0NCk7CgogICAgICAgICAgICAKICAgICAgICAKICAgIAogICAgICAgICAgICB2YXIgY2lyY2xlX21hcmtlcl81OGEzNjFjYmIxYTk0ZDliOTAyMWIyYTYwYWFiODA3YiA9IEwuY2lyY2xlTWFya2VyKAogICAgICAgICAgICAgICAgWzQxLjkwOTAxNDEwMjY3Mjk5LC04Ny42ODQwMDYwNjg1ODk4NF0sCiAgICAgICAgICAgICAgICB7CiAgImJ1YmJsaW5nTW91c2VFdmVudHMiOiB0cnVlLAogICJjb2xvciI6ICIjODAwMGZmIiwKICAiZGFzaEFycmF5IjogbnVsbCwKICAiZGFzaE9mZnNldCI6IG51bGwsCiAgImZpbGwiOiB0cnVlLAogICJmaWxsQ29sb3IiOiAiIzgwMDBmZiIsCiAgImZpbGxPcGFjaXR5IjogMC43LAogICJmaWxsUnVsZSI6ICJldmVub2RkIiwKICAibGluZUNhcCI6ICJyb3VuZCIsCiAgImxpbmVKb2luIjogInJvdW5kIiwKICAib3BhY2l0eSI6IDEuMCwKICAicmFkaXVzIjogNSwKICAic3Ryb2tlIjogdHJ1ZSwKICAid2VpZ2h0IjogMwp9CiAgICAgICAgICAgICAgICApLmFkZFRvKG1hcF9iNjE3NWZjZjFlNTM0NjY2YmNmNzgzZGI0NWM0NGM3Myk7CiAgICAgICAgICAgIAogICAgCiAgICAgICAgICAgIHZhciBwb3B1cF8yMTdlM2U4MDg2YTg0NWQwOGU0NmRkMTUwMjUxM2VjMCA9IEwucG9wdXAoe21heFdpZHRoOiAnMzAwJ30pOwoKICAgICAgICAgICAgCiAgICAgICAgICAgICAgICB2YXIgaHRtbF83ZTU0ZjQ3NzY4Njc0ZmU1YWYxMTE5OTExYjg4NjZjMCA9ICQoJzxkaXYgaWQ9Imh0bWxfN2U1NGY0Nzc2ODY3NGZlNWFmMTExOTkxMWI4ODY2YzAiIHN0eWxlPSJ3aWR0aDogMTAwLjAlOyBoZWlnaHQ6IDEwMC4wJTsiPkpvc2VwaGludW0gQWNhZGVteSBDbHVzdGVyIDE8L2Rpdj4nKVswXTsKICAgICAgICAgICAgICAgIHBvcHVwXzIxN2UzZTgwODZhODQ1ZDA4ZTQ2ZGQxNTAyNTEzZWMwLnNldENvbnRlbnQoaHRtbF83ZTU0ZjQ3NzY4Njc0ZmU1YWYxMTE5OTExYjg4NjZjMCk7CiAgICAgICAgICAgIAoKICAgICAgICAgICAgY2lyY2xlX21hcmtlcl81OGEzNjFjYmIxYTk0ZDliOTAyMWIyYTYwYWFiODA3Yi5iaW5kUG9wdXAocG9wdXBfMjE3ZTNlODA4NmE4NDVkMDhlNDZkZDE1MDI1MTNlYzApOwoKICAgICAgICAgICAgCiAgICAgICAgCiAgICAKICAgICAgICAgICAgdmFyIGNpcmNsZV9tYXJrZXJfYzg3OWRhZjFhMWQwNDc4ZjliNDg1OGQyMTQ3YTZkNTIgPSBMLmNpcmNsZU1hcmtlcigKICAgICAgICAgICAgICAgIFs0MS44NzA1MTc3ODc4NDYwMDUsLTg3LjY5OTU5NjgyMzgzMTk3XSwKICAgICAgICAgICAgICAgIHsKICAiYnViYmxpbmdNb3VzZUV2ZW50cyI6IHRydWUsCiAgImNvbG9yIjogIiMwMGI1ZWIiLAogICJkYXNoQXJyYXkiOiBudWxsLAogICJkYXNoT2Zmc2V0IjogbnVsbCwKICAiZmlsbCI6IHRydWUsCiAgImZpbGxDb2xvciI6ICIjMDBiNWViIiwKICAiZmlsbE9wYWNpdHkiOiAwLjcsCiAgImZpbGxSdWxlIjogImV2ZW5vZGQiLAogICJsaW5lQ2FwIjogInJvdW5kIiwKICAibGluZUpvaW4iOiAicm91bmQiLAogICJvcGFjaXR5IjogMS4wLAogICJyYWRpdXMiOiA1LAogICJzdHJva2UiOiB0cnVlLAogICJ3ZWlnaHQiOiAzCn0KICAgICAgICAgICAgICAgICkuYWRkVG8obWFwX2I2MTc1ZmNmMWU1MzQ2NjZiY2Y3ODNkYjQ1YzQ0YzczKTsKICAgICAgICAgICAgCiAgICAKICAgICAgICAgICAgdmFyIHBvcHVwXzJhYTBiYWYxOGZjZDQ2ODA5NGIyMzZjNjVjYjEyZTQwID0gTC5wb3B1cCh7bWF4V2lkdGg6ICczMDAnfSk7CgogICAgICAgICAgICAKICAgICAgICAgICAgICAgIHZhciBodG1sXzliY2I3YWEzNTc4NDQ3ZmE4YmM5ZDY5OTVkNzI1YmU5ID0gJCgnPGRpdiBpZD0iaHRtbF85YmNiN2FhMzU3ODQ0N2ZhOGJjOWQ2OTk1ZDcyNWJlOSIgc3R5bGU9IndpZHRoOiAxMDAuMCU7IGhlaWdodDogMTAwLjAlOyI+TWFubGV5IENhcmVlciBBY2FkZW15IENsdXN0ZXIgMjwvZGl2PicpWzBdOwogICAgICAgICAgICAgICAgcG9wdXBfMmFhMGJhZjE4ZmNkNDY4MDk0YjIzNmM2NWNiMTJlNDAuc2V0Q29udGVudChodG1sXzliY2I3YWEzNTc4NDQ3ZmE4YmM5ZDY5OTVkNzI1YmU5KTsKICAgICAgICAgICAgCgogICAgICAgICAgICBjaXJjbGVfbWFya2VyX2M4NzlkYWYxYTFkMDQ3OGY5YjQ4NThkMjE0N2E2ZDUyLmJpbmRQb3B1cChwb3B1cF8yYWEwYmFmMThmY2Q0NjgwOTRiMjM2YzY1Y2IxMmU0MCk7CgogICAgICAgICAgICAKICAgICAgICAKICAgIAogICAgICAgICAgICB2YXIgY2lyY2xlX21hcmtlcl84NjJlNjU4NjQyMDA0NWY0OGU4YmI3MDI4YjIyMjFkMyA9IEwuY2lyY2xlTWFya2VyKAogICAgICAgICAgICAgICAgWzQxLjg5OTcsLTg3LjY5NDg4MTAwMDAwMDAxXSwKICAgICAgICAgICAgICAgIHsKICAiYnViYmxpbmdNb3VzZUV2ZW50cyI6IHRydWUsCiAgImNvbG9yIjogIiMwMGI1ZWIiLAogICJkYXNoQXJyYXkiOiBudWxsLAogICJkYXNoT2Zmc2V0IjogbnVsbCwKICAiZmlsbCI6IHRydWUsCiAgImZpbGxDb2xvciI6ICIjMDBiNWViIiwKICAiZmlsbE9wYWNpdHkiOiAwLjcsCiAgImZpbGxSdWxlIjogImV2ZW5vZGQiLAogICJsaW5lQ2FwIjogInJvdW5kIiwKICAibGluZUpvaW4iOiAicm91bmQiLAogICJvcGFjaXR5IjogMS4wLAogICJyYWRpdXMiOiA1LAogICJzdHJva2UiOiB0cnVlLAogICJ3ZWlnaHQiOiAzCn0KICAgICAgICAgICAgICAgICkuYWRkVG8obWFwX2I2MTc1ZmNmMWU1MzQ2NjZiY2Y3ODNkYjQ1YzQ0YzczKTsKICAgICAgICAgICAgCiAgICAKICAgICAgICAgICAgdmFyIHBvcHVwXzQ5NDJlZDNhNzUzYjQzMGRhZjZlODg5MzZhOGFkNGZlID0gTC5wb3B1cCh7bWF4V2lkdGg6ICczMDAnfSk7CgogICAgICAgICAgICAKICAgICAgICAgICAgICAgIHZhciBodG1sXzIxZWY3MTFkMjJmMTRlNTE5ZGY2Yzc5NjljM2QyMTQyID0gJCgnPGRpdiBpZD0iaHRtbF8yMWVmNzExZDIyZjE0ZTUxOWRmNmM3OTY5YzNkMjE0MiIgc3R5bGU9IndpZHRoOiAxMDAuMCU7IGhlaWdodDogMTAwLjAlOyI+Q2hpQXJ0cyBDbHVzdGVyIDI8L2Rpdj4nKVswXTsKICAgICAgICAgICAgICAgIHBvcHVwXzQ5NDJlZDNhNzUzYjQzMGRhZjZlODg5MzZhOGFkNGZlLnNldENvbnRlbnQoaHRtbF8yMWVmNzExZDIyZjE0ZTUxOWRmNmM3OTY5YzNkMjE0Mik7CiAgICAgICAgICAgIAoKICAgICAgICAgICAgY2lyY2xlX21hcmtlcl84NjJlNjU4NjQyMDA0NWY0OGU4YmI3MDI4YjIyMjFkMy5iaW5kUG9wdXAocG9wdXBfNDk0MmVkM2E3NTNiNDMwZGFmNmU4ODkzNmE4YWQ0ZmUpOwoKICAgICAgICAgICAgCiAgICAgICAgCiAgICAKICAgICAgICAgICAgdmFyIGNpcmNsZV9tYXJrZXJfNTk4ZWM5Y2JkOGNlNGM2NDlkMGNhZGUxNmRjMjYwMzMgPSBMLmNpcmNsZU1hcmtlcigKICAgICAgICAgICAgICAgIFs0MS44OTA5NjksLTg3LjcwMjc5N10sCiAgICAgICAgICAgICAgICB7CiAgImJ1YmJsaW5nTW91c2VFdmVudHMiOiB0cnVlLAogICJjb2xvciI6ICIjZmYwMDAwIiwKICAiZGFzaEFycmF5IjogbnVsbCwKICAiZGFzaE9mZnNldCI6IG51bGwsCiAgImZpbGwiOiB0cnVlLAogICJmaWxsQ29sb3IiOiAiI2ZmMDAwMCIsCiAgImZpbGxPcGFjaXR5IjogMC43LAogICJmaWxsUnVsZSI6ICJldmVub2RkIiwKICAibGluZUNhcCI6ICJyb3VuZCIsCiAgImxpbmVKb2luIjogInJvdW5kIiwKICAib3BhY2l0eSI6IDEuMCwKICAicmFkaXVzIjogNSwKICAic3Ryb2tlIjogdHJ1ZSwKICAid2VpZ2h0IjogMwp9CiAgICAgICAgICAgICAgICApLmFkZFRvKG1hcF9iNjE3NWZjZjFlNTM0NjY2YmNmNzgzZGI0NWM0NGM3Myk7CiAgICAgICAgICAgIAogICAgCiAgICAgICAgICAgIHZhciBwb3B1cF9jMTZhYTczOTAzN2U0MGNiOTBiZTlhZjNjODMzYzU5YiA9IEwucG9wdXAoe21heFdpZHRoOiAnMzAwJ30pOwoKICAgICAgICAgICAgCiAgICAgICAgICAgICAgICB2YXIgaHRtbF8zZDg4MDZkOWQxYmY0YmU1OTdhNjJjYTY0OWJiYWVhZSA9ICQoJzxkaXYgaWQ9Imh0bWxfM2Q4ODA2ZDlkMWJmNGJlNTk3YTYyY2E2NDliYmFlYWUiIHN0eWxlPSJ3aWR0aDogMTAwLjAlOyBoZWlnaHQ6IDEwMC4wJTsiPldlc3QgVG93biBBY2FkZW15IENsdXN0ZXIgMDwvZGl2PicpWzBdOwogICAgICAgICAgICAgICAgcG9wdXBfYzE2YWE3MzkwMzdlNDBjYjkwYmU5YWYzYzgzM2M1OWIuc2V0Q29udGVudChodG1sXzNkODgwNmQ5ZDFiZjRiZTU5N2E2MmNhNjQ5YmJhZWFlKTsKICAgICAgICAgICAgCgogICAgICAgICAgICBjaXJjbGVfbWFya2VyXzU5OGVjOWNiZDhjZTRjNjQ5ZDBjYWRlMTZkYzI2MDMzLmJpbmRQb3B1cChwb3B1cF9jMTZhYTczOTAzN2U0MGNiOTBiZTlhZjNjODMzYzU5Yik7CgogICAgICAgICAgICAKICAgICAgICAKICAgIAogICAgICAgICAgICB2YXIgY2lyY2xlX21hcmtlcl8xMWI4N2U1ZWYyZWY0ZjYxODc1MjJkZTQ3ZDdlMjQ2MiA9IEwuY2lyY2xlTWFya2VyKAogICAgICAgICAgICAgICAgWzQxLjg3ODk4NTcwMjQzMDYzLC04Ny43MDY5NzgyNDI4Njk2N10sCiAgICAgICAgICAgICAgICB7CiAgImJ1YmJsaW5nTW91c2VFdmVudHMiOiB0cnVlLAogICJjb2xvciI6ICIjMDBiNWViIiwKICAiZGFzaEFycmF5IjogbnVsbCwKICAiZGFzaE9mZnNldCI6IG51bGwsCiAgImZpbGwiOiB0cnVlLAogICJmaWxsQ29sb3IiOiAiIzAwYjVlYiIsCiAgImZpbGxPcGFjaXR5IjogMC43LAogICJmaWxsUnVsZSI6ICJldmVub2RkIiwKICAibGluZUNhcCI6ICJyb3VuZCIsCiAgImxpbmVKb2luIjogInJvdW5kIiwKICAib3BhY2l0eSI6IDEuMCwKICAicmFkaXVzIjogNSwKICAic3Ryb2tlIjogdHJ1ZSwKICAid2VpZ2h0IjogMwp9CiAgICAgICAgICAgICAgICApLmFkZFRvKG1hcF9iNjE3NWZjZjFlNTM0NjY2YmNmNzgzZGI0NWM0NGM3Myk7CiAgICAgICAgICAgIAogICAgCiAgICAgICAgICAgIHZhciBwb3B1cF9iOGU2YmQ5MmM4MzA0MGExOTQ2NDUyNmY2NDgzMTBjOCA9IEwucG9wdXAoe21heFdpZHRoOiAnMzAwJ30pOwoKICAgICAgICAgICAgCiAgICAgICAgICAgICAgICB2YXIgaHRtbF83YWZiNGU4MjViYmI0ZTMzODI4YjQxOWMwMjM4ZDcwYiA9ICQoJzxkaXYgaWQ9Imh0bWxfN2FmYjRlODI1YmJiNGUzMzgyOGI0MTljMDIzOGQ3MGIiIHN0eWxlPSJ3aWR0aDogMTAwLjAlOyBoZWlnaHQ6IDEwMC4wJTsiPk1hcnNoYWxsIEhpZ2ggU2Nob29sIENsdXN0ZXIgMjwvZGl2PicpWzBdOwogICAgICAgICAgICAgICAgcG9wdXBfYjhlNmJkOTJjODMwNDBhMTk0NjQ1MjZmNjQ4MzEwYzguc2V0Q29udGVudChodG1sXzdhZmI0ZTgyNWJiYjRlMzM4MjhiNDE5YzAyMzhkNzBiKTsKICAgICAgICAgICAgCgogICAgICAgICAgICBjaXJjbGVfbWFya2VyXzExYjg3ZTVlZjJlZjRmNjE4NzUyMmRlNDdkN2UyNDYyLmJpbmRQb3B1cChwb3B1cF9iOGU2YmQ5MmM4MzA0MGExOTQ2NDUyNmY2NDgzMTBjOCk7CgogICAgICAgICAgICAKICAgICAgICAKICAgIAogICAgICAgICAgICB2YXIgY2lyY2xlX21hcmtlcl9lZTBlY2RmYjA2ZDk0NmM3YTkxODhmYTA4OGQ4ODUyNSA9IEwuY2lyY2xlTWFya2VyKAogICAgICAgICAgICAgICAgWzQxLjg4OTU1MTU0NzM2NjMyLC04Ny43MDQ5Njk2OTE2NDk3MV0sCiAgICAgICAgICAgICAgICB7CiAgImJ1YmJsaW5nTW91c2VFdmVudHMiOiB0cnVlLAogICJjb2xvciI6ICIjMDBiNWViIiwKICAiZGFzaEFycmF5IjogbnVsbCwKICAiZGFzaE9mZnNldCI6IG51bGwsCiAgImZpbGwiOiB0cnVlLAogICJmaWxsQ29sb3IiOiAiIzAwYjVlYiIsCiAgImZpbGxPcGFjaXR5IjogMC43LAogICJmaWxsUnVsZSI6ICJldmVub2RkIiwKICAibGluZUNhcCI6ICJyb3VuZCIsCiAgImxpbmVKb2luIjogInJvdW5kIiwKICAib3BhY2l0eSI6IDEuMCwKICAicmFkaXVzIjogNSwKICAic3Ryb2tlIjogdHJ1ZSwKICAid2VpZ2h0IjogMwp9CiAgICAgICAgICAgICAgICApLmFkZFRvKG1hcF9iNjE3NWZjZjFlNTM0NjY2YmNmNzgzZGI0NWM0NGM3Myk7CiAgICAgICAgICAgIAogICAgCiAgICAgICAgICAgIHZhciBwb3B1cF85N2U2MDBkYjExZWE0ZWU4YjU4ZDFiN2JlMDRkNTEyZCA9IEwucG9wdXAoe21heFdpZHRoOiAnMzAwJ30pOwoKICAgICAgICAgICAgCiAgICAgICAgICAgICAgICB2YXIgaHRtbF9jNmYwYWEwMTg5OTU0ZDIwOTk4NjNlOGYxMjg1YmU2MSA9ICQoJzxkaXYgaWQ9Imh0bWxfYzZmMGFhMDE4OTk1NGQyMDk5ODYzZThmMTI4NWJlNjEiIHN0eWxlPSJ3aWR0aDogMTAwLjAlOyBoZWlnaHQ6IDEwMC4wJTsiPk1vcnRvbiBTY2hvb2wgT2YgRXhjZWxsZW5jZSBDbHVzdGVyIDI8L2Rpdj4nKVswXTsKICAgICAgICAgICAgICAgIHBvcHVwXzk3ZTYwMGRiMTFlYTRlZThiNThkMWI3YmUwNGQ1MTJkLnNldENvbnRlbnQoaHRtbF9jNmYwYWEwMTg5OTU0ZDIwOTk4NjNlOGYxMjg1YmU2MSk7CiAgICAgICAgICAgIAoKICAgICAgICAgICAgY2lyY2xlX21hcmtlcl9lZTBlY2RmYjA2ZDk0NmM3YTkxODhmYTA4OGQ4ODUyNS5iaW5kUG9wdXAocG9wdXBfOTdlNjAwZGIxMWVhNGVlOGI1OGQxYjdiZTA0ZDUxMmQpOwoKICAgICAgICAgICAgCiAgICAgICAgCiAgICAKICAgICAgICAgICAgdmFyIGNpcmNsZV9tYXJrZXJfYjM4M2YxMjUwZTQxNGViOGJhOTIwZWUyZTYxNWFmODAgPSBMLmNpcmNsZU1hcmtlcigKICAgICAgICAgICAgICAgIFs0MS44ODk2NDcxMDQ0MTM0MywtODcuNzA3NjQ3MDM0NDk5OThdLAogICAgICAgICAgICAgICAgewogICJidWJibGluZ01vdXNlRXZlbnRzIjogdHJ1ZSwKICAiY29sb3IiOiAiI2ZmMDAwMCIsCiAgImRhc2hBcnJheSI6IG51bGwsCiAgImRhc2hPZmZzZXQiOiBudWxsLAogICJmaWxsIjogdHJ1ZSwKICAiZmlsbENvbG9yIjogIiNmZjAwMDAiLAogICJmaWxsT3BhY2l0eSI6IDAuNywKICAiZmlsbFJ1bGUiOiAiZXZlbm9kZCIsCiAgImxpbmVDYXAiOiAicm91bmQiLAogICJsaW5lSm9pbiI6ICJyb3VuZCIsCiAgIm9wYWNpdHkiOiAxLjAsCiAgInJhZGl1cyI6IDUsCiAgInN0cm9rZSI6IHRydWUsCiAgIndlaWdodCI6IDMKfQogICAgICAgICAgICAgICAgKS5hZGRUbyhtYXBfYjYxNzVmY2YxZTUzNDY2NmJjZjc4M2RiNDVjNDRjNzMpOwogICAgICAgICAgICAKICAgIAogICAgICAgICAgICB2YXIgcG9wdXBfOWM3MTUxYjJmM2M3NDhlODhhZjE2MWRjNTZlMzYzZmMgPSBMLnBvcHVwKHttYXhXaWR0aDogJzMwMCd9KTsKCiAgICAgICAgICAgIAogICAgICAgICAgICAgICAgdmFyIGh0bWxfNzVhOWIyMjZkOGVkNGU1MTlhNzBlOTYzNDMwODVlYWYgPSAkKCc8ZGl2IGlkPSJodG1sXzc1YTliMjI2ZDhlZDRlNTE5YTcwZTk2MzQzMDg1ZWFmIiBzdHlsZT0id2lkdGg6IDEwMC4wJTsgaGVpZ2h0OiAxMDAuMCU7Ij5HZW9yZ2UgV2VzdGluZ2hvdXNlIENvbGxlZ2UgUHJlcCBDbHVzdGVyIDA8L2Rpdj4nKVswXTsKICAgICAgICAgICAgICAgIHBvcHVwXzljNzE1MWIyZjNjNzQ4ZTg4YWYxNjFkYzU2ZTM2M2ZjLnNldENvbnRlbnQoaHRtbF83NWE5YjIyNmQ4ZWQ0ZTUxOWE3MGU5NjM0MzA4NWVhZik7CiAgICAgICAgICAgIAoKICAgICAgICAgICAgY2lyY2xlX21hcmtlcl9iMzgzZjEyNTBlNDE0ZWI4YmE5MjBlZTJlNjE1YWY4MC5iaW5kUG9wdXAocG9wdXBfOWM3MTUxYjJmM2M3NDhlODhhZjE2MWRjNTZlMzYzZmMpOwoKICAgICAgICAgICAgCiAgICAgICAgCiAgICAKICAgICAgICAgICAgdmFyIGNpcmNsZV9tYXJrZXJfMzhhMzVjOGJkYTQ3NDE1M2I3ZDJiNmE0OWZhYzQxMjkgPSBMLmNpcmNsZU1hcmtlcigKICAgICAgICAgICAgICAgIFs0MS44MTM5MTUwMzYyODE5MywtODcuNjAzNDk1NjI3MDU4MzZdLAogICAgICAgICAgICAgICAgewogICJidWJibGluZ01vdXNlRXZlbnRzIjogdHJ1ZSwKICAiY29sb3IiOiAiIzAwYjVlYiIsCiAgImRhc2hBcnJheSI6IG51bGwsCiAgImRhc2hPZmZzZXQiOiBudWxsLAogICJmaWxsIjogdHJ1ZSwKICAiZmlsbENvbG9yIjogIiMwMGI1ZWIiLAogICJmaWxsT3BhY2l0eSI6IDAuNywKICAiZmlsbFJ1bGUiOiAiZXZlbm9kZCIsCiAgImxpbmVDYXAiOiAicm91bmQiLAogICJsaW5lSm9pbiI6ICJyb3VuZCIsCiAgIm9wYWNpdHkiOiAxLjAsCiAgInJhZGl1cyI6IDUsCiAgInN0cm9rZSI6IHRydWUsCiAgIndlaWdodCI6IDMKfQogICAgICAgICAgICAgICAgKS5hZGRUbyhtYXBfYjYxNzVmY2YxZTUzNDY2NmJjZjc4M2RiNDVjNDRjNzMpOwogICAgICAgICAgICAKICAgIAogICAgICAgICAgICB2YXIgcG9wdXBfY2Y5MzI4OTgxNWI0NGFhODlhMDA5MWZkYjRlOTE2YjIgPSBMLnBvcHVwKHttYXhXaWR0aDogJzMwMCd9KTsKCiAgICAgICAgICAgIAogICAgICAgICAgICAgICAgdmFyIGh0bWxfY2I1NWI4NDZmZWY2NGVjZmFkYTdmNWU4YjIzODEwNWYgPSAkKCc8ZGl2IGlkPSJodG1sX2NiNTViODQ2ZmVmNjRlY2ZhZGE3ZjVlOGIyMzgxMDVmIiBzdHlsZT0id2lkdGg6IDEwMC4wJTsgaGVpZ2h0OiAxMDAuMCU7Ij5LaW5nIENvbGxlZ2UgUHJlcCBIaWdoIFNjaG9vbCBDbHVzdGVyIDI8L2Rpdj4nKVswXTsKICAgICAgICAgICAgICAgIHBvcHVwX2NmOTMyODk4MTViNDRhYTg5YTAwOTFmZGI0ZTkxNmIyLnNldENvbnRlbnQoaHRtbF9jYjU1Yjg0NmZlZjY0ZWNmYWRhN2Y1ZThiMjM4MTA1Zik7CiAgICAgICAgICAgIAoKICAgICAgICAgICAgY2lyY2xlX21hcmtlcl8zOGEzNWM4YmRhNDc0MTUzYjdkMmI2YTQ5ZmFjNDEyOS5iaW5kUG9wdXAocG9wdXBfY2Y5MzI4OTgxNWI0NGFhODlhMDA5MWZkYjRlOTE2YjIpOwoKICAgICAgICAgICAgCiAgICAgICAgCiAgICAKICAgICAgICAgICAgdmFyIGNpcmNsZV9tYXJrZXJfNmVlMWYxYmQyOWMzNGZmYTk0MmY0YmVhY2ViNmI4MDkgPSBMLmNpcmNsZU1hcmtlcigKICAgICAgICAgICAgICAgIFs0MS44NjkyOTAxMjI3NDkzMywtODcuNzEwMDUxMTM4NjQzN10sCiAgICAgICAgICAgICAgICB7CiAgImJ1YmJsaW5nTW91c2VFdmVudHMiOiB0cnVlLAogICJjb2xvciI6ICIjMDBiNWViIiwKICAiZGFzaEFycmF5IjogbnVsbCwKICAiZGFzaE9mZnNldCI6IG51bGwsCiAgImZpbGwiOiB0cnVlLAogICJmaWxsQ29sb3IiOiAiIzAwYjVlYiIsCiAgImZpbGxPcGFjaXR5IjogMC43LAogICJmaWxsUnVsZSI6ICJldmVub2RkIiwKICAibGluZUNhcCI6ICJyb3VuZCIsCiAgImxpbmVKb2luIjogInJvdW5kIiwKICAib3BhY2l0eSI6IDEuMCwKICAicmFkaXVzIjogNSwKICAic3Ryb2tlIjogdHJ1ZSwKICAid2VpZ2h0IjogMwp9CiAgICAgICAgICAgICAgICApLmFkZFRvKG1hcF9iNjE3NWZjZjFlNTM0NjY2YmNmNzgzZGI0NWM0NGM3Myk7CiAgICAgICAgICAgIAogICAgCiAgICAgICAgICAgIHZhciBwb3B1cF83NmYyZWU5MTRmMjI0NjNlYWZhYTViNzUwYjUzNWNkMyA9IEwucG9wdXAoe21heFdpZHRoOiAnMzAwJ30pOwoKICAgICAgICAgICAgCiAgICAgICAgICAgICAgICB2YXIgaHRtbF9kMzUxMGQwNmFmMjg0ZTRiOGYzYjgyZTc1MDQ3NjQwNyA9ICQoJzxkaXYgaWQ9Imh0bWxfZDM1MTBkMDZhZjI4NGU0YjhmM2I4MmU3NTA0NzY0MDciIHN0eWxlPSJ3aWR0aDogMTAwLjAlOyBoZWlnaHQ6IDEwMC4wJTsiPkRSVyBUcmFkaW5nIENvbGxlZ2UgUHJlcCBIaWdoIENsdXN0ZXIgMjwvZGl2PicpWzBdOwogICAgICAgICAgICAgICAgcG9wdXBfNzZmMmVlOTE0ZjIyNDYzZWFmYWE1Yjc1MGI1MzVjZDMuc2V0Q29udGVudChodG1sX2QzNTEwZDA2YWYyODRlNGI4ZjNiODJlNzUwNDc2NDA3KTsKICAgICAgICAgICAgCgogICAgICAgICAgICBjaXJjbGVfbWFya2VyXzZlZTFmMWJkMjljMzRmZmE5NDJmNGJlYWNlYjZiODA5LmJpbmRQb3B1cChwb3B1cF83NmYyZWU5MTRmMjI0NjNlYWZhYTViNzUwYjUzNWNkMyk7CgogICAgICAgICAgICAKICAgICAgICAKICAgIAogICAgICAgICAgICB2YXIgY2lyY2xlX21hcmtlcl81YTQ3OWQzMGFiMGM0NmI3YmFkMDJhZmJkNTllYjU2ZCA9IEwuY2lyY2xlTWFya2VyKAogICAgICAgICAgICAgICAgWzQxLjg1ODczNzE2MDU3MjE0LC04Ny43MDgzNDY5OTU1NTA0MV0sCiAgICAgICAgICAgICAgICB7CiAgImJ1YmJsaW5nTW91c2VFdmVudHMiOiB0cnVlLAogICJjb2xvciI6ICIjMDBiNWViIiwKICAiZGFzaEFycmF5IjogbnVsbCwKICAiZGFzaE9mZnNldCI6IG51bGwsCiAgImZpbGwiOiB0cnVlLAogICJmaWxsQ29sb3IiOiAiIzAwYjVlYiIsCiAgImZpbGxPcGFjaXR5IjogMC43LAogICJmaWxsUnVsZSI6ICJldmVub2RkIiwKICAibGluZUNhcCI6ICJyb3VuZCIsCiAgImxpbmVKb2luIjogInJvdW5kIiwKICAib3BhY2l0eSI6IDEuMCwKICAicmFkaXVzIjogNSwKICAic3Ryb2tlIjogdHJ1ZSwKICAid2VpZ2h0IjogMwp9CiAgICAgICAgICAgICAgICApLmFkZFRvKG1hcF9iNjE3NWZjZjFlNTM0NjY2YmNmNzgzZGI0NWM0NGM3Myk7CiAgICAgICAgICAgIAogICAgCiAgICAgICAgICAgIHZhciBwb3B1cF80NWNlNTc1MDhlMmQ0MjkyYjNmMDE2ZDIyZmYyZTA2YyA9IEwucG9wdXAoe21heFdpZHRoOiAnMzAwJ30pOwoKICAgICAgICAgICAgCiAgICAgICAgICAgICAgICB2YXIgaHRtbF8yMzBkZmFlZjgxNWI0MzZiODU4YWYxMTNiMWU1ZWYyZiA9ICQoJzxkaXYgaWQ9Imh0bWxfMjMwZGZhZWY4MTViNDM2Yjg1OGFmMTEzYjFlNWVmMmYiIHN0eWxlPSJ3aWR0aDogMTAwLjAlOyBoZWlnaHQ6IDEwMC4wJTsiPk5vcnRoIExhd25kYWxlIENvbGxlZ2UgUHJlcCBDbHVzdGVyIDI8L2Rpdj4nKVswXTsKICAgICAgICAgICAgICAgIHBvcHVwXzQ1Y2U1NzUwOGUyZDQyOTJiM2YwMTZkMjJmZjJlMDZjLnNldENvbnRlbnQoaHRtbF8yMzBkZmFlZjgxNWI0MzZiODU4YWYxMTNiMWU1ZWYyZik7CiAgICAgICAgICAgIAoKICAgICAgICAgICAgY2lyY2xlX21hcmtlcl81YTQ3OWQzMGFiMGM0NmI3YmFkMDJhZmJkNTllYjU2ZC5iaW5kUG9wdXAocG9wdXBfNDVjZTU3NTA4ZTJkNDI5MmIzZjAxNmQyMmZmMmUwNmMpOwoKICAgICAgICAgICAgCiAgICAgICAgCiAgICAKICAgICAgICAgICAgdmFyIGNpcmNsZV9tYXJrZXJfMWYyOWQ2YjA1NGFkNGM4MzgxMjQ3MWIyZWNiMWNjNjggPSBMLmNpcmNsZU1hcmtlcigKICAgICAgICAgICAgICAgIFs0MS45MTI0MzM1NDk2NjgzNjQsLTg3LjY5NjgxOTMwNTQxOTkyXSwKICAgICAgICAgICAgICAgIHsKICAiYnViYmxpbmdNb3VzZUV2ZW50cyI6IHRydWUsCiAgImNvbG9yIjogIiM4MDAwZmYiLAogICJkYXNoQXJyYXkiOiBudWxsLAogICJkYXNoT2Zmc2V0IjogbnVsbCwKICAiZmlsbCI6IHRydWUsCiAgImZpbGxDb2xvciI6ICIjODAwMGZmIiwKICAiZmlsbE9wYWNpdHkiOiAwLjcsCiAgImZpbGxSdWxlIjogImV2ZW5vZGQiLAogICJsaW5lQ2FwIjogInJvdW5kIiwKICAibGluZUpvaW4iOiAicm91bmQiLAogICJvcGFjaXR5IjogMS4wLAogICJyYWRpdXMiOiA1LAogICJzdHJva2UiOiB0cnVlLAogICJ3ZWlnaHQiOiAzCn0KICAgICAgICAgICAgICAgICkuYWRkVG8obWFwX2I2MTc1ZmNmMWU1MzQ2NjZiY2Y3ODNkYjQ1YzQ0YzczKTsKICAgICAgICAgICAgCiAgICAKICAgICAgICAgICAgdmFyIHBvcHVwXzNiODdlNTVkOWNhYjQ2NWU5ZTdhODkzNDgyOTFiNTc5ID0gTC5wb3B1cCh7bWF4V2lkdGg6ICczMDAnfSk7CgogICAgICAgICAgICAKICAgICAgICAgICAgICAgIHZhciBodG1sXzUzYzE2OGZlOWM0NjQ5MTA4YjhmN2MyMDYyOTM1MTMzID0gJCgnPGRpdiBpZD0iaHRtbF81M2MxNjhmZTljNDY0OTEwOGI4ZjdjMjA2MjkzNTEzMyIgc3R5bGU9IndpZHRoOiAxMDAuMCU7IGhlaWdodDogMTAwLjAlOyI+QXNwaXJhIE1pcnRhIFJhbWlyZXogQ29tcHV0ZXIgU2NpZW5jZSBIaWdoIFNjaG9vbCBDbHVzdGVyIDE8L2Rpdj4nKVswXTsKICAgICAgICAgICAgICAgIHBvcHVwXzNiODdlNTVkOWNhYjQ2NWU5ZTdhODkzNDgyOTFiNTc5LnNldENvbnRlbnQoaHRtbF81M2MxNjhmZTljNDY0OTEwOGI4ZjdjMjA2MjkzNTEzMyk7CiAgICAgICAgICAgIAoKICAgICAgICAgICAgY2lyY2xlX21hcmtlcl8xZjI5ZDZiMDU0YWQ0YzgzODEyNDcxYjJlY2IxY2M2OC5iaW5kUG9wdXAocG9wdXBfM2I4N2U1NWQ5Y2FiNDY1ZTllN2E4OTM0ODI5MWI1NzkpOwoKICAgICAgICAgICAgCiAgICAgICAgCiAgICAKICAgICAgICAgICAgdmFyIGNpcmNsZV9tYXJrZXJfOWRkOWVjNTg2MjllNDM4MTgzMjJmYWY1OTI1MTllMTUgPSBMLmNpcmNsZU1hcmtlcigKICAgICAgICAgICAgICAgIFs0MS44ODYwNDcsLTg3LjcxNDcwOF0sCiAgICAgICAgICAgICAgICB7CiAgImJ1YmJsaW5nTW91c2VFdmVudHMiOiB0cnVlLAogICJjb2xvciI6ICIjZmYwMDAwIiwKICAiZGFzaEFycmF5IjogbnVsbCwKICAiZGFzaE9mZnNldCI6IG51bGwsCiAgImZpbGwiOiB0cnVlLAogICJmaWxsQ29sb3IiOiAiI2ZmMDAwMCIsCiAgImZpbGxPcGFjaXR5IjogMC43LAogICJmaWxsUnVsZSI6ICJldmVub2RkIiwKICAibGluZUNhcCI6ICJyb3VuZCIsCiAgImxpbmVKb2luIjogInJvdW5kIiwKICAib3BhY2l0eSI6IDEuMCwKICAicmFkaXVzIjogNSwKICAic3Ryb2tlIjogdHJ1ZSwKICAid2VpZ2h0IjogMwp9CiAgICAgICAgICAgICAgICApLmFkZFRvKG1hcF9iNjE3NWZjZjFlNTM0NjY2YmNmNzgzZGI0NWM0NGM3Myk7CiAgICAgICAgICAgIAogICAgCiAgICAgICAgICAgIHZhciBwb3B1cF80NmNlNWQyOThiMGY0NjcxYjRlY2RjZTA1YTU1ODRhMSA9IEwucG9wdXAoe21heFdpZHRoOiAnMzAwJ30pOwoKICAgICAgICAgICAgCiAgICAgICAgICAgICAgICB2YXIgaHRtbF9kZGVhMjRmYTgxZjI0YTExOWE0ZjM2MWQwYWJlZDMwMSA9ICQoJzxkaXYgaWQ9Imh0bWxfZGRlYTI0ZmE4MWYyNGExMTlhNGYzNjFkMGFiZWQzMDEiIHN0eWxlPSJ3aWR0aDogMTAwLjAlOyBoZWlnaHQ6IDEwMC4wJTsiPkFsIFJhYnkgSGlnaCBTY2hvb2wgQ2x1c3RlciAwPC9kaXY+JylbMF07CiAgICAgICAgICAgICAgICBwb3B1cF80NmNlNWQyOThiMGY0NjcxYjRlY2RjZTA1YTU1ODRhMS5zZXRDb250ZW50KGh0bWxfZGRlYTI0ZmE4MWYyNGExMTlhNGYzNjFkMGFiZWQzMDEpOwogICAgICAgICAgICAKCiAgICAgICAgICAgIGNpcmNsZV9tYXJrZXJfOWRkOWVjNTg2MjllNDM4MTgzMjJmYWY1OTI1MTllMTUuYmluZFBvcHVwKHBvcHVwXzQ2Y2U1ZDI5OGIwZjQ2NzFiNGVjZGNlMDVhNTU4NGExKTsKCiAgICAgICAgICAgIAogICAgICAgIAogICAgCiAgICAgICAgICAgIHZhciBjaXJjbGVfbWFya2VyXzNkMjM3YjQ0ODY3YTRiNDU4MjU5M2YwOTE2MDYyYTk3ID0gTC5jaXJjbGVNYXJrZXIoCiAgICAgICAgICAgICAgICBbNDEuOTIyNDEyMzgxMDU2NTksLTg3LjY5MjE2NjcxNzA3NjUzXSwKICAgICAgICAgICAgICAgIHsKICAiYnViYmxpbmdNb3VzZUV2ZW50cyI6IHRydWUsCiAgImNvbG9yIjogIiM4MDAwZmYiLAogICJkYXNoQXJyYXkiOiBudWxsLAogICJkYXNoT2Zmc2V0IjogbnVsbCwKICAiZmlsbCI6IHRydWUsCiAgImZpbGxDb2xvciI6ICIjODAwMGZmIiwKICAiZmlsbE9wYWNpdHkiOiAwLjcsCiAgImZpbGxSdWxlIjogImV2ZW5vZGQiLAogICJsaW5lQ2FwIjogInJvdW5kIiwKICAibGluZUpvaW4iOiAicm91bmQiLAogICJvcGFjaXR5IjogMS4wLAogICJyYWRpdXMiOiA1LAogICJzdHJva2UiOiB0cnVlLAogICJ3ZWlnaHQiOiAzCn0KICAgICAgICAgICAgICAgICkuYWRkVG8obWFwX2I2MTc1ZmNmMWU1MzQ2NjZiY2Y3ODNkYjQ1YzQ0YzczKTsKICAgICAgICAgICAgCiAgICAKICAgICAgICAgICAgdmFyIHBvcHVwXzc3MDZiNTlhZjZkNDRmZjk4NzZjZjU2YTVjMDJkNWY1ID0gTC5wb3B1cCh7bWF4V2lkdGg6ICczMDAnfSk7CgogICAgICAgICAgICAKICAgICAgICAgICAgICAgIHZhciBodG1sXzcxYWRhNzE5N2I1YTQ4NDhhMDI4NzAwM2U3ZjE0NjU2ID0gJCgnPGRpdiBpZD0iaHRtbF83MWFkYTcxOTdiNWE0ODQ4YTAyODcwMDNlN2YxNDY1NiIgc3R5bGU9IndpZHRoOiAxMDAuMCU7IGhlaWdodDogMTAwLjAlOyI+R29ldGhlIEVsZW1lbnRhcnkgU2Nob29sIENsdXN0ZXIgMTwvZGl2PicpWzBdOwogICAgICAgICAgICAgICAgcG9wdXBfNzcwNmI1OWFmNmQ0NGZmOTg3NmNmNTZhNWMwMmQ1ZjUuc2V0Q29udGVudChodG1sXzcxYWRhNzE5N2I1YTQ4NDhhMDI4NzAwM2U3ZjE0NjU2KTsKICAgICAgICAgICAgCgogICAgICAgICAgICBjaXJjbGVfbWFya2VyXzNkMjM3YjQ0ODY3YTRiNDU4MjU5M2YwOTE2MDYyYTk3LmJpbmRQb3B1cChwb3B1cF83NzA2YjU5YWY2ZDQ0ZmY5ODc2Y2Y1NmE1YzAyZDVmNSk7CgogICAgICAgICAgICAKICAgICAgICAKICAgIAogICAgICAgICAgICB2YXIgY2lyY2xlX21hcmtlcl8wY2QxYjc1NzZkMTM0NDg2OWMyZGE1ZjE5ZTNmYTQ0YiA9IEwuY2lyY2xlTWFya2VyKAogICAgICAgICAgICAgICAgWzQxLjgwNzY4NTA2MzUxMjQ2LC04Ny42NDMwNjkzMjc1MzgxM10sCiAgICAgICAgICAgICAgICB7CiAgImJ1YmJsaW5nTW91c2VFdmVudHMiOiB0cnVlLAogICJjb2xvciI6ICIjZmYwMDAwIiwKICAiZGFzaEFycmF5IjogbnVsbCwKICAiZGFzaE9mZnNldCI6IG51bGwsCiAgImZpbGwiOiB0cnVlLAogICJmaWxsQ29sb3IiOiAiI2ZmMDAwMCIsCiAgImZpbGxPcGFjaXR5IjogMC43LAogICJmaWxsUnVsZSI6ICJldmVub2RkIiwKICAibGluZUNhcCI6ICJyb3VuZCIsCiAgImxpbmVKb2luIjogInJvdW5kIiwKICAib3BhY2l0eSI6IDEuMCwKICAicmFkaXVzIjogNSwKICAic3Ryb2tlIjogdHJ1ZSwKICAid2VpZ2h0IjogMwp9CiAgICAgICAgICAgICAgICApLmFkZFRvKG1hcF9iNjE3NWZjZjFlNTM0NjY2YmNmNzgzZGI0NWM0NGM3Myk7CiAgICAgICAgICAgIAogICAgCiAgICAgICAgICAgIHZhciBwb3B1cF9mMmE5NTgyOWM4MzQ0YjQyOWM2ZWViNThhYmQxNDA2MyA9IEwucG9wdXAoe21heFdpZHRoOiAnMzAwJ30pOwoKICAgICAgICAgICAgCiAgICAgICAgICAgICAgICB2YXIgaHRtbF9kMmM4YzBiMDgyMzk0YmU5OTg1MzgwMTY3ZmRlOGNjNCA9ICQoJzxkaXYgaWQ9Imh0bWxfZDJjOGMwYjA4MjM5NGJlOTk4NTM4MDE2N2ZkZThjYzQiIHN0eWxlPSJ3aWR0aDogMTAwLjAlOyBoZWlnaHQ6IDEwMC4wJTsiPlRpbGRlbiBDYXJlZXIgQWNhZGVteSBDbHVzdGVyIDA8L2Rpdj4nKVswXTsKICAgICAgICAgICAgICAgIHBvcHVwX2YyYTk1ODI5YzgzNDRiNDI5YzZlZWI1OGFiZDE0MDYzLnNldENvbnRlbnQoaHRtbF9kMmM4YzBiMDgyMzk0YmU5OTg1MzgwMTY3ZmRlOGNjNCk7CiAgICAgICAgICAgIAoKICAgICAgICAgICAgY2lyY2xlX21hcmtlcl8wY2QxYjc1NzZkMTM0NDg2OWMyZGE1ZjE5ZTNmYTQ0Yi5iaW5kUG9wdXAocG9wdXBfZjJhOTU4MjljODM0NGI0MjljNmVlYjU4YWJkMTQwNjMpOwoKICAgICAgICAgICAgCiAgICAgICAgCiAgICAKICAgICAgICAgICAgdmFyIGNpcmNsZV9tYXJrZXJfZWRlYzQzNmNhOWFmNDZhZmJmYTg1NTc0MDA2YWRjNGUgPSBMLmNpcmNsZU1hcmtlcigKICAgICAgICAgICAgICAgIFs0MS44MDE2NDgxMDYwOTM4MywtODcuNjEyMTMxNzU4MTc5NDNdLAogICAgICAgICAgICAgICAgewogICJidWJibGluZ01vdXNlRXZlbnRzIjogdHJ1ZSwKICAiY29sb3IiOiAiIzAwYjVlYiIsCiAgImRhc2hBcnJheSI6IG51bGwsCiAgImRhc2hPZmZzZXQiOiBudWxsLAogICJmaWxsIjogdHJ1ZSwKICAiZmlsbENvbG9yIjogIiMwMGI1ZWIiLAogICJmaWxsT3BhY2l0eSI6IDAuNywKICAiZmlsbFJ1bGUiOiAiZXZlbm9kZCIsCiAgImxpbmVDYXAiOiAicm91bmQiLAogICJsaW5lSm9pbiI6ICJyb3VuZCIsCiAgIm9wYWNpdHkiOiAxLjAsCiAgInJhZGl1cyI6IDUsCiAgInN0cm9rZSI6IHRydWUsCiAgIndlaWdodCI6IDMKfQogICAgICAgICAgICAgICAgKS5hZGRUbyhtYXBfYjYxNzVmY2YxZTUzNDY2NmJjZjc4M2RiNDVjNDRjNzMpOwogICAgICAgICAgICAKICAgIAogICAgICAgICAgICB2YXIgcG9wdXBfNTRiMTUxMzkwNmVjNDgwZTllOGUxZDZhNzRmNDljZTYgPSBMLnBvcHVwKHttYXhXaWR0aDogJzMwMCd9KTsKCiAgICAgICAgICAgIAogICAgICAgICAgICAgICAgdmFyIGh0bWxfYTVjODEzMTc1NzUyNDk4NDhhODAzOTY2Yjc3NTc2ZGIgPSAkKCc8ZGl2IGlkPSJodG1sX2E1YzgxMzE3NTc1MjQ5ODQ4YTgwMzk2NmI3NzU3NmRiIiBzdHlsZT0id2lkdGg6IDEwMC4wJTsgaGVpZ2h0OiAxMDAuMCU7Ij5XYWx0ZXIgSC4gRHlldHQgSGlnaCBTY2hvb2wgQ2x1c3RlciAyPC9kaXY+JylbMF07CiAgICAgICAgICAgICAgICBwb3B1cF81NGIxNTEzOTA2ZWM0ODBlOWU4ZTFkNmE3NGY0OWNlNi5zZXRDb250ZW50KGh0bWxfYTVjODEzMTc1NzUyNDk4NDhhODAzOTY2Yjc3NTc2ZGIpOwogICAgICAgICAgICAKCiAgICAgICAgICAgIGNpcmNsZV9tYXJrZXJfZWRlYzQzNmNhOWFmNDZhZmJmYTg1NTc0MDA2YWRjNGUuYmluZFBvcHVwKHBvcHVwXzU0YjE1MTM5MDZlYzQ4MGU5ZThlMWQ2YTc0ZjQ5Y2U2KTsKCiAgICAgICAgICAgIAogICAgICAgIAogICAgCiAgICAgICAgICAgIHZhciBjaXJjbGVfbWFya2VyX2NkOGQxOWM3ZDIyNTRhMTA5ZjkxMWRiNzZhNWMyODUxID0gTC5jaXJjbGVNYXJrZXIoCiAgICAgICAgICAgICAgICBbNDEuODAzMzc2OTAxOTE0OTMsLTg3LjU4OTk4NDMzOTMzNTE5XSwKICAgICAgICAgICAgICAgIHsKICAiYnViYmxpbmdNb3VzZUV2ZW50cyI6IHRydWUsCiAgImNvbG9yIjogIiMwMGI1ZWIiLAogICJkYXNoQXJyYXkiOiBudWxsLAogICJkYXNoT2Zmc2V0IjogbnVsbCwKICAiZmlsbCI6IHRydWUsCiAgImZpbGxDb2xvciI6ICIjMDBiNWViIiwKICAiZmlsbE9wYWNpdHkiOiAwLjcsCiAgImZpbGxSdWxlIjogImV2ZW5vZGQiLAogICJsaW5lQ2FwIjogInJvdW5kIiwKICAibGluZUpvaW4iOiAicm91bmQiLAogICJvcGFjaXR5IjogMS4wLAogICJyYWRpdXMiOiA1LAogICJzdHJva2UiOiB0cnVlLAogICJ3ZWlnaHQiOiAzCn0KICAgICAgICAgICAgICAgICkuYWRkVG8obWFwX2I2MTc1ZmNmMWU1MzQ2NjZiY2Y3ODNkYjQ1YzQ0YzczKTsKICAgICAgICAgICAgCiAgICAKICAgICAgICAgICAgdmFyIHBvcHVwXzQwNGFlNjU0MDQzMTQwYWNhODA3YjU0ZDM4NGE1NDZmID0gTC5wb3B1cCh7bWF4V2lkdGg6ICczMDAnfSk7CgogICAgICAgICAgICAKICAgICAgICAgICAgICAgIHZhciBodG1sXzMzNWM4MGViOTc0OTQyNGQ5YTM2MTczNDExOTFjZmY3ID0gJCgnPGRpdiBpZD0iaHRtbF8zMzVjODBlYjk3NDk0MjRkOWEzNjE3MzQxMTkxY2ZmNyIgc3R5bGU9IndpZHRoOiAxMDAuMCU7IGhlaWdodDogMTAwLjAlOyI+S2Vud29vZCBBY2FkZW15IEhpZ2ggU2Nob29sIENsdXN0ZXIgMjwvZGl2PicpWzBdOwogICAgICAgICAgICAgICAgcG9wdXBfNDA0YWU2NTQwNDMxNDBhY2E4MDdiNTRkMzg0YTU0NmYuc2V0Q29udGVudChodG1sXzMzNWM4MGViOTc0OTQyNGQ5YTM2MTczNDExOTFjZmY3KTsKICAgICAgICAgICAgCgogICAgICAgICAgICBjaXJjbGVfbWFya2VyX2NkOGQxOWM3ZDIyNTRhMTA5ZjkxMWRiNzZhNWMyODUxLmJpbmRQb3B1cChwb3B1cF80MDRhZTY1NDA0MzE0MGFjYTgwN2I1NGQzODRhNTQ2Zik7CgogICAgICAgICAgICAKICAgICAgICAKICAgIAogICAgICAgICAgICB2YXIgY2lyY2xlX21hcmtlcl9jNjFlODEwN2EzMGY0NDA1OTdiN2M3ZjQ3Y2ExNWUyMSA9IEwuY2lyY2xlTWFya2VyKAogICAgICAgICAgICAgICAgWzQxLjg5NTE2NzAzNTY4NDM3LC04Ny43MjYyMDU2ODA5NjY0Nl0sCiAgICAgICAgICAgICAgICB7CiAgImJ1YmJsaW5nTW91c2VFdmVudHMiOiB0cnVlLAogICJjb2xvciI6ICIjZmYwMDAwIiwKICAiZGFzaEFycmF5IjogbnVsbCwKICAiZGFzaE9mZnNldCI6IG51bGwsCiAgImZpbGwiOiB0cnVlLAogICJmaWxsQ29sb3IiOiAiI2ZmMDAwMCIsCiAgImZpbGxPcGFjaXR5IjogMC43LAogICJmaWxsUnVsZSI6ICJldmVub2RkIiwKICAibGluZUNhcCI6ICJyb3VuZCIsCiAgImxpbmVKb2luIjogInJvdW5kIiwKICAib3BhY2l0eSI6IDEuMCwKICAicmFkaXVzIjogNSwKICAic3Ryb2tlIjogdHJ1ZSwKICAid2VpZ2h0IjogMwp9CiAgICAgICAgICAgICAgICApLmFkZFRvKG1hcF9iNjE3NWZjZjFlNTM0NjY2YmNmNzgzZGI0NWM0NGM3Myk7CiAgICAgICAgICAgIAogICAgCiAgICAgICAgICAgIHZhciBwb3B1cF9lNWU0NGQzYjZmZDk0MTNhYjA3Yjk1MDQzYzM5YTM4OCA9IEwucG9wdXAoe21heFdpZHRoOiAnMzAwJ30pOwoKICAgICAgICAgICAgCiAgICAgICAgICAgICAgICB2YXIgaHRtbF8yMmRjYjFmZTUxZjY0NmExODQ3ZWNiZjg5YzUxNDUwZCA9ICQoJzxkaXYgaWQ9Imh0bWxfMjJkY2IxZmU1MWY2NDZhMTg0N2VjYmY4OWM1MTQ1MGQiIHN0eWxlPSJ3aWR0aDogMTAwLjAlOyBoZWlnaHQ6IDEwMC4wJTsiPk9yciBBY2FkZW15IEhpZ2ggU2Nob29sIENsdXN0ZXIgMDwvZGl2PicpWzBdOwogICAgICAgICAgICAgICAgcG9wdXBfZTVlNDRkM2I2ZmQ5NDEzYWIwN2I5NTA0M2MzOWEzODguc2V0Q29udGVudChodG1sXzIyZGNiMWZlNTFmNjQ2YTE4NDdlY2JmODljNTE0NTBkKTsKICAgICAgICAgICAgCgogICAgICAgICAgICBjaXJjbGVfbWFya2VyX2M2MWU4MTA3YTMwZjQ0MDU5N2I3YzdmNDdjYTE1ZTIxLmJpbmRQb3B1cChwb3B1cF9lNWU0NGQzYjZmZDk0MTNhYjA3Yjk1MDQzYzM5YTM4OCk7CgogICAgICAgICAgICAKICAgICAgICAKICAgIAogICAgICAgICAgICB2YXIgY2lyY2xlX21hcmtlcl9lNWU3NjEyNzljMWM0MTIwOTNkNWM1OTFhYTkyMzY1YSA9IEwuY2lyY2xlTWFya2VyKAogICAgICAgICAgICAgICAgWzQxLjgwNzQxNDg5NjUxNTU4LC04Ny42Nzc1ODQ0OTEzODc2Nl0sCiAgICAgICAgICAgICAgICB7CiAgImJ1YmJsaW5nTW91c2VFdmVudHMiOiB0cnVlLAogICJjb2xvciI6ICIjMDBiNWViIiwKICAiZGFzaEFycmF5IjogbnVsbCwKICAiZGFzaE9mZnNldCI6IG51bGwsCiAgImZpbGwiOiB0cnVlLAogICJmaWxsQ29sb3IiOiAiIzAwYjVlYiIsCiAgImZpbGxPcGFjaXR5IjogMC43LAogICJmaWxsUnVsZSI6ICJldmVub2RkIiwKICAibGluZUNhcCI6ICJyb3VuZCIsCiAgImxpbmVKb2luIjogInJvdW5kIiwKICAib3BhY2l0eSI6IDEuMCwKICAicmFkaXVzIjogNSwKICAic3Ryb2tlIjogdHJ1ZSwKICAid2VpZ2h0IjogMwp9CiAgICAgICAgICAgICAgICApLmFkZFRvKG1hcF9iNjE3NWZjZjFlNTM0NjY2YmNmNzgzZGI0NWM0NGM3Myk7CiAgICAgICAgICAgIAogICAgCiAgICAgICAgICAgIHZhciBwb3B1cF9kMDI5ZWNjYWE0MTY0ZDg1YWFiOTU5MjAzZTI4ZDc3NyA9IEwucG9wdXAoe21heFdpZHRoOiAnMzAwJ30pOwoKICAgICAgICAgICAgCiAgICAgICAgICAgICAgICB2YXIgaHRtbF83NWQyZGUxZjAyNWM0MDFjOTVjMmVhN2JkODE3YTZjOSA9ICQoJzxkaXYgaWQ9Imh0bWxfNzVkMmRlMWYwMjVjNDAxYzk1YzJlYTdiZDgxN2E2YzkiIHN0eWxlPSJ3aWR0aDogMTAwLjAlOyBoZWlnaHQ6IDEwMC4wJTsiPkJhY2sgb2YgdGhlIFlhcmRzIEguUy4gQ2x1c3RlciAyPC9kaXY+JylbMF07CiAgICAgICAgICAgICAgICBwb3B1cF9kMDI5ZWNjYWE0MTY0ZDg1YWFiOTU5MjAzZTI4ZDc3Ny5zZXRDb250ZW50KGh0bWxfNzVkMmRlMWYwMjVjNDAxYzk1YzJlYTdiZDgxN2E2YzkpOwogICAgICAgICAgICAKCiAgICAgICAgICAgIGNpcmNsZV9tYXJrZXJfZTVlNzYxMjc5YzFjNDEyMDkzZDVjNTkxYWE5MjM2NWEuYmluZFBvcHVwKHBvcHVwX2QwMjllY2NhYTQxNjRkODVhYWI5NTkyMDNlMjhkNzc3KTsKCiAgICAgICAgICAgIAogICAgICAgIAogICAgCiAgICAgICAgICAgIHZhciBjaXJjbGVfbWFya2VyXzIwZDMxZGJkN2Y0YTRjMGU5YjQyZTM3NzJmN2FiN2Y4ID0gTC5jaXJjbGVNYXJrZXIoCiAgICAgICAgICAgICAgICBbNDEuOTQ0Mzg0MzIwODE4MTY2LC04Ny42ODg0MTY1NTE3MTMyM10sCiAgICAgICAgICAgICAgICB7CiAgImJ1YmJsaW5nTW91c2VFdmVudHMiOiB0cnVlLAogICJjb2xvciI6ICIjMDBiNWViIiwKICAiZGFzaEFycmF5IjogbnVsbCwKICAiZGFzaE9mZnNldCI6IG51bGwsCiAgImZpbGwiOiB0cnVlLAogICJmaWxsQ29sb3IiOiAiIzAwYjVlYiIsCiAgImZpbGxPcGFjaXR5IjogMC43LAogICJmaWxsUnVsZSI6ICJldmVub2RkIiwKICAibGluZUNhcCI6ICJyb3VuZCIsCiAgImxpbmVKb2luIjogInJvdW5kIiwKICAib3BhY2l0eSI6IDEuMCwKICAicmFkaXVzIjogNSwKICAic3Ryb2tlIjogdHJ1ZSwKICAid2VpZ2h0IjogMwp9CiAgICAgICAgICAgICAgICApLmFkZFRvKG1hcF9iNjE3NWZjZjFlNTM0NjY2YmNmNzgzZGI0NWM0NGM3Myk7CiAgICAgICAgICAgIAogICAgCiAgICAgICAgICAgIHZhciBwb3B1cF9lZmMwYjVmZmRiNzc0OTNjOGY5NzBhOTYzNjdhY2ExYiA9IEwucG9wdXAoe21heFdpZHRoOiAnMzAwJ30pOwoKICAgICAgICAgICAgCiAgICAgICAgICAgICAgICB2YXIgaHRtbF9jMDgxOWFlMzA2YjI0NTVjYjc0NDBkN2VlNDVjYWY3YyA9ICQoJzxkaXYgaWQ9Imh0bWxfYzA4MTlhZTMwNmIyNDU1Y2I3NDQwZDdlZTQ1Y2FmN2MiIHN0eWxlPSJ3aWR0aDogMTAwLjAlOyBoZWlnaHQ6IDEwMC4wJTsiPkxhbmUgVGVjaG5pY2FsIEhpZ2ggU2Nob29sIENsdXN0ZXIgMjwvZGl2PicpWzBdOwogICAgICAgICAgICAgICAgcG9wdXBfZWZjMGI1ZmZkYjc3NDkzYzhmOTcwYTk2MzY3YWNhMWIuc2V0Q29udGVudChodG1sX2MwODE5YWUzMDZiMjQ1NWNiNzQ0MGQ3ZWU0NWNhZjdjKTsKICAgICAgICAgICAgCgogICAgICAgICAgICBjaXJjbGVfbWFya2VyXzIwZDMxZGJkN2Y0YTRjMGU5YjQyZTM3NzJmN2FiN2Y4LmJpbmRQb3B1cChwb3B1cF9lZmMwYjVmZmRiNzc0OTNjOGY5NzBhOTYzNjdhY2ExYik7CgogICAgICAgICAgICAKICAgICAgICAKICAgIAogICAgICAgICAgICB2YXIgY2lyY2xlX21hcmtlcl8yNzI3YWQ2ZmYxYjU0ODdiYmRhZGZhZDllOGQ0ODlmNiA9IEwuY2lyY2xlTWFya2VyKAogICAgICAgICAgICAgICAgWzQxLjk1NDQ1MjYwMDUyNzc2LC04Ny42NjgzOTc4MjEzNTUwN10sCiAgICAgICAgICAgICAgICB7CiAgImJ1YmJsaW5nTW91c2VFdmVudHMiOiB0cnVlLAogICJjb2xvciI6ICIjMDBiNWViIiwKICAiZGFzaEFycmF5IjogbnVsbCwKICAiZGFzaE9mZnNldCI6IG51bGwsCiAgImZpbGwiOiB0cnVlLAogICJmaWxsQ29sb3IiOiAiIzAwYjVlYiIsCiAgImZpbGxPcGFjaXR5IjogMC43LAogICJmaWxsUnVsZSI6ICJldmVub2RkIiwKICAibGluZUNhcCI6ICJyb3VuZCIsCiAgImxpbmVKb2luIjogInJvdW5kIiwKICAib3BhY2l0eSI6IDEuMCwKICAicmFkaXVzIjogNSwKICAic3Ryb2tlIjogdHJ1ZSwKICAid2VpZ2h0IjogMwp9CiAgICAgICAgICAgICAgICApLmFkZFRvKG1hcF9iNjE3NWZjZjFlNTM0NjY2YmNmNzgzZGI0NWM0NGM3Myk7CiAgICAgICAgICAgIAogICAgCiAgICAgICAgICAgIHZhciBwb3B1cF9jYmRhMWQ0OWEyN2Q0Yjc3OGU0MWIzZWIyNTI2ZTZjOSA9IEwucG9wdXAoe21heFdpZHRoOiAnMzAwJ30pOwoKICAgICAgICAgICAgCiAgICAgICAgICAgICAgICB2YXIgaHRtbF8yYzI5YWRlYmY0YWM0MDA2OTMwMzU2YmEwZjAzNzRmZCA9ICQoJzxkaXYgaWQ9Imh0bWxfMmMyOWFkZWJmNGFjNDAwNjkzMDM1NmJhMGYwMzc0ZmQiIHN0eWxlPSJ3aWR0aDogMTAwLjAlOyBoZWlnaHQ6IDEwMC4wJTsiPkxha2UgVmlldyBIaWdoIFNjaG9vbCBDbHVzdGVyIDI8L2Rpdj4nKVswXTsKICAgICAgICAgICAgICAgIHBvcHVwX2NiZGExZDQ5YTI3ZDRiNzc4ZTQxYjNlYjI1MjZlNmM5LnNldENvbnRlbnQoaHRtbF8yYzI5YWRlYmY0YWM0MDA2OTMwMzU2YmEwZjAzNzRmZCk7CiAgICAgICAgICAgIAoKICAgICAgICAgICAgY2lyY2xlX21hcmtlcl8yNzI3YWQ2ZmYxYjU0ODdiYmRhZGZhZDllOGQ0ODlmNi5iaW5kUG9wdXAocG9wdXBfY2JkYTFkNDlhMjdkNGI3NzhlNDFiM2ViMjUyNmU2YzkpOwoKICAgICAgICAgICAgCiAgICAgICAgCiAgICAKICAgICAgICAgICAgdmFyIGNpcmNsZV9tYXJrZXJfOTFhZGI1ZTM5NjViNGRmY2I0OWM4ZGU1N2I3YTUwYzcgPSBMLmNpcmNsZU1hcmtlcigKICAgICAgICAgICAgICAgIFs0MS45MTUyMzgzNjgwMzU1MywtODcuNzI5NjAxOTg2MjYzMTJdLAogICAgICAgICAgICAgICAgewogICJidWJibGluZ01vdXNlRXZlbnRzIjogdHJ1ZSwKICAiY29sb3IiOiAiIzAwYjVlYiIsCiAgImRhc2hBcnJheSI6IG51bGwsCiAgImRhc2hPZmZzZXQiOiBudWxsLAogICJmaWxsIjogdHJ1ZSwKICAiZmlsbENvbG9yIjogIiMwMGI1ZWIiLAogICJmaWxsT3BhY2l0eSI6IDAuNywKICAiZmlsbFJ1bGUiOiAiZXZlbm9kZCIsCiAgImxpbmVDYXAiOiAicm91bmQiLAogICJsaW5lSm9pbiI6ICJyb3VuZCIsCiAgIm9wYWNpdHkiOiAxLjAsCiAgInJhZGl1cyI6IDUsCiAgInN0cm9rZSI6IHRydWUsCiAgIndlaWdodCI6IDMKfQogICAgICAgICAgICAgICAgKS5hZGRUbyhtYXBfYjYxNzVmY2YxZTUzNDY2NmJjZjc4M2RiNDVjNDRjNzMpOwogICAgICAgICAgICAKICAgIAogICAgICAgICAgICB2YXIgcG9wdXBfZWRjOGVkNjJiYjY5NGZiYzkwOTMxNzI1MDhhOTc5ZTIgPSBMLnBvcHVwKHttYXhXaWR0aDogJzMwMCd9KTsKCiAgICAgICAgICAgIAogICAgICAgICAgICAgICAgdmFyIGh0bWxfYTY4MzA1MTU0NDg1NDllM2E5ZTJlMDYyZmE1NGZiNTEgPSAkKCc8ZGl2IGlkPSJodG1sX2E2ODMwNTE1NDQ4NTQ5ZTNhOWUyZTA2MmZhNTRmYjUxIiBzdHlsZT0id2lkdGg6IDEwMC4wJTsgaGVpZ2h0OiAxMDAuMCU7Ij5Qcml0emtlciBDb2xsZWdlIFByZXAgQ2x1c3RlciAyPC9kaXY+JylbMF07CiAgICAgICAgICAgICAgICBwb3B1cF9lZGM4ZWQ2MmJiNjk0ZmJjOTA5MzE3MjUwOGE5NzllMi5zZXRDb250ZW50KGh0bWxfYTY4MzA1MTU0NDg1NDllM2E5ZTJlMDYyZmE1NGZiNTEpOwogICAgICAgICAgICAKCiAgICAgICAgICAgIGNpcmNsZV9tYXJrZXJfOTFhZGI1ZTM5NjViNGRmY2I0OWM4ZGU1N2I3YTUwYzcuYmluZFBvcHVwKHBvcHVwX2VkYzhlZDYyYmI2OTRmYmM5MDkzMTcyNTA4YTk3OWUyKTsKCiAgICAgICAgICAgIAogICAgICAgIAogICAgCiAgICAgICAgICAgIHZhciBjaXJjbGVfbWFya2VyXzIwYWYwOTFhODk3NTQ4NWJhNDQzZGVhOWU0NGY1NTUxID0gTC5jaXJjbGVNYXJrZXIoCiAgICAgICAgICAgICAgICBbNDEuOTQ3OTIxNzAyMjEzODYsLTg3LjY5NzQxMDE5NzA5NjldLAogICAgICAgICAgICAgICAgewogICJidWJibGluZ01vdXNlRXZlbnRzIjogdHJ1ZSwKICAiY29sb3IiOiAiIzAwYjVlYiIsCiAgImRhc2hBcnJheSI6IG51bGwsCiAgImRhc2hPZmZzZXQiOiBudWxsLAogICJmaWxsIjogdHJ1ZSwKICAiZmlsbENvbG9yIjogIiMwMGI1ZWIiLAogICJmaWxsT3BhY2l0eSI6IDAuNywKICAiZmlsbFJ1bGUiOiAiZXZlbm9kZCIsCiAgImxpbmVDYXAiOiAicm91bmQiLAogICJsaW5lSm9pbiI6ICJyb3VuZCIsCiAgIm9wYWNpdHkiOiAxLjAsCiAgInJhZGl1cyI6IDUsCiAgInN0cm9rZSI6IHRydWUsCiAgIndlaWdodCI6IDMKfQogICAgICAgICAgICAgICAgKS5hZGRUbyhtYXBfYjYxNzVmY2YxZTUzNDY2NmJjZjc4M2RiNDVjNDRjNzMpOwogICAgICAgICAgICAKICAgIAogICAgICAgICAgICB2YXIgcG9wdXBfMDQzMWUzYmE0YTAxNDkzNDg5N2ZlM2EyZDJiMTE3YjcgPSBMLnBvcHVwKHttYXhXaWR0aDogJzMwMCd9KTsKCiAgICAgICAgICAgIAogICAgICAgICAgICAgICAgdmFyIGh0bWxfYmMyMWU0YWUwMjRlNDEyOGI1YWRjYzEwOTgzZmNlMjMgPSAkKCc8ZGl2IGlkPSJodG1sX2JjMjFlNGFlMDI0ZTQxMjhiNWFkY2MxMDk4M2ZjZTIzIiBzdHlsZT0id2lkdGg6IDEwMC4wJTsgaGVpZ2h0OiAxMDAuMCU7Ij5EZVBhdWwgQ29sbGVnZSBQcmVwIENsdXN0ZXIgMjwvZGl2PicpWzBdOwogICAgICAgICAgICAgICAgcG9wdXBfMDQzMWUzYmE0YTAxNDkzNDg5N2ZlM2EyZDJiMTE3Yjcuc2V0Q29udGVudChodG1sX2JjMjFlNGFlMDI0ZTQxMjhiNWFkY2MxMDk4M2ZjZTIzKTsKICAgICAgICAgICAgCgogICAgICAgICAgICBjaXJjbGVfbWFya2VyXzIwYWYwOTFhODk3NTQ4NWJhNDQzZGVhOWU0NGY1NTUxLmJpbmRQb3B1cChwb3B1cF8wNDMxZTNiYTRhMDE0OTM0ODk3ZmUzYTJkMmIxMTdiNyk7CgogICAgICAgICAgICAKICAgICAgICAKICAgIAogICAgICAgICAgICB2YXIgY2lyY2xlX21hcmtlcl8wNTZjZjNiNmU4NmY0ZDAxOTYwNjNlMDYxNDEzOGRlZCA9IEwuY2lyY2xlTWFya2VyKAogICAgICAgICAgICAgICAgWzQxLjk2NTY0ODkzNTIxNzQ1LC04Ny42NTI0MDE5MjQxMzMzXSwKICAgICAgICAgICAgICAgIHsKICAiYnViYmxpbmdNb3VzZUV2ZW50cyI6IHRydWUsCiAgImNvbG9yIjogIiM4MDAwZmYiLAogICJkYXNoQXJyYXkiOiBudWxsLAogICJkYXNoT2Zmc2V0IjogbnVsbCwKICAiZmlsbCI6IHRydWUsCiAgImZpbGxDb2xvciI6ICIjODAwMGZmIiwKICAiZmlsbE9wYWNpdHkiOiAwLjcsCiAgImZpbGxSdWxlIjogImV2ZW5vZGQiLAogICJsaW5lQ2FwIjogInJvdW5kIiwKICAibGluZUpvaW4iOiAicm91bmQiLAogICJvcGFjaXR5IjogMS4wLAogICJyYWRpdXMiOiA1LAogICJzdHJva2UiOiB0cnVlLAogICJ3ZWlnaHQiOiAzCn0KICAgICAgICAgICAgICAgICkuYWRkVG8obWFwX2I2MTc1ZmNmMWU1MzQ2NjZiY2Y3ODNkYjQ1YzQ0YzczKTsKICAgICAgICAgICAgCiAgICAKICAgICAgICAgICAgdmFyIHBvcHVwX2MyM2RhZDBiYWRkNjRhNTU5MWU3ZmQwMDFmMWQxYzgyID0gTC5wb3B1cCh7bWF4V2lkdGg6ICczMDAnfSk7CgogICAgICAgICAgICAKICAgICAgICAgICAgICAgIHZhciBodG1sXzQwYzA2NTk0NjFjZjRmNjU5Nzg2ZjJhZDQ1OTViMDMzID0gJCgnPGRpdiBpZD0iaHRtbF80MGMwNjU5NDYxY2Y0ZjY1OTc4NmYyYWQ0NTk1YjAzMyIgc3R5bGU9IndpZHRoOiAxMDAuMCU7IGhlaWdodDogMTAwLjAlOyI+VXBsaWZ0IENvbW11bml0eSBBY2FkZW15IEhpZ2ggU2Nob29sIENsdXN0ZXIgMTwvZGl2PicpWzBdOwogICAgICAgICAgICAgICAgcG9wdXBfYzIzZGFkMGJhZGQ2NGE1NTkxZTdmZDAwMWYxZDFjODIuc2V0Q29udGVudChodG1sXzQwYzA2NTk0NjFjZjRmNjU5Nzg2ZjJhZDQ1OTViMDMzKTsKICAgICAgICAgICAgCgogICAgICAgICAgICBjaXJjbGVfbWFya2VyXzA1NmNmM2I2ZTg2ZjRkMDE5NjA2M2UwNjE0MTM4ZGVkLmJpbmRQb3B1cChwb3B1cF9jMjNkYWQwYmFkZDY0YTU1OTFlN2ZkMDAxZjFkMWM4Mik7CgogICAgICAgICAgICAKICAgICAgICAKICAgIAogICAgICAgICAgICB2YXIgY2lyY2xlX21hcmtlcl9jM2E0Yzg3N2JmNDc0ODI2OGVkMzIzMzMzNjQ3YjVlOCA9IEwuY2lyY2xlTWFya2VyKAogICAgICAgICAgICAgICAgWzQxLjc4MjA0Nzk5OTk5OTk5NiwtODcuNjM0MjYxOTk5OTk5OTldLAogICAgICAgICAgICAgICAgewogICJidWJibGluZ01vdXNlRXZlbnRzIjogdHJ1ZSwKICAiY29sb3IiOiAiI2ZmMDAwMCIsCiAgImRhc2hBcnJheSI6IG51bGwsCiAgImRhc2hPZmZzZXQiOiBudWxsLAogICJmaWxsIjogdHJ1ZSwKICAiZmlsbENvbG9yIjogIiNmZjAwMDAiLAogICJmaWxsT3BhY2l0eSI6IDAuNywKICAiZmlsbFJ1bGUiOiAiZXZlbm9kZCIsCiAgImxpbmVDYXAiOiAicm91bmQiLAogICJsaW5lSm9pbiI6ICJyb3VuZCIsCiAgIm9wYWNpdHkiOiAxLjAsCiAgInJhZGl1cyI6IDUsCiAgInN0cm9rZSI6IHRydWUsCiAgIndlaWdodCI6IDMKfQogICAgICAgICAgICAgICAgKS5hZGRUbyhtYXBfYjYxNzVmY2YxZTUzNDY2NmJjZjc4M2RiNDVjNDRjNzMpOwogICAgICAgICAgICAKICAgIAogICAgICAgICAgICB2YXIgcG9wdXBfYTNiM2YwZTVmYjFiNDc5MTg0YmI1MTIxM2Y1NWE0N2UgPSBMLnBvcHVwKHttYXhXaWR0aDogJzMwMCd9KTsKCiAgICAgICAgICAgIAogICAgICAgICAgICAgICAgdmFyIGh0bWxfODY3OGU0ZjlmZmUwNGY4YmE5MTI2ZDllOWExNDNlOTkgPSAkKCc8ZGl2IGlkPSJodG1sXzg2NzhlNGY5ZmZlMDRmOGJhOTEyNmQ5ZTlhMTQzZTk5IiBzdHlsZT0id2lkdGg6IDEwMC4wJTsgaGVpZ2h0OiAxMDAuMCU7Ij5VcmJhbiBQcmVwIEFjYWRlbXkgLSBFbmdsZXdvb2QgQ2FtcHVzIENsdXN0ZXIgMDwvZGl2PicpWzBdOwogICAgICAgICAgICAgICAgcG9wdXBfYTNiM2YwZTVmYjFiNDc5MTg0YmI1MTIxM2Y1NWE0N2Uuc2V0Q29udGVudChodG1sXzg2NzhlNGY5ZmZlMDRmOGJhOTEyNmQ5ZTlhMTQzZTk5KTsKICAgICAgICAgICAgCgogICAgICAgICAgICBjaXJjbGVfbWFya2VyX2MzYTRjODc3YmY0NzQ4MjY4ZWQzMjMzMzM2NDdiNWU4LmJpbmRQb3B1cChwb3B1cF9hM2IzZjBlNWZiMWI0NzkxODRiYjUxMjEzZjU1YTQ3ZSk7CgogICAgICAgICAgICAKICAgICAgICAKICAgIAogICAgICAgICAgICB2YXIgY2lyY2xlX21hcmtlcl9jOTJhYmVmMWM2M2E0NjY5OGQ4NWIyYjAzYWU2ODY1ZiA9IEwuY2lyY2xlTWFya2VyKAogICAgICAgICAgICAgICAgWzQxLjc4MTY1NDQzMDY4MjYxLC04Ny42MzQyNjE5MzQ3NzEyNl0sCiAgICAgICAgICAgICAgICB7CiAgImJ1YmJsaW5nTW91c2VFdmVudHMiOiB0cnVlLAogICJjb2xvciI6ICIjZmYwMDAwIiwKICAiZGFzaEFycmF5IjogbnVsbCwKICAiZGFzaE9mZnNldCI6IG51bGwsCiAgImZpbGwiOiB0cnVlLAogICJmaWxsQ29sb3IiOiAiI2ZmMDAwMCIsCiAgImZpbGxPcGFjaXR5IjogMC43LAogICJmaWxsUnVsZSI6ICJldmVub2RkIiwKICAibGluZUNhcCI6ICJyb3VuZCIsCiAgImxpbmVKb2luIjogInJvdW5kIiwKICAib3BhY2l0eSI6IDEuMCwKICAicmFkaXVzIjogNSwKICAic3Ryb2tlIjogdHJ1ZSwKICAid2VpZ2h0IjogMwp9CiAgICAgICAgICAgICAgICApLmFkZFRvKG1hcF9iNjE3NWZjZjFlNTM0NjY2YmNmNzgzZGI0NWM0NGM3Myk7CiAgICAgICAgICAgIAogICAgCiAgICAgICAgICAgIHZhciBwb3B1cF8zZGEzY2NlZjFkYTI0ODNhYWNmMDNhZjI3OWM2MmJmNyA9IEwucG9wdXAoe21heFdpZHRoOiAnMzAwJ30pOwoKICAgICAgICAgICAgCiAgICAgICAgICAgICAgICB2YXIgaHRtbF9lMDM3MDgwMDc3MWI0N2JkYTFkZGVjMjIyN2U2Y2QwNiA9ICQoJzxkaXYgaWQ9Imh0bWxfZTAzNzA4MDA3NzFiNDdiZGExZGRlYzIyMjdlNmNkMDYiIHN0eWxlPSJ3aWR0aDogMTAwLjAlOyBoZWlnaHQ6IDEwMC4wJTsiPkVuZ2xld29vZCBIaWdoIFNjaG9vbCBDbHVzdGVyIDA8L2Rpdj4nKVswXTsKICAgICAgICAgICAgICAgIHBvcHVwXzNkYTNjY2VmMWRhMjQ4M2FhY2YwM2FmMjc5YzYyYmY3LnNldENvbnRlbnQoaHRtbF9lMDM3MDgwMDc3MWI0N2JkYTFkZGVjMjIyN2U2Y2QwNik7CiAgICAgICAgICAgIAoKICAgICAgICAgICAgY2lyY2xlX21hcmtlcl9jOTJhYmVmMWM2M2E0NjY5OGQ4NWIyYjAzYWU2ODY1Zi5iaW5kUG9wdXAocG9wdXBfM2RhM2NjZWYxZGEyNDgzYWFjZjAzYWYyNzljNjJiZjcpOwoKICAgICAgICAgICAgCiAgICAgICAgCiAgICAKICAgICAgICAgICAgdmFyIGNpcmNsZV9tYXJrZXJfMjQwYzA5ZDdiOGM5NDkyZDllNjNmZmE3MjZmMzFhNjggPSBMLmNpcmNsZU1hcmtlcigKICAgICAgICAgICAgICAgIFs0MS44NzY5OTk5NTIwMTY3NSwtODcuNzUyOTcxMDg2MTA1MTldLAogICAgICAgICAgICAgICAgewogICJidWJibGluZ01vdXNlRXZlbnRzIjogdHJ1ZSwKICAiY29sb3IiOiAiIzAwYjVlYiIsCiAgImRhc2hBcnJheSI6IG51bGwsCiAgImRhc2hPZmZzZXQiOiBudWxsLAogICJmaWxsIjogdHJ1ZSwKICAiZmlsbENvbG9yIjogIiMwMGI1ZWIiLAogICJmaWxsT3BhY2l0eSI6IDAuNywKICAiZmlsbFJ1bGUiOiAiZXZlbm9kZCIsCiAgImxpbmVDYXAiOiAicm91bmQiLAogICJsaW5lSm9pbiI6ICJyb3VuZCIsCiAgIm9wYWNpdHkiOiAxLjAsCiAgInJhZGl1cyI6IDUsCiAgInN0cm9rZSI6IHRydWUsCiAgIndlaWdodCI6IDMKfQogICAgICAgICAgICAgICAgKS5hZGRUbyhtYXBfYjYxNzVmY2YxZTUzNDY2NmJjZjc4M2RiNDVjNDRjNzMpOwogICAgICAgICAgICAKICAgIAogICAgICAgICAgICB2YXIgcG9wdXBfZjI5YzJiZWE2YWJiNDhhMjlmOWJhNzZiMjM0MzliN2UgPSBMLnBvcHVwKHttYXhXaWR0aDogJzMwMCd9KTsKCiAgICAgICAgICAgIAogICAgICAgICAgICAgICAgdmFyIGh0bWxfZDllMTI4NzJkYTRiNDdkYzhlM2RkNDYzNzNjMGQzNDMgPSAkKCc8ZGl2IGlkPSJodG1sX2Q5ZTEyODcyZGE0YjQ3ZGM4ZTNkZDQ2MzczYzBkMzQzIiBzdHlsZT0id2lkdGg6IDEwMC4wJTsgaGVpZ2h0OiAxMDAuMCU7Ij5DaHJpc3QgVGhlIEtpbmcgSmVzdWl0IENvbGxlZ2UgUHJlcCBDbHVzdGVyIDI8L2Rpdj4nKVswXTsKICAgICAgICAgICAgICAgIHBvcHVwX2YyOWMyYmVhNmFiYjQ4YTI5ZjliYTc2YjIzNDM5YjdlLnNldENvbnRlbnQoaHRtbF9kOWUxMjg3MmRhNGI0N2RjOGUzZGQ0NjM3M2MwZDM0Myk7CiAgICAgICAgICAgIAoKICAgICAgICAgICAgY2lyY2xlX21hcmtlcl8yNDBjMDlkN2I4Yzk0OTJkOWU2M2ZmYTcyNmYzMWE2OC5iaW5kUG9wdXAocG9wdXBfZjI5YzJiZWE2YWJiNDhhMjlmOWJhNzZiMjM0MzliN2UpOwoKICAgICAgICAgICAgCiAgICAgICAgCiAgICAKICAgICAgICAgICAgdmFyIGNpcmNsZV9tYXJrZXJfMjA4Mjg0NjhkYzZiNDhjZjk1YjE5MjgwYjQ4ZmM3NmMgPSBMLmNpcmNsZU1hcmtlcigKICAgICAgICAgICAgICAgIFs0MS43OTE5NDM1MTI5MzIyMSwtODcuNjkwMDc3MTYxOTYwODJdLAogICAgICAgICAgICAgICAgewogICJidWJibGluZ01vdXNlRXZlbnRzIjogdHJ1ZSwKICAiY29sb3IiOiAiI2ZmMDAwMCIsCiAgImRhc2hBcnJheSI6IG51bGwsCiAgImRhc2hPZmZzZXQiOiBudWxsLAogICJmaWxsIjogdHJ1ZSwKICAiZmlsbENvbG9yIjogIiNmZjAwMDAiLAogICJmaWxsT3BhY2l0eSI6IDAuNywKICAiZmlsbFJ1bGUiOiAiZXZlbm9kZCIsCiAgImxpbmVDYXAiOiAicm91bmQiLAogICJsaW5lSm9pbiI6ICJyb3VuZCIsCiAgIm9wYWNpdHkiOiAxLjAsCiAgInJhZGl1cyI6IDUsCiAgInN0cm9rZSI6IHRydWUsCiAgIndlaWdodCI6IDMKfQogICAgICAgICAgICAgICAgKS5hZGRUbyhtYXBfYjYxNzVmY2YxZTUzNDY2NmJjZjc4M2RiNDVjNDRjNzMpOwogICAgICAgICAgICAKICAgIAogICAgICAgICAgICB2YXIgcG9wdXBfNjdiZmI4MTNiMzc0NDZlMWIxOGVkNDRiNGE4N2IxZjMgPSBMLnBvcHVwKHttYXhXaWR0aDogJzMwMCd9KTsKCiAgICAgICAgICAgIAogICAgICAgICAgICAgICAgdmFyIGh0bWxfNzFkNjFjY2U0MTdjNGIzMWEyMzJhZmM2ZTlkYmE2MTggPSAkKCc8ZGl2IGlkPSJodG1sXzcxZDYxY2NlNDE3YzRiMzFhMjMyYWZjNmU5ZGJhNjE4IiBzdHlsZT0id2lkdGg6IDEwMC4wJTsgaGVpZ2h0OiAxMDAuMCU7Ij5HYWdlIFBhcmsgSGlnaCBTY2hvb2wgQ2x1c3RlciAwPC9kaXY+JylbMF07CiAgICAgICAgICAgICAgICBwb3B1cF82N2JmYjgxM2IzNzQ0NmUxYjE4ZWQ0NGI0YTg3YjFmMy5zZXRDb250ZW50KGh0bWxfNzFkNjFjY2U0MTdjNGIzMWEyMzJhZmM2ZTlkYmE2MTgpOwogICAgICAgICAgICAKCiAgICAgICAgICAgIGNpcmNsZV9tYXJrZXJfMjA4Mjg0NjhkYzZiNDhjZjk1YjE5MjgwYjQ4ZmM3NmMuYmluZFBvcHVwKHBvcHVwXzY3YmZiODEzYjM3NDQ2ZTFiMThlZDQ0YjRhODdiMWYzKTsKCiAgICAgICAgICAgIAogICAgICAgIAogICAgCiAgICAgICAgICAgIHZhciBjaXJjbGVfbWFya2VyXzRiYmFkOTY0YWYzMjQxNzg5MTkyZWQyNjQ3OTQ5YWM5ID0gTC5jaXJjbGVNYXJrZXIoCiAgICAgICAgICAgICAgICBbNDEuNzc4NTk2OTg3MTc2MzcsLTg3LjYzNTQ1NTM2OTEzMzQ4XSwKICAgICAgICAgICAgICAgIHsKICAiYnViYmxpbmdNb3VzZUV2ZW50cyI6IHRydWUsCiAgImNvbG9yIjogIiNmZjAwMDAiLAogICJkYXNoQXJyYXkiOiBudWxsLAogICJkYXNoT2Zmc2V0IjogbnVsbCwKICAiZmlsbCI6IHRydWUsCiAgImZpbGxDb2xvciI6ICIjZmYwMDAwIiwKICAiZmlsbE9wYWNpdHkiOiAwLjcsCiAgImZpbGxSdWxlIjogImV2ZW5vZGQiLAogICJsaW5lQ2FwIjogInJvdW5kIiwKICAibGluZUpvaW4iOiAicm91bmQiLAogICJvcGFjaXR5IjogMS4wLAogICJyYWRpdXMiOiA1LAogICJzdHJva2UiOiB0cnVlLAogICJ3ZWlnaHQiOiAzCn0KICAgICAgICAgICAgICAgICkuYWRkVG8obWFwX2I2MTc1ZmNmMWU1MzQ2NjZiY2Y3ODNkYjQ1YzQ0YzczKTsKICAgICAgICAgICAgCiAgICAKICAgICAgICAgICAgdmFyIHBvcHVwXzBhYjdhNjE3YzdjYTQzZTA5OTYzNGEwYWVjNTdiNzQ2ID0gTC5wb3B1cCh7bWF4V2lkdGg6ICczMDAnfSk7CgogICAgICAgICAgICAKICAgICAgICAgICAgICAgIHZhciBodG1sXzRkNDRlYWI4YWQ3MDQyY2E5NWNiNzNhOGFlN2FlMDA0ID0gJCgnPGRpdiBpZD0iaHRtbF80ZDQ0ZWFiOGFkNzA0MmNhOTVjYjczYThhZTdhZTAwNCIgc3R5bGU9IndpZHRoOiAxMDAuMCU7IGhlaWdodDogMTAwLjAlOyI+Sk9ITlNPTiBDT0xMRUdFIFBSRVAgQ2x1c3RlciAwPC9kaXY+JylbMF07CiAgICAgICAgICAgICAgICBwb3B1cF8wYWI3YTYxN2M3Y2E0M2UwOTk2MzRhMGFlYzU3Yjc0Ni5zZXRDb250ZW50KGh0bWxfNGQ0NGVhYjhhZDcwNDJjYTk1Y2I3M2E4YWU3YWUwMDQpOwogICAgICAgICAgICAKCiAgICAgICAgICAgIGNpcmNsZV9tYXJrZXJfNGJiYWQ5NjRhZjMyNDE3ODkxOTJlZDI2NDc5NDlhYzkuYmluZFBvcHVwKHBvcHVwXzBhYjdhNjE3YzdjYTQzZTA5OTYzNGEwYWVjNTdiNzQ2KTsKCiAgICAgICAgICAgIAogICAgICAgIAogICAgCiAgICAgICAgICAgIHZhciBjaXJjbGVfbWFya2VyXzNhODA0YWM3NmNhZDQyMTI4NGY3ZjEzMDA1MmJhZjBiID0gTC5jaXJjbGVNYXJrZXIoCiAgICAgICAgICAgICAgICBbNDEuNzc4NDg5NDc2OTIyOTcsLTg3LjU5ODA3NDkxMTQ2ODQ2XSwKICAgICAgICAgICAgICAgIHsKICAiYnViYmxpbmdNb3VzZUV2ZW50cyI6IHRydWUsCiAgImNvbG9yIjogIiMwMGI1ZWIiLAogICJkYXNoQXJyYXkiOiBudWxsLAogICJkYXNoT2Zmc2V0IjogbnVsbCwKICAiZmlsbCI6IHRydWUsCiAgImZpbGxDb2xvciI6ICIjMDBiNWViIiwKICAiZmlsbE9wYWNpdHkiOiAwLjcsCiAgImZpbGxSdWxlIjogImV2ZW5vZGQiLAogICJsaW5lQ2FwIjogInJvdW5kIiwKICAibGluZUpvaW4iOiAicm91bmQiLAogICJvcGFjaXR5IjogMS4wLAogICJyYWRpdXMiOiA1LAogICJzdHJva2UiOiB0cnVlLAogICJ3ZWlnaHQiOiAzCn0KICAgICAgICAgICAgICAgICkuYWRkVG8obWFwX2I2MTc1ZmNmMWU1MzQ2NjZiY2Y3ODNkYjQ1YzQ0YzczKTsKICAgICAgICAgICAgCiAgICAKICAgICAgICAgICAgdmFyIHBvcHVwX2NhM2YyNmJlODA3NDQxOGNiOTk1YTM0MGI2OTc2MGU3ID0gTC5wb3B1cCh7bWF4V2lkdGg6ICczMDAnfSk7CgogICAgICAgICAgICAKICAgICAgICAgICAgICAgIHZhciBodG1sXzVhN2M5ODA3NTZlNzQxMTZiY2ZlZTllZTM0ZGY1Zjg5ID0gJCgnPGRpdiBpZD0iaHRtbF81YTdjOTgwNzU2ZTc0MTE2YmNmZWU5ZWUzNGRmNWY4OSIgc3R5bGU9IndpZHRoOiAxMDAuMCU7IGhlaWdodDogMTAwLjAlOyI+VUNXIENsdXN0ZXIgMjwvZGl2PicpWzBdOwogICAgICAgICAgICAgICAgcG9wdXBfY2EzZjI2YmU4MDc0NDE4Y2I5OTVhMzQwYjY5NzYwZTcuc2V0Q29udGVudChodG1sXzVhN2M5ODA3NTZlNzQxMTZiY2ZlZTllZTM0ZGY1Zjg5KTsKICAgICAgICAgICAgCgogICAgICAgICAgICBjaXJjbGVfbWFya2VyXzNhODA0YWM3NmNhZDQyMTI4NGY3ZjEzMDA1MmJhZjBiLmJpbmRQb3B1cChwb3B1cF9jYTNmMjZiZTgwNzQ0MThjYjk5NWEzNDBiNjk3NjBlNyk7CgogICAgICAgICAgICAKICAgICAgICAKICAgIAogICAgICAgICAgICB2YXIgY2lyY2xlX21hcmtlcl9iMDRmYTllNzM0NTE0OTVmODVlY2U2ZDFlODIyNjUyZSA9IEwuY2lyY2xlTWFya2VyKAogICAgICAgICAgICAgICAgWzQxLjc4MjU0NzM5NDE3MTYsLTg3LjY3MjU0Mjg1NjQ2ODY1XSwKICAgICAgICAgICAgICAgIHsKICAiYnViYmxpbmdNb3VzZUV2ZW50cyI6IHRydWUsCiAgImNvbG9yIjogIiMwMGI1ZWIiLAogICJkYXNoQXJyYXkiOiBudWxsLAogICJkYXNoT2Zmc2V0IjogbnVsbCwKICAiZmlsbCI6IHRydWUsCiAgImZpbGxDb2xvciI6ICIjMDBiNWViIiwKICAiZmlsbE9wYWNpdHkiOiAwLjcsCiAgImZpbGxSdWxlIjogImV2ZW5vZGQiLAogICJsaW5lQ2FwIjogInJvdW5kIiwKICAibGluZUpvaW4iOiAicm91bmQiLAogICJvcGFjaXR5IjogMS4wLAogICJyYWRpdXMiOiA1LAogICJzdHJva2UiOiB0cnVlLAogICJ3ZWlnaHQiOiAzCn0KICAgICAgICAgICAgICAgICkuYWRkVG8obWFwX2I2MTc1ZmNmMWU1MzQ2NjZiY2Y3ODNkYjQ1YzQ0YzczKTsKICAgICAgICAgICAgCiAgICAKICAgICAgICAgICAgdmFyIHBvcHVwX2NkN2Q0ZWM5OGNhNDQwNDBiZDEwOTdmMzhiMDY5MWM1ID0gTC5wb3B1cCh7bWF4V2lkdGg6ICczMDAnfSk7CgogICAgICAgICAgICAKICAgICAgICAgICAgICAgIHZhciBodG1sXzEyYjNkOTFhNGRmYTRhMGE5ODcwY2UzOTVlZDNiZDUzID0gJCgnPGRpdiBpZD0iaHRtbF8xMmIzZDkxYTRkZmE0YTBhOTg3MGNlMzk1ZWQzYmQ1MyIgc3R5bGU9IndpZHRoOiAxMDAuMCU7IGhlaWdodDogMTAwLjAlOyI+TGluZGJsb20gTWF0aCAmYW1wOyBTY2llbmNlIEFjYWRlbXkgQ2x1c3RlciAyPC9kaXY+JylbMF07CiAgICAgICAgICAgICAgICBwb3B1cF9jZDdkNGVjOThjYTQ0MDQwYmQxMDk3ZjM4YjA2OTFjNS5zZXRDb250ZW50KGh0bWxfMTJiM2Q5MWE0ZGZhNGEwYTk4NzBjZTM5NWVkM2JkNTMpOwogICAgICAgICAgICAKCiAgICAgICAgICAgIGNpcmNsZV9tYXJrZXJfYjA0ZmE5ZTczNDUxNDk1Zjg1ZWNlNmQxZTgyMjY1MmUuYmluZFBvcHVwKHBvcHVwX2NkN2Q0ZWM5OGNhNDQwNDBiZDEwOTdmMzhiMDY5MWM1KTsKCiAgICAgICAgICAgIAogICAgICAgIAogICAgCiAgICAgICAgICAgIHZhciBjaXJjbGVfbWFya2VyXzJlNWVjMWZlZmRmNTQxYTg5ZThiYTc2MzM2ZjllYmRiID0gTC5jaXJjbGVNYXJrZXIoCiAgICAgICAgICAgICAgICBbNDEuODg0OTcsLTg3Ljc2MjU1MV0sCiAgICAgICAgICAgICAgICB7CiAgImJ1YmJsaW5nTW91c2VFdmVudHMiOiB0cnVlLAogICJjb2xvciI6ICIjMDBiNWViIiwKICAiZGFzaEFycmF5IjogbnVsbCwKICAiZGFzaE9mZnNldCI6IG51bGwsCiAgImZpbGwiOiB0cnVlLAogICJmaWxsQ29sb3IiOiAiIzAwYjVlYiIsCiAgImZpbGxPcGFjaXR5IjogMC43LAogICJmaWxsUnVsZSI6ICJldmVub2RkIiwKICAibGluZUNhcCI6ICJyb3VuZCIsCiAgImxpbmVKb2luIjogInJvdW5kIiwKICAib3BhY2l0eSI6IDEuMCwKICAicmFkaXVzIjogNSwKICAic3Ryb2tlIjogdHJ1ZSwKICAid2VpZ2h0IjogMwp9CiAgICAgICAgICAgICAgICApLmFkZFRvKG1hcF9iNjE3NWZjZjFlNTM0NjY2YmNmNzgzZGI0NWM0NGM3Myk7CiAgICAgICAgICAgIAogICAgCiAgICAgICAgICAgIHZhciBwb3B1cF8xMzY5ZDRhOWI4MGQ0YTFlODE2YmNkZTc2Mzk2NmEzMSA9IEwucG9wdXAoe21heFdpZHRoOiAnMzAwJ30pOwoKICAgICAgICAgICAgCiAgICAgICAgICAgICAgICB2YXIgaHRtbF80NjE4YzM3Zjg0MTg0YzkzYjBiODZkN2I3YWZkMzNiMCA9ICQoJzxkaXYgaWQ9Imh0bWxfNDYxOGMzN2Y4NDE4NGM5M2IwYjg2ZDdiN2FmZDMzYjAiIHN0eWxlPSJ3aWR0aDogMTAwLjAlOyBoZWlnaHQ6IDEwMC4wJTsiPkF1c3RpbiBDb2xsZWdlIGFuZCBDYXJlZXIgQWNhZGVteSBIaWdoIFNjaG9vbCBDbHVzdGVyIDI8L2Rpdj4nKVswXTsKICAgICAgICAgICAgICAgIHBvcHVwXzEzNjlkNGE5YjgwZDRhMWU4MTZiY2RlNzYzOTY2YTMxLnNldENvbnRlbnQoaHRtbF80NjE4YzM3Zjg0MTg0YzkzYjBiODZkN2I3YWZkMzNiMCk7CiAgICAgICAgICAgIAoKICAgICAgICAgICAgY2lyY2xlX21hcmtlcl8yZTVlYzFmZWZkZjU0MWE4OWU4YmE3NjMzNmY5ZWJkYi5iaW5kUG9wdXAocG9wdXBfMTM2OWQ0YTliODBkNGExZTgxNmJjZGU3NjM5NjZhMzEpOwoKICAgICAgICAgICAgCiAgICAgICAgCiAgICAKICAgICAgICAgICAgdmFyIGNpcmNsZV9tYXJrZXJfNGYxMzk5Mjg1NzQ1NDhlMDk0NGYwOGI2NDM3Mjg1M2MgPSBMLmNpcmNsZU1hcmtlcigKICAgICAgICAgICAgICAgIFs0MS44MDIyOTUzMzMxOTYyODQsLTg3LjcyMjQ1ODk2NTg0MDYyXSwKICAgICAgICAgICAgICAgIHsKICAiYnViYmxpbmdNb3VzZUV2ZW50cyI6IHRydWUsCiAgImNvbG9yIjogIiNmZjAwMDAiLAogICJkYXNoQXJyYXkiOiBudWxsLAogICJkYXNoT2Zmc2V0IjogbnVsbCwKICAiZmlsbCI6IHRydWUsCiAgImZpbGxDb2xvciI6ICIjZmYwMDAwIiwKICAiZmlsbE9wYWNpdHkiOiAwLjcsCiAgImZpbGxSdWxlIjogImV2ZW5vZGQiLAogICJsaW5lQ2FwIjogInJvdW5kIiwKICAibGluZUpvaW4iOiAicm91bmQiLAogICJvcGFjaXR5IjogMS4wLAogICJyYWRpdXMiOiA1LAogICJzdHJva2UiOiB0cnVlLAogICJ3ZWlnaHQiOiAzCn0KICAgICAgICAgICAgICAgICkuYWRkVG8obWFwX2I2MTc1ZmNmMWU1MzQ2NjZiY2Y3ODNkYjQ1YzQ0YzczKTsKICAgICAgICAgICAgCiAgICAKICAgICAgICAgICAgdmFyIHBvcHVwXzM3NTgzNTg3Y2Q0YzQyNGVhMTBlOTk1NDNhMTRhZGUyID0gTC5wb3B1cCh7bWF4V2lkdGg6ICczMDAnfSk7CgogICAgICAgICAgICAKICAgICAgICAgICAgICAgIHZhciBodG1sX2YwZDU4ZDc3MGFiMTRkODM4YzgwY2M2MDM0MDQyNGM2ID0gJCgnPGRpdiBpZD0iaHRtbF9mMGQ1OGQ3NzBhYjE0ZDgzOGM4MGNjNjAzNDA0MjRjNiIgc3R5bGU9IndpZHRoOiAxMDAuMCU7IGhlaWdodDogMTAwLjAlOyI+Q3VyaWUgSGlnaCBTY2hvb2wgQ2x1c3RlciAwPC9kaXY+JylbMF07CiAgICAgICAgICAgICAgICBwb3B1cF8zNzU4MzU4N2NkNGM0MjRlYTEwZTk5NTQzYTE0YWRlMi5zZXRDb250ZW50KGh0bWxfZjBkNThkNzcwYWIxNGQ4MzhjODBjYzYwMzQwNDI0YzYpOwogICAgICAgICAgICAKCiAgICAgICAgICAgIGNpcmNsZV9tYXJrZXJfNGYxMzk5Mjg1NzQ1NDhlMDk0NGYwOGI2NDM3Mjg1M2MuYmluZFBvcHVwKHBvcHVwXzM3NTgzNTg3Y2Q0YzQyNGVhMTBlOTk1NDNhMTRhZGUyKTsKCiAgICAgICAgICAgIAogICAgICAgIAogICAgCiAgICAgICAgICAgIHZhciBjaXJjbGVfbWFya2VyX2RjMmFjMzBmOWQwNTRiYWViOTc1NWM2YWIwNGRmY2M1ID0gTC5jaXJjbGVNYXJrZXIoCiAgICAgICAgICAgICAgICBbNDEuOTUyMzYzMjU4NTczMjUsLTg3LjcyMDM4NTUxODgwNDg5XSwKICAgICAgICAgICAgICAgIHsKICAiYnViYmxpbmdNb3VzZUV2ZW50cyI6IHRydWUsCiAgImNvbG9yIjogIiMwMGI1ZWIiLAogICJkYXNoQXJyYXkiOiBudWxsLAogICJkYXNoT2Zmc2V0IjogbnVsbCwKICAiZmlsbCI6IHRydWUsCiAgImZpbGxDb2xvciI6ICIjMDBiNWViIiwKICAiZmlsbE9wYWNpdHkiOiAwLjcsCiAgImZpbGxSdWxlIjogImV2ZW5vZGQiLAogICJsaW5lQ2FwIjogInJvdW5kIiwKICAibGluZUpvaW4iOiAicm91bmQiLAogICJvcGFjaXR5IjogMS4wLAogICJyYWRpdXMiOiA1LAogICJzdHJva2UiOiB0cnVlLAogICJ3ZWlnaHQiOiAzCn0KICAgICAgICAgICAgICAgICkuYWRkVG8obWFwX2I2MTc1ZmNmMWU1MzQ2NjZiY2Y3ODNkYjQ1YzQ0YzczKTsKICAgICAgICAgICAgCiAgICAKICAgICAgICAgICAgdmFyIHBvcHVwX2UyYTcwM2IyNWI1ZTQ2ODg4MjgzNWE5YzAyZDVmMDcyID0gTC5wb3B1cCh7bWF4V2lkdGg6ICczMDAnfSk7CgogICAgICAgICAgICAKICAgICAgICAgICAgICAgIHZhciBodG1sX2M4YjdmMWFiYzJhNjQ0NTc5NzYxMmJmZmQ3NDM0MzNjID0gJCgnPGRpdiBpZD0iaHRtbF9jOGI3ZjFhYmMyYTY0NDU3OTc2MTJiZmZkNzQzNDMzYyIgc3R5bGU9IndpZHRoOiAxMDAuMCU7IGhlaWdodDogMTAwLjAlOyI+RGlzbmV5IElJIE1hZ25ldCBDbHVzdGVyIDI8L2Rpdj4nKVswXTsKICAgICAgICAgICAgICAgIHBvcHVwX2UyYTcwM2IyNWI1ZTQ2ODg4MjgzNWE5YzAyZDVmMDcyLnNldENvbnRlbnQoaHRtbF9jOGI3ZjFhYmMyYTY0NDU3OTc2MTJiZmZkNzQzNDMzYyk7CiAgICAgICAgICAgIAoKICAgICAgICAgICAgY2lyY2xlX21hcmtlcl9kYzJhYzMwZjlkMDU0YmFlYjk3NTVjNmFiMDRkZmNjNS5iaW5kUG9wdXAocG9wdXBfZTJhNzAzYjI1YjVlNDY4ODgyODM1YTljMDJkNWYwNzIpOwoKICAgICAgICAgICAgCiAgICAgICAgCiAgICAKICAgICAgICAgICAgdmFyIGNpcmNsZV9tYXJrZXJfYzZkMWI3MzVkMjhiNDFlOGFjODMxYmI3ZTdmNTExYmQgPSBMLmNpcmNsZU1hcmtlcigKICAgICAgICAgICAgICAgIFs0MS43NzEwMTg4MjM3ODI3NCwtODcuNjM2NzY5MTc4NTA5NjhdLAogICAgICAgICAgICAgICAgewogICJidWJibGluZ01vdXNlRXZlbnRzIjogdHJ1ZSwKICAiY29sb3IiOiAiIzAwYjVlYiIsCiAgImRhc2hBcnJheSI6IG51bGwsCiAgImRhc2hPZmZzZXQiOiBudWxsLAogICJmaWxsIjogdHJ1ZSwKICAiZmlsbENvbG9yIjogIiMwMGI1ZWIiLAogICJmaWxsT3BhY2l0eSI6IDAuNywKICAiZmlsbFJ1bGUiOiAiZXZlbm9kZCIsCiAgImxpbmVDYXAiOiAicm91bmQiLAogICJsaW5lSm9pbiI6ICJyb3VuZCIsCiAgIm9wYWNpdHkiOiAxLjAsCiAgInJhZGl1cyI6IDUsCiAgInN0cm9rZSI6IHRydWUsCiAgIndlaWdodCI6IDMKfQogICAgICAgICAgICAgICAgKS5hZGRUbyhtYXBfYjYxNzVmY2YxZTUzNDY2NmJjZjc4M2RiNDVjNDRjNzMpOwogICAgICAgICAgICAKICAgIAogICAgICAgICAgICB2YXIgcG9wdXBfOGIxY2VlODQzN2Q3NGQ5ZDg1MjVhMDhlODczN2FhY2YgPSBMLnBvcHVwKHttYXhXaWR0aDogJzMwMCd9KTsKCiAgICAgICAgICAgIAogICAgICAgICAgICAgICAgdmFyIGh0bWxfZjJjZDQyZjUwZmMxNGQxYTg3MDNiZDA5ZTliZmQxNGQgPSAkKCc8ZGl2IGlkPSJodG1sX2YyY2Q0MmY1MGZjMTRkMWE4NzAzYmQwOWU5YmZkMTRkIiBzdHlsZT0id2lkdGg6IDEwMC4wJTsgaGVpZ2h0OiAxMDAuMCU7Ij5Sb2Jlc29uIEhpZ2ggU2Nob29sIENsdXN0ZXIgMjwvZGl2PicpWzBdOwogICAgICAgICAgICAgICAgcG9wdXBfOGIxY2VlODQzN2Q3NGQ5ZDg1MjVhMDhlODczN2FhY2Yuc2V0Q29udGVudChodG1sX2YyY2Q0MmY1MGZjMTRkMWE4NzAzYmQwOWU5YmZkMTRkKTsKICAgICAgICAgICAgCgogICAgICAgICAgICBjaXJjbGVfbWFya2VyX2M2ZDFiNzM1ZDI4YjQxZThhYzgzMWJiN2U3ZjUxMWJkLmJpbmRQb3B1cChwb3B1cF84YjFjZWU4NDM3ZDc0ZDlkODUyNWEwOGU4NzM3YWFjZik7CgogICAgICAgICAgICAKICAgICAgICAKICAgIAogICAgICAgICAgICB2YXIgY2lyY2xlX21hcmtlcl85MDIwNWE2MzJhYjE0YjQ4YjliZmZjZjY5MThkMWJkZCA9IEwuY2lyY2xlTWFya2VyKAogICAgICAgICAgICAgICAgWzQxLjk3NDQzNTg0MzgyOTQ0LC04Ny42Nzk2ODg5MjgzMjcwMl0sCiAgICAgICAgICAgICAgICB7CiAgImJ1YmJsaW5nTW91c2VFdmVudHMiOiB0cnVlLAogICJjb2xvciI6ICIjODAwMGZmIiwKICAiZGFzaEFycmF5IjogbnVsbCwKICAiZGFzaE9mZnNldCI6IG51bGwsCiAgImZpbGwiOiB0cnVlLAogICJmaWxsQ29sb3IiOiAiIzgwMDBmZiIsCiAgImZpbGxPcGFjaXR5IjogMC43LAogICJmaWxsUnVsZSI6ICJldmVub2RkIiwKICAibGluZUNhcCI6ICJyb3VuZCIsCiAgImxpbmVKb2luIjogInJvdW5kIiwKICAib3BhY2l0eSI6IDEuMCwKICAicmFkaXVzIjogNSwKICAic3Ryb2tlIjogdHJ1ZSwKICAid2VpZ2h0IjogMwp9CiAgICAgICAgICAgICAgICApLmFkZFRvKG1hcF9iNjE3NWZjZjFlNTM0NjY2YmNmNzgzZGI0NWM0NGM3Myk7CiAgICAgICAgICAgIAogICAgCiAgICAgICAgICAgIHZhciBwb3B1cF82Y2JmOGRkNWM4NWY0ZDVmOThjNjFhY2U2ZWE5YTJmMyA9IEwucG9wdXAoe21heFdpZHRoOiAnMzAwJ30pOwoKICAgICAgICAgICAgCiAgICAgICAgICAgICAgICB2YXIgaHRtbF9lYjc1NmE3NmViY2Q0ZjdjYTJmMmE5MDIyZGFmMTE1OCA9ICQoJzxkaXYgaWQ9Imh0bWxfZWI3NTZhNzZlYmNkNGY3Y2EyZjJhOTAyMmRhZjExNTgiIHN0eWxlPSJ3aWR0aDogMTAwLjAlOyBoZWlnaHQ6IDEwMC4wJTsiPkFtdW5kc2VuIEhpZ2ggU2Nob29sIENsdXN0ZXIgMTwvZGl2PicpWzBdOwogICAgICAgICAgICAgICAgcG9wdXBfNmNiZjhkZDVjODVmNGQ1Zjk4YzYxYWNlNmVhOWEyZjMuc2V0Q29udGVudChodG1sX2ViNzU2YTc2ZWJjZDRmN2NhMmYyYTkwMjJkYWYxMTU4KTsKICAgICAgICAgICAgCgogICAgICAgICAgICBjaXJjbGVfbWFya2VyXzkwMjA1YTYzMmFiMTRiNDhiOWJmZmNmNjkxOGQxYmRkLmJpbmRQb3B1cChwb3B1cF82Y2JmOGRkNWM4NWY0ZDVmOThjNjFhY2U2ZWE5YTJmMyk7CgogICAgICAgICAgICAKICAgICAgICAKICAgIAogICAgICAgICAgICB2YXIgY2lyY2xlX21hcmtlcl81OTRkNGEyZDMwZWM0OTM4OTYwZDkyNzM4YTQ3Mjc0MiA9IEwuY2lyY2xlTWFya2VyKAogICAgICAgICAgICAgICAgWzQxLjg5MDM0NzE5NDczNDMyNSwtODcuNzY3MjQwNTQ5MTIyNjJdLAogICAgICAgICAgICAgICAgewogICJidWJibGluZ01vdXNlRXZlbnRzIjogdHJ1ZSwKICAiY29sb3IiOiAiIzAwYjVlYiIsCiAgImRhc2hBcnJheSI6IG51bGwsCiAgImRhc2hPZmZzZXQiOiBudWxsLAogICJmaWxsIjogdHJ1ZSwKICAiZmlsbENvbG9yIjogIiMwMGI1ZWIiLAogICJmaWxsT3BhY2l0eSI6IDAuNywKICAiZmlsbFJ1bGUiOiAiZXZlbm9kZCIsCiAgImxpbmVDYXAiOiAicm91bmQiLAogICJsaW5lSm9pbiI6ICJyb3VuZCIsCiAgIm9wYWNpdHkiOiAxLjAsCiAgInJhZGl1cyI6IDUsCiAgInN0cm9rZSI6IHRydWUsCiAgIndlaWdodCI6IDMKfQogICAgICAgICAgICAgICAgKS5hZGRUbyhtYXBfYjYxNzVmY2YxZTUzNDY2NmJjZjc4M2RiNDVjNDRjNzMpOwogICAgICAgICAgICAKICAgIAogICAgICAgICAgICB2YXIgcG9wdXBfZmQwZDRmOTkzMTE3NDkyYWJmODRkNzBmODQ3MWNkYWIgPSBMLnBvcHVwKHttYXhXaWR0aDogJzMwMCd9KTsKCiAgICAgICAgICAgIAogICAgICAgICAgICAgICAgdmFyIGh0bWxfZGZmZTgzZmIzMzBmNDU4NjkwODUwNTVmZmYyNWUzOGIgPSAkKCc8ZGl2IGlkPSJodG1sX2RmZmU4M2ZiMzMwZjQ1ODY5MDg1MDU1ZmZmMjVlMzhiIiBzdHlsZT0id2lkdGg6IDEwMC4wJTsgaGVpZ2h0OiAxMDAuMCU7Ij5Eb3VnbGFzcyBIaWdoIFNjaG9vbCBDbHVzdGVyIDI8L2Rpdj4nKVswXTsKICAgICAgICAgICAgICAgIHBvcHVwX2ZkMGQ0Zjk5MzExNzQ5MmFiZjg0ZDcwZjg0NzFjZGFiLnNldENvbnRlbnQoaHRtbF9kZmZlODNmYjMzMGY0NTg2OTA4NTA1NWZmZjI1ZTM4Yik7CiAgICAgICAgICAgIAoKICAgICAgICAgICAgY2lyY2xlX21hcmtlcl81OTRkNGEyZDMwZWM0OTM4OTYwZDkyNzM4YTQ3Mjc0Mi5iaW5kUG9wdXAocG9wdXBfZmQwZDRmOTkzMTE3NDkyYWJmODRkNzBmODQ3MWNkYWIpOwoKICAgICAgICAgICAgCiAgICAgICAgCiAgICAKICAgICAgICAgICAgdmFyIGNpcmNsZV9tYXJrZXJfZTY3NzY2Njg3NzYxNDZmNDhkYTI5NzkzODU3MDgwZDcgPSBMLmNpcmNsZU1hcmtlcigKICAgICAgICAgICAgICAgIFs0MS45Mzk5OTc1MTIxNjkyMiwtODcuNzQwOTcxNDUwODEyMTFdLAogICAgICAgICAgICAgICAgewogICJidWJibGluZ01vdXNlRXZlbnRzIjogdHJ1ZSwKICAiY29sb3IiOiAiIzAwYjVlYiIsCiAgImRhc2hBcnJheSI6IG51bGwsCiAgImRhc2hPZmZzZXQiOiBudWxsLAogICJmaWxsIjogdHJ1ZSwKICAiZmlsbENvbG9yIjogIiMwMGI1ZWIiLAogICJmaWxsT3BhY2l0eSI6IDAuNywKICAiZmlsbFJ1bGUiOiAiZXZlbm9kZCIsCiAgImxpbmVDYXAiOiAicm91bmQiLAogICJsaW5lSm9pbiI6ICJyb3VuZCIsCiAgIm9wYWNpdHkiOiAxLjAsCiAgInJhZGl1cyI6IDUsCiAgInN0cm9rZSI6IHRydWUsCiAgIndlaWdodCI6IDMKfQogICAgICAgICAgICAgICAgKS5hZGRUbyhtYXBfYjYxNzVmY2YxZTUzNDY2NmJjZjc4M2RiNDVjNDRjNzMpOwogICAgICAgICAgICAKICAgIAogICAgICAgICAgICB2YXIgcG9wdXBfM2I4ZmNlZWQyYjg2NDY1Nzk5NmNkODRlYWYzOTNjODQgPSBMLnBvcHVwKHttYXhXaWR0aDogJzMwMCd9KTsKCiAgICAgICAgICAgIAogICAgICAgICAgICAgICAgdmFyIGh0bWxfN2JkOGI2MDQzNGI0NDRiMDlmMjU1YzY1YWU2Yjg0NDEgPSAkKCc8ZGl2IGlkPSJodG1sXzdiZDhiNjA0MzRiNDQ0YjA5ZjI1NWM2NWFlNmI4NDQxIiBzdHlsZT0id2lkdGg6IDEwMC4wJTsgaGVpZ2h0OiAxMDAuMCU7Ij5JbnRyaW5zaWMgU2Nob29scyBDbHVzdGVyIDI8L2Rpdj4nKVswXTsKICAgICAgICAgICAgICAgIHBvcHVwXzNiOGZjZWVkMmI4NjQ2NTc5OTZjZDg0ZWFmMzkzYzg0LnNldENvbnRlbnQoaHRtbF83YmQ4YjYwNDM0YjQ0NGIwOWYyNTVjNjVhZTZiODQ0MSk7CiAgICAgICAgICAgIAoKICAgICAgICAgICAgY2lyY2xlX21hcmtlcl9lNjc3NjY2ODc3NjE0NmY0OGRhMjk3OTM4NTcwODBkNy5iaW5kUG9wdXAocG9wdXBfM2I4ZmNlZWQyYjg2NDY1Nzk5NmNkODRlYWYzOTNjODQpOwoKICAgICAgICAgICAgCiAgICAgICAgCiAgICAKICAgICAgICAgICAgdmFyIGNpcmNsZV9tYXJrZXJfMTNjNWJhNGVmNjE3NDkzYWFhNDI5MDc5MDQ3NGNhZmMgPSBMLmNpcmNsZU1hcmtlcigKICAgICAgICAgICAgICAgIFs0MS45NDczOTQ1NTIzODgxNywtODcuNzM2NDE0OTkxMDExMDddLAogICAgICAgICAgICAgICAgewogICJidWJibGluZ01vdXNlRXZlbnRzIjogdHJ1ZSwKICAiY29sb3IiOiAiIzAwYjVlYiIsCiAgImRhc2hBcnJheSI6IG51bGwsCiAgImRhc2hPZmZzZXQiOiBudWxsLAogICJmaWxsIjogdHJ1ZSwKICAiZmlsbENvbG9yIjogIiMwMGI1ZWIiLAogICJmaWxsT3BhY2l0eSI6IDAuNywKICAiZmlsbFJ1bGUiOiAiZXZlbm9kZCIsCiAgImxpbmVDYXAiOiAicm91bmQiLAogICJsaW5lSm9pbiI6ICJyb3VuZCIsCiAgIm9wYWNpdHkiOiAxLjAsCiAgInJhZGl1cyI6IDUsCiAgInN0cm9rZSI6IHRydWUsCiAgIndlaWdodCI6IDMKfQogICAgICAgICAgICAgICAgKS5hZGRUbyhtYXBfYjYxNzVmY2YxZTUzNDY2NmJjZjc4M2RiNDVjNDRjNzMpOwogICAgICAgICAgICAKICAgIAogICAgICAgICAgICB2YXIgcG9wdXBfMzkyNGZlNTMwM2E3NDVhOGEyOTE4NGNhNzUyN2JmYjggPSBMLnBvcHVwKHttYXhXaWR0aDogJzMwMCd9KTsKCiAgICAgICAgICAgIAogICAgICAgICAgICAgICAgdmFyIGh0bWxfZDZiODdlMWZmMGM1NDM4YTlhOTA4NmZjMzZkZDk2OTQgPSAkKCc8ZGl2IGlkPSJodG1sX2Q2Yjg3ZTFmZjBjNTQzOGE5YTkwODZmYzM2ZGQ5Njk0IiBzdHlsZT0id2lkdGg6IDEwMC4wJTsgaGVpZ2h0OiAxMDAuMCU7Ij5TY2h1cnogSGlnaCBTY2hvb2wgQ2x1c3RlciAyPC9kaXY+JylbMF07CiAgICAgICAgICAgICAgICBwb3B1cF8zOTI0ZmU1MzAzYTc0NWE4YTI5MTg0Y2E3NTI3YmZiOC5zZXRDb250ZW50KGh0bWxfZDZiODdlMWZmMGM1NDM4YTlhOTA4NmZjMzZkZDk2OTQpOwogICAgICAgICAgICAKCiAgICAgICAgICAgIGNpcmNsZV9tYXJrZXJfMTNjNWJhNGVmNjE3NDkzYWFhNDI5MDc5MDQ3NGNhZmMuYmluZFBvcHVwKHBvcHVwXzM5MjRmZTUzMDNhNzQ1YThhMjkxODRjYTc1MjdiZmI4KTsKCiAgICAgICAgICAgIAogICAgICAgIAogICAgCiAgICAgICAgICAgIHZhciBjaXJjbGVfbWFya2VyXzc4NzNkYWI2MTU0ZDQ3NzRhYThjZjYzYjE3M2ZhYjZmID0gTC5jaXJjbGVNYXJrZXIoCiAgICAgICAgICAgICAgICBbNDEuNzY1MDc1NzQ5MDU4MDksLTg3LjYwMzkyNzU4MTQ0NjVdLAogICAgICAgICAgICAgICAgewogICJidWJibGluZ01vdXNlRXZlbnRzIjogdHJ1ZSwKICAiY29sb3IiOiAiI2ZmMDAwMCIsCiAgImRhc2hBcnJheSI6IG51bGwsCiAgImRhc2hPZmZzZXQiOiBudWxsLAogICJmaWxsIjogdHJ1ZSwKICAiZmlsbENvbG9yIjogIiNmZjAwMDAiLAogICJmaWxsT3BhY2l0eSI6IDAuNywKICAiZmlsbFJ1bGUiOiAiZXZlbm9kZCIsCiAgImxpbmVDYXAiOiAicm91bmQiLAogICJsaW5lSm9pbiI6ICJyb3VuZCIsCiAgIm9wYWNpdHkiOiAxLjAsCiAgInJhZGl1cyI6IDUsCiAgInN0cm9rZSI6IHRydWUsCiAgIndlaWdodCI6IDMKfQogICAgICAgICAgICAgICAgKS5hZGRUbyhtYXBfYjYxNzVmY2YxZTUzNDY2NmJjZjc4M2RiNDVjNDRjNzMpOwogICAgICAgICAgICAKICAgIAogICAgICAgICAgICB2YXIgcG9wdXBfNDkyZmU1YmE1NTNmNDYxMGI1MDAyNDU5Mzk4MTgyYTAgPSBMLnBvcHVwKHttYXhXaWR0aDogJzMwMCd9KTsKCiAgICAgICAgICAgIAogICAgICAgICAgICAgICAgdmFyIGh0bWxfMTdhZTYxN2M5MmUzNGNiMTllN2M3OGY0YjU3NDM2ZGUgPSAkKCc8ZGl2IGlkPSJodG1sXzE3YWU2MTdjOTJlMzRjYjE5ZTdjNzhmNGI1NzQzNmRlIiBzdHlsZT0id2lkdGg6IDEwMC4wJTsgaGVpZ2h0OiAxMDAuMCU7Ij5HYXJ5IENvbWVyIENvbGxlZ2UgUHJlcCBDbHVzdGVyIDA8L2Rpdj4nKVswXTsKICAgICAgICAgICAgICAgIHBvcHVwXzQ5MmZlNWJhNTUzZjQ2MTBiNTAwMjQ1OTM5ODE4MmEwLnNldENvbnRlbnQoaHRtbF8xN2FlNjE3YzkyZTM0Y2IxOWU3Yzc4ZjRiNTc0MzZkZSk7CiAgICAgICAgICAgIAoKICAgICAgICAgICAgY2lyY2xlX21hcmtlcl83ODczZGFiNjE1NGQ0Nzc0YWE4Y2Y2M2IxNzNmYWI2Zi5iaW5kUG9wdXAocG9wdXBfNDkyZmU1YmE1NTNmNDYxMGI1MDAyNDU5Mzk4MTgyYTApOwoKICAgICAgICAgICAgCiAgICAgICAgCiAgICAKICAgICAgICAgICAgdmFyIGNpcmNsZV9tYXJrZXJfNjE4ZTAxMGNjYmYzNGIzMzg3ZTAyYzA4ZWI2YzQ5YWIgPSBMLmNpcmNsZU1hcmtlcigKICAgICAgICAgICAgICAgIFs0MS45NjUyMDM5MTQzOTI4NiwtODcuNzE0Njc1OTY4MTM0OThdLAogICAgICAgICAgICAgICAgewogICJidWJibGluZ01vdXNlRXZlbnRzIjogdHJ1ZSwKICAiY29sb3IiOiAiIzgwMDBmZiIsCiAgImRhc2hBcnJheSI6IG51bGwsCiAgImRhc2hPZmZzZXQiOiBudWxsLAogICJmaWxsIjogdHJ1ZSwKICAiZmlsbENvbG9yIjogIiM4MDAwZmYiLAogICJmaWxsT3BhY2l0eSI6IDAuNywKICAiZmlsbFJ1bGUiOiAiZXZlbm9kZCIsCiAgImxpbmVDYXAiOiAicm91bmQiLAogICJsaW5lSm9pbiI6ICJyb3VuZCIsCiAgIm9wYWNpdHkiOiAxLjAsCiAgInJhZGl1cyI6IDUsCiAgInN0cm9rZSI6IHRydWUsCiAgIndlaWdodCI6IDMKfQogICAgICAgICAgICAgICAgKS5hZGRUbyhtYXBfYjYxNzVmY2YxZTUzNDY2NmJjZjc4M2RiNDVjNDRjNzMpOwogICAgICAgICAgICAKICAgIAogICAgICAgICAgICB2YXIgcG9wdXBfNzczYzljNmU1ODIzNDU1ZjkyYWFkMmRkMzAwNmQwMjggPSBMLnBvcHVwKHttYXhXaWR0aDogJzMwMCd9KTsKCiAgICAgICAgICAgIAogICAgICAgICAgICAgICAgdmFyIGh0bWxfNDZmOTlhYmM1Y2UxNGY3NGEyOWY5ZTEwNDA5MTk2MGEgPSAkKCc8ZGl2IGlkPSJodG1sXzQ2Zjk5YWJjNWNlMTRmNzRhMjlmOWUxMDQwOTE5NjBhIiBzdHlsZT0id2lkdGg6IDEwMC4wJTsgaGVpZ2h0OiAxMDAuMCU7Ij5Sb29zZXZlbHQgSGlnaCBTY2hvb2wgQ2x1c3RlciAxPC9kaXY+JylbMF07CiAgICAgICAgICAgICAgICBwb3B1cF83NzNjOWM2ZTU4MjM0NTVmOTJhYWQyZGQzMDA2ZDAyOC5zZXRDb250ZW50KGh0bWxfNDZmOTlhYmM1Y2UxNGY3NGEyOWY5ZTEwNDA5MTk2MGEpOwogICAgICAgICAgICAKCiAgICAgICAgICAgIGNpcmNsZV9tYXJrZXJfNjE4ZTAxMGNjYmYzNGIzMzg3ZTAyYzA4ZWI2YzQ5YWIuYmluZFBvcHVwKHBvcHVwXzc3M2M5YzZlNTgyMzQ1NWY5MmFhZDJkZDMwMDZkMDI4KTsKCiAgICAgICAgICAgIAogICAgICAgIAogICAgCiAgICAgICAgICAgIHZhciBjaXJjbGVfbWFya2VyX2VmMDQ5NDY0MjU2MzQ0YWQ5MWRhNjI5ZDYzMDY1ZDcwID0gTC5jaXJjbGVNYXJrZXIoCiAgICAgICAgICAgICAgICBbNDEuNzkxNjk1Nzg4NjA3NTMsLTg3LjcyNDcxNDQwNjYxNDk1XSwKICAgICAgICAgICAgICAgIHsKICAiYnViYmxpbmdNb3VzZUV2ZW50cyI6IHRydWUsCiAgImNvbG9yIjogIiNmZjAwMDAiLAogICJkYXNoQXJyYXkiOiBudWxsLAogICJkYXNoT2Zmc2V0IjogbnVsbCwKICAiZmlsbCI6IHRydWUsCiAgImZpbGxDb2xvciI6ICIjZmYwMDAwIiwKICAiZmlsbE9wYWNpdHkiOiAwLjcsCiAgImZpbGxSdWxlIjogImV2ZW5vZGQiLAogICJsaW5lQ2FwIjogInJvdW5kIiwKICAibGluZUpvaW4iOiAicm91bmQiLAogICJvcGFjaXR5IjogMS4wLAogICJyYWRpdXMiOiA1LAogICJzdHJva2UiOiB0cnVlLAogICJ3ZWlnaHQiOiAzCn0KICAgICAgICAgICAgICAgICkuYWRkVG8obWFwX2I2MTc1ZmNmMWU1MzQ2NjZiY2Y3ODNkYjQ1YzQ0YzczKTsKICAgICAgICAgICAgCiAgICAKICAgICAgICAgICAgdmFyIHBvcHVwXzJmMjc0NzZmYmUyNzQ2ZGFiN2MxOWRhYjI4MGRkMzRmID0gTC5wb3B1cCh7bWF4V2lkdGg6ICczMDAnfSk7CgogICAgICAgICAgICAKICAgICAgICAgICAgICAgIHZhciBodG1sX2UyYjZhMmUxODE4MjQ5MzQ5NDE3MWQ3ZGVjNTRlYjBjID0gJCgnPGRpdiBpZD0iaHRtbF9lMmI2YTJlMTgxODI0OTM0OTQxNzFkN2RlYzU0ZWIwYyIgc3R5bGU9IndpZHRoOiAxMDAuMCU7IGhlaWdodDogMTAwLjAlOyI+Sm9obiBIYW5jb2NrIEhpZ2ggU2Nob29sIENsdXN0ZXIgMDwvZGl2PicpWzBdOwogICAgICAgICAgICAgICAgcG9wdXBfMmYyNzQ3NmZiZTI3NDZkYWI3YzE5ZGFiMjgwZGQzNGYuc2V0Q29udGVudChodG1sX2UyYjZhMmUxODE4MjQ5MzQ5NDE3MWQ3ZGVjNTRlYjBjKTsKICAgICAgICAgICAgCgogICAgICAgICAgICBjaXJjbGVfbWFya2VyX2VmMDQ5NDY0MjU2MzQ0YWQ5MWRhNjI5ZDYzMDY1ZDcwLmJpbmRQb3B1cChwb3B1cF8yZjI3NDc2ZmJlMjc0NmRhYjdjMTlkYWIyODBkZDM0Zik7CgogICAgICAgICAgICAKICAgICAgICAKICAgIAogICAgICAgICAgICB2YXIgY2lyY2xlX21hcmtlcl81MWQyZjJkMWExNWE0NTExODg0MTk1ZTRkZjYwZjNkMSA9IEwuY2lyY2xlTWFya2VyKAogICAgICAgICAgICAgICAgWzQxLjg0NjU1NTYxNzY2MDg3LC04Ny43NzIxNDYyODMxMzIwMl0sCiAgICAgICAgICAgICAgICB7CiAgImJ1YmJsaW5nTW91c2VFdmVudHMiOiB0cnVlLAogICJjb2xvciI6ICIjZmYwMDAwIiwKICAiZGFzaEFycmF5IjogbnVsbCwKICAiZGFzaE9mZnNldCI6IG51bGwsCiAgImZpbGwiOiB0cnVlLAogICJmaWxsQ29sb3IiOiAiI2ZmMDAwMCIsCiAgImZpbGxPcGFjaXR5IjogMC43LAogICJmaWxsUnVsZSI6ICJldmVub2RkIiwKICAibGluZUNhcCI6ICJyb3VuZCIsCiAgImxpbmVKb2luIjogInJvdW5kIiwKICAib3BhY2l0eSI6IDEuMCwKICAicmFkaXVzIjogNSwKICAic3Ryb2tlIjogdHJ1ZSwKICAid2VpZ2h0IjogMwp9CiAgICAgICAgICAgICAgICApLmFkZFRvKG1hcF9iNjE3NWZjZjFlNTM0NjY2YmNmNzgzZGI0NWM0NGM3Myk7CiAgICAgICAgICAgIAogICAgCiAgICAgICAgICAgIHZhciBwb3B1cF81NDJmNDA1OGE5YzQ0ZTk5YWRiMDMzMWVjNTc0ZTFmMyA9IEwucG9wdXAoe21heFdpZHRoOiAnMzAwJ30pOwoKICAgICAgICAgICAgCiAgICAgICAgICAgICAgICB2YXIgaHRtbF84NTliNTBmYjkwYzQ0YTk4YWE2Njg4MDVkZjk0MTdhYiA9ICQoJzxkaXYgaWQ9Imh0bWxfODU5YjUwZmI5MGM0NGE5OGFhNjY4ODA1ZGY5NDE3YWIiIHN0eWxlPSJ3aWR0aDogMTAwLjAlOyBoZWlnaHQ6IDEwMC4wJTsiPk1vcnRvbiBFYXN0IEhpZ2ggU2Nob29sIENsdXN0ZXIgMDwvZGl2PicpWzBdOwogICAgICAgICAgICAgICAgcG9wdXBfNTQyZjQwNThhOWM0NGU5OWFkYjAzMzFlYzU3NGUxZjMuc2V0Q29udGVudChodG1sXzg1OWI1MGZiOTBjNDRhOThhYTY2ODgwNWRmOTQxN2FiKTsKICAgICAgICAgICAgCgogICAgICAgICAgICBjaXJjbGVfbWFya2VyXzUxZDJmMmQxYTE1YTQ1MTE4ODQxOTVlNGRmNjBmM2QxLmJpbmRQb3B1cChwb3B1cF81NDJmNDA1OGE5YzQ0ZTk5YWRiMDMzMWVjNTc0ZTFmMyk7CgogICAgICAgICAgICAKICAgICAgICAKICAgIAogICAgICAgICAgICB2YXIgY2lyY2xlX21hcmtlcl82MzAyN2ZlNzg2ODA0ZDI3OGY3OGNiZmI0MmU3NzdlYSA9IEwuY2lyY2xlTWFya2VyKAogICAgICAgICAgICAgICAgWzQxLjc3MTUxMTQwNjAzODI3LC04Ny42OTI1MzY2NzkwODA5Nl0sCiAgICAgICAgICAgICAgICB7CiAgImJ1YmJsaW5nTW91c2VFdmVudHMiOiB0cnVlLAogICJjb2xvciI6ICIjMDBiNWViIiwKICAiZGFzaEFycmF5IjogbnVsbCwKICAiZGFzaE9mZnNldCI6IG51bGwsCiAgImZpbGwiOiB0cnVlLAogICJmaWxsQ29sb3IiOiAiIzAwYjVlYiIsCiAgImZpbGxPcGFjaXR5IjogMC43LAogICJmaWxsUnVsZSI6ICJldmVub2RkIiwKICAibGluZUNhcCI6ICJyb3VuZCIsCiAgImxpbmVKb2luIjogInJvdW5kIiwKICAib3BhY2l0eSI6IDEuMCwKICAicmFkaXVzIjogNSwKICAic3Ryb2tlIjogdHJ1ZSwKICAid2VpZ2h0IjogMwp9CiAgICAgICAgICAgICAgICApLmFkZFRvKG1hcF9iNjE3NWZjZjFlNTM0NjY2YmNmNzgzZGI0NWM0NGM3Myk7CiAgICAgICAgICAgIAogICAgCiAgICAgICAgICAgIHZhciBwb3B1cF82MmU2ZjBkODkzM2E0MDFlOGZiN2IzYTE5OGU5Y2NjOCA9IEwucG9wdXAoe21heFdpZHRoOiAnMzAwJ30pOwoKICAgICAgICAgICAgCiAgICAgICAgICAgICAgICB2YXIgaHRtbF85Mzg4NmM1NzY5OTQ0YmNmOWM3YjZhNzJiYTc2NmJiNCA9ICQoJzxkaXYgaWQ9Imh0bWxfOTM4ODZjNTc2OTk0NGJjZjljN2I2YTcyYmE3NjZiYjQiIHN0eWxlPSJ3aWR0aDogMTAwLjAlOyBoZWlnaHQ6IDEwMC4wJTsiPkNhdGFseXN0IE1hcmlhIENsdXN0ZXIgMjwvZGl2PicpWzBdOwogICAgICAgICAgICAgICAgcG9wdXBfNjJlNmYwZDg5MzNhNDAxZThmYjdiM2ExOThlOWNjYzguc2V0Q29udGVudChodG1sXzkzODg2YzU3Njk5NDRiY2Y5YzdiNmE3MmJhNzY2YmI0KTsKICAgICAgICAgICAgCgogICAgICAgICAgICBjaXJjbGVfbWFya2VyXzYzMDI3ZmU3ODY4MDRkMjc4Zjc4Y2JmYjQyZTc3N2VhLmJpbmRQb3B1cChwb3B1cF82MmU2ZjBkODkzM2E0MDFlOGZiN2IzYTE5OGU5Y2NjOCk7CgogICAgICAgICAgICAKICAgICAgICAKICAgIAogICAgICAgICAgICB2YXIgY2lyY2xlX21hcmtlcl85YzFlYTJmMzIzYzk0Y2ExOTNhY2Y5NGQyZTU1ZDE0ZSA9IEwuY2lyY2xlTWFya2VyKAogICAgICAgICAgICAgICAgWzQxLjkzOTkyNzM5NzEwNDUwNSwtODcuNzUzODk5NzQzNDg2OV0sCiAgICAgICAgICAgICAgICB7CiAgImJ1YmJsaW5nTW91c2VFdmVudHMiOiB0cnVlLAogICJjb2xvciI6ICIjMDBiNWViIiwKICAiZGFzaEFycmF5IjogbnVsbCwKICAiZGFzaE9mZnNldCI6IG51bGwsCiAgImZpbGwiOiB0cnVlLAogICJmaWxsQ29sb3IiOiAiIzAwYjVlYiIsCiAgImZpbGxPcGFjaXR5IjogMC43LAogICJmaWxsUnVsZSI6ICJldmVub2RkIiwKICAibGluZUNhcCI6ICJyb3VuZCIsCiAgImxpbmVKb2luIjogInJvdW5kIiwKICAib3BhY2l0eSI6IDEuMCwKICAicmFkaXVzIjogNSwKICAic3Ryb2tlIjogdHJ1ZSwKICAid2VpZ2h0IjogMwp9CiAgICAgICAgICAgICAgICApLmFkZFRvKG1hcF9iNjE3NWZjZjFlNTM0NjY2YmNmNzgzZGI0NWM0NGM3Myk7CiAgICAgICAgICAgIAogICAgCiAgICAgICAgICAgIHZhciBwb3B1cF9mNjk4ZWU2NzYwNTg0MmZlODU3YjIyMjc4YTA0ZDFiZCA9IEwucG9wdXAoe21heFdpZHRoOiAnMzAwJ30pOwoKICAgICAgICAgICAgCiAgICAgICAgICAgICAgICB2YXIgaHRtbF83YmY0ODk3NTc3NWY0MGQ1ODkzYTM3ZDEzNzFhMjc1OCA9ICQoJzxkaXYgaWQ9Imh0bWxfN2JmNDg5NzU3NzVmNDBkNTg5M2EzN2QxMzcxYTI3NTgiIHN0eWxlPSJ3aWR0aDogMTAwLjAlOyBoZWlnaHQ6IDEwMC4wJTsiPkVkd2luIEcgRm9yZW1hbiBIaWdoIFNjaG9vbCBDbHVzdGVyIDI8L2Rpdj4nKVswXTsKICAgICAgICAgICAgICAgIHBvcHVwX2Y2OThlZTY3NjA1ODQyZmU4NTdiMjIyNzhhMDRkMWJkLnNldENvbnRlbnQoaHRtbF83YmY0ODk3NTc3NWY0MGQ1ODkzYTM3ZDEzNzFhMjc1OCk7CiAgICAgICAgICAgIAoKICAgICAgICAgICAgY2lyY2xlX21hcmtlcl85YzFlYTJmMzIzYzk0Y2ExOTNhY2Y5NGQyZTU1ZDE0ZS5iaW5kUG9wdXAocG9wdXBfZjY5OGVlNjc2MDU4NDJmZTg1N2IyMjI3OGEwNGQxYmQpOwoKICAgICAgICAgICAgCiAgICAgICAgCiAgICAKICAgICAgICAgICAgdmFyIGNpcmNsZV9tYXJrZXJfYzRjNGU2NjMyYTUxNDFhNjg4OGVmNTkxZTM2YTVjMzkgPSBMLmNpcmNsZU1hcmtlcigKICAgICAgICAgICAgICAgIFs0MS45ODkwMTc2NTM1NjY4NTQsLTg3LjY2NzQwMDk4NzkxMzM3XSwKICAgICAgICAgICAgICAgIHsKICAiYnViYmxpbmdNb3VzZUV2ZW50cyI6IHRydWUsCiAgImNvbG9yIjogIiM4MDAwZmYiLAogICJkYXNoQXJyYXkiOiBudWxsLAogICJkYXNoT2Zmc2V0IjogbnVsbCwKICAiZmlsbCI6IHRydWUsCiAgImZpbGxDb2xvciI6ICIjODAwMGZmIiwKICAiZmlsbE9wYWNpdHkiOiAwLjcsCiAgImZpbGxSdWxlIjogImV2ZW5vZGQiLAogICJsaW5lQ2FwIjogInJvdW5kIiwKICAibGluZUpvaW4iOiAicm91bmQiLAogICJvcGFjaXR5IjogMS4wLAogICJyYWRpdXMiOiA1LAogICJzdHJva2UiOiB0cnVlLAogICJ3ZWlnaHQiOiAzCn0KICAgICAgICAgICAgICAgICkuYWRkVG8obWFwX2I2MTc1ZmNmMWU1MzQ2NjZiY2Y3ODNkYjQ1YzQ0YzczKTsKICAgICAgICAgICAgCiAgICAKICAgICAgICAgICAgdmFyIHBvcHVwXzQ1ZmJkOTMwNGRlMDRiMTBhYjk1ZTM0YWNmOTVlZjlmID0gTC5wb3B1cCh7bWF4V2lkdGg6ICczMDAnfSk7CgogICAgICAgICAgICAKICAgICAgICAgICAgICAgIHZhciBodG1sXzg2OTA1OWZhN2ZjNzQzMWY4ZmNjODQ1ZTAxMDkyYzc3ID0gJCgnPGRpdiBpZD0iaHRtbF84NjkwNTlmYTdmYzc0MzFmOGZjYzg0NWUwMTA5MmM3NyIgc3R5bGU9IndpZHRoOiAxMDAuMCU7IGhlaWdodDogMTAwLjAlOyI+TmljaG9sYXMgU2VubiBIaWdoIFNjaG9vbCBDbHVzdGVyIDE8L2Rpdj4nKVswXTsKICAgICAgICAgICAgICAgIHBvcHVwXzQ1ZmJkOTMwNGRlMDRiMTBhYjk1ZTM0YWNmOTVlZjlmLnNldENvbnRlbnQoaHRtbF84NjkwNTlmYTdmYzc0MzFmOGZjYzg0NWUwMTA5MmM3Nyk7CiAgICAgICAgICAgIAoKICAgICAgICAgICAgY2lyY2xlX21hcmtlcl9jNGM0ZTY2MzJhNTE0MWE2ODg4ZWY1OTFlMzZhNWMzOS5iaW5kUG9wdXAocG9wdXBfNDVmYmQ5MzA0ZGUwNGIxMGFiOTVlMzRhY2Y5NWVmOWYpOwoKICAgICAgICAgICAgCiAgICAgICAgCiAgICAKICAgICAgICAgICAgdmFyIGNpcmNsZV9tYXJrZXJfMDZmZTllMGFmYjNhNGI5ZTg1YmMxYWExYTM3Yjg3OTEgPSBMLmNpcmNsZU1hcmtlcigKICAgICAgICAgICAgICAgIFs0MS45NzM3MDY3OTc1NzkzMSwtODcuNzEzMDU4NTY0ODAyNjVdLAogICAgICAgICAgICAgICAgewogICJidWJibGluZ01vdXNlRXZlbnRzIjogdHJ1ZSwKICAiY29sb3IiOiAiIzAwYjVlYiIsCiAgImRhc2hBcnJheSI6IG51bGwsCiAgImRhc2hPZmZzZXQiOiBudWxsLAogICJmaWxsIjogdHJ1ZSwKICAiZmlsbENvbG9yIjogIiMwMGI1ZWIiLAogICJmaWxsT3BhY2l0eSI6IDAuNywKICAiZmlsbFJ1bGUiOiAiZXZlbm9kZCIsCiAgImxpbmVDYXAiOiAicm91bmQiLAogICJsaW5lSm9pbiI6ICJyb3VuZCIsCiAgIm9wYWNpdHkiOiAxLjAsCiAgInJhZGl1cyI6IDUsCiAgInN0cm9rZSI6IHRydWUsCiAgIndlaWdodCI6IDMKfQogICAgICAgICAgICAgICAgKS5hZGRUbyhtYXBfYjYxNzVmY2YxZTUzNDY2NmJjZjc4M2RiNDVjNDRjNzMpOwogICAgICAgICAgICAKICAgIAogICAgICAgICAgICB2YXIgcG9wdXBfYTM1MGU3ZTNhMDAzNDczOTkwOGExOTQyOTNkMjRlYWIgPSBMLnBvcHVwKHttYXhXaWR0aDogJzMwMCd9KTsKCiAgICAgICAgICAgIAogICAgICAgICAgICAgICAgdmFyIGh0bWxfZWFiZTFiOThiODZjNDRhNGI3YTBlMzE1YjcwMDI0MmMgPSAkKCc8ZGl2IGlkPSJodG1sX2VhYmUxYjk4Yjg2YzQ0YTRiN2EwZTMxNWI3MDAyNDJjIiBzdHlsZT0id2lkdGg6IDEwMC4wJTsgaGVpZ2h0OiAxMDAuMCU7Ij5Wb24gU3RldWJlbiBNLlMuQy4gQ2x1c3RlciAyPC9kaXY+JylbMF07CiAgICAgICAgICAgICAgICBwb3B1cF9hMzUwZTdlM2EwMDM0NzM5OTA4YTE5NDI5M2QyNGVhYi5zZXRDb250ZW50KGh0bWxfZWFiZTFiOThiODZjNDRhNGI3YTBlMzE1YjcwMDI0MmMpOwogICAgICAgICAgICAKCiAgICAgICAgICAgIGNpcmNsZV9tYXJrZXJfMDZmZTllMGFmYjNhNGI5ZTg1YmMxYWExYTM3Yjg3OTEuYmluZFBvcHVwKHBvcHVwX2EzNTBlN2UzYTAwMzQ3Mzk5MDhhMTk0MjkzZDI0ZWFiKTsKCiAgICAgICAgICAgIAogICAgICAgIAogICAgCiAgICAgICAgICAgIHZhciBjaXJjbGVfbWFya2VyXzJkOTU1MDkyNGQxODRmOWM5N2RiNDUzNTRlNWViNzAyID0gTC5jaXJjbGVNYXJrZXIoCiAgICAgICAgICAgICAgICBbNDEuNzc5NzA2OTE4MTMzNzU1LC04Ny43MTgxNzgwMDEyMjMyMV0sCiAgICAgICAgICAgICAgICB7CiAgImJ1YmJsaW5nTW91c2VFdmVudHMiOiB0cnVlLAogICJjb2xvciI6ICIjZmYwMDAwIiwKICAiZGFzaEFycmF5IjogbnVsbCwKICAiZGFzaE9mZnNldCI6IG51bGwsCiAgImZpbGwiOiB0cnVlLAogICJmaWxsQ29sb3IiOiAiI2ZmMDAwMCIsCiAgImZpbGxPcGFjaXR5IjogMC43LAogICJmaWxsUnVsZSI6ICJldmVub2RkIiwKICAibGluZUNhcCI6ICJyb3VuZCIsCiAgImxpbmVKb2luIjogInJvdW5kIiwKICAib3BhY2l0eSI6IDEuMCwKICAicmFkaXVzIjogNSwKICAic3Ryb2tlIjogdHJ1ZSwKICAid2VpZ2h0IjogMwp9CiAgICAgICAgICAgICAgICApLmFkZFRvKG1hcF9iNjE3NWZjZjFlNTM0NjY2YmNmNzgzZGI0NWM0NGM3Myk7CiAgICAgICAgICAgIAogICAgCiAgICAgICAgICAgIHZhciBwb3B1cF8xMmFmOTc0ZGZlMmY0MDY3OTdlYTFmMDNjN2RjMmI4MiA9IEwucG9wdXAoe21heFdpZHRoOiAnMzAwJ30pOwoKICAgICAgICAgICAgCiAgICAgICAgICAgICAgICB2YXIgaHRtbF8zMzc3MDA1ZGMzODE0YjY4OTM0MTgyMWNkOTRlMTdmNiA9ICQoJzxkaXYgaWQ9Imh0bWxfMzM3NzAwNWRjMzgxNGI2ODkzNDE4MjFjZDk0ZTE3ZjYiIHN0eWxlPSJ3aWR0aDogMTAwLjAlOyBoZWlnaHQ6IDEwMC4wJTsiPkh1YmJhcmQgSGlnaCBTY2hvb2wgQ2x1c3RlciAwPC9kaXY+JylbMF07CiAgICAgICAgICAgICAgICBwb3B1cF8xMmFmOTc0ZGZlMmY0MDY3OTdlYTFmMDNjN2RjMmI4Mi5zZXRDb250ZW50KGh0bWxfMzM3NzAwNWRjMzgxNGI2ODkzNDE4MjFjZDk0ZTE3ZjYpOwogICAgICAgICAgICAKCiAgICAgICAgICAgIGNpcmNsZV9tYXJrZXJfMmQ5NTUwOTI0ZDE4NGY5Yzk3ZGI0NTM1NGU1ZWI3MDIuYmluZFBvcHVwKHBvcHVwXzEyYWY5NzRkZmUyZjQwNjc5N2VhMWYwM2M3ZGMyYjgyKTsKCiAgICAgICAgICAgIAogICAgICAgIAogICAgCiAgICAgICAgICAgIHZhciBjaXJjbGVfbWFya2VyXzUzMWU3YjE3MDEyZTQxOTRhZTc0MzQxODQ5NTYyOWRlID0gTC5jaXJjbGVNYXJrZXIoCiAgICAgICAgICAgICAgICBbNDEuOTgwNzY2MzQ3MDE1NDk2LC04Ny43MDc5NjkzOTgxNzE5N10sCiAgICAgICAgICAgICAgICB7CiAgImJ1YmJsaW5nTW91c2VFdmVudHMiOiB0cnVlLAogICJjb2xvciI6ICIjMDBiNWViIiwKICAiZGFzaEFycmF5IjogbnVsbCwKICAiZGFzaE9mZnNldCI6IG51bGwsCiAgImZpbGwiOiB0cnVlLAogICJmaWxsQ29sb3IiOiAiIzAwYjVlYiIsCiAgImZpbGxPcGFjaXR5IjogMC43LAogICJmaWxsUnVsZSI6ICJldmVub2RkIiwKICAibGluZUNhcCI6ICJyb3VuZCIsCiAgImxpbmVKb2luIjogInJvdW5kIiwKICAib3BhY2l0eSI6IDEuMCwKICAicmFkaXVzIjogNSwKICAic3Ryb2tlIjogdHJ1ZSwKICAid2VpZ2h0IjogMwp9CiAgICAgICAgICAgICAgICApLmFkZFRvKG1hcF9iNjE3NWZjZjFlNTM0NjY2YmNmNzgzZGI0NWM0NGM3Myk7CiAgICAgICAgICAgIAogICAgCiAgICAgICAgICAgIHZhciBwb3B1cF84M2UxMTQ2YjQzMmI0Yzc2YjQ4NGY0NWZiZTU5Y2VlMCA9IEwucG9wdXAoe21heFdpZHRoOiAnMzAwJ30pOwoKICAgICAgICAgICAgCiAgICAgICAgICAgICAgICB2YXIgaHRtbF9lNmJjOWQ0MDAwMGU0NThkOTk5NzkxNWJlN2JhYWRhOCA9ICQoJzxkaXYgaWQ9Imh0bWxfZTZiYzlkNDAwMDBlNDU4ZDk5OTc5MTViZTdiYWFkYTgiIHN0eWxlPSJ3aWR0aDogMTAwLjAlOyBoZWlnaHQ6IDEwMC4wJTsiPk5vcnRoc2lkZSBDb2xsZWdlIFByZXBhcmF0b3J5IEhpZ2ggU2Nob29sIENsdXN0ZXIgMjwvZGl2PicpWzBdOwogICAgICAgICAgICAgICAgcG9wdXBfODNlMTE0NmI0MzJiNGM3NmI0ODRmNDVmYmU1OWNlZTAuc2V0Q29udGVudChodG1sX2U2YmM5ZDQwMDAwZTQ1OGQ5OTk3OTE1YmU3YmFhZGE4KTsKICAgICAgICAgICAgCgogICAgICAgICAgICBjaXJjbGVfbWFya2VyXzUzMWU3YjE3MDEyZTQxOTRhZTc0MzQxODQ5NTYyOWRlLmJpbmRQb3B1cChwb3B1cF84M2UxMTQ2YjQzMmI0Yzc2YjQ4NGY0NWZiZTU5Y2VlMCk7CgogICAgICAgICAgICAKICAgICAgICAKICAgIAogICAgICAgICAgICB2YXIgY2lyY2xlX21hcmtlcl8xNDk5OGUxYWMyNzE0YzcxODE4MDM2OWQ1OTczOGNkZiA9IEwuY2lyY2xlTWFya2VyKAogICAgICAgICAgICAgICAgWzQxLjc1NDQ2NjUyMjI0OTM0NSwtODcuNjAxOTYyMDczMzE4MzVdLAogICAgICAgICAgICAgICAgewogICJidWJibGluZ01vdXNlRXZlbnRzIjogdHJ1ZSwKICAiY29sb3IiOiAiI2ZmMDAwMCIsCiAgImRhc2hBcnJheSI6IG51bGwsCiAgImRhc2hPZmZzZXQiOiBudWxsLAogICJmaWxsIjogdHJ1ZSwKICAiZmlsbENvbG9yIjogIiNmZjAwMDAiLAogICJmaWxsT3BhY2l0eSI6IDAuNywKICAiZmlsbFJ1bGUiOiAiZXZlbm9kZCIsCiAgImxpbmVDYXAiOiAicm91bmQiLAogICJsaW5lSm9pbiI6ICJyb3VuZCIsCiAgIm9wYWNpdHkiOiAxLjAsCiAgInJhZGl1cyI6IDUsCiAgInN0cm9rZSI6IHRydWUsCiAgIndlaWdodCI6IDMKfQogICAgICAgICAgICAgICAgKS5hZGRUbyhtYXBfYjYxNzVmY2YxZTUzNDY2NmJjZjc4M2RiNDVjNDRjNzMpOwogICAgICAgICAgICAKICAgIAogICAgICAgICAgICB2YXIgcG9wdXBfNDlkMTVjY2JlNDM3NGJjNGIyMjVjMWNmYzA5YjdhN2MgPSBMLnBvcHVwKHttYXhXaWR0aDogJzMwMCd9KTsKCiAgICAgICAgICAgIAogICAgICAgICAgICAgICAgdmFyIGh0bWxfZGZiZjRmYTFlNmZmNDE4MzgzZjc4MmViNDMzNTk2ZTkgPSAkKCc8ZGl2IGlkPSJodG1sX2RmYmY0ZmExZTZmZjQxODM4M2Y3ODJlYjQzMzU5NmU5IiBzdHlsZT0id2lkdGg6IDEwMC4wJTsgaGVpZ2h0OiAxMDAuMCU7Ij5IaXJzY2ggSGlnaCBTY2hvb2wgQ2x1c3RlciAwPC9kaXY+JylbMF07CiAgICAgICAgICAgICAgICBwb3B1cF80OWQxNWNjYmU0Mzc0YmM0YjIyNWMxY2ZjMDliN2E3Yy5zZXRDb250ZW50KGh0bWxfZGZiZjRmYTFlNmZmNDE4MzgzZjc4MmViNDMzNTk2ZTkpOwogICAgICAgICAgICAKCiAgICAgICAgICAgIGNpcmNsZV9tYXJrZXJfMTQ5OThlMWFjMjcxNGM3MTgxODAzNjlkNTk3MzhjZGYuYmluZFBvcHVwKHBvcHVwXzQ5ZDE1Y2NiZTQzNzRiYzRiMjI1YzFjZmMwOWI3YTdjKTsKCiAgICAgICAgICAgIAogICAgICAgIAogICAgCiAgICAgICAgICAgIHZhciBjaXJjbGVfbWFya2VyXzhlNzgzZDczYTFhOTQzZjM4YjkxOWNlNmMwOGRiZWQyID0gTC5jaXJjbGVNYXJrZXIoCiAgICAgICAgICAgICAgICBbNDEuODgwODgwMzU5Mjg1ODI1LC04Ny43ODkxNTYwNzAwNzIzXSwKICAgICAgICAgICAgICAgIHsKICAiYnViYmxpbmdNb3VzZUV2ZW50cyI6IHRydWUsCiAgImNvbG9yIjogIiNmZjAwMDAiLAogICJkYXNoQXJyYXkiOiBudWxsLAogICJkYXNoT2Zmc2V0IjogbnVsbCwKICAiZmlsbCI6IHRydWUsCiAgImZpbGxDb2xvciI6ICIjZmYwMDAwIiwKICAiZmlsbE9wYWNpdHkiOiAwLjcsCiAgImZpbGxSdWxlIjogImV2ZW5vZGQiLAogICJsaW5lQ2FwIjogInJvdW5kIiwKICAibGluZUpvaW4iOiAicm91bmQiLAogICJvcGFjaXR5IjogMS4wLAogICJyYWRpdXMiOiA1LAogICJzdHJva2UiOiB0cnVlLAogICJ3ZWlnaHQiOiAzCn0KICAgICAgICAgICAgICAgICkuYWRkVG8obWFwX2I2MTc1ZmNmMWU1MzQ2NjZiY2Y3ODNkYjQ1YzQ0YzczKTsKICAgICAgICAgICAgCiAgICAKICAgICAgICAgICAgdmFyIHBvcHVwXzYzMTBmMWU3ODQyMTQ3MjdhNDliNGJiNWU5MDg3NTQ5ID0gTC5wb3B1cCh7bWF4V2lkdGg6ICczMDAnfSk7CgogICAgICAgICAgICAKICAgICAgICAgICAgICAgIHZhciBodG1sX2ZjNzNiNDNhMGQxYjQxNGY5ZDExZjRiOWZmZDExZDcwID0gJCgnPGRpdiBpZD0iaHRtbF9mYzczYjQzYTBkMWI0MTRmOWQxMWY0YjlmZmQxMWQ3MCIgc3R5bGU9IndpZHRoOiAxMDAuMCU7IGhlaWdodDogMTAwLjAlOyI+RmVud2ljayBIaWdoIFNjaG9vbCBDbHVzdGVyIDA8L2Rpdj4nKVswXTsKICAgICAgICAgICAgICAgIHBvcHVwXzYzMTBmMWU3ODQyMTQ3MjdhNDliNGJiNWU5MDg3NTQ5LnNldENvbnRlbnQoaHRtbF9mYzczYjQzYTBkMWI0MTRmOWQxMWY0YjlmZmQxMWQ3MCk7CiAgICAgICAgICAgIAoKICAgICAgICAgICAgY2lyY2xlX21hcmtlcl84ZTc4M2Q3M2ExYTk0M2YzOGI5MTljZTZjMDhkYmVkMi5iaW5kUG9wdXAocG9wdXBfNjMxMGYxZTc4NDIxNDcyN2E0OWI0YmI1ZTkwODc1NDkpOwoKICAgICAgICAgICAgCiAgICAgICAgCiAgICAKICAgICAgICAgICAgdmFyIGNpcmNsZV9tYXJrZXJfMWUzYWQ3YjFmMzc0NDM3NzgzZjI1NzI1NTE1MjU4MjMgPSBMLmNpcmNsZU1hcmtlcigKICAgICAgICAgICAgICAgIFs0MS44OTAxNzgzOTM5NzEyOSwtODcuNzg4ODgyMzExNzQxODldLAogICAgICAgICAgICAgICAgewogICJidWJibGluZ01vdXNlRXZlbnRzIjogdHJ1ZSwKICAiY29sb3IiOiAiI2ZmMDAwMCIsCiAgImRhc2hBcnJheSI6IG51bGwsCiAgImRhc2hPZmZzZXQiOiBudWxsLAogICJmaWxsIjogdHJ1ZSwKICAiZmlsbENvbG9yIjogIiNmZjAwMDAiLAogICJmaWxsT3BhY2l0eSI6IDAuNywKICAiZmlsbFJ1bGUiOiAiZXZlbm9kZCIsCiAgImxpbmVDYXAiOiAicm91bmQiLAogICJsaW5lSm9pbiI6ICJyb3VuZCIsCiAgIm9wYWNpdHkiOiAxLjAsCiAgInJhZGl1cyI6IDUsCiAgInN0cm9rZSI6IHRydWUsCiAgIndlaWdodCI6IDMKfQogICAgICAgICAgICAgICAgKS5hZGRUbyhtYXBfYjYxNzVmY2YxZTUzNDY2NmJjZjc4M2RiNDVjNDRjNzMpOwogICAgICAgICAgICAKICAgIAogICAgICAgICAgICB2YXIgcG9wdXBfM2NmYzUyOTc0MTJlNGY5NTlhY2Y4MWRkYmYyMzZkNDEgPSBMLnBvcHVwKHttYXhXaWR0aDogJzMwMCd9KTsKCiAgICAgICAgICAgIAogICAgICAgICAgICAgICAgdmFyIGh0bWxfZGQxNGJhNDMyNjBlNGViN2FjMjM4MDY1N2Y5ODRkYmIgPSAkKCc8ZGl2IGlkPSJodG1sX2RkMTRiYTQzMjYwZTRlYjdhYzIzODA2NTdmOTg0ZGJiIiBzdHlsZT0id2lkdGg6IDEwMC4wJTsgaGVpZ2h0OiAxMDAuMCU7Ij5PYWsgUGFyayAmYW1wOyBSaXZlciBGb3Jlc3QgSGlnaCBTY2hvb2wgQ2x1c3RlciAwPC9kaXY+JylbMF07CiAgICAgICAgICAgICAgICBwb3B1cF8zY2ZjNTI5NzQxMmU0Zjk1OWFjZjgxZGRiZjIzNmQ0MS5zZXRDb250ZW50KGh0bWxfZGQxNGJhNDMyNjBlNGViN2FjMjM4MDY1N2Y5ODRkYmIpOwogICAgICAgICAgICAKCiAgICAgICAgICAgIGNpcmNsZV9tYXJrZXJfMWUzYWQ3YjFmMzc0NDM3NzgzZjI1NzI1NTE1MjU4MjMuYmluZFBvcHVwKHBvcHVwXzNjZmM1Mjk3NDEyZTRmOTU5YWNmODFkZGJmMjM2ZDQxKTsKCiAgICAgICAgICAgIAogICAgICAgIAogICAgCiAgICAgICAgICAgIHZhciBjaXJjbGVfbWFya2VyXzY1OTE4OWZkMjVjZjQ4ZDZhYWYwM2IxNjcxM2JiNzFlID0gTC5jaXJjbGVNYXJrZXIoCiAgICAgICAgICAgICAgICBbNDEuNzUwMzE4LC04Ny42NDcwNjNdLAogICAgICAgICAgICAgICAgewogICJidWJibGluZ01vdXNlRXZlbnRzIjogdHJ1ZSwKICAiY29sb3IiOiAiIzAwYjVlYiIsCiAgImRhc2hBcnJheSI6IG51bGwsCiAgImRhc2hPZmZzZXQiOiBudWxsLAogICJmaWxsIjogdHJ1ZSwKICAiZmlsbENvbG9yIjogIiMwMGI1ZWIiLAogICJmaWxsT3BhY2l0eSI6IDAuNywKICAiZmlsbFJ1bGUiOiAiZXZlbm9kZCIsCiAgImxpbmVDYXAiOiAicm91bmQiLAogICJsaW5lSm9pbiI6ICJyb3VuZCIsCiAgIm9wYWNpdHkiOiAxLjAsCiAgInJhZGl1cyI6IDUsCiAgInN0cm9rZSI6IHRydWUsCiAgIndlaWdodCI6IDMKfQogICAgICAgICAgICAgICAgKS5hZGRUbyhtYXBfYjYxNzVmY2YxZTUzNDY2NmJjZjc4M2RiNDVjNDRjNzMpOwogICAgICAgICAgICAKICAgIAogICAgICAgICAgICB2YXIgcG9wdXBfY2Q2MTY2ODRhNmFkNGU5NTlkZTIzNjcwMTM3ZmVkZGIgPSBMLnBvcHVwKHttYXhXaWR0aDogJzMwMCd9KTsKCiAgICAgICAgICAgIAogICAgICAgICAgICAgICAgdmFyIGh0bWxfYzRhY2NjMzllNWM2NDQwZjlhMDM2ZGYyNzg4YjlkNTYgPSAkKCc8ZGl2IGlkPSJodG1sX2M0YWNjYzM5ZTVjNjQ0MGY5YTAzNmRmMjc4OGI5ZDU2IiBzdHlsZT0id2lkdGg6IDEwMC4wJTsgaGVpZ2h0OiAxMDAuMCU7Ij5MZW8gSGlnaCBTY2hvb2wgQ2x1c3RlciAyPC9kaXY+JylbMF07CiAgICAgICAgICAgICAgICBwb3B1cF9jZDYxNjY4NGE2YWQ0ZTk1OWRlMjM2NzAxMzdmZWRkYi5zZXRDb250ZW50KGh0bWxfYzRhY2NjMzllNWM2NDQwZjlhMDM2ZGYyNzg4YjlkNTYpOwogICAgICAgICAgICAKCiAgICAgICAgICAgIGNpcmNsZV9tYXJrZXJfNjU5MTg5ZmQyNWNmNDhkNmFhZjAzYjE2NzEzYmI3MWUuYmluZFBvcHVwKHBvcHVwX2NkNjE2Njg0YTZhZDRlOTU5ZGUyMzY3MDEzN2ZlZGRiKTsKCiAgICAgICAgICAgIAogICAgICAgIAogICAgCiAgICAgICAgICAgIHZhciBjaXJjbGVfbWFya2VyXzBlOGIyNTRjMjliYTRiZjJiMGYyMzBhMTRkNTk0NzFjID0gTC5jaXJjbGVNYXJrZXIoCiAgICAgICAgICAgICAgICBbNDEuOTM5MjIzMTMwMjQ5MTU0LC04Ny43NzUzMjI1MTc0ODEyXSwKICAgICAgICAgICAgICAgIHsKICAiYnViYmxpbmdNb3VzZUV2ZW50cyI6IHRydWUsCiAgImNvbG9yIjogIiM4MDAwZmYiLAogICJkYXNoQXJyYXkiOiBudWxsLAogICJkYXNoT2Zmc2V0IjogbnVsbCwKICAiZmlsbCI6IHRydWUsCiAgImZpbGxDb2xvciI6ICIjODAwMGZmIiwKICAiZmlsbE9wYWNpdHkiOiAwLjcsCiAgImZpbGxSdWxlIjogImV2ZW5vZGQiLAogICJsaW5lQ2FwIjogInJvdW5kIiwKICAibGluZUpvaW4iOiAicm91bmQiLAogICJvcGFjaXR5IjogMS4wLAogICJyYWRpdXMiOiA1LAogICJzdHJva2UiOiB0cnVlLAogICJ3ZWlnaHQiOiAzCn0KICAgICAgICAgICAgICAgICkuYWRkVG8obWFwX2I2MTc1ZmNmMWU1MzQ2NjZiY2Y3ODNkYjQ1YzQ0YzczKTsKICAgICAgICAgICAgCiAgICAKICAgICAgICAgICAgdmFyIHBvcHVwXzkxMmYxN2FmMDYxYTQ1MzRhZWUyMzQ1NTAxMzczMDRlID0gTC5wb3B1cCh7bWF4V2lkdGg6ICczMDAnfSk7CgogICAgICAgICAgICAKICAgICAgICAgICAgICAgIHZhciBodG1sX2EwNDk4ZDE3ZTE5YzQ5YjRhMGQzZjc3NjA1ZTljMzE3ID0gJCgnPGRpdiBpZD0iaHRtbF9hMDQ5OGQxN2UxOWM0OWI0YTBkM2Y3NzYwNWU5YzMxNyIgc3R5bGU9IndpZHRoOiAxMDAuMCU7IGhlaWdodDogMTAwLjAlOyI+U3QuIFBhdHJpY2sgSGlnaCBTY2hvb2wgQ2x1c3RlciAxPC9kaXY+JylbMF07CiAgICAgICAgICAgICAgICBwb3B1cF85MTJmMTdhZjA2MWE0NTM0YWVlMjM0NTUwMTM3MzA0ZS5zZXRDb250ZW50KGh0bWxfYTA0OThkMTdlMTljNDliNGEwZDNmNzc2MDVlOWMzMTcpOwogICAgICAgICAgICAKCiAgICAgICAgICAgIGNpcmNsZV9tYXJrZXJfMGU4YjI1NGMyOWJhNGJmMmIwZjIzMGExNGQ1OTQ3MWMuYmluZFBvcHVwKHBvcHVwXzkxMmYxN2FmMDYxYTQ1MzRhZWUyMzQ1NTAxMzczMDRlKTsKCiAgICAgICAgICAgIAogICAgICAgIAogICAgCiAgICAgICAgICAgIHZhciBjaXJjbGVfbWFya2VyXzIzMGY2NDMyMjU2MjRiMzU4ZjdjN2NhODhkN2MyNDk4ID0gTC5jaXJjbGVNYXJrZXIoCiAgICAgICAgICAgICAgICBbNDEuOTgzNDI3MjY1NTYwODksLTg3LjcyMDg4NjExOTAyNzI2XSwKICAgICAgICAgICAgICAgIHsKICAiYnViYmxpbmdNb3VzZUV2ZW50cyI6IHRydWUsCiAgImNvbG9yIjogIiNmZjAwMDAiLAogICJkYXNoQXJyYXkiOiBudWxsLAogICJkYXNoT2Zmc2V0IjogbnVsbCwKICAiZmlsbCI6IHRydWUsCiAgImZpbGxDb2xvciI6ICIjZmYwMDAwIiwKICAiZmlsbE9wYWNpdHkiOiAwLjcsCiAgImZpbGxSdWxlIjogImV2ZW5vZGQiLAogICJsaW5lQ2FwIjogInJvdW5kIiwKICAibGluZUpvaW4iOiAicm91bmQiLAogICJvcGFjaXR5IjogMS4wLAogICJyYWRpdXMiOiA1LAogICJzdHJva2UiOiB0cnVlLAogICJ3ZWlnaHQiOiAzCn0KICAgICAgICAgICAgICAgICkuYWRkVG8obWFwX2I2MTc1ZmNmMWU1MzQ2NjZiY2Y3ODNkYjQ1YzQ0YzczKTsKICAgICAgICAgICAgCiAgICAKICAgICAgICAgICAgdmFyIHBvcHVwX2JhZDRjMzFiZWU1YzQ1NjhhYTgxYTU2MzQyZDk4MTNkID0gTC5wb3B1cCh7bWF4V2lkdGg6ICczMDAnfSk7CgogICAgICAgICAgICAKICAgICAgICAgICAgICAgIHZhciBodG1sX2NhMDE5YmY0YTI5NDQzODdiMDk2NzY4M2RiODE2MDdmID0gJCgnPGRpdiBpZD0iaHRtbF9jYTAxOWJmNGEyOTQ0Mzg3YjA5Njc2ODNkYjgxNjA3ZiIgc3R5bGU9IndpZHRoOiAxMDAuMCU7IGhlaWdodDogMTAwLjAlOyI+Tm9ydGhzaWRlIExlYXJuaW5nIENlbnRlciBIaWdoIFNjaG9vbCBDbHVzdGVyIDA8L2Rpdj4nKVswXTsKICAgICAgICAgICAgICAgIHBvcHVwX2JhZDRjMzFiZWU1YzQ1NjhhYTgxYTU2MzQyZDk4MTNkLnNldENvbnRlbnQoaHRtbF9jYTAxOWJmNGEyOTQ0Mzg3YjA5Njc2ODNkYjgxNjA3Zik7CiAgICAgICAgICAgIAoKICAgICAgICAgICAgY2lyY2xlX21hcmtlcl8yMzBmNjQzMjI1NjI0YjM1OGY3YzdjYTg4ZDdjMjQ5OC5iaW5kUG9wdXAocG9wdXBfYmFkNGMzMWJlZTVjNDU2OGFhODFhNTYzNDJkOTgxM2QpOwoKICAgICAgICAgICAgCiAgICAgICAgCiAgICAKICAgICAgICAgICAgdmFyIGNpcmNsZV9tYXJrZXJfM2RhMWViMDI3YTY1NDgwNWEyYTg2MjIzZjdhNGZmMWIgPSBMLmNpcmNsZU1hcmtlcigKICAgICAgICAgICAgICAgIFs0MS43NTQ1Mzg5MDc2MDgxODYsLTg3LjU1NzM2NTMxMjIyOTEyXSwKICAgICAgICAgICAgICAgIHsKICAiYnViYmxpbmdNb3VzZUV2ZW50cyI6IHRydWUsCiAgImNvbG9yIjogIiMwMGI1ZWIiLAogICJkYXNoQXJyYXkiOiBudWxsLAogICJkYXNoT2Zmc2V0IjogbnVsbCwKICAiZmlsbCI6IHRydWUsCiAgImZpbGxDb2xvciI6ICIjMDBiNWViIiwKICAiZmlsbE9wYWNpdHkiOiAwLjcsCiAgImZpbGxSdWxlIjogImV2ZW5vZGQiLAogICJsaW5lQ2FwIjogInJvdW5kIiwKICAibGluZUpvaW4iOiAicm91bmQiLAogICJvcGFjaXR5IjogMS4wLAogICJyYWRpdXMiOiA1LAogICJzdHJva2UiOiB0cnVlLAogICJ3ZWlnaHQiOiAzCn0KICAgICAgICAgICAgICAgICkuYWRkVG8obWFwX2I2MTc1ZmNmMWU1MzQ2NjZiY2Y3ODNkYjQ1YzQ0YzczKTsKICAgICAgICAgICAgCiAgICAKICAgICAgICAgICAgdmFyIHBvcHVwXzYyNGRjMmM2MmFiMDQwM2VhNWQzMWNjNjllOGEwMWI0ID0gTC5wb3B1cCh7bWF4V2lkdGg6ICczMDAnfSk7CgogICAgICAgICAgICAKICAgICAgICAgICAgICAgIHZhciBodG1sX2IxNWMwNWY2MGQ4NTQwZGNiN2UwOWE4YzZjNDRmMGI4ID0gJCgnPGRpdiBpZD0iaHRtbF9iMTVjMDVmNjBkODU0MGRjYjdlMDlhOGM2YzQ0ZjBiOCIgc3R5bGU9IndpZHRoOiAxMDAuMCU7IGhlaWdodDogMTAwLjAlOyI+QnJhZHdlbGwgU2Nob29sIG9mIEV4Y2VsbGVuY2UgQ2x1c3RlciAyPC9kaXY+JylbMF07CiAgICAgICAgICAgICAgICBwb3B1cF82MjRkYzJjNjJhYjA0MDNlYTVkMzFjYzY5ZThhMDFiNC5zZXRDb250ZW50KGh0bWxfYjE1YzA1ZjYwZDg1NDBkY2I3ZTA5YThjNmM0NGYwYjgpOwogICAgICAgICAgICAKCiAgICAgICAgICAgIGNpcmNsZV9tYXJrZXJfM2RhMWViMDI3YTY1NDgwNWEyYTg2MjIzZjdhNGZmMWIuYmluZFBvcHVwKHBvcHVwXzYyNGRjMmM2MmFiMDQwM2VhNWQzMWNjNjllOGEwMWI0KTsKCiAgICAgICAgICAgIAogICAgICAgIAogICAgCiAgICAgICAgICAgIHZhciBjaXJjbGVfbWFya2VyXzBmM2EwMDkwZTkzMzQ5MDViNTgzZGFiNjNkNWIwNzhlID0gTC5jaXJjbGVNYXJrZXIoCiAgICAgICAgICAgICAgICBbNDEuNzQ0Njk1NzY1NDc1Njc2LC04Ny42MzUxNzc1NjgzMzI0MV0sCiAgICAgICAgICAgICAgICB7CiAgImJ1YmJsaW5nTW91c2VFdmVudHMiOiB0cnVlLAogICJjb2xvciI6ICIjMDBiNWViIiwKICAiZGFzaEFycmF5IjogbnVsbCwKICAiZGFzaE9mZnNldCI6IG51bGwsCiAgImZpbGwiOiB0cnVlLAogICJmaWxsQ29sb3IiOiAiIzAwYjVlYiIsCiAgImZpbGxPcGFjaXR5IjogMC43LAogICJmaWxsUnVsZSI6ICJldmVub2RkIiwKICAibGluZUNhcCI6ICJyb3VuZCIsCiAgImxpbmVKb2luIjogInJvdW5kIiwKICAib3BhY2l0eSI6IDEuMCwKICAicmFkaXVzIjogNSwKICAic3Ryb2tlIjogdHJ1ZSwKICAid2VpZ2h0IjogMwp9CiAgICAgICAgICAgICAgICApLmFkZFRvKG1hcF9iNjE3NWZjZjFlNTM0NjY2YmNmNzgzZGI0NWM0NGM3Myk7CiAgICAgICAgICAgIAogICAgCiAgICAgICAgICAgIHZhciBwb3B1cF9lMWIyNGQ3NmEzMDI0NTAyOTMzZTEzMmM4MWUyZjllNSA9IEwucG9wdXAoe21heFdpZHRoOiAnMzAwJ30pOwoKICAgICAgICAgICAgCiAgICAgICAgICAgICAgICB2YXIgaHRtbF8zYTQ3ODUyNWQ5YmI0M2Y4YTk0MTk0MzlhODk0YzFhMyA9ICQoJzxkaXYgaWQ9Imh0bWxfM2E0Nzg1MjVkOWJiNDNmOGE5NDE5NDM5YTg5NGMxYTMiIHN0eWxlPSJ3aWR0aDogMTAwLjAlOyBoZWlnaHQ6IDEwMC4wJTsiPlNpbWVvbiBIaWdoIFNjaG9vbCBDbHVzdGVyIDI8L2Rpdj4nKVswXTsKICAgICAgICAgICAgICAgIHBvcHVwX2UxYjI0ZDc2YTMwMjQ1MDI5MzNlMTMyYzgxZTJmOWU1LnNldENvbnRlbnQoaHRtbF8zYTQ3ODUyNWQ5YmI0M2Y4YTk0MTk0MzlhODk0YzFhMyk7CiAgICAgICAgICAgIAoKICAgICAgICAgICAgY2lyY2xlX21hcmtlcl8wZjNhMDA5MGU5MzM0OTA1YjU4M2RhYjYzZDViMDc4ZS5iaW5kUG9wdXAocG9wdXBfZTFiMjRkNzZhMzAyNDUwMjkzM2UxMzJjODFlMmY5ZTUpOwoKICAgICAgICAgICAgCiAgICAgICAgCiAgICAKICAgICAgICAgICAgdmFyIGNpcmNsZV9tYXJrZXJfZGZlM2JhMzNjMDg4NGFmOWE1MjkxNzUwMWViMWVmZDEgPSBMLmNpcmNsZU1hcmtlcigKICAgICAgICAgICAgICAgIFs0Mi4wMDI1OTQ4MDc2ODU0MiwtODcuNjY4NzY4NjE4NTY4XSwKICAgICAgICAgICAgICAgIHsKICAiYnViYmxpbmdNb3VzZUV2ZW50cyI6IHRydWUsCiAgImNvbG9yIjogIiM4MDAwZmYiLAogICJkYXNoQXJyYXkiOiBudWxsLAogICJkYXNoT2Zmc2V0IjogbnVsbCwKICAiZmlsbCI6IHRydWUsCiAgImZpbGxDb2xvciI6ICIjODAwMGZmIiwKICAiZmlsbE9wYWNpdHkiOiAwLjcsCiAgImZpbGxSdWxlIjogImV2ZW5vZGQiLAogICJsaW5lQ2FwIjogInJvdW5kIiwKICAibGluZUpvaW4iOiAicm91bmQiLAogICJvcGFjaXR5IjogMS4wLAogICJyYWRpdXMiOiA1LAogICJzdHJva2UiOiB0cnVlLAogICJ3ZWlnaHQiOiAzCn0KICAgICAgICAgICAgICAgICkuYWRkVG8obWFwX2I2MTc1ZmNmMWU1MzQ2NjZiY2Y3ODNkYjQ1YzQ0YzczKTsKICAgICAgICAgICAgCiAgICAKICAgICAgICAgICAgdmFyIHBvcHVwX2IwOGQyOGViZTZhYTRkZDM4MGRlMTkwYWJlMjk5OTZlID0gTC5wb3B1cCh7bWF4V2lkdGg6ICczMDAnfSk7CgogICAgICAgICAgICAKICAgICAgICAgICAgICAgIHZhciBodG1sXzQ4NTY1OTA4MmQ2NzQ1NDJiODY4MzZkNzJkY2JhMjk4ID0gJCgnPGRpdiBpZD0iaHRtbF80ODU2NTkwODJkNjc0NTQyYjg2ODM2ZDcyZGNiYTI5OCIgc3R5bGU9IndpZHRoOiAxMDAuMCU7IGhlaWdodDogMTAwLjAlOyI+Um9nZXIgQy4gU3VsbGl2YW4gSGlnaCBTY2hvb2wgQ2x1c3RlciAxPC9kaXY+JylbMF07CiAgICAgICAgICAgICAgICBwb3B1cF9iMDhkMjhlYmU2YWE0ZGQzODBkZTE5MGFiZTI5OTk2ZS5zZXRDb250ZW50KGh0bWxfNDg1NjU5MDgyZDY3NDU0MmI4NjgzNmQ3MmRjYmEyOTgpOwogICAgICAgICAgICAKCiAgICAgICAgICAgIGNpcmNsZV9tYXJrZXJfZGZlM2JhMzNjMDg4NGFmOWE1MjkxNzUwMWViMWVmZDEuYmluZFBvcHVwKHBvcHVwX2IwOGQyOGViZTZhYTRkZDM4MGRlMTkwYWJlMjk5OTZlKTsKCiAgICAgICAgICAgIAogICAgICAgIAogICAgCiAgICAgICAgICAgIHZhciBjaXJjbGVfbWFya2VyX2E1ZmFkZDYyNjZjNzQyMDA5MmJhYmQzNjdkNzY4YTc4ID0gTC5jaXJjbGVNYXJrZXIoCiAgICAgICAgICAgICAgICBbNDEuNzQ4MzA5NjAyNTg5NjM2LC04Ny42NjkxNDI2MjI5NzUxNl0sCiAgICAgICAgICAgICAgICB7CiAgImJ1YmJsaW5nTW91c2VFdmVudHMiOiB0cnVlLAogICJjb2xvciI6ICIjMDBiNWViIiwKICAiZGFzaEFycmF5IjogbnVsbCwKICAiZGFzaE9mZnNldCI6IG51bGwsCiAgImZpbGwiOiB0cnVlLAogICJmaWxsQ29sb3IiOiAiIzAwYjVlYiIsCiAgImZpbGxPcGFjaXR5IjogMC43LAogICJmaWxsUnVsZSI6ICJldmVub2RkIiwKICAibGluZUNhcCI6ICJyb3VuZCIsCiAgImxpbmVKb2luIjogInJvdW5kIiwKICAib3BhY2l0eSI6IDEuMCwKICAicmFkaXVzIjogNSwKICAic3Ryb2tlIjogdHJ1ZSwKICAid2VpZ2h0IjogMwp9CiAgICAgICAgICAgICAgICApLmFkZFRvKG1hcF9iNjE3NWZjZjFlNTM0NjY2YmNmNzgzZGI0NWM0NGM3Myk7CiAgICAgICAgICAgIAogICAgCiAgICAgICAgICAgIHZhciBwb3B1cF82MTJkYzQyYzhlNGM0N2FhODVjNzYyNGQzNDM1YWRhZCA9IEwucG9wdXAoe21heFdpZHRoOiAnMzAwJ30pOwoKICAgICAgICAgICAgCiAgICAgICAgICAgICAgICB2YXIgaHRtbF82ZGU3OTY1ZWY2ODA0MjA0YjY2MTI2YjdhYWIxNjlmZCA9ICQoJzxkaXYgaWQ9Imh0bWxfNmRlNzk2NWVmNjgwNDIwNGI2NjEyNmI3YWFiMTY5ZmQiIHN0eWxlPSJ3aWR0aDogMTAwLjAlOyBoZWlnaHQ6IDEwMC4wJTsiPlJhbHBoIEVsbGlzb24gSGlnaCBTY2hvb2wgQ2x1c3RlciAyPC9kaXY+JylbMF07CiAgICAgICAgICAgICAgICBwb3B1cF82MTJkYzQyYzhlNGM0N2FhODVjNzYyNGQzNDM1YWRhZC5zZXRDb250ZW50KGh0bWxfNmRlNzk2NWVmNjgwNDIwNGI2NjEyNmI3YWFiMTY5ZmQpOwogICAgICAgICAgICAKCiAgICAgICAgICAgIGNpcmNsZV9tYXJrZXJfYTVmYWRkNjI2NmM3NDIwMDkyYmFiZDM2N2Q3NjhhNzguYmluZFBvcHVwKHBvcHVwXzYxMmRjNDJjOGU0YzQ3YWE4NWM3NjI0ZDM0MzVhZGFkKTsKCiAgICAgICAgICAgIAogICAgICAgIAogICAgCiAgICAgICAgICAgIHZhciBjaXJjbGVfbWFya2VyX2Y1ZDVhYzZhYTdmYzQ3MTI4MjJmNGE0MDMyMjQ1MjRiID0gTC5jaXJjbGVNYXJrZXIoCiAgICAgICAgICAgICAgICBbNDEuNzUwNjY4MzUwNTY0MDEsLTg3LjY4NDE5NDk1OTQzOTA1XSwKICAgICAgICAgICAgICAgIHsKICAiYnViYmxpbmdNb3VzZUV2ZW50cyI6IHRydWUsCiAgImNvbG9yIjogIiNmZjAwMDAiLAogICJkYXNoQXJyYXkiOiBudWxsLAogICJkYXNoT2Zmc2V0IjogbnVsbCwKICAiZmlsbCI6IHRydWUsCiAgImZpbGxDb2xvciI6ICIjZmYwMDAwIiwKICAiZmlsbE9wYWNpdHkiOiAwLjcsCiAgImZpbGxSdWxlIjogImV2ZW5vZGQiLAogICJsaW5lQ2FwIjogInJvdW5kIiwKICAibGluZUpvaW4iOiAicm91bmQiLAogICJvcGFjaXR5IjogMS4wLAogICJyYWRpdXMiOiA1LAogICJzdHJva2UiOiB0cnVlLAogICJ3ZWlnaHQiOiAzCn0KICAgICAgICAgICAgICAgICkuYWRkVG8obWFwX2I2MTc1ZmNmMWU1MzQ2NjZiY2Y3ODNkYjQ1YzQ0YzczKTsKICAgICAgICAgICAgCiAgICAKICAgICAgICAgICAgdmFyIHBvcHVwX2U3OTk1MmE5NDJlZDQ0ZTM5NTQzYzY1OWY1M2NjNmRkID0gTC5wb3B1cCh7bWF4V2lkdGg6ICczMDAnfSk7CgogICAgICAgICAgICAKICAgICAgICAgICAgICAgIHZhciBodG1sX2FkMDk3Mjg2ZTU2ZTQ5MTRiZTA0N2UyYjQ3ZWY0NTIwID0gJCgnPGRpdiBpZD0iaHRtbF9hZDA5NzI4NmU1NmU0OTE0YmUwNDdlMmI0N2VmNDUyMCIgc3R5bGU9IndpZHRoOiAxMDAuMCU7IGhlaWdodDogMTAwLjAlOyI+U3QuIFJpdGEgb2YgQ2FzY2lhIEhpZ2ggU2Nob29sIENsdXN0ZXIgMDwvZGl2PicpWzBdOwogICAgICAgICAgICAgICAgcG9wdXBfZTc5OTUyYTk0MmVkNDRlMzk1NDNjNjU5ZjUzY2M2ZGQuc2V0Q29udGVudChodG1sX2FkMDk3Mjg2ZTU2ZTQ5MTRiZTA0N2UyYjQ3ZWY0NTIwKTsKICAgICAgICAgICAgCgogICAgICAgICAgICBjaXJjbGVfbWFya2VyX2Y1ZDVhYzZhYTdmYzQ3MTI4MjJmNGE0MDMyMjQ1MjRiLmJpbmRQb3B1cChwb3B1cF9lNzk5NTJhOTQyZWQ0NGUzOTU0M2M2NTlmNTNjYzZkZCk7CgogICAgICAgICAgICAKICAgICAgICAKICAgIAogICAgICAgICAgICB2YXIgY2lyY2xlX21hcmtlcl8yNWUzNjE3M2JkODE0MWEyOWZhNTJkZjE0OGIxZWVhYSA9IEwuY2lyY2xlTWFya2VyKAogICAgICAgICAgICAgICAgWzQxLjkzNTYyMjcwOTcwNjg4NCwtODcuNzg0MDM2MDM0MjU4OV0sCiAgICAgICAgICAgICAgICB7CiAgImJ1YmJsaW5nTW91c2VFdmVudHMiOiB0cnVlLAogICJjb2xvciI6ICIjMDBiNWViIiwKICAiZGFzaEFycmF5IjogbnVsbCwKICAiZGFzaE9mZnNldCI6IG51bGwsCiAgImZpbGwiOiB0cnVlLAogICJmaWxsQ29sb3IiOiAiIzAwYjVlYiIsCiAgImZpbGxPcGFjaXR5IjogMC43LAogICJmaWxsUnVsZSI6ICJldmVub2RkIiwKICAibGluZUNhcCI6ICJyb3VuZCIsCiAgImxpbmVKb2luIjogInJvdW5kIiwKICAib3BhY2l0eSI6IDEuMCwKICAicmFkaXVzIjogNSwKICAic3Ryb2tlIjogdHJ1ZSwKICAid2VpZ2h0IjogMwp9CiAgICAgICAgICAgICAgICApLmFkZFRvKG1hcF9iNjE3NWZjZjFlNTM0NjY2YmNmNzgzZGI0NWM0NGM3Myk7CiAgICAgICAgICAgIAogICAgCiAgICAgICAgICAgIHZhciBwb3B1cF8wNDA4M2I4YmIzN2M0ZDFhYWYyY2ZhMzUxZmRmNGM4MyA9IEwucG9wdXAoe21heFdpZHRoOiAnMzAwJ30pOwoKICAgICAgICAgICAgCiAgICAgICAgICAgICAgICB2YXIgaHRtbF9hZDI2YWJmZjM5YWI0MGU0OTVlYzM3N2Y3MTA3ZTM0NyA9ICQoJzxkaXYgaWQ9Imh0bWxfYWQyNmFiZmYzOWFiNDBlNDk1ZWMzNzdmNzEwN2UzNDciIHN0eWxlPSJ3aWR0aDogMTAwLjAlOyBoZWlnaHQ6IDEwMC4wJTsiPlN0ZWlubWV0eiBBY2FkZW1pYyBDZW50cmUgQ2x1c3RlciAyPC9kaXY+JylbMF07CiAgICAgICAgICAgICAgICBwb3B1cF8wNDA4M2I4YmIzN2M0ZDFhYWYyY2ZhMzUxZmRmNGM4My5zZXRDb250ZW50KGh0bWxfYWQyNmFiZmYzOWFiNDBlNDk1ZWMzNzdmNzEwN2UzNDcpOwogICAgICAgICAgICAKCiAgICAgICAgICAgIGNpcmNsZV9tYXJrZXJfMjVlMzYxNzNiZDgxNDFhMjlmYTUyZGYxNDhiMWVlYWEuYmluZFBvcHVwKHBvcHVwXzA0MDgzYjhiYjM3YzRkMWFhZjJjZmEzNTFmZGY0YzgzKTsKCiAgICAgICAgICAgIAogICAgICAgIAogICAgCiAgICAgICAgICAgIHZhciBjaXJjbGVfbWFya2VyX2JmOThlZjFhZWZlZjQwN2ZhNDZkODE2ZWE5YzcwZjVhID0gTC5jaXJjbGVNYXJrZXIoCiAgICAgICAgICAgICAgICBbNDEuODQ3MTI5NjQwNDExNTYsLTg3Ljc5OTkxNzc3OTIzMjVdLAogICAgICAgICAgICAgICAgewogICJidWJibGluZ01vdXNlRXZlbnRzIjogdHJ1ZSwKICAiY29sb3IiOiAiIzAwYjVlYiIsCiAgImRhc2hBcnJheSI6IG51bGwsCiAgImRhc2hPZmZzZXQiOiBudWxsLAogICJmaWxsIjogdHJ1ZSwKICAiZmlsbENvbG9yIjogIiMwMGI1ZWIiLAogICJmaWxsT3BhY2l0eSI6IDAuNywKICAiZmlsbFJ1bGUiOiAiZXZlbm9kZCIsCiAgImxpbmVDYXAiOiAicm91bmQiLAogICJsaW5lSm9pbiI6ICJyb3VuZCIsCiAgIm9wYWNpdHkiOiAxLjAsCiAgInJhZGl1cyI6IDUsCiAgInN0cm9rZSI6IHRydWUsCiAgIndlaWdodCI6IDMKfQogICAgICAgICAgICAgICAgKS5hZGRUbyhtYXBfYjYxNzVmY2YxZTUzNDY2NmJjZjc4M2RiNDVjNDRjNzMpOwogICAgICAgICAgICAKICAgIAogICAgICAgICAgICB2YXIgcG9wdXBfM2IyMWI1YjBkNzM4NDdhNDkzZTU0ZDU4ODFmYjM2MjkgPSBMLnBvcHVwKHttYXhXaWR0aDogJzMwMCd9KTsKCiAgICAgICAgICAgIAogICAgICAgICAgICAgICAgdmFyIGh0bWxfOThlYTk4ZThjNDQxNGVjMThjNTE2NGQzMjU3NWQ2ODcgPSAkKCc8ZGl2IGlkPSJodG1sXzk4ZWE5OGU4YzQ0MTRlYzE4YzUxNjRkMzI1NzVkNjg3IiBzdHlsZT0id2lkdGg6IDEwMC4wJTsgaGVpZ2h0OiAxMDAuMCU7Ij5Nb3J0b24gV2VzdCBIaWdoIFNjaG9vbCBDbHVzdGVyIDI8L2Rpdj4nKVswXTsKICAgICAgICAgICAgICAgIHBvcHVwXzNiMjFiNWIwZDczODQ3YTQ5M2U1NGQ1ODgxZmIzNjI5LnNldENvbnRlbnQoaHRtbF85OGVhOThlOGM0NDE0ZWMxOGM1MTY0ZDMyNTc1ZDY4Nyk7CiAgICAgICAgICAgIAoKICAgICAgICAgICAgY2lyY2xlX21hcmtlcl9iZjk4ZWYxYWVmZWY0MDdmYTQ2ZDgxNmVhOWM3MGY1YS5iaW5kUG9wdXAocG9wdXBfM2IyMWI1YjBkNzM4NDdhNDkzZTU0ZDU4ODFmYjM2MjkpOwoKICAgICAgICAgICAgCiAgICAgICAgCiAgICAKICAgICAgICAgICAgdmFyIGNpcmNsZV9tYXJrZXJfYzlmMTgzYjk2NWQ4NDlmYmFlOWJjZWMwNTI0NTg2YjMgPSBMLmNpcmNsZU1hcmtlcigKICAgICAgICAgICAgICAgIFs0MS45OTEwNTIsLTg3LjcyMDQ5Mzk5OTk5OTk5XSwKICAgICAgICAgICAgICAgIHsKICAiYnViYmxpbmdNb3VzZUV2ZW50cyI6IHRydWUsCiAgImNvbG9yIjogIiMwMGI1ZWIiLAogICJkYXNoQXJyYXkiOiBudWxsLAogICJkYXNoT2Zmc2V0IjogbnVsbCwKICAiZmlsbCI6IHRydWUsCiAgImZpbGxDb2xvciI6ICIjMDBiNWViIiwKICAiZmlsbE9wYWNpdHkiOiAwLjcsCiAgImZpbGxSdWxlIjogImV2ZW5vZGQiLAogICJsaW5lQ2FwIjogInJvdW5kIiwKICAibGluZUpvaW4iOiAicm91bmQiLAogICJvcGFjaXR5IjogMS4wLAogICJyYWRpdXMiOiA1LAogICJzdHJva2UiOiB0cnVlLAogICJ3ZWlnaHQiOiAzCn0KICAgICAgICAgICAgICAgICkuYWRkVG8obWFwX2I2MTc1ZmNmMWU1MzQ2NjZiY2Y3ODNkYjQ1YzQ0YzczKTsKICAgICAgICAgICAgCiAgICAKICAgICAgICAgICAgdmFyIHBvcHVwXzYxMWU1YWYyNGIwOTRhOGY5NWNlMTAzNWViNzY0N2U4ID0gTC5wb3B1cCh7bWF4V2lkdGg6ICczMDAnfSk7CgogICAgICAgICAgICAKICAgICAgICAgICAgICAgIHZhciBodG1sXzAwMmJiNDNiNDg3MDRmNDA5OTNiNmFjMWFiNDI0N2EyID0gJCgnPGRpdiBpZD0iaHRtbF8wMDJiYjQzYjQ4NzA0ZjQwOTkzYjZhYzFhYjQyNDdhMiIgc3R5bGU9IndpZHRoOiAxMDAuMCU7IGhlaWdodDogMTAwLjAlOyI+VGVsc2hlIFllc2hpdmEgQ2x1c3RlciAyPC9kaXY+JylbMF07CiAgICAgICAgICAgICAgICBwb3B1cF82MTFlNWFmMjRiMDk0YThmOTVjZTEwMzVlYjc2NDdlOC5zZXRDb250ZW50KGh0bWxfMDAyYmI0M2I0ODcwNGY0MDk5M2I2YWMxYWI0MjQ3YTIpOwogICAgICAgICAgICAKCiAgICAgICAgICAgIGNpcmNsZV9tYXJrZXJfYzlmMTgzYjk2NWQ4NDlmYmFlOWJjZWMwNTI0NTg2YjMuYmluZFBvcHVwKHBvcHVwXzYxMWU1YWYyNGIwOTRhOGY5NWNlMTAzNWViNzY0N2U4KTsKCiAgICAgICAgICAgIAogICAgICAgIAogICAgCiAgICAgICAgICAgIHZhciBjaXJjbGVfbWFya2VyXzQ3MTQ2ZjFkNmZjODRlYTZhNzBkMzlmOWZjNjk4YjYzID0gTC5jaXJjbGVNYXJrZXIoCiAgICAgICAgICAgICAgICBbNDEuNzU0MDEwNDkzNDQ4NjMsLTg3LjcwNjc0ODg5NDUyMTRdLAogICAgICAgICAgICAgICAgewogICJidWJibGluZ01vdXNlRXZlbnRzIjogdHJ1ZSwKICAiY29sb3IiOiAiI2ZmMDAwMCIsCiAgImRhc2hBcnJheSI6IG51bGwsCiAgImRhc2hPZmZzZXQiOiBudWxsLAogICJmaWxsIjogdHJ1ZSwKICAiZmlsbENvbG9yIjogIiNmZjAwMDAiLAogICJmaWxsT3BhY2l0eSI6IDAuNywKICAiZmlsbFJ1bGUiOiAiZXZlbm9kZCIsCiAgImxpbmVDYXAiOiAicm91bmQiLAogICJsaW5lSm9pbiI6ICJyb3VuZCIsCiAgIm9wYWNpdHkiOiAxLjAsCiAgInJhZGl1cyI6IDUsCiAgInN0cm9rZSI6IHRydWUsCiAgIndlaWdodCI6IDMKfQogICAgICAgICAgICAgICAgKS5hZGRUbyhtYXBfYjYxNzVmY2YxZTUzNDY2NmJjZjc4M2RiNDVjNDRjNzMpOwogICAgICAgICAgICAKICAgIAogICAgICAgICAgICB2YXIgcG9wdXBfMTU0ZmQ0MjZiMzNiNGUwM2I2MzNmZDEyNzRhNWRkMjMgPSBMLnBvcHVwKHttYXhXaWR0aDogJzMwMCd9KTsKCiAgICAgICAgICAgIAogICAgICAgICAgICAgICAgdmFyIGh0bWxfNjZmZGU5MjhjYmExNDEyMWI2ZjY0M2U5NDZhYzY3NjYgPSAkKCc8ZGl2IGlkPSJodG1sXzY2ZmRlOTI4Y2JhMTQxMjFiNmY2NDNlOTQ2YWM2NzY2IiBzdHlsZT0id2lkdGg6IDEwMC4wJTsgaGVpZ2h0OiAxMDAuMCU7Ij5TYXJhaCBFLiBHb29kZSBTVEVNIEFjYWRlbXkgQ2x1c3RlciAwPC9kaXY+JylbMF07CiAgICAgICAgICAgICAgICBwb3B1cF8xNTRmZDQyNmIzM2I0ZTAzYjYzM2ZkMTI3NGE1ZGQyMy5zZXRDb250ZW50KGh0bWxfNjZmZGU5MjhjYmExNDEyMWI2ZjY0M2U5NDZhYzY3NjYpOwogICAgICAgICAgICAKCiAgICAgICAgICAgIGNpcmNsZV9tYXJrZXJfNDcxNDZmMWQ2ZmM4NGVhNmE3MGQzOWY5ZmM2OThiNjMuYmluZFBvcHVwKHBvcHVwXzE1NGZkNDI2YjMzYjRlMDNiNjMzZmQxMjc0YTVkZDIzKTsKCiAgICAgICAgICAgIAogICAgICAgIAogICAgCiAgICAgICAgICAgIHZhciBjaXJjbGVfbWFya2VyXzRhNTMyZTVjMWI5YjQ0OTI4MTBkODg5ZTI0NDFhOTA0ID0gTC5jaXJjbGVNYXJrZXIoCiAgICAgICAgICAgICAgICBbNDEuNzQ0OTg3LC04Ny41NDk3MzI5OTk5OTk5OV0sCiAgICAgICAgICAgICAgICB7CiAgImJ1YmJsaW5nTW91c2VFdmVudHMiOiB0cnVlLAogICJjb2xvciI6ICIjZmYwMDAwIiwKICAiZGFzaEFycmF5IjogbnVsbCwKICAiZGFzaE9mZnNldCI6IG51bGwsCiAgImZpbGwiOiB0cnVlLAogICJmaWxsQ29sb3IiOiAiI2ZmMDAwMCIsCiAgImZpbGxPcGFjaXR5IjogMC43LAogICJmaWxsUnVsZSI6ICJldmVub2RkIiwKICAibGluZUNhcCI6ICJyb3VuZCIsCiAgImxpbmVKb2luIjogInJvdW5kIiwKICAib3BhY2l0eSI6IDEuMCwKICAicmFkaXVzIjogNSwKICAic3Ryb2tlIjogdHJ1ZSwKICAid2VpZ2h0IjogMwp9CiAgICAgICAgICAgICAgICApLmFkZFRvKG1hcF9iNjE3NWZjZjFlNTM0NjY2YmNmNzgzZGI0NWM0NGM3Myk7CiAgICAgICAgICAgIAogICAgCiAgICAgICAgICAgIHZhciBwb3B1cF82MDZiM2QzMzlhMTQ0YzQ0YTgwODdiYWQyMzJhMTMxZSA9IEwucG9wdXAoe21heFdpZHRoOiAnMzAwJ30pOwoKICAgICAgICAgICAgCiAgICAgICAgICAgICAgICB2YXIgaHRtbF9kYjc0N2ZmM2Q3NGM0YzhkOTQ4NjAzZjU4YzI5M2UwOSA9ICQoJzxkaXYgaWQ9Imh0bWxfZGI3NDdmZjNkNzRjNGM4ZDk0ODYwM2Y1OGMyOTNlMDkiIHN0eWxlPSJ3aWR0aDogMTAwLjAlOyBoZWlnaHQ6IDEwMC4wJTsiPkVwaWMgQWNhZGVteSBDbHVzdGVyIDA8L2Rpdj4nKVswXTsKICAgICAgICAgICAgICAgIHBvcHVwXzYwNmIzZDMzOWExNDRjNDRhODA4N2JhZDIzMmExMzFlLnNldENvbnRlbnQoaHRtbF9kYjc0N2ZmM2Q3NGM0YzhkOTQ4NjAzZjU4YzI5M2UwOSk7CiAgICAgICAgICAgIAoKICAgICAgICAgICAgY2lyY2xlX21hcmtlcl80YTUzMmU1YzFiOWI0NDkyODEwZDg4OWUyNDQxYTkwNC5iaW5kUG9wdXAocG9wdXBfNjA2YjNkMzM5YTE0NGM0NGE4MDg3YmFkMjMyYTEzMWUpOwoKICAgICAgICAgICAgCiAgICAgICAgCiAgICAKICAgICAgICAgICAgdmFyIGNpcmNsZV9tYXJrZXJfZWEyNTJkNzVhMDVkNDQzOGEyZWJlZjAzMjZkZDBjNzUgPSBMLmNpcmNsZU1hcmtlcigKICAgICAgICAgICAgICAgIFs0Mi4wMTMwNDkwNzc2MDUxOTYsLTg3LjY3NDAxMjMzMjk3ODE3XSwKICAgICAgICAgICAgICAgIHsKICAiYnViYmxpbmdNb3VzZUV2ZW50cyI6IHRydWUsCiAgImNvbG9yIjogIiM4MDAwZmYiLAogICJkYXNoQXJyYXkiOiBudWxsLAogICJkYXNoT2Zmc2V0IjogbnVsbCwKICAiZmlsbCI6IHRydWUsCiAgImZpbGxDb2xvciI6ICIjODAwMGZmIiwKICAiZmlsbE9wYWNpdHkiOiAwLjcsCiAgImZpbGxSdWxlIjogImV2ZW5vZGQiLAogICJsaW5lQ2FwIjogInJvdW5kIiwKICAibGluZUpvaW4iOiAicm91bmQiLAogICJvcGFjaXR5IjogMS4wLAogICJyYWRpdXMiOiA1LAogICJzdHJva2UiOiB0cnVlLAogICJ3ZWlnaHQiOiAzCn0KICAgICAgICAgICAgICAgICkuYWRkVG8obWFwX2I2MTc1ZmNmMWU1MzQ2NjZiY2Y3ODNkYjQ1YzQ0YzczKTsKICAgICAgICAgICAgCiAgICAKICAgICAgICAgICAgdmFyIHBvcHVwX2ZiMWFhNDcxNmMxMzQyMmJhZDNlOGM1MTVmNmVlZGQ0ID0gTC5wb3B1cCh7bWF4V2lkdGg6ICczMDAnfSk7CgogICAgICAgICAgICAKICAgICAgICAgICAgICAgIHZhciBodG1sXzA2YWIxN2Y1YmQxYTQ3ODhiZDIyMDEzYjc1OTkwZjljID0gJCgnPGRpdiBpZD0iaHRtbF8wNmFiMTdmNWJkMWE0Nzg4YmQyMjAxM2I3NTk5MGY5YyIgc3R5bGU9IndpZHRoOiAxMDAuMCU7IGhlaWdodDogMTAwLjAlOyI+Q2hpY2FnbyBNYXRoIEFuZCBTY2llbmNlIEFjYWRlbXkgQ2x1c3RlciAxPC9kaXY+JylbMF07CiAgICAgICAgICAgICAgICBwb3B1cF9mYjFhYTQ3MTZjMTM0MjJiYWQzZThjNTE1ZjZlZWRkNC5zZXRDb250ZW50KGh0bWxfMDZhYjE3ZjViZDFhNDc4OGJkMjIwMTNiNzU5OTBmOWMpOwogICAgICAgICAgICAKCiAgICAgICAgICAgIGNpcmNsZV9tYXJrZXJfZWEyNTJkNzVhMDVkNDQzOGEyZWJlZjAzMjZkZDBjNzUuYmluZFBvcHVwKHBvcHVwX2ZiMWFhNDcxNmMxMzQyMmJhZDNlOGM1MTVmNmVlZGQ0KTsKCiAgICAgICAgICAgIAogICAgICAgIAogICAgCiAgICAgICAgICAgIHZhciBjaXJjbGVfbWFya2VyX2RlNWU4ZWU3OWEyNzQ3N2I5ZmE5NGE2MTNjNjQ3MGFmID0gTC5jaXJjbGVNYXJrZXIoCiAgICAgICAgICAgICAgICBbNDEuNzM3NTYxNTE1MjgxMzMsLTg3LjU3MzM4OTA0NTI3ODM1XSwKICAgICAgICAgICAgICAgIHsKICAiYnViYmxpbmdNb3VzZUV2ZW50cyI6IHRydWUsCiAgImNvbG9yIjogIiMwMGI1ZWIiLAogICJkYXNoQXJyYXkiOiBudWxsLAogICJkYXNoT2Zmc2V0IjogbnVsbCwKICAiZmlsbCI6IHRydWUsCiAgImZpbGxDb2xvciI6ICIjMDBiNWViIiwKICAiZmlsbE9wYWNpdHkiOiAwLjcsCiAgImZpbGxSdWxlIjogImV2ZW5vZGQiLAogICJsaW5lQ2FwIjogInJvdW5kIiwKICAibGluZUpvaW4iOiAicm91bmQiLAogICJvcGFjaXR5IjogMS4wLAogICJyYWRpdXMiOiA1LAogICJzdHJva2UiOiB0cnVlLAogICJ3ZWlnaHQiOiAzCn0KICAgICAgICAgICAgICAgICkuYWRkVG8obWFwX2I2MTc1ZmNmMWU1MzQ2NjZiY2Y3ODNkYjQ1YzQ0YzczKTsKICAgICAgICAgICAgCiAgICAKICAgICAgICAgICAgdmFyIHBvcHVwXzE0NTljZmVmOTYxNzQwNWQ4ZTJkNGZjYTVmNWY1ZTg1ID0gTC5wb3B1cCh7bWF4V2lkdGg6ICczMDAnfSk7CgogICAgICAgICAgICAKICAgICAgICAgICAgICAgIHZhciBodG1sX2M2MWJjZDViNzI4NjQ5ZDY4YzA1MTI1YWJhNzM2OTcyID0gJCgnPGRpdiBpZD0iaHRtbF9jNjFiY2Q1YjcyODY0OWQ2OGMwNTEyNWFiYTczNjk3MiIgc3R5bGU9IndpZHRoOiAxMDAuMCU7IGhlaWdodDogMTAwLjAlOyI+Q2hpY2FnbyBWb2NhdGlvbmFsIEhTIENsdXN0ZXIgMjwvZGl2PicpWzBdOwogICAgICAgICAgICAgICAgcG9wdXBfMTQ1OWNmZWY5NjE3NDA1ZDhlMmQ0ZmNhNWY1ZjVlODUuc2V0Q29udGVudChodG1sX2M2MWJjZDViNzI4NjQ5ZDY4YzA1MTI1YWJhNzM2OTcyKTsKICAgICAgICAgICAgCgogICAgICAgICAgICBjaXJjbGVfbWFya2VyX2RlNWU4ZWU3OWEyNzQ3N2I5ZmE5NGE2MTNjNjQ3MGFmLmJpbmRQb3B1cChwb3B1cF8xNDU5Y2ZlZjk2MTc0MDVkOGUyZDRmY2E1ZjVmNWU4NSk7CgogICAgICAgICAgICAKICAgICAgICAKICAgIAogICAgICAgICAgICB2YXIgY2lyY2xlX21hcmtlcl84MWU1NDQzMmUxZjQ0ZjAwYmFiNzA0MjZlYzQ5MzJmYSA9IEwuY2lyY2xlTWFya2VyKAogICAgICAgICAgICAgICAgWzQxLjkwMjUyNTQxMTI2Mjc1LC04Ny44MTQ1OTM5MzY5MDM5Nl0sCiAgICAgICAgICAgICAgICB7CiAgImJ1YmJsaW5nTW91c2VFdmVudHMiOiB0cnVlLAogICJjb2xvciI6ICIjZmYwMDAwIiwKICAiZGFzaEFycmF5IjogbnVsbCwKICAiZGFzaE9mZnNldCI6IG51bGwsCiAgImZpbGwiOiB0cnVlLAogICJmaWxsQ29sb3IiOiAiI2ZmMDAwMCIsCiAgImZpbGxPcGFjaXR5IjogMC43LAogICJmaWxsUnVsZSI6ICJldmVub2RkIiwKICAibGluZUNhcCI6ICJyb3VuZCIsCiAgImxpbmVKb2luIjogInJvdW5kIiwKICAib3BhY2l0eSI6IDEuMCwKICAicmFkaXVzIjogNSwKICAic3Ryb2tlIjogdHJ1ZSwKICAid2VpZ2h0IjogMwp9CiAgICAgICAgICAgICAgICApLmFkZFRvKG1hcF9iNjE3NWZjZjFlNTM0NjY2YmNmNzgzZGI0NWM0NGM3Myk7CiAgICAgICAgICAgIAogICAgCiAgICAgICAgICAgIHZhciBwb3B1cF85OWExNTI3ZWRiMzg0ODIwOTkyODdhNzE1MzYyZTA5YSA9IEwucG9wdXAoe21heFdpZHRoOiAnMzAwJ30pOwoKICAgICAgICAgICAgCiAgICAgICAgICAgICAgICB2YXIgaHRtbF85NWNiOTQ1MzAyOWQ0OGJjOTA2ZmI4M2Q3OTgzNzYzYiA9ICQoJzxkaXYgaWQ9Imh0bWxfOTVjYjk0NTMwMjlkNDhiYzkwNmZiODNkNzk4Mzc2M2IiIHN0eWxlPSJ3aWR0aDogMTAwLjAlOyBoZWlnaHQ6IDEwMC4wJTsiPlRyaW5pdHkgSGlnaCBTY2hvb2wgQ2x1c3RlciAwPC9kaXY+JylbMF07CiAgICAgICAgICAgICAgICBwb3B1cF85OWExNTI3ZWRiMzg0ODIwOTkyODdhNzE1MzYyZTA5YS5zZXRDb250ZW50KGh0bWxfOTVjYjk0NTMwMjlkNDhiYzkwNmZiODNkNzk4Mzc2M2IpOwogICAgICAgICAgICAKCiAgICAgICAgICAgIGNpcmNsZV9tYXJrZXJfODFlNTQ0MzJlMWY0NGYwMGJhYjcwNDI2ZWM0OTMyZmEuYmluZFBvcHVwKHBvcHVwXzk5YTE1MjdlZGIzODQ4MjA5OTI4N2E3MTUzNjJlMDlhKTsKCiAgICAgICAgICAgIAogICAgICAgIAogICAgCiAgICAgICAgICAgIHZhciBjaXJjbGVfbWFya2VyXzcxOTVjOTQ1ZjU2ZjQwNzQ5ZmQwYmJhYTg1MGY2YWE5ID0gTC5jaXJjbGVNYXJrZXIoCiAgICAgICAgICAgICAgICBbNDEuNzkwMTIwNjA0Njc4MTUsLTg3Ljc4MDQ3NjY0Mjk2NDQ3XSwKICAgICAgICAgICAgICAgIHsKICAiYnViYmxpbmdNb3VzZUV2ZW50cyI6IHRydWUsCiAgImNvbG9yIjogIiNmZjAwMDAiLAogICJkYXNoQXJyYXkiOiBudWxsLAogICJkYXNoT2Zmc2V0IjogbnVsbCwKICAiZmlsbCI6IHRydWUsCiAgImZpbGxDb2xvciI6ICIjZmYwMDAwIiwKICAiZmlsbE9wYWNpdHkiOiAwLjcsCiAgImZpbGxSdWxlIjogImV2ZW5vZGQiLAogICJsaW5lQ2FwIjogInJvdW5kIiwKICAibGluZUpvaW4iOiAicm91bmQiLAogICJvcGFjaXR5IjogMS4wLAogICJyYWRpdXMiOiA1LAogICJzdHJva2UiOiB0cnVlLAogICJ3ZWlnaHQiOiAzCn0KICAgICAgICAgICAgICAgICkuYWRkVG8obWFwX2I2MTc1ZmNmMWU1MzQ2NjZiY2Y3ODNkYjQ1YzQ0YzczKTsKICAgICAgICAgICAgCiAgICAKICAgICAgICAgICAgdmFyIHBvcHVwX2U4NWFhNjY5ZjdiYjQxNDU4MDYxMTc5NzI1OGY1ZjQxID0gTC5wb3B1cCh7bWF4V2lkdGg6ICczMDAnfSk7CgogICAgICAgICAgICAKICAgICAgICAgICAgICAgIHZhciBodG1sXzRhM2FjOWI2YzEwMzRjYjRiZGFmMjE2YTRkMDlkNDQ3ID0gJCgnPGRpdiBpZD0iaHRtbF80YTNhYzliNmMxMDM0Y2I0YmRhZjIxNmE0ZDA5ZDQ0NyIgc3R5bGU9IndpZHRoOiAxMDAuMCU7IGhlaWdodDogMTAwLjAlOyI+Sm9obiBGLiBLZW5uZWR5IEhpZ2ggU2Nob29sIENsdXN0ZXIgMDwvZGl2PicpWzBdOwogICAgICAgICAgICAgICAgcG9wdXBfZTg1YWE2NjlmN2JiNDE0NTgwNjExNzk3MjU4ZjVmNDEuc2V0Q29udGVudChodG1sXzRhM2FjOWI2YzEwMzRjYjRiZGFmMjE2YTRkMDlkNDQ3KTsKICAgICAgICAgICAgCgogICAgICAgICAgICBjaXJjbGVfbWFya2VyXzcxOTVjOTQ1ZjU2ZjQwNzQ5ZmQwYmJhYTg1MGY2YWE5LmJpbmRQb3B1cChwb3B1cF9lODVhYTY2OWY3YmI0MTQ1ODA2MTE3OTcyNThmNWY0MSk7CgogICAgICAgICAgICAKICAgICAgICAKICAgIAogICAgICAgICAgICB2YXIgY2lyY2xlX21hcmtlcl8xZGQ0MmMwNmQyMDc0YmNlYTQwODk3MTE4NjFlYjdkMSA9IEwuY2lyY2xlTWFya2VyKAogICAgICAgICAgICAgICAgWzQxLjc0OTA5NDU2ODU4MjgxLC04Ny43MjA2MjYzNzc2MTE3MV0sCiAgICAgICAgICAgICAgICB7CiAgImJ1YmJsaW5nTW91c2VFdmVudHMiOiB0cnVlLAogICJjb2xvciI6ICIjZmYwMDAwIiwKICAiZGFzaEFycmF5IjogbnVsbCwKICAiZGFzaE9mZnNldCI6IG51bGwsCiAgImZpbGwiOiB0cnVlLAogICJmaWxsQ29sb3IiOiAiI2ZmMDAwMCIsCiAgImZpbGxPcGFjaXR5IjogMC43LAogICJmaWxsUnVsZSI6ICJldmVub2RkIiwKICAibGluZUNhcCI6ICJyb3VuZCIsCiAgImxpbmVKb2luIjogInJvdW5kIiwKICAib3BhY2l0eSI6IDEuMCwKICAicmFkaXVzIjogNSwKICAic3Ryb2tlIjogdHJ1ZSwKICAid2VpZ2h0IjogMwp9CiAgICAgICAgICAgICAgICApLmFkZFRvKG1hcF9iNjE3NWZjZjFlNTM0NjY2YmNmNzgzZGI0NWM0NGM3Myk7CiAgICAgICAgICAgIAogICAgCiAgICAgICAgICAgIHZhciBwb3B1cF8zNzY2YjBiYTQxZmI0YWNiYjYxNTRkMGU2ODAyNmMzYSA9IEwucG9wdXAoe21heFdpZHRoOiAnMzAwJ30pOwoKICAgICAgICAgICAgCiAgICAgICAgICAgICAgICB2YXIgaHRtbF82YjJmYzlkYjdiNWY0ZGU5OGEwNWQxY2M0ZmVmYWEwNSA9ICQoJzxkaXYgaWQ9Imh0bWxfNmIyZmM5ZGI3YjVmNGRlOThhMDVkMWNjNGZlZmFhMDUiIHN0eWxlPSJ3aWR0aDogMTAwLjAlOyBoZWlnaHQ6IDEwMC4wJTsiPkJvZ2FuIEhpZ2ggU2Nob29sIENsdXN0ZXIgMDwvZGl2PicpWzBdOwogICAgICAgICAgICAgICAgcG9wdXBfMzc2NmIwYmE0MWZiNGFjYmI2MTU0ZDBlNjgwMjZjM2Euc2V0Q29udGVudChodG1sXzZiMmZjOWRiN2I1ZjRkZTk4YTA1ZDFjYzRmZWZhYTA1KTsKICAgICAgICAgICAgCgogICAgICAgICAgICBjaXJjbGVfbWFya2VyXzFkZDQyYzA2ZDIwNzRiY2VhNDA4OTcxMTg2MWViN2QxLmJpbmRQb3B1cChwb3B1cF8zNzY2YjBiYTQxZmI0YWNiYjYxNTRkMGU2ODAyNmMzYSk7CgogICAgICAgICAgICAKICAgICAgICAKICAgIAogICAgICAgICAgICB2YXIgY2lyY2xlX21hcmtlcl8yNDIwYTkzODI2M2E0M2FmYWEwNzA2NzYwM2NmNDJhZiA9IEwuY2lyY2xlTWFya2VyKAogICAgICAgICAgICAgICAgWzQyLjAxNTc2NTgzMTMyNjAzNiwtODcuNjgyMDEzNjMyMDQwMzddLAogICAgICAgICAgICAgICAgewogICJidWJibGluZ01vdXNlRXZlbnRzIjogdHJ1ZSwKICAiY29sb3IiOiAiIzAwYjVlYiIsCiAgImRhc2hBcnJheSI6IG51bGwsCiAgImRhc2hPZmZzZXQiOiBudWxsLAogICJmaWxsIjogdHJ1ZSwKICAiZmlsbENvbG9yIjogIiMwMGI1ZWIiLAogICJmaWxsT3BhY2l0eSI6IDAuNywKICAiZmlsbFJ1bGUiOiAiZXZlbm9kZCIsCiAgImxpbmVDYXAiOiAicm91bmQiLAogICJsaW5lSm9pbiI6ICJyb3VuZCIsCiAgIm9wYWNpdHkiOiAxLjAsCiAgInJhZGl1cyI6IDUsCiAgInN0cm9rZSI6IHRydWUsCiAgIndlaWdodCI6IDMKfQogICAgICAgICAgICAgICAgKS5hZGRUbyhtYXBfYjYxNzVmY2YxZTUzNDY2NmJjZjc4M2RiNDVjNDRjNzMpOwogICAgICAgICAgICAKICAgIAogICAgICAgICAgICB2YXIgcG9wdXBfMzBhZGRmZDk2N2RmNDQwYjgyNTM1OGFkMTU2MTdhNDMgPSBMLnBvcHVwKHttYXhXaWR0aDogJzMwMCd9KTsKCiAgICAgICAgICAgIAogICAgICAgICAgICAgICAgdmFyIGh0bWxfZDFjZTA5YWZlYmNhNDZjMWJjOWIyYjI3YjBmYzM0OGUgPSAkKCc8ZGl2IGlkPSJodG1sX2QxY2UwOWFmZWJjYTQ2YzFiYzliMmIyN2IwZmMzNDhlIiBzdHlsZT0id2lkdGg6IDEwMC4wJTsgaGVpZ2h0OiAxMDAuMCU7Ij5TdC4gU2Nob2xhc3RpY2EgQWNhZGVteSBDbHVzdGVyIDI8L2Rpdj4nKVswXTsKICAgICAgICAgICAgICAgIHBvcHVwXzMwYWRkZmQ5NjdkZjQ0MGI4MjUzNThhZDE1NjE3YTQzLnNldENvbnRlbnQoaHRtbF9kMWNlMDlhZmViY2E0NmMxYmM5YjJiMjdiMGZjMzQ4ZSk7CiAgICAgICAgICAgIAoKICAgICAgICAgICAgY2lyY2xlX21hcmtlcl8yNDIwYTkzODI2M2E0M2FmYWEwNzA2NzYwM2NmNDJhZi5iaW5kUG9wdXAocG9wdXBfMzBhZGRmZDk2N2RmNDQwYjgyNTM1OGFkMTU2MTdhNDMpOwoKICAgICAgICAgICAgCiAgICAgICAgCiAgICAKICAgICAgICAgICAgdmFyIGNpcmNsZV9tYXJrZXJfMTRiMjY5YzRhNzYzNGRiYzkxMGEyMWFjY2YyMGQ4YTYgPSBMLmNpcmNsZU1hcmtlcigKICAgICAgICAgICAgICAgIFs0Mi4wMjA4MjA3NDUzMzUyLC04Ny42NzEyODcwNzA0Mjg3OV0sCiAgICAgICAgICAgICAgICB7CiAgImJ1YmJsaW5nTW91c2VFdmVudHMiOiB0cnVlLAogICJjb2xvciI6ICIjMDBiNWViIiwKICAiZGFzaEFycmF5IjogbnVsbCwKICAiZGFzaE9mZnNldCI6IG51bGwsCiAgImZpbGwiOiB0cnVlLAogICJmaWxsQ29sb3IiOiAiIzAwYjVlYiIsCiAgImZpbGxPcGFjaXR5IjogMC43LAogICJmaWxsUnVsZSI6ICJldmVub2RkIiwKICAibGluZUNhcCI6ICJyb3VuZCIsCiAgImxpbmVKb2luIjogInJvdW5kIiwKICAib3BhY2l0eSI6IDEuMCwKICAicmFkaXVzIjogNSwKICAic3Ryb2tlIjogdHJ1ZSwKICAid2VpZ2h0IjogMwp9CiAgICAgICAgICAgICAgICApLmFkZFRvKG1hcF9iNjE3NWZjZjFlNTM0NjY2YmNmNzgzZGI0NWM0NGM3Myk7CiAgICAgICAgICAgIAogICAgCiAgICAgICAgICAgIHZhciBwb3B1cF9lYjM2N2FjMjU1OTU0MzQ3YTc5N2Y4NGY5YWExNmZjMSA9IEwucG9wdXAoe21heFdpZHRoOiAnMzAwJ30pOwoKICAgICAgICAgICAgCiAgICAgICAgICAgICAgICB2YXIgaHRtbF8xYWVhMjhkZGI0OTQ0MGY5OWI2YjE0MWNjMDg4ZTg0NiA9ICQoJzxkaXYgaWQ9Imh0bWxfMWFlYTI4ZGRiNDk0NDBmOTliNmIxNDFjYzA4OGU4NDYiIHN0eWxlPSJ3aWR0aDogMTAwLjAlOyBoZWlnaHQ6IDEwMC4wJTsiPkdhbGUgQWNhZGVteSBDbHVzdGVyIDI8L2Rpdj4nKVswXTsKICAgICAgICAgICAgICAgIHBvcHVwX2ViMzY3YWMyNTU5NTQzNDdhNzk3Zjg0ZjlhYTE2ZmMxLnNldENvbnRlbnQoaHRtbF8xYWVhMjhkZGI0OTQ0MGY5OWI2YjE0MWNjMDg4ZTg0Nik7CiAgICAgICAgICAgIAoKICAgICAgICAgICAgY2lyY2xlX21hcmtlcl8xNGIyNjljNGE3NjM0ZGJjOTEwYTIxYWNjZjIwZDhhNi5iaW5kUG9wdXAocG9wdXBfZWIzNjdhYzI1NTk1NDM0N2E3OTdmODRmOWFhMTZmYzEpOwoKICAgICAgICAgICAgCiAgICAgICAgCiAgICAKICAgICAgICAgICAgdmFyIGNpcmNsZV9tYXJrZXJfMGY3MGMxNjVkZDY2NDM1MmFiNDJlMWRiZGQxZDIxNDUgPSBMLmNpcmNsZU1hcmtlcigKICAgICAgICAgICAgICAgIFs0MS44NjUwNzA2MjU0MDA5NzUsLTg3LjgzMjc1MzY1ODI5NDY4XSwKICAgICAgICAgICAgICAgIHsKICAiYnViYmxpbmdNb3VzZUV2ZW50cyI6IHRydWUsCiAgImNvbG9yIjogIiMwMGI1ZWIiLAogICJkYXNoQXJyYXkiOiBudWxsLAogICJkYXNoT2Zmc2V0IjogbnVsbCwKICAiZmlsbCI6IHRydWUsCiAgImZpbGxDb2xvciI6ICIjMDBiNWViIiwKICAiZmlsbE9wYWNpdHkiOiAwLjcsCiAgImZpbGxSdWxlIjogImV2ZW5vZGQiLAogICJsaW5lQ2FwIjogInJvdW5kIiwKICAibGluZUpvaW4iOiAicm91bmQiLAogICJvcGFjaXR5IjogMS4wLAogICJyYWRpdXMiOiA1LAogICJzdHJva2UiOiB0cnVlLAogICJ3ZWlnaHQiOiAzCn0KICAgICAgICAgICAgICAgICkuYWRkVG8obWFwX2I2MTc1ZmNmMWU1MzQ2NjZiY2Y3ODNkYjQ1YzQ0YzczKTsKICAgICAgICAgICAgCiAgICAKICAgICAgICAgICAgdmFyIHBvcHVwXzAzNzgyYTE2Yzc1MTQzZmY4ZGExNmVkZTU0MWNhNzk1ID0gTC5wb3B1cCh7bWF4V2lkdGg6ICczMDAnfSk7CgogICAgICAgICAgICAKICAgICAgICAgICAgICAgIHZhciBodG1sXzRhODI1NmNmMDYxZDQ4ZTJhZmNhYjg0NWZiYjEzNDI2ID0gJCgnPGRpdiBpZD0iaHRtbF80YTgyNTZjZjA2MWQ0OGUyYWZjYWI4NDVmYmIxMzQyNiIgc3R5bGU9IndpZHRoOiAxMDAuMCU7IGhlaWdodDogMTAwLjAlOyI+UHJvdmlzbyBNYXRoICZhbXA7IFNjaWVuY2UgQWNhZGFteSBDbHVzdGVyIDI8L2Rpdj4nKVswXTsKICAgICAgICAgICAgICAgIHBvcHVwXzAzNzgyYTE2Yzc1MTQzZmY4ZGExNmVkZTU0MWNhNzk1LnNldENvbnRlbnQoaHRtbF80YTgyNTZjZjA2MWQ0OGUyYWZjYWI4NDVmYmIxMzQyNik7CiAgICAgICAgICAgIAoKICAgICAgICAgICAgY2lyY2xlX21hcmtlcl8wZjcwYzE2NWRkNjY0MzUyYWI0MmUxZGJkZDFkMjE0NS5iaW5kUG9wdXAocG9wdXBfMDM3ODJhMTZjNzUxNDNmZjhkYTE2ZWRlNTQxY2E3OTUpOwoKICAgICAgICAgICAgCiAgICAgICAgCiAgICAKICAgICAgICAgICAgdmFyIGNpcmNsZV9tYXJrZXJfNWNjYWY5YjUyZWI0NDA3MzliMjhhOTBhMDhjYzgyNjUgPSBMLmNpcmNsZU1hcmtlcigKICAgICAgICAgICAgICAgIFs0MS44ODAyNjU3MjkxNTUxMzQsLTg3LjgzMzY1NDg4MDUyMzY4XSwKICAgICAgICAgICAgICAgIHsKICAiYnViYmxpbmdNb3VzZUV2ZW50cyI6IHRydWUsCiAgImNvbG9yIjogIiNmZjAwMDAiLAogICJkYXNoQXJyYXkiOiBudWxsLAogICJkYXNoT2Zmc2V0IjogbnVsbCwKICAiZmlsbCI6IHRydWUsCiAgImZpbGxDb2xvciI6ICIjZmYwMDAwIiwKICAiZmlsbE9wYWNpdHkiOiAwLjcsCiAgImZpbGxSdWxlIjogImV2ZW5vZGQiLAogICJsaW5lQ2FwIjogInJvdW5kIiwKICAibGluZUpvaW4iOiAicm91bmQiLAogICJvcGFjaXR5IjogMS4wLAogICJyYWRpdXMiOiA1LAogICJzdHJva2UiOiB0cnVlLAogICJ3ZWlnaHQiOiAzCn0KICAgICAgICAgICAgICAgICkuYWRkVG8obWFwX2I2MTc1ZmNmMWU1MzQ2NjZiY2Y3ODNkYjQ1YzQ0YzczKTsKICAgICAgICAgICAgCiAgICAKICAgICAgICAgICAgdmFyIHBvcHVwXzhhMjMwZGU2ZmI4NjQxYjQ4MWI4MjAxYTZjMWM5Njc4ID0gTC5wb3B1cCh7bWF4V2lkdGg6ICczMDAnfSk7CgogICAgICAgICAgICAKICAgICAgICAgICAgICAgIHZhciBodG1sXzlmZDNhMThhMzcyNjQxODE5NGRlZWU4YzljNWE1ZDk0ID0gJCgnPGRpdiBpZD0iaHRtbF85ZmQzYTE4YTM3MjY0MTgxOTRkZWVlOGM5YzVhNWQ5NCIgc3R5bGU9IndpZHRoOiAxMDAuMCU7IGhlaWdodDogMTAwLjAlOyI+UHJvdmlzbyBFYXN0IEhpZ2ggU2Nob29sIENsdXN0ZXIgMDwvZGl2PicpWzBdOwogICAgICAgICAgICAgICAgcG9wdXBfOGEyMzBkZTZmYjg2NDFiNDgxYjgyMDFhNmMxYzk2Nzguc2V0Q29udGVudChodG1sXzlmZDNhMThhMzcyNjQxODE5NGRlZWU4YzljNWE1ZDk0KTsKICAgICAgICAgICAgCgogICAgICAgICAgICBjaXJjbGVfbWFya2VyXzVjY2FmOWI1MmViNDQwNzM5YjI4YTkwYTA4Y2M4MjY1LmJpbmRQb3B1cChwb3B1cF84YTIzMGRlNmZiODY0MWI0ODFiODIwMWE2YzFjOTY3OCk7CgogICAgICAgICAgICAKICAgICAgICAKICAgIAogICAgICAgICAgICB2YXIgY2lyY2xlX21hcmtlcl9lYjVlZmZkMWMyNzA0MWMyOTVhYWEwZGFkZmQ1Yzc4YiA9IEwuY2lyY2xlTWFya2VyKAogICAgICAgICAgICAgICAgWzQxLjc1NDIwNDM2OTk2MjgxLC04Ny43NTc3NjM5MTI3MTg2XSwKICAgICAgICAgICAgICAgIHsKICAiYnViYmxpbmdNb3VzZUV2ZW50cyI6IHRydWUsCiAgImNvbG9yIjogIiNmZjAwMDAiLAogICJkYXNoQXJyYXkiOiBudWxsLAogICJkYXNoT2Zmc2V0IjogbnVsbCwKICAiZmlsbCI6IHRydWUsCiAgImZpbGxDb2xvciI6ICIjZmYwMDAwIiwKICAiZmlsbE9wYWNpdHkiOiAwLjcsCiAgImZpbGxSdWxlIjogImV2ZW5vZGQiLAogICJsaW5lQ2FwIjogInJvdW5kIiwKICAibGluZUpvaW4iOiAicm91bmQiLAogICJvcGFjaXR5IjogMS4wLAogICJyYWRpdXMiOiA1LAogICJzdHJva2UiOiB0cnVlLAogICJ3ZWlnaHQiOiAzCn0KICAgICAgICAgICAgICAgICkuYWRkVG8obWFwX2I2MTc1ZmNmMWU1MzQ2NjZiY2Y3ODNkYjQ1YzQ0YzczKTsKICAgICAgICAgICAgCiAgICAKICAgICAgICAgICAgdmFyIHBvcHVwX2RkNDEyNjE4MzljOTQ5MzM5ZDg5NjViM2U4NWMwZWY0ID0gTC5wb3B1cCh7bWF4V2lkdGg6ICczMDAnfSk7CgogICAgICAgICAgICAKICAgICAgICAgICAgICAgIHZhciBodG1sXzc0MDJmM2ZlYWQxMDQ1ZWE5YjVmZGMwMzcyZjgxMWNjID0gJCgnPGRpdiBpZD0iaHRtbF83NDAyZjNmZWFkMTA0NWVhOWI1ZmRjMDM3MmY4MTFjYyIgc3R5bGU9IndpZHRoOiAxMDAuMCU7IGhlaWdodDogMTAwLjAlOyI+UXVlZW4gb2YgUGVhY2UgSGlnaCBTY2hvb2wgQ2x1c3RlciAwPC9kaXY+JylbMF07CiAgICAgICAgICAgICAgICBwb3B1cF9kZDQxMjYxODM5Yzk0OTMzOWQ4OTY1YjNlODVjMGVmNC5zZXRDb250ZW50KGh0bWxfNzQwMmYzZmVhZDEwNDVlYTliNWZkYzAzNzJmODExY2MpOwogICAgICAgICAgICAKCiAgICAgICAgICAgIGNpcmNsZV9tYXJrZXJfZWI1ZWZmZDFjMjcwNDFjMjk1YWFhMGRhZGZkNWM3OGIuYmluZFBvcHVwKHBvcHVwX2RkNDEyNjE4MzljOTQ5MzM5ZDg5NjViM2U4NWMwZWY0KTsKCiAgICAgICAgICAgIAogICAgICAgIAogICAgCiAgICAgICAgICAgIHZhciBjaXJjbGVfbWFya2VyX2IxYTJmNzVmYTEyYzQwOTliNTJkNWY0YTBkZmU4MWM0ID0gTC5jaXJjbGVNYXJrZXIoCiAgICAgICAgICAgICAgICBbNDEuNzE3ODk4MzA0MDg5OTksLTg3LjYyMTI2Mjc3ODMzMTY4XSwKICAgICAgICAgICAgICAgIHsKICAiYnViYmxpbmdNb3VzZUV2ZW50cyI6IHRydWUsCiAgImNvbG9yIjogIiMwMGI1ZWIiLAogICJkYXNoQXJyYXkiOiBudWxsLAogICJkYXNoT2Zmc2V0IjogbnVsbCwKICAiZmlsbCI6IHRydWUsCiAgImZpbGxDb2xvciI6ICIjMDBiNWViIiwKICAiZmlsbE9wYWNpdHkiOiAwLjcsCiAgImZpbGxSdWxlIjogImV2ZW5vZGQiLAogICJsaW5lQ2FwIjogInJvdW5kIiwKICAibGluZUpvaW4iOiAicm91bmQiLAogICJvcGFjaXR5IjogMS4wLAogICJyYWRpdXMiOiA1LAogICJzdHJva2UiOiB0cnVlLAogICJ3ZWlnaHQiOiAzCn0KICAgICAgICAgICAgICAgICkuYWRkVG8obWFwX2I2MTc1ZmNmMWU1MzQ2NjZiY2Y3ODNkYjQ1YzQ0YzczKTsKICAgICAgICAgICAgCiAgICAKICAgICAgICAgICAgdmFyIHBvcHVwXzFiZjlkYjc0YmEzMzRiNjNhMjljMDM2ZDE0MDVkODk0ID0gTC5wb3B1cCh7bWF4V2lkdGg6ICczMDAnfSk7CgogICAgICAgICAgICAKICAgICAgICAgICAgICAgIHZhciBodG1sX2JkNDI4MWQ3OTMxNjQ5MTY5YzlmMmZlM2Q0YzE4Y2E0ID0gJCgnPGRpdiBpZD0iaHRtbF9iZDQyODFkNzkzMTY0OTE2OWM5ZjJmZTNkNGMxOGNhNCIgc3R5bGU9IndpZHRoOiAxMDAuMCU7IGhlaWdodDogMTAwLjAlOyI+SGFybGFuIEhpZ2ggU2Nob29sIENsdXN0ZXIgMjwvZGl2PicpWzBdOwogICAgICAgICAgICAgICAgcG9wdXBfMWJmOWRiNzRiYTMzNGI2M2EyOWMwMzZkMTQwNWQ4OTQuc2V0Q29udGVudChodG1sX2JkNDI4MWQ3OTMxNjQ5MTY5YzlmMmZlM2Q0YzE4Y2E0KTsKICAgICAgICAgICAgCgogICAgICAgICAgICBjaXJjbGVfbWFya2VyX2IxYTJmNzVmYTEyYzQwOTliNTJkNWY0YTBkZmU4MWM0LmJpbmRQb3B1cChwb3B1cF8xYmY5ZGI3NGJhMzM0YjYzYTI5YzAzNmQxNDA1ZDg5NCk7CgogICAgICAgICAgICAKICAgICAgICAKICAgIAogICAgICAgICAgICB2YXIgY2lyY2xlX21hcmtlcl9iNjhhMjBjZmU3Yjg0OTAxOWRiYjZlZGYwM2YyZmEzMiA9IEwuY2lyY2xlTWFya2VyKAogICAgICAgICAgICAgICAgWzQxLjkyMjQ3NjEwNzU0NDg2LC04Ny44Mjk5NTYyOTM1MzU2M10sCiAgICAgICAgICAgICAgICB7CiAgImJ1YmJsaW5nTW91c2VFdmVudHMiOiB0cnVlLAogICJjb2xvciI6ICIjZmYwMDAwIiwKICAiZGFzaEFycmF5IjogbnVsbCwKICAiZGFzaE9mZnNldCI6IG51bGwsCiAgImZpbGwiOiB0cnVlLAogICJmaWxsQ29sb3IiOiAiI2ZmMDAwMCIsCiAgImZpbGxPcGFjaXR5IjogMC43LAogICJmaWxsUnVsZSI6ICJldmVub2RkIiwKICAibGluZUNhcCI6ICJyb3VuZCIsCiAgImxpbmVKb2luIjogInJvdW5kIiwKICAib3BhY2l0eSI6IDEuMCwKICAicmFkaXVzIjogNSwKICAic3Ryb2tlIjogdHJ1ZSwKICAid2VpZ2h0IjogMwp9CiAgICAgICAgICAgICAgICApLmFkZFRvKG1hcF9iNjE3NWZjZjFlNTM0NjY2YmNmNzgzZGI0NWM0NGM3Myk7CiAgICAgICAgICAgIAogICAgCiAgICAgICAgICAgIHZhciBwb3B1cF9lZGJiNTkzMDJlMzE0YjkzYWQ5ODM3ODVjMzZhYTIzOCA9IEwucG9wdXAoe21heFdpZHRoOiAnMzAwJ30pOwoKICAgICAgICAgICAgCiAgICAgICAgICAgICAgICB2YXIgaHRtbF9kYzY3M2QwYzM4NzU0Mjk2YWY1OGYxNjAxMzc0YzMwYSA9ICQoJzxkaXYgaWQ9Imh0bWxfZGM2NzNkMGMzODc1NDI5NmFmNThmMTYwMTM3NGMzMGEiIHN0eWxlPSJ3aWR0aDogMTAwLjAlOyBoZWlnaHQ6IDEwMC4wJTsiPkVsbXdvb2QgUGFyayBIaWdoIFNjaG9vbCBDbHVzdGVyIDA8L2Rpdj4nKVswXTsKICAgICAgICAgICAgICAgIHBvcHVwX2VkYmI1OTMwMmUzMTRiOTNhZDk4Mzc4NWMzNmFhMjM4LnNldENvbnRlbnQoaHRtbF9kYzY3M2QwYzM4NzU0Mjk2YWY1OGYxNjAxMzc0YzMwYSk7CiAgICAgICAgICAgIAoKICAgICAgICAgICAgY2lyY2xlX21hcmtlcl9iNjhhMjBjZmU3Yjg0OTAxOWRiYjZlZGYwM2YyZmEzMi5iaW5kUG9wdXAocG9wdXBfZWRiYjU5MzAyZTMxNGI5M2FkOTgzNzg1YzM2YWEyMzgpOwoKICAgICAgICAgICAgCiAgICAgICAgCiAgICAKICAgICAgICAgICAgdmFyIGNpcmNsZV9tYXJrZXJfOTM2ZmJlNDliMDIzNGNiNmI5NDA4OTYzNmVjMjYzMmEgPSBMLmNpcmNsZU1hcmtlcigKICAgICAgICAgICAgICAgIFs0MS44Mjg1ODIzMTQyMjYzOTUsLTg3LjgzMTM5NTc5NTkyMzY4XSwKICAgICAgICAgICAgICAgIHsKICAiYnViYmxpbmdNb3VzZUV2ZW50cyI6IHRydWUsCiAgImNvbG9yIjogIiNmZjAwMDAiLAogICJkYXNoQXJyYXkiOiBudWxsLAogICJkYXNoT2Zmc2V0IjogbnVsbCwKICAiZmlsbCI6IHRydWUsCiAgImZpbGxDb2xvciI6ICIjZmYwMDAwIiwKICAiZmlsbE9wYWNpdHkiOiAwLjcsCiAgImZpbGxSdWxlIjogImV2ZW5vZGQiLAogICJsaW5lQ2FwIjogInJvdW5kIiwKICAibGluZUpvaW4iOiAicm91bmQiLAogICJvcGFjaXR5IjogMS4wLAogICJyYWRpdXMiOiA1LAogICJzdHJva2UiOiB0cnVlLAogICJ3ZWlnaHQiOiAzCn0KICAgICAgICAgICAgICAgICkuYWRkVG8obWFwX2I2MTc1ZmNmMWU1MzQ2NjZiY2Y3ODNkYjQ1YzQ0YzczKTsKICAgICAgICAgICAgCiAgICAKICAgICAgICAgICAgdmFyIHBvcHVwX2ZiZTM3YmY4NTI1NDQ0MWZhY2QxNGIzYmQ3N2E5OWI2ID0gTC5wb3B1cCh7bWF4V2lkdGg6ICczMDAnfSk7CgogICAgICAgICAgICAKICAgICAgICAgICAgICAgIHZhciBodG1sX2YyY2EyZDM5NjhmYjRmZTk5ZDNlNTJiMjQ3ZDRiZDhmID0gJCgnPGRpdiBpZD0iaHRtbF9mMmNhMmQzOTY4ZmI0ZmU5OWQzZTUyYjI0N2Q0YmQ4ZiIgc3R5bGU9IndpZHRoOiAxMDAuMCU7IGhlaWdodDogMTAwLjAlOyI+Uml2ZXJzaWRlIEJyb29rZmllbGQgSGlnaCBTY2hvb2wgQ2x1c3RlciAwPC9kaXY+JylbMF07CiAgICAgICAgICAgICAgICBwb3B1cF9mYmUzN2JmODUyNTQ0NDFmYWNkMTRiM2JkNzdhOTliNi5zZXRDb250ZW50KGh0bWxfZjJjYTJkMzk2OGZiNGZlOTlkM2U1MmIyNDdkNGJkOGYpOwogICAgICAgICAgICAKCiAgICAgICAgICAgIGNpcmNsZV9tYXJrZXJfOTM2ZmJlNDliMDIzNGNiNmI5NDA4OTYzNmVjMjYzMmEuYmluZFBvcHVwKHBvcHVwX2ZiZTM3YmY4NTI1NDQ0MWZhY2QxNGIzYmQ3N2E5OWI2KTsKCiAgICAgICAgICAgIAogICAgICAgIAogICAgCiAgICAgICAgICAgIHZhciBjaXJjbGVfbWFya2VyXzkwMjYyMDhhNWU3ZDQzY2M4ODU2ODAzZGVlOGM1NDU1ID0gTC5jaXJjbGVNYXJrZXIoCiAgICAgICAgICAgICAgICBbNDEuOTM3MDE0MDc3ODAyNjksLTg3LjgyODAxMjg5MjI3NzQ4XSwKICAgICAgICAgICAgICAgIHsKICAiYnViYmxpbmdNb3VzZUV2ZW50cyI6IHRydWUsCiAgImNvbG9yIjogIiNmZjAwMDAiLAogICJkYXNoQXJyYXkiOiBudWxsLAogICJkYXNoT2Zmc2V0IjogbnVsbCwKICAiZmlsbCI6IHRydWUsCiAgImZpbGxDb2xvciI6ICIjZmYwMDAwIiwKICAiZmlsbE9wYWNpdHkiOiAwLjcsCiAgImZpbGxSdWxlIjogImV2ZW5vZGQiLAogICJsaW5lQ2FwIjogInJvdW5kIiwKICAibGluZUpvaW4iOiAicm91bmQiLAogICJvcGFjaXR5IjogMS4wLAogICJyYWRpdXMiOiA1LAogICJzdHJva2UiOiB0cnVlLAogICJ3ZWlnaHQiOiAzCn0KICAgICAgICAgICAgICAgICkuYWRkVG8obWFwX2I2MTc1ZmNmMWU1MzQ2NjZiY2Y3ODNkYjQ1YzQ0YzczKTsKICAgICAgICAgICAgCiAgICAKICAgICAgICAgICAgdmFyIHBvcHVwXzJkZGI1YjAwNGRhNzRjMTBiODhlMTNlMWMyNDQzZTBmID0gTC5wb3B1cCh7bWF4V2lkdGg6ICczMDAnfSk7CgogICAgICAgICAgICAKICAgICAgICAgICAgICAgIHZhciBodG1sXzNiODY3MGVlMGRlNjQwZThiNGYzYzRkZGE3OTU3NDgxID0gJCgnPGRpdiBpZD0iaHRtbF8zYjg2NzBlZTBkZTY0MGU4YjRmM2M0ZGRhNzk1NzQ4MSIgc3R5bGU9IndpZHRoOiAxMDAuMCU7IGhlaWdodDogMTAwLjAlOyI+R3VlcmluIFByZXAgSGlnaCBTY2hvb2wgQ2x1c3RlciAwPC9kaXY+JylbMF07CiAgICAgICAgICAgICAgICBwb3B1cF8yZGRiNWIwMDRkYTc0YzEwYjg4ZTEzZTFjMjQ0M2UwZi5zZXRDb250ZW50KGh0bWxfM2I4NjcwZWUwZGU2NDBlOGI0ZjNjNGRkYTc5NTc0ODEpOwogICAgICAgICAgICAKCiAgICAgICAgICAgIGNpcmNsZV9tYXJrZXJfOTAyNjIwOGE1ZTdkNDNjYzg4NTY4MDNkZWU4YzU0NTUuYmluZFBvcHVwKHBvcHVwXzJkZGI1YjAwNGRhNzRjMTBiODhlMTNlMWMyNDQzZTBmKTsKCiAgICAgICAgICAgIAogICAgICAgIAogICAgCiAgICAgICAgICAgIHZhciBjaXJjbGVfbWFya2VyXzdlNDNmMzczODEzYTRhYzM5YzNkNjlhYzExMzY2ZmUyID0gTC5jaXJjbGVNYXJrZXIoCiAgICAgICAgICAgICAgICBbNDEuNzUzMzU5NzQwNzQxOTQsLTg3Ljc3MjMyODg1NjQ5MzhdLAogICAgICAgICAgICAgICAgewogICJidWJibGluZ01vdXNlRXZlbnRzIjogdHJ1ZSwKICAiY29sb3IiOiAiI2ZmMDAwMCIsCiAgImRhc2hBcnJheSI6IG51bGwsCiAgImRhc2hPZmZzZXQiOiBudWxsLAogICJmaWxsIjogdHJ1ZSwKICAiZmlsbENvbG9yIjogIiNmZjAwMDAiLAogICJmaWxsT3BhY2l0eSI6IDAuNywKICAiZmlsbFJ1bGUiOiAiZXZlbm9kZCIsCiAgImxpbmVDYXAiOiAicm91bmQiLAogICJsaW5lSm9pbiI6ICJyb3VuZCIsCiAgIm9wYWNpdHkiOiAxLjAsCiAgInJhZGl1cyI6IDUsCiAgInN0cm9rZSI6IHRydWUsCiAgIndlaWdodCI6IDMKfQogICAgICAgICAgICAgICAgKS5hZGRUbyhtYXBfYjYxNzVmY2YxZTUzNDY2NmJjZjc4M2RiNDVjNDRjNzMpOwogICAgICAgICAgICAKICAgIAogICAgICAgICAgICB2YXIgcG9wdXBfNDNhNDc3NTE1NDAxNDFlY2E5MjU2YWY1NjVhNjcxZWYgPSBMLnBvcHVwKHttYXhXaWR0aDogJzMwMCd9KTsKCiAgICAgICAgICAgIAogICAgICAgICAgICAgICAgdmFyIGh0bWxfMmUxMTZiYjE4MTViNDU3MzljNGY2Mzk4MmMwM2M5ZjUgPSAkKCc8ZGl2IGlkPSJodG1sXzJlMTE2YmIxODE1YjQ1NzM5YzRmNjM5ODJjMDNjOWY1IiBzdHlsZT0id2lkdGg6IDEwMC4wJTsgaGVpZ2h0OiAxMDAuMCU7Ij5SZWF2aXMgSGlnaCBTY2hvb2wgQ2x1c3RlciAwPC9kaXY+JylbMF07CiAgICAgICAgICAgICAgICBwb3B1cF80M2E0Nzc1MTU0MDE0MWVjYTkyNTZhZjU2NWE2NzFlZi5zZXRDb250ZW50KGh0bWxfMmUxMTZiYjE4MTViNDU3MzljNGY2Mzk4MmMwM2M5ZjUpOwogICAgICAgICAgICAKCiAgICAgICAgICAgIGNpcmNsZV9tYXJrZXJfN2U0M2YzNzM4MTNhNGFjMzljM2Q2OWFjMTEzNjZmZTIuYmluZFBvcHVwKHBvcHVwXzQzYTQ3NzUxNTQwMTQxZWNhOTI1NmFmNTY1YTY3MWVmKTsKCiAgICAgICAgICAgIAogICAgICAgIAogICAgCiAgICAgICAgICAgIHZhciBjaXJjbGVfbWFya2VyXzBmNjhhMDhiMGM4ZjQ2ZDViOGI4MzBiNWMxZDU3M2ZlID0gTC5jaXJjbGVNYXJrZXIoCiAgICAgICAgICAgICAgICBbNDEuOTYwNjA3MjAyNjEzMjYsLTg3LjgxNDQ2NDMzNTIyNjk3XSwKICAgICAgICAgICAgICAgIHsKICAiYnViYmxpbmdNb3VzZUV2ZW50cyI6IHRydWUsCiAgImNvbG9yIjogIiMwMGI1ZWIiLAogICJkYXNoQXJyYXkiOiBudWxsLAogICJkYXNoT2Zmc2V0IjogbnVsbCwKICAiZmlsbCI6IHRydWUsCiAgImZpbGxDb2xvciI6ICIjMDBiNWViIiwKICAiZmlsbE9wYWNpdHkiOiAwLjcsCiAgImZpbGxSdWxlIjogImV2ZW5vZGQiLAogICJsaW5lQ2FwIjogInJvdW5kIiwKICAibGluZUpvaW4iOiAicm91bmQiLAogICJvcGFjaXR5IjogMS4wLAogICJyYWRpdXMiOiA1LAogICJzdHJva2UiOiB0cnVlLAogICJ3ZWlnaHQiOiAzCn0KICAgICAgICAgICAgICAgICkuYWRkVG8obWFwX2I2MTc1ZmNmMWU1MzQ2NjZiY2Y3ODNkYjQ1YzQ0YzczKTsKICAgICAgICAgICAgCiAgICAKICAgICAgICAgICAgdmFyIHBvcHVwX2Q0YWQ0MGM5MGYxMzQ0NGM4NjI4NjA4ZDY4YjAyZDk3ID0gTC5wb3B1cCh7bWF4V2lkdGg6ICczMDAnfSk7CgogICAgICAgICAgICAKICAgICAgICAgICAgICAgIHZhciBodG1sXzlkMGZkOTliNTQyNDQxZWQ4MjVjMmJmYWM3OGM5NGQzID0gJCgnPGRpdiBpZD0iaHRtbF85ZDBmZDk5YjU0MjQ0MWVkODI1YzJiZmFjNzhjOTRkMyIgc3R5bGU9IndpZHRoOiAxMDAuMCU7IGhlaWdodDogMTAwLjAlOyI+UmlkZ2V3b29kIEhpZ2ggU2Nob29sIENsdXN0ZXIgMjwvZGl2PicpWzBdOwogICAgICAgICAgICAgICAgcG9wdXBfZDRhZDQwYzkwZjEzNDQ0Yzg2Mjg2MDhkNjhiMDJkOTcuc2V0Q29udGVudChodG1sXzlkMGZkOTliNTQyNDQxZWQ4MjVjMmJmYWM3OGM5NGQzKTsKICAgICAgICAgICAgCgogICAgICAgICAgICBjaXJjbGVfbWFya2VyXzBmNjhhMDhiMGM4ZjQ2ZDViOGI4MzBiNWMxZDU3M2ZlLmJpbmRQb3B1cChwb3B1cF9kNGFkNDBjOTBmMTM0NDRjODYyODYwOGQ2OGIwMmQ5Nyk7CgogICAgICAgICAgICAKICAgICAgICAKICAgIAogICAgICAgICAgICB2YXIgY2lyY2xlX21hcmtlcl82NmIyMWYyMzkxY2M0MjExYjYxNTcxMWUxN2VjOGRlMiA9IEwuY2lyY2xlTWFya2VyKAogICAgICAgICAgICAgICAgWzQxLjg5MzE1MDQ0NzA3MDQ5LC04Ny44NDUxNDMwMzg2MjU4OF0sCiAgICAgICAgICAgICAgICB7CiAgImJ1YmJsaW5nTW91c2VFdmVudHMiOiB0cnVlLAogICJjb2xvciI6ICIjZmYwMDAwIiwKICAiZGFzaEFycmF5IjogbnVsbCwKICAiZGFzaE9mZnNldCI6IG51bGwsCiAgImZpbGwiOiB0cnVlLAogICJmaWxsQ29sb3IiOiAiI2ZmMDAwMCIsCiAgImZpbGxPcGFjaXR5IjogMC43LAogICJmaWxsUnVsZSI6ICJldmVub2RkIiwKICAibGluZUNhcCI6ICJyb3VuZCIsCiAgImxpbmVKb2luIjogInJvdW5kIiwKICAib3BhY2l0eSI6IDEuMCwKICAicmFkaXVzIjogNSwKICAic3Ryb2tlIjogdHJ1ZSwKICAid2VpZ2h0IjogMwp9CiAgICAgICAgICAgICAgICApLmFkZFRvKG1hcF9iNjE3NWZjZjFlNTM0NjY2YmNmNzgzZGI0NWM0NGM3Myk7CiAgICAgICAgICAgIAogICAgCiAgICAgICAgICAgIHZhciBwb3B1cF8zN2UxMjJjOWE2NjM0NjE3OWQzMjY1YWVjZmMwMDFkYSA9IEwucG9wdXAoe21heFdpZHRoOiAnMzAwJ30pOwoKICAgICAgICAgICAgCiAgICAgICAgICAgICAgICB2YXIgaHRtbF9iY2YzNjM2ZTcyNWQ0MzhlODg5MWQ5OWQ2OWU2N2RiZiA9ICQoJzxkaXYgaWQ9Imh0bWxfYmNmMzYzNmU3MjVkNDM4ZTg4OTFkOTlkNjllNjdkYmYiIHN0eWxlPSJ3aWR0aDogMTAwLjAlOyBoZWlnaHQ6IDEwMC4wJTsiPldhbHRoZXIgQ2hyaXN0aWFuIEFjYWRlbXkgQ2x1c3RlciAwPC9kaXY+JylbMF07CiAgICAgICAgICAgICAgICBwb3B1cF8zN2UxMjJjOWE2NjM0NjE3OWQzMjY1YWVjZmMwMDFkYS5zZXRDb250ZW50KGh0bWxfYmNmMzYzNmU3MjVkNDM4ZTg4OTFkOTlkNjllNjdkYmYpOwogICAgICAgICAgICAKCiAgICAgICAgICAgIGNpcmNsZV9tYXJrZXJfNjZiMjFmMjM5MWNjNDIxMWI2MTU3MTFlMTdlYzhkZTIuYmluZFBvcHVwKHBvcHVwXzM3ZTEyMmM5YTY2MzQ2MTc5ZDMyNjVhZWNmYzAwMWRhKTsKCiAgICAgICAgICAgIAogICAgICAgIAogICAgCiAgICAgICAgICAgIHZhciBjaXJjbGVfbWFya2VyXzI4YjI5NWI1NDc5YjQyNjdiNTM0MDY0ZDFjMDgwZmQ1ID0gTC5jaXJjbGVNYXJrZXIoCiAgICAgICAgICAgICAgICBbNDEuOTg0MjA3MjYyMDEwNTksLTg3Ljc5MjM5MzAxNjM5MTc0XSwKICAgICAgICAgICAgICAgIHsKICAiYnViYmxpbmdNb3VzZUV2ZW50cyI6IHRydWUsCiAgImNvbG9yIjogIiNmZjAwMDAiLAogICJkYXNoQXJyYXkiOiBudWxsLAogICJkYXNoT2Zmc2V0IjogbnVsbCwKICAiZmlsbCI6IHRydWUsCiAgImZpbGxDb2xvciI6ICIjZmYwMDAwIiwKICAiZmlsbE9wYWNpdHkiOiAwLjcsCiAgImZpbGxSdWxlIjogImV2ZW5vZGQiLAogICJsaW5lQ2FwIjogInJvdW5kIiwKICAibGluZUpvaW4iOiAicm91bmQiLAogICJvcGFjaXR5IjogMS4wLAogICJyYWRpdXMiOiA1LAogICJzdHJva2UiOiB0cnVlLAogICJ3ZWlnaHQiOiAzCn0KICAgICAgICAgICAgICAgICkuYWRkVG8obWFwX2I2MTc1ZmNmMWU1MzQ2NjZiY2Y3ODNkYjQ1YzQ0YzczKTsKICAgICAgICAgICAgCiAgICAKICAgICAgICAgICAgdmFyIHBvcHVwX2YxNjIyOWQ3YzM5ODQ2NmVhODRmNzM0NDIxNWNmNTA2ID0gTC5wb3B1cCh7bWF4V2lkdGg6ICczMDAnfSk7CgogICAgICAgICAgICAKICAgICAgICAgICAgICAgIHZhciBodG1sXzU4Y2ExNGIyMTExNzRjMjQ4ZjcxMzg1ZWNkYTU3OWQzID0gJCgnPGRpdiBpZD0iaHRtbF81OGNhMTRiMjExMTc0YzI0OGY3MTM4NWVjZGE1NzlkMyIgc3R5bGU9IndpZHRoOiAxMDAuMCU7IGhlaWdodDogMTAwLjAlOyI+VGFmdCBIaWdoIFNjaG9vbCBDbHVzdGVyIDA8L2Rpdj4nKVswXTsKICAgICAgICAgICAgICAgIHBvcHVwX2YxNjIyOWQ3YzM5ODQ2NmVhODRmNzM0NDIxNWNmNTA2LnNldENvbnRlbnQoaHRtbF81OGNhMTRiMjExMTc0YzI0OGY3MTM4NWVjZGE1NzlkMyk7CiAgICAgICAgICAgIAoKICAgICAgICAgICAgY2lyY2xlX21hcmtlcl8yOGIyOTViNTQ3OWI0MjY3YjUzNDA2NGQxYzA4MGZkNS5iaW5kUG9wdXAocG9wdXBfZjE2MjI5ZDdjMzk4NDY2ZWE4NGY3MzQ0MjE1Y2Y1MDYpOwoKICAgICAgICAgICAgCiAgICAgICAgCiAgICAKICAgICAgICAgICAgdmFyIGNpcmNsZV9tYXJrZXJfMGZhMTc2OThlZmI4NGQxNjhiN2M3M2QzNDg5MDE0ODcgPSBMLmNpcmNsZU1hcmtlcigKICAgICAgICAgICAgICAgIFs0MS43MDcwNDY1NTQ4MTc5MzYsLTg3LjYwMjg5NzY0MzY1ODQ1XSwKICAgICAgICAgICAgICAgIHsKICAiYnViYmxpbmdNb3VzZUV2ZW50cyI6IHRydWUsCiAgImNvbG9yIjogIiNmZjAwMDAiLAogICJkYXNoQXJyYXkiOiBudWxsLAogICJkYXNoT2Zmc2V0IjogbnVsbCwKICAiZmlsbCI6IHRydWUsCiAgImZpbGxDb2xvciI6ICIjZmYwMDAwIiwKICAiZmlsbE9wYWNpdHkiOiAwLjcsCiAgImZpbGxSdWxlIjogImV2ZW5vZGQiLAogICJsaW5lQ2FwIjogInJvdW5kIiwKICAibGluZUpvaW4iOiAicm91bmQiLAogICJvcGFjaXR5IjogMS4wLAogICJyYWRpdXMiOiA1LAogICJzdHJva2UiOiB0cnVlLAogICJ3ZWlnaHQiOiAzCn0KICAgICAgICAgICAgICAgICkuYWRkVG8obWFwX2I2MTc1ZmNmMWU1MzQ2NjZiY2Y3ODNkYjQ1YzQ0YzczKTsKICAgICAgICAgICAgCiAgICAKICAgICAgICAgICAgdmFyIHBvcHVwXzIwNzUyZDRiODNjMjRkZDU4YzcxODcwYjJkMGIxMDJhID0gTC5wb3B1cCh7bWF4V2lkdGg6ICczMDAnfSk7CgogICAgICAgICAgICAKICAgICAgICAgICAgICAgIHZhciBodG1sX2E2OTBiOWQxODFlZDRlYzk5NGVkNmRmYjc1ZDM0ODQ1ID0gJCgnPGRpdiBpZD0iaHRtbF9hNjkwYjlkMTgxZWQ0ZWM5OTRlZDZkZmI3NWQzNDg0NSIgc3R5bGU9IndpZHRoOiAxMDAuMCU7IGhlaWdodDogMTAwLjAlOyI+Q29ybGlzcyBIaWdoIFNjaG9vbCBDbHVzdGVyIDA8L2Rpdj4nKVswXTsKICAgICAgICAgICAgICAgIHBvcHVwXzIwNzUyZDRiODNjMjRkZDU4YzcxODcwYjJkMGIxMDJhLnNldENvbnRlbnQoaHRtbF9hNjkwYjlkMTgxZWQ0ZWM5OTRlZDZkZmI3NWQzNDg0NSk7CiAgICAgICAgICAgIAoKICAgICAgICAgICAgY2lyY2xlX21hcmtlcl8wZmExNzY5OGVmYjg0ZDE2OGI3YzczZDM0ODkwMTQ4Ny5iaW5kUG9wdXAocG9wdXBfMjA3NTJkNGI4M2MyNGRkNThjNzE4NzBiMmQwYjEwMmEpOwoKICAgICAgICAgICAgCiAgICAgICAgCiAgICAKICAgICAgICAgICAgdmFyIGNpcmNsZV9tYXJrZXJfMmYxN2VhMzY0ZWM1NDkxOWJiNWVlZWIzYjk2MzY0YTMgPSBMLmNpcmNsZU1hcmtlcigKICAgICAgICAgICAgICAgIFs0Mi4wNDI2NjY4ODQ3MTkxOTYsLTg3LjY5MjkzNTYzMzMwNTNdLAogICAgICAgICAgICAgICAgewogICJidWJibGluZ01vdXNlRXZlbnRzIjogdHJ1ZSwKICAiY29sb3IiOiAiIzAwYjVlYiIsCiAgImRhc2hBcnJheSI6IG51bGwsCiAgImRhc2hPZmZzZXQiOiBudWxsLAogICJmaWxsIjogdHJ1ZSwKICAiZmlsbENvbG9yIjogIiMwMGI1ZWIiLAogICJmaWxsT3BhY2l0eSI6IDAuNywKICAiZmlsbFJ1bGUiOiAiZXZlbm9kZCIsCiAgImxpbmVDYXAiOiAicm91bmQiLAogICJsaW5lSm9pbiI6ICJyb3VuZCIsCiAgIm9wYWNpdHkiOiAxLjAsCiAgInJhZGl1cyI6IDUsCiAgInN0cm9rZSI6IHRydWUsCiAgIndlaWdodCI6IDMKfQogICAgICAgICAgICAgICAgKS5hZGRUbyhtYXBfYjYxNzVmY2YxZTUzNDY2NmJjZjc4M2RiNDVjNDRjNzMpOwogICAgICAgICAgICAKICAgIAogICAgICAgICAgICB2YXIgcG9wdXBfNTBjOGQwZDlmZjc2NDBjN2EzY2RkMGJjMzQ3YTdhZDEgPSBMLnBvcHVwKHttYXhXaWR0aDogJzMwMCd9KTsKCiAgICAgICAgICAgIAogICAgICAgICAgICAgICAgdmFyIGh0bWxfN2RmYjBjMmQ2MDZkNDQ5MjkxNjYwZDg2Yzg5ZmYwNTMgPSAkKCc8ZGl2IGlkPSJodG1sXzdkZmIwYzJkNjA2ZDQ0OTI5MTY2MGQ4NmM4OWZmMDUzIiBzdHlsZT0id2lkdGg6IDEwMC4wJTsgaGVpZ2h0OiAxMDAuMCU7Ij5FdmFuc3RvbiBUb3duc2hpcCBIaWdoIFNjaG9vbCBDbHVzdGVyIDI8L2Rpdj4nKVswXTsKICAgICAgICAgICAgICAgIHBvcHVwXzUwYzhkMGQ5ZmY3NjQwYzdhM2NkZDBiYzM0N2E3YWQxLnNldENvbnRlbnQoaHRtbF83ZGZiMGMyZDYwNmQ0NDkyOTE2NjBkODZjODlmZjA1Myk7CiAgICAgICAgICAgIAoKICAgICAgICAgICAgY2lyY2xlX21hcmtlcl8yZjE3ZWEzNjRlYzU0OTE5YmI1ZWVlYjNiOTYzNjRhMy5iaW5kUG9wdXAocG9wdXBfNTBjOGQwZDlmZjc2NDBjN2EzY2RkMGJjMzQ3YTdhZDEpOwoKICAgICAgICAgICAgCiAgICAgICAgCiAgICAKICAgICAgICAgICAgdmFyIGNpcmNsZV9tYXJrZXJfNzVmYmJlZGYxYjg5NDA5ZmE5ZWRmODE2ZTE1NmJkMjcgPSBMLmNpcmNsZU1hcmtlcigKICAgICAgICAgICAgICAgIFs0MS43MTIzMzMzMjYwNDAyMywtODcuNzE2NDQ2MjYwMzg0NDNdLAogICAgICAgICAgICAgICAgewogICJidWJibGluZ01vdXNlRXZlbnRzIjogdHJ1ZSwKICAiY29sb3IiOiAiI2ZmMDAwMCIsCiAgImRhc2hBcnJheSI6IG51bGwsCiAgImRhc2hPZmZzZXQiOiBudWxsLAogICJmaWxsIjogdHJ1ZSwKICAiZmlsbENvbG9yIjogIiNmZjAwMDAiLAogICJmaWxsT3BhY2l0eSI6IDAuNywKICAiZmlsbFJ1bGUiOiAiZXZlbm9kZCIsCiAgImxpbmVDYXAiOiAicm91bmQiLAogICJsaW5lSm9pbiI6ICJyb3VuZCIsCiAgIm9wYWNpdHkiOiAxLjAsCiAgInJhZGl1cyI6IDUsCiAgInN0cm9rZSI6IHRydWUsCiAgIndlaWdodCI6IDMKfQogICAgICAgICAgICAgICAgKS5hZGRUbyhtYXBfYjYxNzVmY2YxZTUzNDY2NmJjZjc4M2RiNDVjNDRjNzMpOwogICAgICAgICAgICAKICAgIAogICAgICAgICAgICB2YXIgcG9wdXBfNjViMGYzZDYzMWEzNDZjNTllZDRhZDBiNGU4YjY2ZjggPSBMLnBvcHVwKHttYXhXaWR0aDogJzMwMCd9KTsKCiAgICAgICAgICAgIAogICAgICAgICAgICAgICAgdmFyIGh0bWxfNDBkZGM3YTU1NWQ4NDdkNjkxY2QwZWM0MGQ2ZjA3NGYgPSAkKCc8ZGl2IGlkPSJodG1sXzQwZGRjN2E1NTVkODQ3ZDY5MWNkMGVjNDBkNmYwNzRmIiBzdHlsZT0id2lkdGg6IDEwMC4wJTsgaGVpZ2h0OiAxMDAuMCU7Ij5Nb3RoZXIgTWNBdWxleSBIaWdoIFNjaG9vbCBDbHVzdGVyIDA8L2Rpdj4nKVswXTsKICAgICAgICAgICAgICAgIHBvcHVwXzY1YjBmM2Q2MzFhMzQ2YzU5ZWQ0YWQwYjRlOGI2NmY4LnNldENvbnRlbnQoaHRtbF80MGRkYzdhNTU1ZDg0N2Q2OTFjZDBlYzQwZDZmMDc0Zik7CiAgICAgICAgICAgIAoKICAgICAgICAgICAgY2lyY2xlX21hcmtlcl83NWZiYmVkZjFiODk0MDlmYTllZGY4MTZlMTU2YmQyNy5iaW5kUG9wdXAocG9wdXBfNjViMGYzZDYzMWEzNDZjNTllZDRhZDBiNGU4YjY2ZjgpOwoKICAgICAgICAgICAgCiAgICAgICAgCiAgICAKICAgICAgICAgICAgdmFyIGNpcmNsZV9tYXJrZXJfZDFmNDcwMmU2Y2I2NDBkZmEwOTdhMjM5M2VmMGRkMzYgPSBMLmNpcmNsZU1hcmtlcigKICAgICAgICAgICAgICAgIFs0Mi4wNDIzNDg3MzQ2NDQyLC04Ny43MDgyODY5NDgyMDkyMl0sCiAgICAgICAgICAgICAgICB7CiAgImJ1YmJsaW5nTW91c2VFdmVudHMiOiB0cnVlLAogICJjb2xvciI6ICIjZmYwMDAwIiwKICAiZGFzaEFycmF5IjogbnVsbCwKICAiZGFzaE9mZnNldCI6IG51bGwsCiAgImZpbGwiOiB0cnVlLAogICJmaWxsQ29sb3IiOiAiI2ZmMDAwMCIsCiAgImZpbGxPcGFjaXR5IjogMC43LAogICJmaWxsUnVsZSI6ICJldmVub2RkIiwKICAibGluZUNhcCI6ICJyb3VuZCIsCiAgImxpbmVKb2luIjogInJvdW5kIiwKICAib3BhY2l0eSI6IDEuMCwKICAicmFkaXVzIjogNSwKICAic3Ryb2tlIjogdHJ1ZSwKICAid2VpZ2h0IjogMwp9CiAgICAgICAgICAgICAgICApLmFkZFRvKG1hcF9iNjE3NWZjZjFlNTM0NjY2YmNmNzgzZGI0NWM0NGM3Myk7CiAgICAgICAgICAgIAogICAgCiAgICAgICAgICAgIHZhciBwb3B1cF8xODIxMDNkNDZhNTA0OTI0YTNiY2IzMGEyZDM2OGMyMSA9IEwucG9wdXAoe21heFdpZHRoOiAnMzAwJ30pOwoKICAgICAgICAgICAgCiAgICAgICAgICAgICAgICB2YXIgaHRtbF8zNGJjMjA0OGU4OWM0ZmIzOTQzOWFhZGYyZDQ5NjA4YSA9ICQoJzxkaXYgaWQ9Imh0bWxfMzRiYzIwNDhlODljNGZiMzk0MzlhYWRmMmQ0OTYwOGEiIHN0eWxlPSJ3aWR0aDogMTAwLjAlOyBoZWlnaHQ6IDEwMC4wJTsiPktpbmcgTGFiIENsdXN0ZXIgMDwvZGl2PicpWzBdOwogICAgICAgICAgICAgICAgcG9wdXBfMTgyMTAzZDQ2YTUwNDkyNGEzYmNiMzBhMmQzNjhjMjEuc2V0Q29udGVudChodG1sXzM0YmMyMDQ4ZTg5YzRmYjM5NDM5YWFkZjJkNDk2MDhhKTsKICAgICAgICAgICAgCgogICAgICAgICAgICBjaXJjbGVfbWFya2VyX2QxZjQ3MDJlNmNiNjQwZGZhMDk3YTIzOTNlZjBkZDM2LmJpbmRQb3B1cChwb3B1cF8xODIxMDNkNDZhNTA0OTI0YTNiY2IzMGEyZDM2OGMyMSk7CgogICAgICAgICAgICAKICAgICAgICAKICAgIAogICAgICAgICAgICB2YXIgY2lyY2xlX21hcmtlcl8wYzQ2NjUwZWZmNzI0Mzc3YTFjNjhhZDIyYmNhZjQ0MCA9IEwuY2lyY2xlTWFya2VyKAogICAgICAgICAgICAgICAgWzQxLjcxMTI3MTA4OTA3NDc4LC04Ny43MjAzMzY5MTQwNjI1XSwKICAgICAgICAgICAgICAgIHsKICAiYnViYmxpbmdNb3VzZUV2ZW50cyI6IHRydWUsCiAgImNvbG9yIjogIiNmZjAwMDAiLAogICJkYXNoQXJyYXkiOiBudWxsLAogICJkYXNoT2Zmc2V0IjogbnVsbCwKICAiZmlsbCI6IHRydWUsCiAgImZpbGxDb2xvciI6ICIjZmYwMDAwIiwKICAiZmlsbE9wYWNpdHkiOiAwLjcsCiAgImZpbGxSdWxlIjogImV2ZW5vZGQiLAogICJsaW5lQ2FwIjogInJvdW5kIiwKICAibGluZUpvaW4iOiAicm91bmQiLAogICJvcGFjaXR5IjogMS4wLAogICJyYWRpdXMiOiA1LAogICJzdHJva2UiOiB0cnVlLAogICJ3ZWlnaHQiOiAzCn0KICAgICAgICAgICAgICAgICkuYWRkVG8obWFwX2I2MTc1ZmNmMWU1MzQ2NjZiY2Y3ODNkYjQ1YzQ0YzczKTsKICAgICAgICAgICAgCiAgICAKICAgICAgICAgICAgdmFyIHBvcHVwXzIwZjg3YTFjOTA3ZDRjYmU4OWZhZmI4MGM2OGQ5MTQxID0gTC5wb3B1cCh7bWF4V2lkdGg6ICczMDAnfSk7CgogICAgICAgICAgICAKICAgICAgICAgICAgICAgIHZhciBodG1sXzc5NTU2NmE0YjI5ZTQyNjhiMDI1ZGVhYjFjMjQyNTllID0gJCgnPGRpdiBpZD0iaHRtbF83OTU1NjZhNGIyOWU0MjY4YjAyNWRlYWIxYzI0MjU5ZSIgc3R5bGU9IndpZHRoOiAxMDAuMCU7IGhlaWdodDogMTAwLjAlOyI+QnJvdGhlciBSaWNlIEhpZ2ggU2Nob29sIENsdXN0ZXIgMDwvZGl2PicpWzBdOwogICAgICAgICAgICAgICAgcG9wdXBfMjBmODdhMWM5MDdkNGNiZTg5ZmFmYjgwYzY4ZDkxNDEuc2V0Q29udGVudChodG1sXzc5NTU2NmE0YjI5ZTQyNjhiMDI1ZGVhYjFjMjQyNTllKTsKICAgICAgICAgICAgCgogICAgICAgICAgICBjaXJjbGVfbWFya2VyXzBjNDY2NTBlZmY3MjQzNzdhMWM2OGFkMjJiY2FmNDQwLmJpbmRQb3B1cChwb3B1cF8yMGY4N2ExYzkwN2Q0Y2JlODlmYWZiODBjNjhkOTE0MSk7CgogICAgICAgICAgICAKICAgICAgICAKICAgIAogICAgICAgICAgICB2YXIgY2lyY2xlX21hcmtlcl80ZTEzMGE2YTFmZWI0MzBiYWYyZDM0NjZhZDk5YTEwNyA9IEwuY2lyY2xlTWFya2VyKAogICAgICAgICAgICAgICAgWzQxLjk5MTI3NTMzNTY0MzczNSwtODcuODE1Nzg0MzM0ODcwNzZdLAogICAgICAgICAgICAgICAgewogICJidWJibGluZ01vdXNlRXZlbnRzIjogdHJ1ZSwKICAiY29sb3IiOiAiI2ZmMDAwMCIsCiAgImRhc2hBcnJheSI6IG51bGwsCiAgImRhc2hPZmZzZXQiOiBudWxsLAogICJmaWxsIjogdHJ1ZSwKICAiZmlsbENvbG9yIjogIiNmZjAwMDAiLAogICJmaWxsT3BhY2l0eSI6IDAuNywKICAiZmlsbFJ1bGUiOiAiZXZlbm9kZCIsCiAgImxpbmVDYXAiOiAicm91bmQiLAogICJsaW5lSm9pbiI6ICJyb3VuZCIsCiAgIm9wYWNpdHkiOiAxLjAsCiAgInJhZGl1cyI6IDUsCiAgInN0cm9rZSI6IHRydWUsCiAgIndlaWdodCI6IDMKfQogICAgICAgICAgICAgICAgKS5hZGRUbyhtYXBfYjYxNzVmY2YxZTUzNDY2NmJjZjc4M2RiNDVjNDRjNzMpOwogICAgICAgICAgICAKICAgIAogICAgICAgICAgICB2YXIgcG9wdXBfMDE4OTg2ODIwMDNlNDlmNzhlN2VlYjZiYWIyMjlmMGMgPSBMLnBvcHVwKHttYXhXaWR0aDogJzMwMCd9KTsKCiAgICAgICAgICAgIAogICAgICAgICAgICAgICAgdmFyIGh0bWxfNGVlYWJlOTRkNDFkNDlkZGI3ZDRhMzFlZjNkMDY0YTcgPSAkKCc8ZGl2IGlkPSJodG1sXzRlZWFiZTk0ZDQxZDQ5ZGRiN2Q0YTMxZWYzZDA2NGE3IiBzdHlsZT0id2lkdGg6IDEwMC4wJTsgaGVpZ2h0OiAxMDAuMCU7Ij5SZXN1cnJlY3Rpb24gSGlnaCBTY2hvb2wgQ2x1c3RlciAwPC9kaXY+JylbMF07CiAgICAgICAgICAgICAgICBwb3B1cF8wMTg5ODY4MjAwM2U0OWY3OGU3ZWViNmJhYjIyOWYwYy5zZXRDb250ZW50KGh0bWxfNGVlYWJlOTRkNDFkNDlkZGI3ZDRhMzFlZjNkMDY0YTcpOwogICAgICAgICAgICAKCiAgICAgICAgICAgIGNpcmNsZV9tYXJrZXJfNGUxMzBhNmExZmViNDMwYmFmMmQzNDY2YWQ5OWExMDcuYmluZFBvcHVwKHBvcHVwXzAxODk4NjgyMDAzZTQ5Zjc4ZTdlZWI2YmFiMjI5ZjBjKTsKCiAgICAgICAgICAgIAogICAgICAgIAogICAgCiAgICAgICAgICAgIHZhciBjaXJjbGVfbWFya2VyXzM5YjE0ODk0YzI5YjRmOTk4NjEzNmNhZDc1YTY0Y2M3ID0gTC5jaXJjbGVNYXJrZXIoCiAgICAgICAgICAgICAgICBbNDIuMDI1NTMwNzc5NTI5MjU1LC04Ny43NzE3ODU5Mzg4MDY3NF0sCiAgICAgICAgICAgICAgICB7CiAgImJ1YmJsaW5nTW91c2VFdmVudHMiOiB0cnVlLAogICJjb2xvciI6ICIjZmYwMDAwIiwKICAiZGFzaEFycmF5IjogbnVsbCwKICAiZGFzaE9mZnNldCI6IG51bGwsCiAgImZpbGwiOiB0cnVlLAogICJmaWxsQ29sb3IiOiAiI2ZmMDAwMCIsCiAgImZpbGxPcGFjaXR5IjogMC43LAogICJmaWxsUnVsZSI6ICJldmVub2RkIiwKICAibGluZUNhcCI6ICJyb3VuZCIsCiAgImxpbmVKb2luIjogInJvdW5kIiwKICAib3BhY2l0eSI6IDEuMCwKICAicmFkaXVzIjogNSwKICAic3Ryb2tlIjogdHJ1ZSwKICAid2VpZ2h0IjogMwp9CiAgICAgICAgICAgICAgICApLmFkZFRvKG1hcF9iNjE3NWZjZjFlNTM0NjY2YmNmNzgzZGI0NWM0NGM3Myk7CiAgICAgICAgICAgIAogICAgCiAgICAgICAgICAgIHZhciBwb3B1cF9jZTEwZWQyMGEzOTA0ODI4YWViYjI3NTg1MGFkZWUxNSA9IEwucG9wdXAoe21heFdpZHRoOiAnMzAwJ30pOwoKICAgICAgICAgICAgCiAgICAgICAgICAgICAgICB2YXIgaHRtbF85NTNhYzJmMGE3Zjc0ZGM5OTk0MTliMmU0ZmZhNjFmMiA9ICQoJzxkaXYgaWQ9Imh0bWxfOTUzYWMyZjBhN2Y3NGRjOTk5NDE5YjJlNGZmYTYxZjIiIHN0eWxlPSJ3aWR0aDogMTAwLjAlOyBoZWlnaHQ6IDEwMC4wJTsiPk5pbGVzIFdlc3QgSGlnaCBTY2hvb2wgQ2x1c3RlciAwPC9kaXY+JylbMF07CiAgICAgICAgICAgICAgICBwb3B1cF9jZTEwZWQyMGEzOTA0ODI4YWViYjI3NTg1MGFkZWUxNS5zZXRDb250ZW50KGh0bWxfOTUzYWMyZjBhN2Y3NGRjOTk5NDE5YjJlNGZmYTYxZjIpOwogICAgICAgICAgICAKCiAgICAgICAgICAgIGNpcmNsZV9tYXJrZXJfMzliMTQ4OTRjMjliNGY5OTg2MTM2Y2FkNzVhNjRjYzcuYmluZFBvcHVwKHBvcHVwX2NlMTBlZDIwYTM5MDQ4MjhhZWJiMjc1ODUwYWRlZTE1KTsKCiAgICAgICAgICAgIAogICAgICAgIAogICAgCiAgICAgICAgICAgIHZhciBjaXJjbGVfbWFya2VyXzhiNmFhMGU1MDhkZTQ0MTdhY2M5ODRkYjU3NjQ3MWI3ID0gTC5jaXJjbGVNYXJrZXIoCiAgICAgICAgICAgICAgICBbNDEuNjg5OTg0MzA3OTcwMDMsLTg3LjYzNzg3NDA4Mjc3ODMyXSwKICAgICAgICAgICAgICAgIHsKICAiYnViYmxpbmdNb3VzZUV2ZW50cyI6IHRydWUsCiAgImNvbG9yIjogIiMwMGI1ZWIiLAogICJkYXNoQXJyYXkiOiBudWxsLAogICJkYXNoT2Zmc2V0IjogbnVsbCwKICAiZmlsbCI6IHRydWUsCiAgImZpbGxDb2xvciI6ICIjMDBiNWViIiwKICAiZmlsbE9wYWNpdHkiOiAwLjcsCiAgImZpbGxSdWxlIjogImV2ZW5vZGQiLAogICJsaW5lQ2FwIjogInJvdW5kIiwKICAibGluZUpvaW4iOiAicm91bmQiLAogICJvcGFjaXR5IjogMS4wLAogICJyYWRpdXMiOiA1LAogICJzdHJva2UiOiB0cnVlLAogICJ3ZWlnaHQiOiAzCn0KICAgICAgICAgICAgICAgICkuYWRkVG8obWFwX2I2MTc1ZmNmMWU1MzQ2NjZiY2Y3ODNkYjQ1YzQ0YzczKTsKICAgICAgICAgICAgCiAgICAKICAgICAgICAgICAgdmFyIHBvcHVwXzhlMjY0NzI0Y2NjOTRjNDQ4MTkzY2RkNTY5NDhjN2ZmID0gTC5wb3B1cCh7bWF4V2lkdGg6ICczMDAnfSk7CgogICAgICAgICAgICAKICAgICAgICAgICAgICAgIHZhciBodG1sXzg1ZjU1YWRiMjBjNTQ1MWY5NDZiNzhlNzZiMGNhOGJmID0gJCgnPGRpdiBpZD0iaHRtbF84NWY1NWFkYjIwYzU0NTFmOTQ2Yjc4ZTc2YjBjYThiZiIgc3R5bGU9IndpZHRoOiAxMDAuMCU7IGhlaWdodDogMTAwLjAlOyI+Q2hyaXN0aWFuIEZlbmdlciBIaWdoIFNjaG9vbCBDbHVzdGVyIDI8L2Rpdj4nKVswXTsKICAgICAgICAgICAgICAgIHBvcHVwXzhlMjY0NzI0Y2NjOTRjNDQ4MTkzY2RkNTY5NDhjN2ZmLnNldENvbnRlbnQoaHRtbF84NWY1NWFkYjIwYzU0NTFmOTQ2Yjc4ZTc2YjBjYThiZik7CiAgICAgICAgICAgIAoKICAgICAgICAgICAgY2lyY2xlX21hcmtlcl84YjZhYTBlNTA4ZGU0NDE3YWNjOTg0ZGI1NzY0NzFiNy5iaW5kUG9wdXAocG9wdXBfOGUyNjQ3MjRjY2M5NGM0NDgxOTNjZGQ1Njk0OGM3ZmYpOwoKICAgICAgICAgICAgCiAgICAgICAgCiAgICAKICAgICAgICAgICAgdmFyIGNpcmNsZV9tYXJrZXJfNzc0NjMwYWJmNTkwNDljOGFlNmY3ZjIzY2Y1NDcyOWQgPSBMLmNpcmNsZU1hcmtlcigKICAgICAgICAgICAgICAgIFs0MS42OTA4NzgxMzA3MjcyNCwtODcuNzE3MzI2NTcwMjMzMjNdLAogICAgICAgICAgICAgICAgewogICJidWJibGluZ01vdXNlRXZlbnRzIjogdHJ1ZSwKICAiY29sb3IiOiAiI2ZmMDAwMCIsCiAgImRhc2hBcnJheSI6IG51bGwsCiAgImRhc2hPZmZzZXQiOiBudWxsLAogICJmaWxsIjogdHJ1ZSwKICAiZmlsbENvbG9yIjogIiNmZjAwMDAiLAogICJmaWxsT3BhY2l0eSI6IDAuNywKICAiZmlsbFJ1bGUiOiAiZXZlbm9kZCIsCiAgImxpbmVDYXAiOiAicm91bmQiLAogICJsaW5lSm9pbiI6ICJyb3VuZCIsCiAgIm9wYWNpdHkiOiAxLjAsCiAgInJhZGl1cyI6IDUsCiAgInN0cm9rZSI6IHRydWUsCiAgIndlaWdodCI6IDMKfQogICAgICAgICAgICAgICAgKS5hZGRUbyhtYXBfYjYxNzVmY2YxZTUzNDY2NmJjZjc4M2RiNDVjNDRjNzMpOwogICAgICAgICAgICAKICAgIAogICAgICAgICAgICB2YXIgcG9wdXBfYjdkY2U1YTQzMTczNGNhZjgyMGI4YzZkZDBhZGI0YzIgPSBMLnBvcHVwKHttYXhXaWR0aDogJzMwMCd9KTsKCiAgICAgICAgICAgIAogICAgICAgICAgICAgICAgdmFyIGh0bWxfZDg1OWU5NjU0ODkzNGM5MmE1MTU1MTg5OWY0OTgxZTIgPSAkKCc8ZGl2IGlkPSJodG1sX2Q4NTllOTY1NDg5MzRjOTJhNTE1NTE4OTlmNDk4MWUyIiBzdHlsZT0id2lkdGg6IDEwMC4wJTsgaGVpZ2h0OiAxMDAuMCU7Ij5DaGljYWdvIEhpZ2ggU2Nob29sIG9mIEFncmljdWx0dXJhbCBTY2llbmNlcyAtIENoc2FzIENsdXN0ZXIgMDwvZGl2PicpWzBdOwogICAgICAgICAgICAgICAgcG9wdXBfYjdkY2U1YTQzMTczNGNhZjgyMGI4YzZkZDBhZGI0YzIuc2V0Q29udGVudChodG1sX2Q4NTllOTY1NDg5MzRjOTJhNTE1NTE4OTlmNDk4MWUyKTsKICAgICAgICAgICAgCgogICAgICAgICAgICBjaXJjbGVfbWFya2VyXzc3NDYzMGFiZjU5MDQ5YzhhZTZmN2YyM2NmNTQ3MjlkLmJpbmRQb3B1cChwb3B1cF9iN2RjZTVhNDMxNzM0Y2FmODIwYjhjNmRkMGFkYjRjMik7CgogICAgICAgICAgICAKICAgICAgICAKICAgIAogICAgICAgICAgICB2YXIgY2lyY2xlX21hcmtlcl85MDE5MzEzYTE5Y2E0Mjg1OWFjNDBkY2ZlOTA4OGRmNiA9IEwuY2lyY2xlTWFya2VyKAogICAgICAgICAgICAgICAgWzQxLjY4Nzg5NjE5MzYxMjUsLTg3LjUzODQxNDM4MTM3MzcxXSwKICAgICAgICAgICAgICAgIHsKICAiYnViYmxpbmdNb3VzZUV2ZW50cyI6IHRydWUsCiAgImNvbG9yIjogIiNmZjAwMDAiLAogICJkYXNoQXJyYXkiOiBudWxsLAogICJkYXNoT2Zmc2V0IjogbnVsbCwKICAiZmlsbCI6IHRydWUsCiAgImZpbGxDb2xvciI6ICIjZmYwMDAwIiwKICAiZmlsbE9wYWNpdHkiOiAwLjcsCiAgImZpbGxSdWxlIjogImV2ZW5vZGQiLAogICJsaW5lQ2FwIjogInJvdW5kIiwKICAibGluZUpvaW4iOiAicm91bmQiLAogICJvcGFjaXR5IjogMS4wLAogICJyYWRpdXMiOiA1LAogICJzdHJva2UiOiB0cnVlLAogICJ3ZWlnaHQiOiAzCn0KICAgICAgICAgICAgICAgICkuYWRkVG8obWFwX2I2MTc1ZmNmMWU1MzQ2NjZiY2Y3ODNkYjQ1YzQ0YzczKTsKICAgICAgICAgICAgCiAgICAKICAgICAgICAgICAgdmFyIHBvcHVwXzc3NjQ1OTQ5NWU4NTQzYmI4ZWQ4MWYxNWQxYzNmMzUzID0gTC5wb3B1cCh7bWF4V2lkdGg6ICczMDAnfSk7CgogICAgICAgICAgICAKICAgICAgICAgICAgICAgIHZhciBodG1sX2I0NWYzNzRlMTdmMDRlNWM5NDNlMmZmYThiMjI0YzQwID0gJCgnPGRpdiBpZD0iaHRtbF9iNDVmMzc0ZTE3ZjA0ZTVjOTQzZTJmZmE4YjIyNGM0MCIgc3R5bGU9IndpZHRoOiAxMDAuMCU7IGhlaWdodDogMTAwLjAlOyI+R2VvcmdlIFdhc2hpbmd0b24gSGlnaCBTY2hvb2wgQ2x1c3RlciAwPC9kaXY+JylbMF07CiAgICAgICAgICAgICAgICBwb3B1cF83NzY0NTk0OTVlODU0M2JiOGVkODFmMTVkMWMzZjM1My5zZXRDb250ZW50KGh0bWxfYjQ1ZjM3NGUxN2YwNGU1Yzk0M2UyZmZhOGIyMjRjNDApOwogICAgICAgICAgICAKCiAgICAgICAgICAgIGNpcmNsZV9tYXJrZXJfOTAxOTMxM2ExOWNhNDI4NTlhYzQwZGNmZTkwODhkZjYuYmluZFBvcHVwKHBvcHVwXzc3NjQ1OTQ5NWU4NTQzYmI4ZWQ4MWYxNWQxYzNmMzUzKTsKCiAgICAgICAgICAgIAogICAgICAgIAogICAgCiAgICAgICAgICAgIHZhciBjaXJjbGVfbWFya2VyX2JhZTliNWIwNjU5NjQ5MWE5NWIyNWU4NTU2OTFjYTRiID0gTC5jaXJjbGVNYXJrZXIoCiAgICAgICAgICAgICAgICBbNDEuODQ0NjkyNTU1NDM3MywtODcuODkwMDI3NDcxNzUzNjddLAogICAgICAgICAgICAgICAgewogICJidWJibGluZ01vdXNlRXZlbnRzIjogdHJ1ZSwKICAiY29sb3IiOiAiI2ZmMDAwMCIsCiAgImRhc2hBcnJheSI6IG51bGwsCiAgImRhc2hPZmZzZXQiOiBudWxsLAogICJmaWxsIjogdHJ1ZSwKICAiZmlsbENvbG9yIjogIiNmZjAwMDAiLAogICJmaWxsT3BhY2l0eSI6IDAuNywKICAiZmlsbFJ1bGUiOiAiZXZlbm9kZCIsCiAgImxpbmVDYXAiOiAicm91bmQiLAogICJsaW5lSm9pbiI6ICJyb3VuZCIsCiAgIm9wYWNpdHkiOiAxLjAsCiAgInJhZGl1cyI6IDUsCiAgInN0cm9rZSI6IHRydWUsCiAgIndlaWdodCI6IDMKfQogICAgICAgICAgICAgICAgKS5hZGRUbyhtYXBfYjYxNzVmY2YxZTUzNDY2NmJjZjc4M2RiNDVjNDRjNzMpOwogICAgICAgICAgICAKICAgIAogICAgICAgICAgICB2YXIgcG9wdXBfMDM3M2VlNGNhYjAyNDMyYTk2MWE5YTI2ZjU4ZWUyMDIgPSBMLnBvcHVwKHttYXhXaWR0aDogJzMwMCd9KTsKCiAgICAgICAgICAgIAogICAgICAgICAgICAgICAgdmFyIGh0bWxfMTY5Nzk1NTk1MDE1NDA1NGJkODkxMDViMTQ5YzVmOGQgPSAkKCc8ZGl2IGlkPSJodG1sXzE2OTc5NTU5NTAxNTQwNTRiZDg5MTA1YjE0OWM1ZjhkIiBzdHlsZT0id2lkdGg6IDEwMC4wJTsgaGVpZ2h0OiAxMDAuMCU7Ij5XZXN0Y2hlc3RlciBQcmltYXJ5IFNjaG9vbCBDbHVzdGVyIDA8L2Rpdj4nKVswXTsKICAgICAgICAgICAgICAgIHBvcHVwXzAzNzNlZTRjYWIwMjQzMmE5NjFhOWEyNmY1OGVlMjAyLnNldENvbnRlbnQoaHRtbF8xNjk3OTU1OTUwMTU0MDU0YmQ4OTEwNWIxNDljNWY4ZCk7CiAgICAgICAgICAgIAoKICAgICAgICAgICAgY2lyY2xlX21hcmtlcl9iYWU5YjViMDY1OTY0OTFhOTViMjVlODU1NjkxY2E0Yi5iaW5kUG9wdXAocG9wdXBfMDM3M2VlNGNhYjAyNDMyYTk2MWE5YTI2ZjU4ZWUyMDIpOwoKICAgICAgICAgICAgCiAgICAgICAgCiAgICAKICAgICAgICAgICAgdmFyIGNpcmNsZV9tYXJrZXJfODYyMWYxYjM4NTA1NDNmOTliNzRkNmY5MjliZjI1MTUgPSBMLmNpcmNsZU1hcmtlcigKICAgICAgICAgICAgICAgIFs0MS44MTIzODY5NDI3ODQ2NiwtODcuODgwNzUyNDI0NzUyNV0sCiAgICAgICAgICAgICAgICB7CiAgImJ1YmJsaW5nTW91c2VFdmVudHMiOiB0cnVlLAogICJjb2xvciI6ICIjZmYwMDAwIiwKICAiZGFzaEFycmF5IjogbnVsbCwKICAiZGFzaE9mZnNldCI6IG51bGwsCiAgImZpbGwiOiB0cnVlLAogICJmaWxsQ29sb3IiOiAiI2ZmMDAwMCIsCiAgImZpbGxPcGFjaXR5IjogMC43LAogICJmaWxsUnVsZSI6ICJldmVub2RkIiwKICAibGluZUNhcCI6ICJyb3VuZCIsCiAgImxpbmVKb2luIjogInJvdW5kIiwKICAib3BhY2l0eSI6IDEuMCwKICAicmFkaXVzIjogNSwKICAic3Ryb2tlIjogdHJ1ZSwKICAid2VpZ2h0IjogMwp9CiAgICAgICAgICAgICAgICApLmFkZFRvKG1hcF9iNjE3NWZjZjFlNTM0NjY2YmNmNzgzZGI0NWM0NGM3Myk7CiAgICAgICAgICAgIAogICAgCiAgICAgICAgICAgIHZhciBwb3B1cF83MDA2MGMxOGEwMDM0OTg1YjAxMDE0MTEwYThjZTRkMyA9IEwucG9wdXAoe21heFdpZHRoOiAnMzAwJ30pOwoKICAgICAgICAgICAgCiAgICAgICAgICAgICAgICB2YXIgaHRtbF9iZTJmMzlkYjNmNTg0MWY4OTk0M2MzODNlNWI1MThjMCA9ICQoJzxkaXYgaWQ9Imh0bWxfYmUyZjM5ZGIzZjU4NDFmODk5NDNjMzgzZTViNTE4YzAiIHN0eWxlPSJ3aWR0aDogMTAwLjAlOyBoZWlnaHQ6IDEwMC4wJTsiPkx5b25zIFRvd25zaGlwIEhpZ2ggU2Nob29sIE5vcnRoIENhbXB1cyBDbHVzdGVyIDA8L2Rpdj4nKVswXTsKICAgICAgICAgICAgICAgIHBvcHVwXzcwMDYwYzE4YTAwMzQ5ODViMDEwMTQxMTBhOGNlNGQzLnNldENvbnRlbnQoaHRtbF9iZTJmMzlkYjNmNTg0MWY4OTk0M2MzODNlNWI1MThjMCk7CiAgICAgICAgICAgIAoKICAgICAgICAgICAgY2lyY2xlX21hcmtlcl84NjIxZjFiMzg1MDU0M2Y5OWI3NGQ2ZjkyOWJmMjUxNS5iaW5kUG9wdXAocG9wdXBfNzAwNjBjMThhMDAzNDk4NWIwMTAxNDExMGE4Y2U0ZDMpOwoKICAgICAgICAgICAgCiAgICAgICAgCiAgICAKICAgICAgICAgICAgdmFyIGNpcmNsZV9tYXJrZXJfNmNkYzgxMDJiMGZkNDdhMThiYjEyNmY0ZjFmNzY0OWUgPSBMLmNpcmNsZU1hcmtlcigKICAgICAgICAgICAgICAgIFs0MS43MDAxNDMzODAyNDk3NywtODcuNzU5MDY2MzQ3MDQxMV0sCiAgICAgICAgICAgICAgICB7CiAgImJ1YmJsaW5nTW91c2VFdmVudHMiOiB0cnVlLAogICJjb2xvciI6ICIjZmYwMDAwIiwKICAiZGFzaEFycmF5IjogbnVsbCwKICAiZGFzaE9mZnNldCI6IG51bGwsCiAgImZpbGwiOiB0cnVlLAogICJmaWxsQ29sb3IiOiAiI2ZmMDAwMCIsCiAgImZpbGxPcGFjaXR5IjogMC43LAogICJmaWxsUnVsZSI6ICJldmVub2RkIiwKICAibGluZUNhcCI6ICJyb3VuZCIsCiAgImxpbmVKb2luIjogInJvdW5kIiwKICAib3BhY2l0eSI6IDEuMCwKICAicmFkaXVzIjogNSwKICAic3Ryb2tlIjogdHJ1ZSwKICAid2VpZ2h0IjogMwp9CiAgICAgICAgICAgICAgICApLmFkZFRvKG1hcF9iNjE3NWZjZjFlNTM0NjY2YmNmNzgzZGI0NWM0NGM3Myk7CiAgICAgICAgICAgIAogICAgCiAgICAgICAgICAgIHZhciBwb3B1cF84MjM4NTgzZGQ3ZTQ0MmE3ODdiMjFjNzhmNmQ2MDFmNyA9IEwucG9wdXAoe21heFdpZHRoOiAnMzAwJ30pOwoKICAgICAgICAgICAgCiAgICAgICAgICAgICAgICB2YXIgaHRtbF9kMmJjM2NlMTk4ZjQ0YjI1YjlmYTZiZWE4NjEyZWRmNCA9ICQoJzxkaXYgaWQ9Imh0bWxfZDJiYzNjZTE5OGY0NGIyNWI5ZmE2YmVhODYxMmVkZjQiIHN0eWxlPSJ3aWR0aDogMTAwLjAlOyBoZWlnaHQ6IDEwMC4wJTsiPlJpY2hhcmRzIEhTIEZvb3RiYWxsIGZpZWxkIENsdXN0ZXIgMDwvZGl2PicpWzBdOwogICAgICAgICAgICAgICAgcG9wdXBfODIzODU4M2RkN2U0NDJhNzg3YjIxYzc4ZjZkNjAxZjcuc2V0Q29udGVudChodG1sX2QyYmMzY2UxOThmNDRiMjViOWZhNmJlYTg2MTJlZGY0KTsKICAgICAgICAgICAgCgogICAgICAgICAgICBjaXJjbGVfbWFya2VyXzZjZGM4MTAyYjBmZDQ3YTE4YmIxMjZmNGYxZjc2NDllLmJpbmRQb3B1cChwb3B1cF84MjM4NTgzZGQ3ZTQ0MmE3ODdiMjFjNzhmNmQ2MDFmNyk7CgogICAgICAgICAgICAKICAgICAgICAKICAgIAogICAgICAgICAgICB2YXIgY2lyY2xlX21hcmtlcl8zMGJhZDgwODViMWI0YjBmODI4MWExY2I0NGM5MTkzMCA9IEwuY2lyY2xlTWFya2VyKAogICAgICAgICAgICAgICAgWzQxLjgyMDY5Njg5MTI0MzI2LC04Ny44ODY0NzQ4OTU1NTEwNl0sCiAgICAgICAgICAgICAgICB7CiAgImJ1YmJsaW5nTW91c2VFdmVudHMiOiB0cnVlLAogICJjb2xvciI6ICIjZmYwMDAwIiwKICAiZGFzaEFycmF5IjogbnVsbCwKICAiZGFzaE9mZnNldCI6IG51bGwsCiAgImZpbGwiOiB0cnVlLAogICJmaWxsQ29sb3IiOiAiI2ZmMDAwMCIsCiAgImZpbGxPcGFjaXR5IjogMC43LAogICJmaWxsUnVsZSI6ICJldmVub2RkIiwKICAibGluZUNhcCI6ICJyb3VuZCIsCiAgImxpbmVKb2luIjogInJvdW5kIiwKICAib3BhY2l0eSI6IDEuMCwKICAicmFkaXVzIjogNSwKICAic3Ryb2tlIjogdHJ1ZSwKICAid2VpZ2h0IjogMwp9CiAgICAgICAgICAgICAgICApLmFkZFRvKG1hcF9iNjE3NWZjZjFlNTM0NjY2YmNmNzgzZGI0NWM0NGM3Myk7CiAgICAgICAgICAgIAogICAgCiAgICAgICAgICAgIHZhciBwb3B1cF82YjcyZDc0MjdmODE0YWU0OTY1OTA5ODI1NDY5ZjBjZSA9IEwucG9wdXAoe21heFdpZHRoOiAnMzAwJ30pOwoKICAgICAgICAgICAgCiAgICAgICAgICAgICAgICB2YXIgaHRtbF9mNDNlMmUyZDU1MjU0MGJiYjJjNGViMTFjMWNkYzRmMiA9ICQoJzxkaXYgaWQ9Imh0bWxfZjQzZTJlMmQ1NTI1NDBiYmIyYzRlYjExYzFjZGM0ZjIiIHN0eWxlPSJ3aWR0aDogMTAwLjAlOyBoZWlnaHQ6IDEwMC4wJTsiPk5hemFyZXRoIEhpZ2ggU2Nob29sIENsdXN0ZXIgMDwvZGl2PicpWzBdOwogICAgICAgICAgICAgICAgcG9wdXBfNmI3MmQ3NDI3ZjgxNGFlNDk2NTkwOTgyNTQ2OWYwY2Uuc2V0Q29udGVudChodG1sX2Y0M2UyZTJkNTUyNTQwYmJiMmM0ZWIxMWMxY2RjNGYyKTsKICAgICAgICAgICAgCgogICAgICAgICAgICBjaXJjbGVfbWFya2VyXzMwYmFkODA4NWIxYjRiMGY4MjgxYTFjYjQ0YzkxOTMwLmJpbmRQb3B1cChwb3B1cF82YjcyZDc0MjdmODE0YWU0OTY1OTA5ODI1NDY5ZjBjZSk7CgogICAgICAgICAgICAKICAgICAgICAKICAgIAogICAgICAgICAgICB2YXIgY2lyY2xlX21hcmtlcl81NmM2ODk2YzMyMTg0MGEzYjQxMDc3MTdkNDA1N2QyMCA9IEwuY2lyY2xlTWFya2VyKAogICAgICAgICAgICAgICAgWzQxLjY5ODc1Nzc3NDI5NTI3LC04Ny43NTc4NDA4MTAyNTEyMV0sCiAgICAgICAgICAgICAgICB7CiAgImJ1YmJsaW5nTW91c2VFdmVudHMiOiB0cnVlLAogICJjb2xvciI6ICIjZmYwMDAwIiwKICAiZGFzaEFycmF5IjogbnVsbCwKICAiZGFzaE9mZnNldCI6IG51bGwsCiAgImZpbGwiOiB0cnVlLAogICJmaWxsQ29sb3IiOiAiI2ZmMDAwMCIsCiAgImZpbGxPcGFjaXR5IjogMC43LAogICJmaWxsUnVsZSI6ICJldmVub2RkIiwKICAibGluZUNhcCI6ICJyb3VuZCIsCiAgImxpbmVKb2luIjogInJvdW5kIiwKICAib3BhY2l0eSI6IDEuMCwKICAicmFkaXVzIjogNSwKICAic3Ryb2tlIjogdHJ1ZSwKICAid2VpZ2h0IjogMwp9CiAgICAgICAgICAgICAgICApLmFkZFRvKG1hcF9iNjE3NWZjZjFlNTM0NjY2YmNmNzgzZGI0NWM0NGM3Myk7CiAgICAgICAgICAgIAogICAgCiAgICAgICAgICAgIHZhciBwb3B1cF9jMjI5NDZiYWNiYzY0YzQ2OTcxMmZjZGE4MDAxY2IyNSA9IEwucG9wdXAoe21heFdpZHRoOiAnMzAwJ30pOwoKICAgICAgICAgICAgCiAgICAgICAgICAgICAgICB2YXIgaHRtbF9iMTQ1ZDlhYjAyOTg0NDMzOWMxZDYzOWI1MjZmNWJkNyA9ICQoJzxkaXYgaWQ9Imh0bWxfYjE0NWQ5YWIwMjk4NDQzMzljMWQ2MzliNTI2ZjViZDciIHN0eWxlPSJ3aWR0aDogMTAwLjAlOyBoZWlnaHQ6IDEwMC4wJTsiPkhhcm9sZCBMLiBSaWNoYXJkcyBIaWdoIFNjaG9vbCBDbHVzdGVyIDA8L2Rpdj4nKVswXTsKICAgICAgICAgICAgICAgIHBvcHVwX2MyMjk0NmJhY2JjNjRjNDY5NzEyZmNkYTgwMDFjYjI1LnNldENvbnRlbnQoaHRtbF9iMTQ1ZDlhYjAyOTg0NDMzOWMxZDYzOWI1MjZmNWJkNyk7CiAgICAgICAgICAgIAoKICAgICAgICAgICAgY2lyY2xlX21hcmtlcl81NmM2ODk2YzMyMTg0MGEzYjQxMDc3MTdkNDA1N2QyMC5iaW5kUG9wdXAocG9wdXBfYzIyOTQ2YmFjYmM2NGM0Njk3MTJmY2RhODAwMWNiMjUpOwoKICAgICAgICAgICAgCiAgICAgICAgCiAgICAKICAgICAgICAgICAgdmFyIGNpcmNsZV9tYXJrZXJfNWY4NWIxMGQ5YzZkNDhkMWIzNzRiZWE4YzllZTQwN2IgPSBMLmNpcmNsZU1hcmtlcigKICAgICAgICAgICAgICAgIFs0MS42ODQ1NDQwMzAwODMwOTYsLTg3LjcyMzUzNjM1ODQ5NDM0XSwKICAgICAgICAgICAgICAgIHsKICAiYnViYmxpbmdNb3VzZUV2ZW50cyI6IHRydWUsCiAgImNvbG9yIjogIiNmZjAwMDAiLAogICJkYXNoQXJyYXkiOiBudWxsLAogICJkYXNoT2Zmc2V0IjogbnVsbCwKICAiZmlsbCI6IHRydWUsCiAgImZpbGxDb2xvciI6ICIjZmYwMDAwIiwKICAiZmlsbE9wYWNpdHkiOiAwLjcsCiAgImZpbGxSdWxlIjogImV2ZW5vZGQiLAogICJsaW5lQ2FwIjogInJvdW5kIiwKICAibGluZUpvaW4iOiAicm91bmQiLAogICJvcGFjaXR5IjogMS4wLAogICJyYWRpdXMiOiA1LAogICJzdHJva2UiOiB0cnVlLAogICJ3ZWlnaHQiOiAzCn0KICAgICAgICAgICAgICAgICkuYWRkVG8obWFwX2I2MTc1ZmNmMWU1MzQ2NjZiY2Y3ODNkYjQ1YzQ0YzczKTsKICAgICAgICAgICAgCiAgICAKICAgICAgICAgICAgdmFyIHBvcHVwX2Q4N2Q4MmM2MzI2MDQ5MGJiYzRhNTczNzQ4ODFlOTdlID0gTC5wb3B1cCh7bWF4V2lkdGg6ICczMDAnfSk7CgogICAgICAgICAgICAKICAgICAgICAgICAgICAgIHZhciBodG1sX2VkZTYzNDlhZTRmYTQzNGE4YWYzNDY0YWJmOTA3MmJiID0gJCgnPGRpdiBpZD0iaHRtbF9lZGU2MzQ5YWU0ZmE0MzRhOGFmMzQ2NGFiZjkwNzJiYiIgc3R5bGU9IndpZHRoOiAxMDAuMCU7IGhlaWdodDogMTAwLjAlOyI+TWFyaXN0IEhpZ2ggU2Nob29sIENsdXN0ZXIgMDwvZGl2PicpWzBdOwogICAgICAgICAgICAgICAgcG9wdXBfZDg3ZDgyYzYzMjYwNDkwYmJjNGE1NzM3NDg4MWU5N2Uuc2V0Q29udGVudChodG1sX2VkZTYzNDlhZTRmYTQzNGE4YWYzNDY0YWJmOTA3MmJiKTsKICAgICAgICAgICAgCgogICAgICAgICAgICBjaXJjbGVfbWFya2VyXzVmODViMTBkOWM2ZDQ4ZDFiMzc0YmVhOGM5ZWU0MDdiLmJpbmRQb3B1cChwb3B1cF9kODdkODJjNjMyNjA0OTBiYmM0YTU3Mzc0ODgxZTk3ZSk7CgogICAgICAgICAgICAKICAgICAgICAKICAgIAogICAgICAgICAgICB2YXIgY2lyY2xlX21hcmtlcl84MzNhYTliNmY1MGE0MDU2Yjk4N2U4ZjcyZjlkYTVlMiA9IEwuY2lyY2xlTWFya2VyKAogICAgICAgICAgICAgICAgWzQyLjAwMjM2MTMyMDU0MzQ4NiwtODcuODU0MTgxNzc5NjM0MzJdLAogICAgICAgICAgICAgICAgewogICJidWJibGluZ01vdXNlRXZlbnRzIjogdHJ1ZSwKICAiY29sb3IiOiAiI2ZmMDAwMCIsCiAgImRhc2hBcnJheSI6IG51bGwsCiAgImRhc2hPZmZzZXQiOiBudWxsLAogICJmaWxsIjogdHJ1ZSwKICAiZmlsbENvbG9yIjogIiNmZjAwMDAiLAogICJmaWxsT3BhY2l0eSI6IDAuNywKICAiZmlsbFJ1bGUiOiAiZXZlbm9kZCIsCiAgImxpbmVDYXAiOiAicm91bmQiLAogICJsaW5lSm9pbiI6ICJyb3VuZCIsCiAgIm9wYWNpdHkiOiAxLjAsCiAgInJhZGl1cyI6IDUsCiAgInN0cm9rZSI6IHRydWUsCiAgIndlaWdodCI6IDMKfQogICAgICAgICAgICAgICAgKS5hZGRUbyhtYXBfYjYxNzVmY2YxZTUzNDY2NmJjZjc4M2RiNDVjNDRjNzMpOwogICAgICAgICAgICAKICAgIAogICAgICAgICAgICB2YXIgcG9wdXBfODZlZjQzNzk1NTZkNGY2OTk2NzMzZTg2MGQ3NzA0YWYgPSBMLnBvcHVwKHttYXhXaWR0aDogJzMwMCd9KTsKCiAgICAgICAgICAgIAogICAgICAgICAgICAgICAgdmFyIGh0bWxfM2I3MzhlNzY5ZDIzNGE0NDg4YjZkMDkxNmVjNWM5MTkgPSAkKCc8ZGl2IGlkPSJodG1sXzNiNzM4ZTc2OWQyMzRhNDQ4OGI2ZDA5MTZlYzVjOTE5IiBzdHlsZT0id2lkdGg6IDEwMC4wJTsgaGVpZ2h0OiAxMDAuMCU7Ij5NYWluZSBTb3V0aCBIaWdoIFNjaG9vbCBDbHVzdGVyIDA8L2Rpdj4nKVswXTsKICAgICAgICAgICAgICAgIHBvcHVwXzg2ZWY0Mzc5NTU2ZDRmNjk5NjczM2U4NjBkNzcwNGFmLnNldENvbnRlbnQoaHRtbF8zYjczOGU3NjlkMjM0YTQ0ODhiNmQwOTE2ZWM1YzkxOSk7CiAgICAgICAgICAgIAoKICAgICAgICAgICAgY2lyY2xlX21hcmtlcl84MzNhYTliNmY1MGE0MDU2Yjk4N2U4ZjcyZjlkYTVlMi5iaW5kUG9wdXAocG9wdXBfODZlZjQzNzk1NTZkNGY2OTk2NzMzZTg2MGQ3NzA0YWYpOwoKICAgICAgICAgICAgCiAgICAgICAgCiAgICAKICAgICAgICAgICAgdmFyIGNpcmNsZV9tYXJrZXJfODYyNGI3Y2FhZjkyNDY0YWFmMDgxOGE2MmY5NjQyNDEgPSBMLmNpcmNsZU1hcmtlcigKICAgICAgICAgICAgICAgIFs0MS45MjY3MDU1NTM1NzIyMiwtODcuOTA0ODU0NzA2MDYxMTRdLAogICAgICAgICAgICAgICAgewogICJidWJibGluZ01vdXNlRXZlbnRzIjogdHJ1ZSwKICAiY29sb3IiOiAiI2ZmMDAwMCIsCiAgImRhc2hBcnJheSI6IG51bGwsCiAgImRhc2hPZmZzZXQiOiBudWxsLAogICJmaWxsIjogdHJ1ZSwKICAiZmlsbENvbG9yIjogIiNmZjAwMDAiLAogICJmaWxsT3BhY2l0eSI6IDAuNywKICAiZmlsbFJ1bGUiOiAiZXZlbm9kZCIsCiAgImxpbmVDYXAiOiAicm91bmQiLAogICJsaW5lSm9pbiI6ICJyb3VuZCIsCiAgIm9wYWNpdHkiOiAxLjAsCiAgInJhZGl1cyI6IDUsCiAgInN0cm9rZSI6IHRydWUsCiAgIndlaWdodCI6IDMKfQogICAgICAgICAgICAgICAgKS5hZGRUbyhtYXBfYjYxNzVmY2YxZTUzNDY2NmJjZjc4M2RiNDVjNDRjNzMpOwogICAgICAgICAgICAKICAgIAogICAgICAgICAgICB2YXIgcG9wdXBfMTg2N2FlZTY1YjAzNGY2YzlmODViZWJhNWVkMDE5NjcgPSBMLnBvcHVwKHttYXhXaWR0aDogJzMwMCd9KTsKCiAgICAgICAgICAgIAogICAgICAgICAgICAgICAgdmFyIGh0bWxfNDU4MWI1YTljNmI5NDcwM2E1YTgzZDQyY2I0MWYwMmIgPSAkKCc8ZGl2IGlkPSJodG1sXzQ1ODFiNWE5YzZiOTQ3MDNhNWE4M2Q0MmNiNDFmMDJiIiBzdHlsZT0id2lkdGg6IDEwMC4wJTsgaGVpZ2h0OiAxMDAuMCU7Ij5XZXN0IExleWRlbiBIaWdoIFNjaG9vbCBDbHVzdGVyIDA8L2Rpdj4nKVswXTsKICAgICAgICAgICAgICAgIHBvcHVwXzE4NjdhZWU2NWIwMzRmNmM5Zjg1YmViYTVlZDAxOTY3LnNldENvbnRlbnQoaHRtbF80NTgxYjVhOWM2Yjk0NzAzYTVhODNkNDJjYjQxZjAyYik7CiAgICAgICAgICAgIAoKICAgICAgICAgICAgY2lyY2xlX21hcmtlcl84NjI0YjdjYWFmOTI0NjRhYWYwODE4YTYyZjk2NDI0MS5iaW5kUG9wdXAocG9wdXBfMTg2N2FlZTY1YjAzNGY2YzlmODViZWJhNWVkMDE5NjcpOwoKICAgICAgICAgICAgCiAgICAgICAgCiAgICAKICAgICAgICAgICAgdmFyIGNpcmNsZV9tYXJrZXJfNGMwODhiOWU3MmI5NDVhNWFmZGMzODY1NmMzNjlmYmMgPSBMLmNpcmNsZU1hcmtlcigKICAgICAgICAgICAgICAgIFs0MS42Nzk4MDQ4ODc5NjkzNSwtODcuNTAxNTg2MjMxOTk0OTVdLAogICAgICAgICAgICAgICAgewogICJidWJibGluZ01vdXNlRXZlbnRzIjogdHJ1ZSwKICAiY29sb3IiOiAiI2ZmMDAwMCIsCiAgImRhc2hBcnJheSI6IG51bGwsCiAgImRhc2hPZmZzZXQiOiBudWxsLAogICJmaWxsIjogdHJ1ZSwKICAiZmlsbENvbG9yIjogIiNmZjAwMDAiLAogICJmaWxsT3BhY2l0eSI6IDAuNywKICAiZmlsbFJ1bGUiOiAiZXZlbm9kZCIsCiAgImxpbmVDYXAiOiAicm91bmQiLAogICJsaW5lSm9pbiI6ICJyb3VuZCIsCiAgIm9wYWNpdHkiOiAxLjAsCiAgInJhZGl1cyI6IDUsCiAgInN0cm9rZSI6IHRydWUsCiAgIndlaWdodCI6IDMKfQogICAgICAgICAgICAgICAgKS5hZGRUbyhtYXBfYjYxNzVmY2YxZTUzNDY2NmJjZjc4M2RiNDVjNDRjNzMpOwogICAgICAgICAgICAKICAgIAogICAgICAgICAgICB2YXIgcG9wdXBfNzc0NWExYjcxYmNhNDFhNjkxMjZiMThiM2FlYWUyMTQgPSBMLnBvcHVwKHttYXhXaWR0aDogJzMwMCd9KTsKCiAgICAgICAgICAgIAogICAgICAgICAgICAgICAgdmFyIGh0bWxfOTFmMzc4ZjgwOTMwNDUyMjhjN2VhNWE1ZGY3NGM5MTMgPSAkKCc8ZGl2IGlkPSJodG1sXzkxZjM3OGY4MDkzMDQ1MjI4YzdlYTVhNWRmNzRjOTEzIiBzdHlsZT0id2lkdGg6IDEwMC4wJTsgaGVpZ2h0OiAxMDAuMCU7Ij5TdC4gSm9obiB0aGUgQmFwdGlzdCBDYXRob2xpYyBTY2hvb2wgQ2x1c3RlciAwPC9kaXY+JylbMF07CiAgICAgICAgICAgICAgICBwb3B1cF83NzQ1YTFiNzFiY2E0MWE2OTEyNmIxOGIzYWVhZTIxNC5zZXRDb250ZW50KGh0bWxfOTFmMzc4ZjgwOTMwNDUyMjhjN2VhNWE1ZGY3NGM5MTMpOwogICAgICAgICAgICAKCiAgICAgICAgICAgIGNpcmNsZV9tYXJrZXJfNGMwODhiOWU3MmI5NDVhNWFmZGMzODY1NmMzNjlmYmMuYmluZFBvcHVwKHBvcHVwXzc3NDVhMWI3MWJjYTQxYTY5MTI2YjE4YjNhZWFlMjE0KTsKCiAgICAgICAgICAgIAogICAgICAgIAogICAgCiAgICAgICAgICAgIHZhciBjaXJjbGVfbWFya2VyX2QzMTQzMzdlNzUwYTQ2YTc4YWIzZWM4MzkzYWJmOGIzID0gTC5jaXJjbGVNYXJrZXIoCiAgICAgICAgICAgICAgICBbNDIuMDM5MTkwMTE2MDUyOTY0LC04Ny44MTg0MDk4MTkxOTk4MV0sCiAgICAgICAgICAgICAgICB7CiAgImJ1YmJsaW5nTW91c2VFdmVudHMiOiB0cnVlLAogICJjb2xvciI6ICIjZmYwMDAwIiwKICAiZGFzaEFycmF5IjogbnVsbCwKICAiZGFzaE9mZnNldCI6IG51bGwsCiAgImZpbGwiOiB0cnVlLAogICJmaWxsQ29sb3IiOiAiI2ZmMDAwMCIsCiAgImZpbGxPcGFjaXR5IjogMC43LAogICJmaWxsUnVsZSI6ICJldmVub2RkIiwKICAibGluZUNhcCI6ICJyb3VuZCIsCiAgImxpbmVKb2luIjogInJvdW5kIiwKICAib3BhY2l0eSI6IDEuMCwKICAicmFkaXVzIjogNSwKICAic3Ryb2tlIjogdHJ1ZSwKICAid2VpZ2h0IjogMwp9CiAgICAgICAgICAgICAgICApLmFkZFRvKG1hcF9iNjE3NWZjZjFlNTM0NjY2YmNmNzgzZGI0NWM0NGM3Myk7CiAgICAgICAgICAgIAogICAgCiAgICAgICAgICAgIHZhciBwb3B1cF9lZWU4MWNiZDAwZjE0N2FkYThmYTE1MThmNjdkMzViZSA9IEwucG9wdXAoe21heFdpZHRoOiAnMzAwJ30pOwoKICAgICAgICAgICAgCiAgICAgICAgICAgICAgICB2YXIgaHRtbF8zMjBiOTMyNTliYjg0Yjc4YTE5NDYxNjE0YTUzNDE0NCA9ICQoJzxkaXYgaWQ9Imh0bWxfMzIwYjkzMjU5YmI4NGI3OGExOTQ2MTYxNGE1MzQxNDQiIHN0eWxlPSJ3aWR0aDogMTAwLjAlOyBoZWlnaHQ6IDEwMC4wJTsiPk5vdHJlIERhbWUgQ29sbGVnZSBQcmVwIENsdXN0ZXIgMDwvZGl2PicpWzBdOwogICAgICAgICAgICAgICAgcG9wdXBfZWVlODFjYmQwMGYxNDdhZGE4ZmExNTE4ZjY3ZDM1YmUuc2V0Q29udGVudChodG1sXzMyMGI5MzI1OWJiODRiNzhhMTk0NjE2MTRhNTM0MTQ0KTsKICAgICAgICAgICAgCgogICAgICAgICAgICBjaXJjbGVfbWFya2VyX2QzMTQzMzdlNzUwYTQ2YTc4YWIzZWM4MzkzYWJmOGIzLmJpbmRQb3B1cChwb3B1cF9lZWU4MWNiZDAwZjE0N2FkYThmYTE1MThmNjdkMzViZSk7CgogICAgICAgICAgICAKICAgICAgICAKICAgIAogICAgICAgICAgICB2YXIgY2lyY2xlX21hcmtlcl8zZjM0MmUzYzU1Y2Q0NWJlOGY2ODkyYzljYmU0MjRlZCA9IEwuY2lyY2xlTWFya2VyKAogICAgICAgICAgICAgICAgWzQyLjA3NTE4MjY0OTEwNjYxNSwtODcuNzQ0MzE5MjU1MTIzMDVdLAogICAgICAgICAgICAgICAgewogICJidWJibGluZ01vdXNlRXZlbnRzIjogdHJ1ZSwKICAiY29sb3IiOiAiI2ZmMDAwMCIsCiAgImRhc2hBcnJheSI6IG51bGwsCiAgImRhc2hPZmZzZXQiOiBudWxsLAogICJmaWxsIjogdHJ1ZSwKICAiZmlsbENvbG9yIjogIiNmZjAwMDAiLAogICJmaWxsT3BhY2l0eSI6IDAuNywKICAiZmlsbFJ1bGUiOiAiZXZlbm9kZCIsCiAgImxpbmVDYXAiOiAicm91bmQiLAogICJsaW5lSm9pbiI6ICJyb3VuZCIsCiAgIm9wYWNpdHkiOiAxLjAsCiAgInJhZGl1cyI6IDUsCiAgInN0cm9rZSI6IHRydWUsCiAgIndlaWdodCI6IDMKfQogICAgICAgICAgICAgICAgKS5hZGRUbyhtYXBfYjYxNzVmY2YxZTUzNDY2NmJjZjc4M2RiNDVjNDRjNzMpOwogICAgICAgICAgICAKICAgIAogICAgICAgICAgICB2YXIgcG9wdXBfNzdmODk0MGUxZmYzNGZhM2FhODcyYjk1NmEwZDU3YWIgPSBMLnBvcHVwKHttYXhXaWR0aDogJzMwMCd9KTsKCiAgICAgICAgICAgIAogICAgICAgICAgICAgICAgdmFyIGh0bWxfYzU4ZDNjMjcxNDhlNGVmM2EwZjcwNDJjNDBjYjRhYzcgPSAkKCc8ZGl2IGlkPSJodG1sX2M1OGQzYzI3MTQ4ZTRlZjNhMGY3MDQyYzQwY2I0YWM3IiBzdHlsZT0id2lkdGg6IDEwMC4wJTsgaGVpZ2h0OiAxMDAuMCU7Ij5SZWdpbmEgRG9taW5pY2FuIEhpZ2ggU2Nob29sIENsdXN0ZXIgMDwvZGl2PicpWzBdOwogICAgICAgICAgICAgICAgcG9wdXBfNzdmODk0MGUxZmYzNGZhM2FhODcyYjk1NmEwZDU3YWIuc2V0Q29udGVudChodG1sX2M1OGQzYzI3MTQ4ZTRlZjNhMGY3MDQyYzQwY2I0YWM3KTsKICAgICAgICAgICAgCgogICAgICAgICAgICBjaXJjbGVfbWFya2VyXzNmMzQyZTNjNTVjZDQ1YmU4ZjY4OTJjOWNiZTQyNGVkLmJpbmRQb3B1cChwb3B1cF83N2Y4OTQwZTFmZjM0ZmEzYWE4NzJiOTU2YTBkNTdhYik7CgogICAgICAgICAgICAKICAgICAgICAKICAgIAogICAgICAgICAgICB2YXIgY2lyY2xlX21hcmtlcl81MzEzYWViYTY0MDM0N2Y1Yjg5ZGQ0NjBmZTY3YTUxOSA9IEwuY2lyY2xlTWFya2VyKAogICAgICAgICAgICAgICAgWzQxLjY2MjA0MjYwOTYxMDY0LC04Ny42OTY2MDgzMDc0MTM5NV0sCiAgICAgICAgICAgICAgICB7CiAgImJ1YmJsaW5nTW91c2VFdmVudHMiOiB0cnVlLAogICJjb2xvciI6ICIjZmYwMDAwIiwKICAiZGFzaEFycmF5IjogbnVsbCwKICAiZGFzaE9mZnNldCI6IG51bGwsCiAgImZpbGwiOiB0cnVlLAogICJmaWxsQ29sb3IiOiAiI2ZmMDAwMCIsCiAgImZpbGxPcGFjaXR5IjogMC43LAogICJmaWxsUnVsZSI6ICJldmVub2RkIiwKICAibGluZUNhcCI6ICJyb3VuZCIsCiAgImxpbmVKb2luIjogInJvdW5kIiwKICAib3BhY2l0eSI6IDEuMCwKICAicmFkaXVzIjogNSwKICAic3Ryb2tlIjogdHJ1ZSwKICAid2VpZ2h0IjogMwp9CiAgICAgICAgICAgICAgICApLmFkZFRvKG1hcF9iNjE3NWZjZjFlNTM0NjY2YmNmNzgzZGI0NWM0NGM3Myk7CiAgICAgICAgICAgIAogICAgCiAgICAgICAgICAgIHZhciBwb3B1cF85MDY4MDdhNGNjZjU0MThlOWZjNTYyZTcxOThhODcyNSA9IEwucG9wdXAoe21heFdpZHRoOiAnMzAwJ30pOwoKICAgICAgICAgICAgCiAgICAgICAgICAgICAgICB2YXIgaHRtbF84MjA1YzY0NDRiNmM0OWMyOGM2ZDg5YzUwMDc4YjkyNiA9ICQoJzxkaXYgaWQ9Imh0bWxfODIwNWM2NDQ0YjZjNDljMjhjNmQ4OWM1MDA3OGI5MjYiIHN0eWxlPSJ3aWR0aDogMTAwLjAlOyBoZWlnaHQ6IDEwMC4wJTsiPkR3aWdodCBELiBFaXNlbmhvd2VyIEhpZ2ggU2Nob29sIENsdXN0ZXIgMDwvZGl2PicpWzBdOwogICAgICAgICAgICAgICAgcG9wdXBfOTA2ODA3YTRjY2Y1NDE4ZTlmYzU2MmU3MTk4YTg3MjUuc2V0Q29udGVudChodG1sXzgyMDVjNjQ0NGI2YzQ5YzI4YzZkODljNTAwNzhiOTI2KTsKICAgICAgICAgICAgCgogICAgICAgICAgICBjaXJjbGVfbWFya2VyXzUzMTNhZWJhNjQwMzQ3ZjViODlkZDQ2MGZlNjdhNTE5LmJpbmRQb3B1cChwb3B1cF85MDY4MDdhNGNjZjU0MThlOWZjNTYyZTcxOThhODcyNSk7CgogICAgICAgICAgICAKICAgICAgICAKICAgIAogICAgICAgICAgICB2YXIgY2lyY2xlX21hcmtlcl9mOTUwZWU5NDY0YTc0MzM1YTQwZjUyNTNkYzU5NzY2NyA9IEwuY2lyY2xlTWFya2VyKAogICAgICAgICAgICAgICAgWzQxLjY1NjYxLC04Ny41ODk0NTFdLAogICAgICAgICAgICAgICAgewogICJidWJibGluZ01vdXNlRXZlbnRzIjogdHJ1ZSwKICAiY29sb3IiOiAiI2ZmMDAwMCIsCiAgImRhc2hBcnJheSI6IG51bGwsCiAgImRhc2hPZmZzZXQiOiBudWxsLAogICJmaWxsIjogdHJ1ZSwKICAiZmlsbENvbG9yIjogIiNmZjAwMDAiLAogICJmaWxsT3BhY2l0eSI6IDAuNywKICAiZmlsbFJ1bGUiOiAiZXZlbm9kZCIsCiAgImxpbmVDYXAiOiAicm91bmQiLAogICJsaW5lSm9pbiI6ICJyb3VuZCIsCiAgIm9wYWNpdHkiOiAxLjAsCiAgInJhZGl1cyI6IDUsCiAgInN0cm9rZSI6IHRydWUsCiAgIndlaWdodCI6IDMKfQogICAgICAgICAgICAgICAgKS5hZGRUbyhtYXBfYjYxNzVmY2YxZTUzNDY2NmJjZjc4M2RiNDVjNDRjNzMpOwogICAgICAgICAgICAKICAgIAogICAgICAgICAgICB2YXIgcG9wdXBfYmJhOWUyZDYyN2EyNGUyZmIzMmY1NmYyYjNhZGQxMGYgPSBMLnBvcHVwKHttYXhXaWR0aDogJzMwMCd9KTsKCiAgICAgICAgICAgIAogICAgICAgICAgICAgICAgdmFyIGh0bWxfNjNkYThkNjYzMDdjNGQwNGIzNzllYzJlYmE0ODMxOTYgPSAkKCc8ZGl2IGlkPSJodG1sXzYzZGE4ZDY2MzA3YzRkMDRiMzc5ZWMyZWJhNDgzMTk2IiBzdHlsZT0id2lkdGg6IDEwMC4wJTsgaGVpZ2h0OiAxMDAuMCU7Ij5DYXJ2ZXIgTWlsaXRhcnkgQWNhZGVteSBDbHVzdGVyIDA8L2Rpdj4nKVswXTsKICAgICAgICAgICAgICAgIHBvcHVwX2JiYTllMmQ2MjdhMjRlMmZiMzJmNTZmMmIzYWRkMTBmLnNldENvbnRlbnQoaHRtbF82M2RhOGQ2NjMwN2M0ZDA0YjM3OWVjMmViYTQ4MzE5Nik7CiAgICAgICAgICAgIAoKICAgICAgICAgICAgY2lyY2xlX21hcmtlcl9mOTUwZWU5NDY0YTc0MzM1YTQwZjUyNTNkYzU5NzY2Ny5iaW5kUG9wdXAocG9wdXBfYmJhOWUyZDYyN2EyNGUyZmIzMmY1NmYyYjNhZGQxMGYpOwoKICAgICAgICAgICAgCiAgICAgICAgCiAgICAKICAgICAgICAgICAgdmFyIGNpcmNsZV9tYXJrZXJfMTgxYThmNmVkMGI3NDQ3YWJlNWFmNWJjNTgyNzc1NTMgPSBMLmNpcmNsZU1hcmtlcigKICAgICAgICAgICAgICAgIFs0Mi4wOTQxODI1MjUxOTA4NiwtODcuNzE4OTE4NzgxMjk1NDNdLAogICAgICAgICAgICAgICAgewogICJidWJibGluZ01vdXNlRXZlbnRzIjogdHJ1ZSwKICAiY29sb3IiOiAiI2ZmMDAwMCIsCiAgImRhc2hBcnJheSI6IG51bGwsCiAgImRhc2hPZmZzZXQiOiBudWxsLAogICJmaWxsIjogdHJ1ZSwKICAiZmlsbENvbG9yIjogIiNmZjAwMDAiLAogICJmaWxsT3BhY2l0eSI6IDAuNywKICAiZmlsbFJ1bGUiOiAiZXZlbm9kZCIsCiAgImxpbmVDYXAiOiAicm91bmQiLAogICJsaW5lSm9pbiI6ICJyb3VuZCIsCiAgIm9wYWNpdHkiOiAxLjAsCiAgInJhZGl1cyI6IDUsCiAgInN0cm9rZSI6IHRydWUsCiAgIndlaWdodCI6IDMKfQogICAgICAgICAgICAgICAgKS5hZGRUbyhtYXBfYjYxNzVmY2YxZTUzNDY2NmJjZjc4M2RiNDVjNDRjNzMpOwogICAgICAgICAgICAKICAgIAogICAgICAgICAgICB2YXIgcG9wdXBfZjA2NjdmMTQ5NzI1NDhkYzk4MDNmNDk3NTk2MWRkMTcgPSBMLnBvcHVwKHttYXhXaWR0aDogJzMwMCd9KTsKCiAgICAgICAgICAgIAogICAgICAgICAgICAgICAgdmFyIGh0bWxfYjQ2MmIzZGNjMjNiNDQ1Mzg3MjZhZmJjZTIyNWMwYTYgPSAkKCc8ZGl2IGlkPSJodG1sX2I0NjJiM2RjYzIzYjQ0NTM4NzI2YWZiY2UyMjVjMGE2IiBzdHlsZT0id2lkdGg6IDEwMC4wJTsgaGVpZ2h0OiAxMDAuMCU7Ij5OZXcgVHJpZXIgSGlnaCBTY2hvb2wgQ2x1c3RlciAwPC9kaXY+JylbMF07CiAgICAgICAgICAgICAgICBwb3B1cF9mMDY2N2YxNDk3MjU0OGRjOTgwM2Y0OTc1OTYxZGQxNy5zZXRDb250ZW50KGh0bWxfYjQ2MmIzZGNjMjNiNDQ1Mzg3MjZhZmJjZTIyNWMwYTYpOwogICAgICAgICAgICAKCiAgICAgICAgICAgIGNpcmNsZV9tYXJrZXJfMTgxYThmNmVkMGI3NDQ3YWJlNWFmNWJjNTgyNzc1NTMuYmluZFBvcHVwKHBvcHVwX2YwNjY3ZjE0OTcyNTQ4ZGM5ODAzZjQ5NzU5NjFkZDE3KTsKCiAgICAgICAgICAgIAogICAgICAgIAogICAgCiAgICAgICAgICAgIHZhciBjaXJjbGVfbWFya2VyX2FhZGRkZjFkYTY0NTQwNWE5ZWRjMzNmOWRhYzFlZjNjID0gTC5jaXJjbGVNYXJrZXIoCiAgICAgICAgICAgICAgICBbNDIuMDkwNDU5NTE5Nzk1NjQ0LC04Ny43NjU2MzU2MTk1MjA5OV0sCiAgICAgICAgICAgICAgICB7CiAgImJ1YmJsaW5nTW91c2VFdmVudHMiOiB0cnVlLAogICJjb2xvciI6ICIjZmYwMDAwIiwKICAiZGFzaEFycmF5IjogbnVsbCwKICAiZGFzaE9mZnNldCI6IG51bGwsCiAgImZpbGwiOiB0cnVlLAogICJmaWxsQ29sb3IiOiAiI2ZmMDAwMCIsCiAgImZpbGxPcGFjaXR5IjogMC43LAogICJmaWxsUnVsZSI6ICJldmVub2RkIiwKICAibGluZUNhcCI6ICJyb3VuZCIsCiAgImxpbmVKb2luIjogInJvdW5kIiwKICAib3BhY2l0eSI6IDEuMCwKICAicmFkaXVzIjogNSwKICAic3Ryb2tlIjogdHJ1ZSwKICAid2VpZ2h0IjogMwp9CiAgICAgICAgICAgICAgICApLmFkZFRvKG1hcF9iNjE3NWZjZjFlNTM0NjY2YmNmNzgzZGI0NWM0NGM3Myk7CiAgICAgICAgICAgIAogICAgCiAgICAgICAgICAgIHZhciBwb3B1cF8yMDI1MDQyMmEyNzI0MDUxYjAwNTQ1ODlkZmRkMmI3YyA9IEwucG9wdXAoe21heFdpZHRoOiAnMzAwJ30pOwoKICAgICAgICAgICAgCiAgICAgICAgICAgICAgICB2YXIgaHRtbF81NmVhMjI5YzAwMWU0ZDcyOWQ2OGQxOWQ4MjEwMGFmMCA9ICQoJzxkaXYgaWQ9Imh0bWxfNTZlYTIyOWMwMDFlNGQ3MjlkNjhkMTlkODIxMDBhZjAiIHN0eWxlPSJ3aWR0aDogMTAwLjAlOyBoZWlnaHQ6IDEwMC4wJTsiPk5ldyBUcmllciBIaWdoIFNjaG9vbCBDbHVzdGVyIDA8L2Rpdj4nKVswXTsKICAgICAgICAgICAgICAgIHBvcHVwXzIwMjUwNDIyYTI3MjQwNTFiMDA1NDU4OWRmZGQyYjdjLnNldENvbnRlbnQoaHRtbF81NmVhMjI5YzAwMWU0ZDcyOWQ2OGQxOWQ4MjEwMGFmMCk7CiAgICAgICAgICAgIAoKICAgICAgICAgICAgY2lyY2xlX21hcmtlcl9hYWRkZGYxZGE2NDU0MDVhOWVkYzMzZjlkYWMxZWYzYy5iaW5kUG9wdXAocG9wdXBfMjAyNTA0MjJhMjcyNDA1MWIwMDU0NTg5ZGZkZDJiN2MpOwoKICAgICAgICAgICAgCiAgICAgICAgCiAgICAKICAgICAgICAgICAgdmFyIGNpcmNsZV9tYXJrZXJfMTIwZTg2ZGVjMTNiNDRlMWJlNGYwZGQwYTdkMThjZjUgPSBMLmNpcmNsZU1hcmtlcigKICAgICAgICAgICAgICAgIFs0Mi4wNDI2MDA4NTU5NzI5OCwtODcuODM5NjY4OTE3ODQ2ODZdLAogICAgICAgICAgICAgICAgewogICJidWJibGluZ01vdXNlRXZlbnRzIjogdHJ1ZSwKICAiY29sb3IiOiAiI2ZmMDAwMCIsCiAgImRhc2hBcnJheSI6IG51bGwsCiAgImRhc2hPZmZzZXQiOiBudWxsLAogICJmaWxsIjogdHJ1ZSwKICAiZmlsbENvbG9yIjogIiNmZjAwMDAiLAogICJmaWxsT3BhY2l0eSI6IDAuNywKICAiZmlsbFJ1bGUiOiAiZXZlbm9kZCIsCiAgImxpbmVDYXAiOiAicm91bmQiLAogICJsaW5lSm9pbiI6ICJyb3VuZCIsCiAgIm9wYWNpdHkiOiAxLjAsCiAgInJhZGl1cyI6IDUsCiAgInN0cm9rZSI6IHRydWUsCiAgIndlaWdodCI6IDMKfQogICAgICAgICAgICAgICAgKS5hZGRUbyhtYXBfYjYxNzVmY2YxZTUzNDY2NmJjZjc4M2RiNDVjNDRjNzMpOwogICAgICAgICAgICAKICAgIAogICAgICAgICAgICB2YXIgcG9wdXBfMjI2N2FkY2YyMzg1NGE4ZDlkZmI5ZjJkZDA3MjMxODkgPSBMLnBvcHVwKHttYXhXaWR0aDogJzMwMCd9KTsKCiAgICAgICAgICAgIAogICAgICAgICAgICAgICAgdmFyIGh0bWxfYmQ2YWY5MDFiODMyNGE5YjlmNmE3NDY3NmIwMDU5YjcgPSAkKCc8ZGl2IGlkPSJodG1sX2JkNmFmOTAxYjgzMjRhOWI5ZjZhNzQ2NzZiMDA1OWI3IiBzdHlsZT0id2lkdGg6IDEwMC4wJTsgaGVpZ2h0OiAxMDAuMCU7Ij5HZW1pbmkgSnVuaW9yIEhpZ2ggQ2x1c3RlciAwPC9kaXY+JylbMF07CiAgICAgICAgICAgICAgICBwb3B1cF8yMjY3YWRjZjIzODU0YThkOWRmYjlmMmRkMDcyMzE4OS5zZXRDb250ZW50KGh0bWxfYmQ2YWY5MDFiODMyNGE5YjlmNmE3NDY3NmIwMDU5YjcpOwogICAgICAgICAgICAKCiAgICAgICAgICAgIGNpcmNsZV9tYXJrZXJfMTIwZTg2ZGVjMTNiNDRlMWJlNGYwZGQwYTdkMThjZjUuYmluZFBvcHVwKHBvcHVwXzIyNjdhZGNmMjM4NTRhOGQ5ZGZiOWYyZGQwNzIzMTg5KTsKCiAgICAgICAgICAgIAogICAgICAgIAogICAgCiAgICAgICAgICAgIHZhciBjaXJjbGVfbWFya2VyXzkwYTQ2MTUyYTBmNTQ4NTdhYzk2NjhiZjZiNTdjMDIwID0gTC5jaXJjbGVNYXJrZXIoCiAgICAgICAgICAgICAgICBbNDIuMDM2NDIwOTU0MTgwMDcsLTg3Ljg1MjE1Nzg5MjI4NTk0XSwKICAgICAgICAgICAgICAgIHsKICAiYnViYmxpbmdNb3VzZUV2ZW50cyI6IHRydWUsCiAgImNvbG9yIjogIiNmZjAwMDAiLAogICJkYXNoQXJyYXkiOiBudWxsLAogICJkYXNoT2Zmc2V0IjogbnVsbCwKICAiZmlsbCI6IHRydWUsCiAgImZpbGxDb2xvciI6ICIjZmYwMDAwIiwKICAiZmlsbE9wYWNpdHkiOiAwLjcsCiAgImZpbGxSdWxlIjogImV2ZW5vZGQiLAogICJsaW5lQ2FwIjogInJvdW5kIiwKICAibGluZUpvaW4iOiAicm91bmQiLAogICJvcGFjaXR5IjogMS4wLAogICJyYWRpdXMiOiA1LAogICJzdHJva2UiOiB0cnVlLAogICJ3ZWlnaHQiOiAzCn0KICAgICAgICAgICAgICAgICkuYWRkVG8obWFwX2I2MTc1ZmNmMWU1MzQ2NjZiY2Y3ODNkYjQ1YzQ0YzczKTsKICAgICAgICAgICAgCiAgICAKICAgICAgICAgICAgdmFyIHBvcHVwXzhjMTRkMjg3OWU1YzQwMGQ4NjVhZjVmZmYwNGQ2ZDQxID0gTC5wb3B1cCh7bWF4V2lkdGg6ICczMDAnfSk7CgogICAgICAgICAgICAKICAgICAgICAgICAgICAgIHZhciBodG1sX2U4NzI1NmFjZjA2NTQwNDI5MGQwNDIwMGUxODJiZDE0ID0gJCgnPGRpdiBpZD0iaHRtbF9lODcyNTZhY2YwNjU0MDQyOTBkMDQyMDBlMTgyYmQxNCIgc3R5bGU9IndpZHRoOiAxMDAuMCU7IGhlaWdodDogMTAwLjAlOyI+TWFpbmUgRWFzdCBGaXJld29ya3MgQ2x1c3RlciAwPC9kaXY+JylbMF07CiAgICAgICAgICAgICAgICBwb3B1cF84YzE0ZDI4NzllNWM0MDBkODY1YWY1ZmZmMDRkNmQ0MS5zZXRDb250ZW50KGh0bWxfZTg3MjU2YWNmMDY1NDA0MjkwZDA0MjAwZTE4MmJkMTQpOwogICAgICAgICAgICAKCiAgICAgICAgICAgIGNpcmNsZV9tYXJrZXJfOTBhNDYxNTJhMGY1NDg1N2FjOTY2OGJmNmI1N2MwMjAuYmluZFBvcHVwKHBvcHVwXzhjMTRkMjg3OWU1YzQwMGQ4NjVhZjVmZmYwNGQ2ZDQxKTsKCiAgICAgICAgICAgIAogICAgICAgIAogICAgCiAgICAgICAgICAgIHZhciBjaXJjbGVfbWFya2VyXzIyODljZWU1MmE0NzRkMjBiMjNmYTljNzY4ZmY2MjI2ID0gTC5jaXJjbGVNYXJrZXIoCiAgICAgICAgICAgICAgICBbNDEuNjczNTI1MjE0NjE5MTc1LC04Ny43ODY5MDM1MTc5NTc2M10sCiAgICAgICAgICAgICAgICB7CiAgImJ1YmJsaW5nTW91c2VFdmVudHMiOiB0cnVlLAogICJjb2xvciI6ICIjZmYwMDAwIiwKICAiZGFzaEFycmF5IjogbnVsbCwKICAiZGFzaE9mZnNldCI6IG51bGwsCiAgImZpbGwiOiB0cnVlLAogICJmaWxsQ29sb3IiOiAiI2ZmMDAwMCIsCiAgImZpbGxPcGFjaXR5IjogMC43LAogICJmaWxsUnVsZSI6ICJldmVub2RkIiwKICAibGluZUNhcCI6ICJyb3VuZCIsCiAgImxpbmVKb2luIjogInJvdW5kIiwKICAib3BhY2l0eSI6IDEuMCwKICAicmFkaXVzIjogNSwKICAic3Ryb2tlIjogdHJ1ZSwKICAid2VpZ2h0IjogMwp9CiAgICAgICAgICAgICAgICApLmFkZFRvKG1hcF9iNjE3NWZjZjFlNTM0NjY2YmNmNzgzZGI0NWM0NGM3Myk7CiAgICAgICAgICAgIAogICAgCiAgICAgICAgICAgIHZhciBwb3B1cF9lOGYwZDhmYWE0MzE0ZDgxOTE4YzQ4MDJmOWFhNjJlYyA9IEwucG9wdXAoe21heFdpZHRoOiAnMzAwJ30pOwoKICAgICAgICAgICAgCiAgICAgICAgICAgICAgICB2YXIgaHRtbF8xNTdjNGViYmZiZGQ0ODc0YmI4NDUyNjU0NDNjMTU0OSA9ICQoJzxkaXYgaWQ9Imh0bWxfMTU3YzRlYmJmYmRkNDg3NGJiODQ1MjY1NDQzYzE1NDkiIHN0eWxlPSJ3aWR0aDogMTAwLjAlOyBoZWlnaHQ6IDEwMC4wJTsiPkNoaWNhZ28gQ2hyaXN0aWFuIEhpZ2ggU2Nob29sIENsdXN0ZXIgMDwvZGl2PicpWzBdOwogICAgICAgICAgICAgICAgcG9wdXBfZThmMGQ4ZmFhNDMxNGQ4MTkxOGM0ODAyZjlhYTYyZWMuc2V0Q29udGVudChodG1sXzE1N2M0ZWJiZmJkZDQ4NzRiYjg0NTI2NTQ0M2MxNTQ5KTsKICAgICAgICAgICAgCgogICAgICAgICAgICBjaXJjbGVfbWFya2VyXzIyODljZWU1MmE0NzRkMjBiMjNmYTljNzY4ZmY2MjI2LmJpbmRQb3B1cChwb3B1cF9lOGYwZDhmYWE0MzE0ZDgxOTE4YzQ4MDJmOWFhNjJlYyk7CgogICAgICAgICAgICAKICAgICAgICAKICAgIAogICAgICAgICAgICB2YXIgY2lyY2xlX21hcmtlcl83YjViMGUzNzYwMmU0N2RiOGQ4MWEyZWY1Mjk3ODZmMCA9IEwuY2lyY2xlTWFya2VyKAogICAgICAgICAgICAgICAgWzQyLjA5ODIzODMsLTg3LjcyODg2NjI5OTk5OTk5XSwKICAgICAgICAgICAgICAgIHsKICAiYnViYmxpbmdNb3VzZUV2ZW50cyI6IHRydWUsCiAgImNvbG9yIjogIiNmZjAwMDAiLAogICJkYXNoQXJyYXkiOiBudWxsLAogICJkYXNoT2Zmc2V0IjogbnVsbCwKICAiZmlsbCI6IHRydWUsCiAgImZpbGxDb2xvciI6ICIjZmYwMDAwIiwKICAiZmlsbE9wYWNpdHkiOiAwLjcsCiAgImZpbGxSdWxlIjogImV2ZW5vZGQiLAogICJsaW5lQ2FwIjogInJvdW5kIiwKICAibGluZUpvaW4iOiAicm91bmQiLAogICJvcGFjaXR5IjogMS4wLAogICJyYWRpdXMiOiA1LAogICJzdHJva2UiOiB0cnVlLAogICJ3ZWlnaHQiOiAzCn0KICAgICAgICAgICAgICAgICkuYWRkVG8obWFwX2I2MTc1ZmNmMWU1MzQ2NjZiY2Y3ODNkYjQ1YzQ0YzczKTsKICAgICAgICAgICAgCiAgICAKICAgICAgICAgICAgdmFyIHBvcHVwXzlmY2M0MjUzZTdhNDQ2YjNiMDkxYWRiNWNkOTgyOWMxID0gTC5wb3B1cCh7bWF4V2lkdGg6ICczMDAnfSk7CgogICAgICAgICAgICAKICAgICAgICAgICAgICAgIHZhciBodG1sXzlkMDA0NTkzZmNmMjQ3MzliMzQ4OGUxNjM4ZTFjODFlID0gJCgnPGRpdiBpZD0iaHRtbF85ZDAwNDU5M2ZjZjI0NzM5YjM0ODhlMTYzOGUxYzgxZSIgc3R5bGU9IndpZHRoOiAxMDAuMCU7IGhlaWdodDogMTAwLjAlOyI+Tm9ydGggU2hvcmUgQ291bnRyeSBEYXkgU2Nob29sIENsdXN0ZXIgMDwvZGl2PicpWzBdOwogICAgICAgICAgICAgICAgcG9wdXBfOWZjYzQyNTNlN2E0NDZiM2IwOTFhZGI1Y2Q5ODI5YzEuc2V0Q29udGVudChodG1sXzlkMDA0NTkzZmNmMjQ3MzliMzQ4OGUxNjM4ZTFjODFlKTsKICAgICAgICAgICAgCgogICAgICAgICAgICBjaXJjbGVfbWFya2VyXzdiNWIwZTM3NjAyZTQ3ZGI4ZDgxYTJlZjUyOTc4NmYwLmJpbmRQb3B1cChwb3B1cF85ZmNjNDI1M2U3YTQ0NmIzYjA5MWFkYjVjZDk4MjljMSk7CgogICAgICAgICAgICAKICAgICAgICAKICAgIAogICAgICAgICAgICB2YXIgY2lyY2xlX21hcmtlcl80NjRkZGYxMjI3Njk0ZjA3YmY0Mjg0YTg4Yjg3YzAwZiA9IEwuY2lyY2xlTWFya2VyKAogICAgICAgICAgICAgICAgWzQxLjY4ODI1OTQ1NjA0OTgyLC04Ny44MTgwMjU4NDU2Njk1MV0sCiAgICAgICAgICAgICAgICB7CiAgImJ1YmJsaW5nTW91c2VFdmVudHMiOiB0cnVlLAogICJjb2xvciI6ICIjZmYwMDAwIiwKICAiZGFzaEFycmF5IjogbnVsbCwKICAiZGFzaE9mZnNldCI6IG51bGwsCiAgImZpbGwiOiB0cnVlLAogICJmaWxsQ29sb3IiOiAiI2ZmMDAwMCIsCiAgImZpbGxPcGFjaXR5IjogMC43LAogICJmaWxsUnVsZSI6ICJldmVub2RkIiwKICAibGluZUNhcCI6ICJyb3VuZCIsCiAgImxpbmVKb2luIjogInJvdW5kIiwKICAib3BhY2l0eSI6IDEuMCwKICAicmFkaXVzIjogNSwKICAic3Ryb2tlIjogdHJ1ZSwKICAid2VpZ2h0IjogMwp9CiAgICAgICAgICAgICAgICApLmFkZFRvKG1hcF9iNjE3NWZjZjFlNTM0NjY2YmNmNzgzZGI0NWM0NGM3Myk7CiAgICAgICAgICAgIAogICAgCiAgICAgICAgICAgIHZhciBwb3B1cF8wZjQ2OGVmNDgxMDE0Y2VlODdhYjg5YTg5MzQzNTViZSA9IEwucG9wdXAoe21heFdpZHRoOiAnMzAwJ30pOwoKICAgICAgICAgICAgCiAgICAgICAgICAgICAgICB2YXIgaHRtbF9mMGJjYTAyNTA3ZWM0NTU0YjYyYzQ3ZGE2ZTM1Y2E2ZCA9ICQoJzxkaXYgaWQ9Imh0bWxfZjBiY2EwMjUwN2VjNDU1NGI2MmM0N2RhNmUzNWNhNmQiIHN0eWxlPSJ3aWR0aDogMTAwLjAlOyBoZWlnaHQ6IDEwMC4wJTsiPkFtb3MgQWxvbnpvIFN0YWdnIEhpZ2ggU2Nob29sIENsdXN0ZXIgMDwvZGl2PicpWzBdOwogICAgICAgICAgICAgICAgcG9wdXBfMGY0NjhlZjQ4MTAxNGNlZTg3YWI4OWE4OTM0MzU1YmUuc2V0Q29udGVudChodG1sX2YwYmNhMDI1MDdlYzQ1NTRiNjJjNDdkYTZlMzVjYTZkKTsKICAgICAgICAgICAgCgogICAgICAgICAgICBjaXJjbGVfbWFya2VyXzQ2NGRkZjEyMjc2OTRmMDdiZjQyODRhODhiODdjMDBmLmJpbmRQb3B1cChwb3B1cF8wZjQ2OGVmNDgxMDE0Y2VlODdhYjg5YTg5MzQzNTViZSk7CgogICAgICAgICAgICAKICAgICAgICAKICAgIAogICAgICAgICAgICB2YXIgY2lyY2xlX21hcmtlcl9hOWM3YjcxNTM0MmM0MjE3YjI5YzY3MDk0MzA2YjkyYSA9IEwuY2lyY2xlTWFya2VyKAogICAgICAgICAgICAgICAgWzQxLjg5NTI5NDcwMzkxNzYsLTg3Ljk0MjEzNTUwMDQzMTU2XSwKICAgICAgICAgICAgICAgIHsKICAiYnViYmxpbmdNb3VzZUV2ZW50cyI6IHRydWUsCiAgImNvbG9yIjogIiNmZmIzNjAiLAogICJkYXNoQXJyYXkiOiBudWxsLAogICJkYXNoT2Zmc2V0IjogbnVsbCwKICAiZmlsbCI6IHRydWUsCiAgImZpbGxDb2xvciI6ICIjZmZiMzYwIiwKICAiZmlsbE9wYWNpdHkiOiAwLjcsCiAgImZpbGxSdWxlIjogImV2ZW5vZGQiLAogICJsaW5lQ2FwIjogInJvdW5kIiwKICAibGluZUpvaW4iOiAicm91bmQiLAogICJvcGFjaXR5IjogMS4wLAogICJyYWRpdXMiOiA1LAogICJzdHJva2UiOiB0cnVlLAogICJ3ZWlnaHQiOiAzCn0KICAgICAgICAgICAgICAgICkuYWRkVG8obWFwX2I2MTc1ZmNmMWU1MzQ2NjZiY2Y3ODNkYjQ1YzQ0YzczKTsKICAgICAgICAgICAgCiAgICAKICAgICAgICAgICAgdmFyIHBvcHVwXzk1NzEyN2E5NTdkODQyYTlhM2FjNGFkNjUxY2I3ZTg3ID0gTC5wb3B1cCh7bWF4V2lkdGg6ICczMDAnfSk7CgogICAgICAgICAgICAKICAgICAgICAgICAgICAgIHZhciBodG1sX2I3MGM1NGExNDQ2MTQ1NDhiM2Y2YjdkZTg0MjYxNTNjID0gJCgnPGRpdiBpZD0iaHRtbF9iNzBjNTRhMTQ0NjE0NTQ4YjNmNmI3ZGU4NDI2MTUzYyIgc3R5bGU9IndpZHRoOiAxMDAuMCU7IGhlaWdodDogMTAwLjAlOyI+SW1tYWN1bGF0ZSBDb25jZXB0aW9uIEhpZ2ggU2Nob29sIENsdXN0ZXIgNDwvZGl2PicpWzBdOwogICAgICAgICAgICAgICAgcG9wdXBfOTU3MTI3YTk1N2Q4NDJhOWEzYWM0YWQ2NTFjYjdlODcuc2V0Q29udGVudChodG1sX2I3MGM1NGExNDQ2MTQ1NDhiM2Y2YjdkZTg0MjYxNTNjKTsKICAgICAgICAgICAgCgogICAgICAgICAgICBjaXJjbGVfbWFya2VyX2E5YzdiNzE1MzQyYzQyMTdiMjljNjcwOTQzMDZiOTJhLmJpbmRQb3B1cChwb3B1cF85NTcxMjdhOTU3ZDg0MmE5YTNhYzRhZDY1MWNiN2U4Nyk7CgogICAgICAgICAgICAKICAgICAgICAKICAgIAogICAgICAgICAgICB2YXIgY2lyY2xlX21hcmtlcl85MmQ5MWQzMzVkYmI0OWU5ODVlNTY2NjBkZDk5MDE1YiA9IEwuY2lyY2xlTWFya2VyKAogICAgICAgICAgICAgICAgWzQyLjAzODA0MjM4MDA4NTI2NSwtODcuODU3ODU5MTM0Njc0MDddLAogICAgICAgICAgICAgICAgewogICJidWJibGluZ01vdXNlRXZlbnRzIjogdHJ1ZSwKICAiY29sb3IiOiAiI2ZmMDAwMCIsCiAgImRhc2hBcnJheSI6IG51bGwsCiAgImRhc2hPZmZzZXQiOiBudWxsLAogICJmaWxsIjogdHJ1ZSwKICAiZmlsbENvbG9yIjogIiNmZjAwMDAiLAogICJmaWxsT3BhY2l0eSI6IDAuNywKICAiZmlsbFJ1bGUiOiAiZXZlbm9kZCIsCiAgImxpbmVDYXAiOiAicm91bmQiLAogICJsaW5lSm9pbiI6ICJyb3VuZCIsCiAgIm9wYWNpdHkiOiAxLjAsCiAgInJhZGl1cyI6IDUsCiAgInN0cm9rZSI6IHRydWUsCiAgIndlaWdodCI6IDMKfQogICAgICAgICAgICAgICAgKS5hZGRUbyhtYXBfYjYxNzVmY2YxZTUzNDY2NmJjZjc4M2RiNDVjNDRjNzMpOwogICAgICAgICAgICAKICAgIAogICAgICAgICAgICB2YXIgcG9wdXBfNmVmZGE1Y2VmNDFjNDA4OGI1NTgyODg3Mjk2NTY1OTQgPSBMLnBvcHVwKHttYXhXaWR0aDogJzMwMCd9KTsKCiAgICAgICAgICAgIAogICAgICAgICAgICAgICAgdmFyIGh0bWxfZjNiYzBlNTQ3NjMxNDIyYjhhZGNkODAzYmE5ODdiNTQgPSAkKCc8ZGl2IGlkPSJodG1sX2YzYmMwZTU0NzYzMTQyMmI4YWRjZDgwM2JhOTg3YjU0IiBzdHlsZT0id2lkdGg6IDEwMC4wJTsgaGVpZ2h0OiAxMDAuMCU7Ij5NYWluZSBFYXN0IEhpZ2ggU2Nob29sIENsdXN0ZXIgMDwvZGl2PicpWzBdOwogICAgICAgICAgICAgICAgcG9wdXBfNmVmZGE1Y2VmNDFjNDA4OGI1NTgyODg3Mjk2NTY1OTQuc2V0Q29udGVudChodG1sX2YzYmMwZTU0NzYzMTQyMmI4YWRjZDgwM2JhOTg3YjU0KTsKICAgICAgICAgICAgCgogICAgICAgICAgICBjaXJjbGVfbWFya2VyXzkyZDkxZDMzNWRiYjQ5ZTk4NWU1NjY2MGRkOTkwMTViLmJpbmRQb3B1cChwb3B1cF82ZWZkYTVjZWY0MWM0MDg4YjU1ODI4ODcyOTY1NjU5NCk7CgogICAgICAgICAgICAKICAgICAgICAKICAgIAogICAgICAgICAgICB2YXIgY2lyY2xlX21hcmtlcl9kMWU1ODdlMjcyMWI0OTg2OTA3MjhhYzRhYzVkMWI5ZiA9IEwuY2lyY2xlTWFya2VyKAogICAgICAgICAgICAgICAgWzQxLjg5MjM1MjIzNzYzMDI5LC04Ny45NTI1ODk2NjIyNjk0Ml0sCiAgICAgICAgICAgICAgICB7CiAgImJ1YmJsaW5nTW91c2VFdmVudHMiOiB0cnVlLAogICJjb2xvciI6ICIjZmZiMzYwIiwKICAiZGFzaEFycmF5IjogbnVsbCwKICAiZGFzaE9mZnNldCI6IG51bGwsCiAgImZpbGwiOiB0cnVlLAogICJmaWxsQ29sb3IiOiAiI2ZmYjM2MCIsCiAgImZpbGxPcGFjaXR5IjogMC43LAogICJmaWxsUnVsZSI6ICJldmVub2RkIiwKICAibGluZUNhcCI6ICJyb3VuZCIsCiAgImxpbmVKb2luIjogInJvdW5kIiwKICAib3BhY2l0eSI6IDEuMCwKICAicmFkaXVzIjogNSwKICAic3Ryb2tlIjogdHJ1ZSwKICAid2VpZ2h0IjogMwp9CiAgICAgICAgICAgICAgICApLmFkZFRvKG1hcF9iNjE3NWZjZjFlNTM0NjY2YmNmNzgzZGI0NWM0NGM3Myk7CiAgICAgICAgICAgIAogICAgCiAgICAgICAgICAgIHZhciBwb3B1cF85NjE0Y2Q1NWJmNGY0NGNhYjZiMTZlZDNhOTg0OTMwZiA9IEwucG9wdXAoe21heFdpZHRoOiAnMzAwJ30pOwoKICAgICAgICAgICAgCiAgICAgICAgICAgICAgICB2YXIgaHRtbF8wYTRhYjljNTZmNTU0YTAxYTczM2FiMDE3NTY5NGI3ZiA9ICQoJzxkaXYgaWQ9Imh0bWxfMGE0YWI5YzU2ZjU1NGEwMWE3MzNhYjAxNzU2OTRiN2YiIHN0eWxlPSJ3aWR0aDogMTAwLjAlOyBoZWlnaHQ6IDEwMC4wJTsiPllvcmsgSGlnaCBTY2hvb2wgQ2x1c3RlciA0PC9kaXY+JylbMF07CiAgICAgICAgICAgICAgICBwb3B1cF85NjE0Y2Q1NWJmNGY0NGNhYjZiMTZlZDNhOTg0OTMwZi5zZXRDb250ZW50KGh0bWxfMGE0YWI5YzU2ZjU1NGEwMWE3MzNhYjAxNzU2OTRiN2YpOwogICAgICAgICAgICAKCiAgICAgICAgICAgIGNpcmNsZV9tYXJrZXJfZDFlNTg3ZTI3MjFiNDk4NjkwNzI4YWM0YWM1ZDFiOWYuYmluZFBvcHVwKHBvcHVwXzk2MTRjZDU1YmY0ZjQ0Y2FiNmIxNmVkM2E5ODQ5MzBmKTsKCiAgICAgICAgICAgIAogICAgICAgIAogICAgCiAgICAgICAgICAgIHZhciBjaXJjbGVfbWFya2VyXzI5MDkzMmViYTI2MzRjMTU4YjcwNzQzMzk3NWM5NjVhID0gTC5jaXJjbGVNYXJrZXIoCiAgICAgICAgICAgICAgICBbNDEuNzg3MjgxMDIzNTMzNDcsLTg3LjkzMjUxMDM3NTk3NjU2XSwKICAgICAgICAgICAgICAgIHsKICAiYnViYmxpbmdNb3VzZUV2ZW50cyI6IHRydWUsCiAgImNvbG9yIjogIiNmZjAwMDAiLAogICJkYXNoQXJyYXkiOiBudWxsLAogICJkYXNoT2Zmc2V0IjogbnVsbCwKICAiZmlsbCI6IHRydWUsCiAgImZpbGxDb2xvciI6ICIjZmYwMDAwIiwKICAiZmlsbE9wYWNpdHkiOiAwLjcsCiAgImZpbGxSdWxlIjogImV2ZW5vZGQiLAogICJsaW5lQ2FwIjogInJvdW5kIiwKICAibGluZUpvaW4iOiAicm91bmQiLAogICJvcGFjaXR5IjogMS4wLAogICJyYWRpdXMiOiA1LAogICJzdHJva2UiOiB0cnVlLAogICJ3ZWlnaHQiOiAzCn0KICAgICAgICAgICAgICAgICkuYWRkVG8obWFwX2I2MTc1ZmNmMWU1MzQ2NjZiY2Y3ODNkYjQ1YzQ0YzczKTsKICAgICAgICAgICAgCiAgICAKICAgICAgICAgICAgdmFyIHBvcHVwXzIxYzMwNTg2ZjI4NDQ5MjhiZjUzZjAxNDNjZjU4YzlmID0gTC5wb3B1cCh7bWF4V2lkdGg6ICczMDAnfSk7CgogICAgICAgICAgICAKICAgICAgICAgICAgICAgIHZhciBodG1sXzdjNGU1M2MwYzA5MTRiOTc5ZGZlNzk4MmZjMTNjNjRhID0gJCgnPGRpdiBpZD0iaHRtbF83YzRlNTNjMGMwOTE0Yjk3OWRmZTc5ODJmYzEzYzY0YSIgc3R5bGU9IndpZHRoOiAxMDAuMCU7IGhlaWdodDogMTAwLjAlOyI+SGluc2RhbGUgQ2VudHJhbCBIaWdoIFNjaG9vbCBDbHVzdGVyIDA8L2Rpdj4nKVswXTsKICAgICAgICAgICAgICAgIHBvcHVwXzIxYzMwNTg2ZjI4NDQ5MjhiZjUzZjAxNDNjZjU4YzlmLnNldENvbnRlbnQoaHRtbF83YzRlNTNjMGMwOTE0Yjk3OWRmZTc5ODJmYzEzYzY0YSk7CiAgICAgICAgICAgIAoKICAgICAgICAgICAgY2lyY2xlX21hcmtlcl8yOTA5MzJlYmEyNjM0YzE1OGI3MDc0MzM5NzVjOTY1YS5iaW5kUG9wdXAocG9wdXBfMjFjMzA1ODZmMjg0NDkyOGJmNTNmMDE0M2NmNThjOWYpOwoKICAgICAgICAgICAgCiAgICAgICAgCiAgICAKICAgICAgICAgICAgdmFyIGNpcmNsZV9tYXJrZXJfMmQ5NWQwYTM5YjdkNDQ5Y2E1MDc1MWQzYjI2YmYxZTkgPSBMLmNpcmNsZU1hcmtlcigKICAgICAgICAgICAgICAgIFs0MS42NTQzNDg4NzcxOTA0MTUsLTg3Ljc3Njc3MDU5MTczNTg0XSwKICAgICAgICAgICAgICAgIHsKICAiYnViYmxpbmdNb3VzZUV2ZW50cyI6IHRydWUsCiAgImNvbG9yIjogIiNmZjAwMDAiLAogICJkYXNoQXJyYXkiOiBudWxsLAogICJkYXNoT2Zmc2V0IjogbnVsbCwKICAiZmlsbCI6IHRydWUsCiAgImZpbGxDb2xvciI6ICIjZmYwMDAwIiwKICAiZmlsbE9wYWNpdHkiOiAwLjcsCiAgImZpbGxSdWxlIjogImV2ZW5vZGQiLAogICJsaW5lQ2FwIjogInJvdW5kIiwKICAibGluZUpvaW4iOiAicm91bmQiLAogICJvcGFjaXR5IjogMS4wLAogICJyYWRpdXMiOiA1LAogICJzdHJva2UiOiB0cnVlLAogICJ3ZWlnaHQiOiAzCn0KICAgICAgICAgICAgICAgICkuYWRkVG8obWFwX2I2MTc1ZmNmMWU1MzQ2NjZiY2Y3ODNkYjQ1YzQ0YzczKTsKICAgICAgICAgICAgCiAgICAKICAgICAgICAgICAgdmFyIHBvcHVwXzg4YzBjNTg0NzgxZjQ4MTRhM2IxYmQyYzVhM2E0MGM5ID0gTC5wb3B1cCh7bWF4V2lkdGg6ICczMDAnfSk7CgogICAgICAgICAgICAKICAgICAgICAgICAgICAgIHZhciBodG1sX2U1OTlhYmY2MWQyYjQ0NGRhNTY5NWRiMzUyZTlmNmE0ID0gJCgnPGRpdiBpZD0iaHRtbF9lNTk5YWJmNjFkMmI0NDRkYTU2OTVkYjM1MmU5ZjZhNCIgc3R5bGU9IndpZHRoOiAxMDAuMCU7IGhlaWdodDogMTAwLjAlOyI+QWxhbiBCIFNoZXBhcmQgSGlnaCBTY2hvb2wgQ2x1c3RlciAwPC9kaXY+JylbMF07CiAgICAgICAgICAgICAgICBwb3B1cF84OGMwYzU4NDc4MWY0ODE0YTNiMWJkMmM1YTNhNDBjOS5zZXRDb250ZW50KGh0bWxfZTU5OWFiZjYxZDJiNDQ0ZGE1Njk1ZGIzNTJlOWY2YTQpOwogICAgICAgICAgICAKCiAgICAgICAgICAgIGNpcmNsZV9tYXJrZXJfMmQ5NWQwYTM5YjdkNDQ5Y2E1MDc1MWQzYjI2YmYxZTkuYmluZFBvcHVwKHBvcHVwXzg4YzBjNTg0NzgxZjQ4MTRhM2IxYmQyYzVhM2E0MGM5KTsKCiAgICAgICAgICAgIAogICAgICAgIAogICAgCiAgICAgICAgICAgIHZhciBjaXJjbGVfbWFya2VyX2ZjMmFmNTlmODY0MjQxOGFhOTA4NDQxMzVhZmNkOWRlID0gTC5jaXJjbGVNYXJrZXIoCiAgICAgICAgICAgICAgICBbNDIuMDIwNjg5ODA0OTQ3MDc1LC04Ny45MDQ5MDk1MDYzOTM4OV0sCiAgICAgICAgICAgICAgICB7CiAgImJ1YmJsaW5nTW91c2VFdmVudHMiOiB0cnVlLAogICJjb2xvciI6ICIjZmYwMDAwIiwKICAiZGFzaEFycmF5IjogbnVsbCwKICAiZGFzaE9mZnNldCI6IG51bGwsCiAgImZpbGwiOiB0cnVlLAogICJmaWxsQ29sb3IiOiAiI2ZmMDAwMCIsCiAgImZpbGxPcGFjaXR5IjogMC43LAogICJmaWxsUnVsZSI6ICJldmVub2RkIiwKICAibGluZUNhcCI6ICJyb3VuZCIsCiAgImxpbmVKb2luIjogInJvdW5kIiwKICAib3BhY2l0eSI6IDEuMCwKICAicmFkaXVzIjogNSwKICAic3Ryb2tlIjogdHJ1ZSwKICAid2VpZ2h0IjogMwp9CiAgICAgICAgICAgICAgICApLmFkZFRvKG1hcF9iNjE3NWZjZjFlNTM0NjY2YmNmNzgzZGI0NWM0NGM3Myk7CiAgICAgICAgICAgIAogICAgCiAgICAgICAgICAgIHZhciBwb3B1cF85ZWExN2ZkMThhNjc0OThhOTc0NjA2OGEwNGU2YTUzMSA9IEwucG9wdXAoe21heFdpZHRoOiAnMzAwJ30pOwoKICAgICAgICAgICAgCiAgICAgICAgICAgICAgICB2YXIgaHRtbF81NGEwZGFjY2M2Mzg0ZjM4YmJiNWNlZjI4YWE5OWFjZCA9ICQoJzxkaXYgaWQ9Imh0bWxfNTRhMGRhY2NjNjM4NGYzOGJiYjVjZWYyOGFhOTlhY2QiIHN0eWxlPSJ3aWR0aDogMTAwLjAlOyBoZWlnaHQ6IDEwMC4wJTsiPk1haW5lIFdlc3QgSGlnaCBTY2hvb2wgQ2x1c3RlciAwPC9kaXY+JylbMF07CiAgICAgICAgICAgICAgICBwb3B1cF85ZWExN2ZkMThhNjc0OThhOTc0NjA2OGEwNGU2YTUzMS5zZXRDb250ZW50KGh0bWxfNTRhMGRhY2NjNjM4NGYzOGJiYjVjZWYyOGFhOTlhY2QpOwogICAgICAgICAgICAKCiAgICAgICAgICAgIGNpcmNsZV9tYXJrZXJfZmMyYWY1OWY4NjQyNDE4YWE5MDg0NDEzNWFmY2Q5ZGUuYmluZFBvcHVwKHBvcHVwXzllYTE3ZmQxOGE2NzQ5OGE5NzQ2MDY4YTA0ZTZhNTMxKTsKCiAgICAgICAgICAgIAogICAgICAgIAogICAgCiAgICAgICAgICAgIHZhciBjaXJjbGVfbWFya2VyXzA3YTY5NGFjMjAwMDQxMDhiZDZmNmMyZWNjNjYwMDI0ID0gTC5jaXJjbGVNYXJrZXIoCiAgICAgICAgICAgICAgICBbNDEuNjM5ODQxMzAxMjcxNDYsLTg3LjQ4NTE5OTA1MTc2MDg5XSwKICAgICAgICAgICAgICAgIHsKICAiYnViYmxpbmdNb3VzZUV2ZW50cyI6IHRydWUsCiAgImNvbG9yIjogIiNmZjAwMDAiLAogICJkYXNoQXJyYXkiOiBudWxsLAogICJkYXNoT2Zmc2V0IjogbnVsbCwKICAiZmlsbCI6IHRydWUsCiAgImZpbGxDb2xvciI6ICIjZmYwMDAwIiwKICAiZmlsbE9wYWNpdHkiOiAwLjcsCiAgImZpbGxSdWxlIjogImV2ZW5vZGQiLAogICJsaW5lQ2FwIjogInJvdW5kIiwKICAibGluZUpvaW4iOiAicm91bmQiLAogICJvcGFjaXR5IjogMS4wLAogICJyYWRpdXMiOiA1LAogICJzdHJva2UiOiB0cnVlLAogICJ3ZWlnaHQiOiAzCn0KICAgICAgICAgICAgICAgICkuYWRkVG8obWFwX2I2MTc1ZmNmMWU1MzQ2NjZiY2Y3ODNkYjQ1YzQ0YzczKTsKICAgICAgICAgICAgCiAgICAKICAgICAgICAgICAgdmFyIHBvcHVwXzhhYWE1NTQwNzYzYjQyYmFiYzlhNjBkYjEyYzQ5YjYwID0gTC5wb3B1cCh7bWF4V2lkdGg6ICczMDAnfSk7CgogICAgICAgICAgICAKICAgICAgICAgICAgICAgIHZhciBodG1sXzhiZWZjMGM5MDQ2ZDQ1ZDY5NWQ0MmM1YWRmODJjN2QwID0gJCgnPGRpdiBpZD0iaHRtbF84YmVmYzBjOTA0NmQ0NWQ2OTVkNDJjNWFkZjgyYzdkMCIgc3R5bGU9IndpZHRoOiAxMDAuMCU7IGhlaWdodDogMTAwLjAlOyI+RWFzdCBDaGljYWdvIENlbnRyYWwgSGlnaCBTY2hvb2wgQ2x1c3RlciAwPC9kaXY+JylbMF07CiAgICAgICAgICAgICAgICBwb3B1cF84YWFhNTU0MDc2M2I0MmJhYmM5YTYwZGIxMmM0OWI2MC5zZXRDb250ZW50KGh0bWxfOGJlZmMwYzkwNDZkNDVkNjk1ZDQyYzVhZGY4MmM3ZDApOwogICAgICAgICAgICAKCiAgICAgICAgICAgIGNpcmNsZV9tYXJrZXJfMDdhNjk0YWMyMDAwNDEwOGJkNmY2YzJlY2M2NjAwMjQuYmluZFBvcHVwKHBvcHVwXzhhYWE1NTQwNzYzYjQyYmFiYzlhNjBkYjEyYzQ5YjYwKTsKCiAgICAgICAgICAgIAogICAgICAgIAogICAgCiAgICAgICAgICAgIHZhciBjaXJjbGVfbWFya2VyXzI5NTY0OTFlZTFiNzQ0MjI4YTZjODg1NGM1NjdmZGI2ID0gTC5jaXJjbGVNYXJrZXIoCiAgICAgICAgICAgICAgICBbNDEuODE4NDQ2NzgzODUzNTgsLTg3Ljk2MjA5NzA0MDM0ODQ3XSwKICAgICAgICAgICAgICAgIHsKICAiYnViYmxpbmdNb3VzZUV2ZW50cyI6IHRydWUsCiAgImNvbG9yIjogIiNmZjAwMDAiLAogICJkYXNoQXJyYXkiOiBudWxsLAogICJkYXNoT2Zmc2V0IjogbnVsbCwKICAiZmlsbCI6IHRydWUsCiAgImZpbGxDb2xvciI6ICIjZmYwMDAwIiwKICAiZmlsbE9wYWNpdHkiOiAwLjcsCiAgImZpbGxSdWxlIjogImV2ZW5vZGQiLAogICJsaW5lQ2FwIjogInJvdW5kIiwKICAibGluZUpvaW4iOiAicm91bmQiLAogICJvcGFjaXR5IjogMS4wLAogICJyYWRpdXMiOiA1LAogICJzdHJva2UiOiB0cnVlLAogICJ3ZWlnaHQiOiAzCn0KICAgICAgICAgICAgICAgICkuYWRkVG8obWFwX2I2MTc1ZmNmMWU1MzQ2NjZiY2Y3ODNkYjQ1YzQ0YzczKTsKICAgICAgICAgICAgCiAgICAKICAgICAgICAgICAgdmFyIHBvcHVwX2I3ZGNmZjY3ZWU2MTRiNDY5YjZiNWQxMWRkNTBjNjBiID0gTC5wb3B1cCh7bWF4V2lkdGg6ICczMDAnfSk7CgogICAgICAgICAgICAKICAgICAgICAgICAgICAgIHZhciBodG1sX2FlZGVhOTRiNTZhMjQ4MDM4MDk5NDhmOWM4MzI3MmUwID0gJCgnPGRpdiBpZD0iaHRtbF9hZWRlYTk0YjU2YTI0ODAzODA5OTQ4ZjljODMyNzJlMCIgc3R5bGU9IndpZHRoOiAxMDAuMCU7IGhlaWdodDogMTAwLjAlOyI+V2VzdG1vbnQgSGlnaCBTY2hvb2wgQ2x1c3RlciAwPC9kaXY+JylbMF07CiAgICAgICAgICAgICAgICBwb3B1cF9iN2RjZmY2N2VlNjE0YjQ2OWI2YjVkMTFkZDUwYzYwYi5zZXRDb250ZW50KGh0bWxfYWVkZWE5NGI1NmEyNDgwMzgwOTk0OGY5YzgzMjcyZTApOwogICAgICAgICAgICAKCiAgICAgICAgICAgIGNpcmNsZV9tYXJrZXJfMjk1NjQ5MWVlMWI3NDQyMjhhNmM4ODU0YzU2N2ZkYjYuYmluZFBvcHVwKHBvcHVwX2I3ZGNmZjY3ZWU2MTRiNDY5YjZiNWQxMWRkNTBjNjBiKTsKCiAgICAgICAgICAgIAogICAgICAgIAogICAgCiAgICAgICAgICAgIHZhciBjaXJjbGVfbWFya2VyX2E5ZmU5ZDZhNzk0YTQ5MDM5YzhkMDRmNDQ2YzVhNWVkID0gTC5jaXJjbGVNYXJrZXIoCiAgICAgICAgICAgICAgICBbNDEuOTU2NzEyNTAzNDg2NjMsLTg3Ljk1NDY0NzI5Mzk3NzcxXSwKICAgICAgICAgICAgICAgIHsKICAiYnViYmxpbmdNb3VzZUV2ZW50cyI6IHRydWUsCiAgImNvbG9yIjogIiNmZjAwMDAiLAogICJkYXNoQXJyYXkiOiBudWxsLAogICJkYXNoT2Zmc2V0IjogbnVsbCwKICAiZmlsbCI6IHRydWUsCiAgImZpbGxDb2xvciI6ICIjZmYwMDAwIiwKICAiZmlsbE9wYWNpdHkiOiAwLjcsCiAgImZpbGxSdWxlIjogImV2ZW5vZGQiLAogICJsaW5lQ2FwIjogInJvdW5kIiwKICAibGluZUpvaW4iOiAicm91bmQiLAogICJvcGFjaXR5IjogMS4wLAogICJyYWRpdXMiOiA1LAogICJzdHJva2UiOiB0cnVlLAogICJ3ZWlnaHQiOiAzCn0KICAgICAgICAgICAgICAgICkuYWRkVG8obWFwX2I2MTc1ZmNmMWU1MzQ2NjZiY2Y3ODNkYjQ1YzQ0YzczKTsKICAgICAgICAgICAgCiAgICAKICAgICAgICAgICAgdmFyIHBvcHVwX2NkNjcxZWU3NjNjMzRmOTZiZDE3NTRjYWEwNmI3NTcwID0gTC5wb3B1cCh7bWF4V2lkdGg6ICczMDAnfSk7CgogICAgICAgICAgICAKICAgICAgICAgICAgICAgIHZhciBodG1sXzYzNWU4NTBiMTAzMDQyM2NhNzliMmYzYTRhZTUwZDlmID0gJCgnPGRpdiBpZD0iaHRtbF82MzVlODUwYjEwMzA0MjNjYTc5YjJmM2E0YWU1MGQ5ZiIgc3R5bGU9IndpZHRoOiAxMDAuMCU7IGhlaWdodDogMTAwLjAlOyI+RmVudG9uIEhpZ2ggU2Nob29sIENsdXN0ZXIgMDwvZGl2PicpWzBdOwogICAgICAgICAgICAgICAgcG9wdXBfY2Q2NzFlZTc2M2MzNGY5NmJkMTc1NGNhYTA2Yjc1NzAuc2V0Q29udGVudChodG1sXzYzNWU4NTBiMTAzMDQyM2NhNzliMmYzYTRhZTUwZDlmKTsKICAgICAgICAgICAgCgogICAgICAgICAgICBjaXJjbGVfbWFya2VyX2E5ZmU5ZDZhNzk0YTQ5MDM5YzhkMDRmNDQ2YzVhNWVkLmJpbmRQb3B1cChwb3B1cF9jZDY3MWVlNzYzYzM0Zjk2YmQxNzU0Y2FhMDZiNzU3MCk7CgogICAgICAgICAgICAKICAgICAgICAKICAgIAogICAgICAgICAgICB2YXIgY2lyY2xlX21hcmtlcl8wYTIzMTRiNDJjMmM0ZTJlYjQzMmFjNzQwMzgxNjkzOSA9IEwuY2lyY2xlTWFya2VyKAogICAgICAgICAgICAgICAgWzQxLjYxNTY0MDI2ODQ5MTI3NiwtODcuNjQzNzc3MDk3NjkxNzhdLAogICAgICAgICAgICAgICAgewogICJidWJibGluZ01vdXNlRXZlbnRzIjogdHJ1ZSwKICAiY29sb3IiOiAiI2ZmMDAwMCIsCiAgImRhc2hBcnJheSI6IG51bGwsCiAgImRhc2hPZmZzZXQiOiBudWxsLAogICJmaWxsIjogdHJ1ZSwKICAiZmlsbENvbG9yIjogIiNmZjAwMDAiLAogICJmaWxsT3BhY2l0eSI6IDAuNywKICAiZmlsbFJ1bGUiOiAiZXZlbm9kZCIsCiAgImxpbmVDYXAiOiAicm91bmQiLAogICJsaW5lSm9pbiI6ICJyb3VuZCIsCiAgIm9wYWNpdHkiOiAxLjAsCiAgInJhZGl1cyI6IDUsCiAgInN0cm9rZSI6IHRydWUsCiAgIndlaWdodCI6IDMKfQogICAgICAgICAgICAgICAgKS5hZGRUbyhtYXBfYjYxNzVmY2YxZTUzNDY2NmJjZjc4M2RiNDVjNDRjNzMpOwogICAgICAgICAgICAKICAgIAogICAgICAgICAgICB2YXIgcG9wdXBfN2JhYjdmMzIxYmU4NDE0MDkwYzg2MGM4MzA0ZmQwOTkgPSBMLnBvcHVwKHttYXhXaWR0aDogJzMwMCd9KTsKCiAgICAgICAgICAgIAogICAgICAgICAgICAgICAgdmFyIGh0bWxfZWE4MDVjZDYyMGZjNDQ0NmI5ZWY4ZDYzNGYwMTI1OWYgPSAkKCc8ZGl2IGlkPSJodG1sX2VhODA1Y2Q2MjBmYzQ0NDZiOWVmOGQ2MzRmMDEyNTlmIiBzdHlsZT0id2lkdGg6IDEwMC4wJTsgaGVpZ2h0OiAxMDAuMCU7Ij5UaG9ybnRvbiBUb3duc2hpcCBIaWdoIFNjaG9vbCBDbHVzdGVyIDA8L2Rpdj4nKVswXTsKICAgICAgICAgICAgICAgIHBvcHVwXzdiYWI3ZjMyMWJlODQxNDA5MGM4NjBjODMwNGZkMDk5LnNldENvbnRlbnQoaHRtbF9lYTgwNWNkNjIwZmM0NDQ2YjllZjhkNjM0ZjAxMjU5Zik7CiAgICAgICAgICAgIAoKICAgICAgICAgICAgY2lyY2xlX21hcmtlcl8wYTIzMTRiNDJjMmM0ZTJlYjQzMmFjNzQwMzgxNjkzOS5iaW5kUG9wdXAocG9wdXBfN2JhYjdmMzIxYmU4NDE0MDkwYzg2MGM4MzA0ZmQwOTkpOwoKICAgICAgICAgICAgCiAgICAgICAgCiAgICAKICAgICAgICAgICAgdmFyIGNpcmNsZV9tYXJrZXJfZmFhM2ZlMmQyN2Q0NGM2MGIxNmM0ODJkNmE5ZmQyOTYgPSBMLmNpcmNsZU1hcmtlcigKICAgICAgICAgICAgICAgIFs0MS44NjQ0NDE1MTA4OTQyNSwtODcuOTgxOTI4MjQ4NzE3MjhdLAogICAgICAgICAgICAgICAgewogICJidWJibGluZ01vdXNlRXZlbnRzIjogdHJ1ZSwKICAiY29sb3IiOiAiIzAwYjVlYiIsCiAgImRhc2hBcnJheSI6IG51bGwsCiAgImRhc2hPZmZzZXQiOiBudWxsLAogICJmaWxsIjogdHJ1ZSwKICAiZmlsbENvbG9yIjogIiMwMGI1ZWIiLAogICJmaWxsT3BhY2l0eSI6IDAuNywKICAiZmlsbFJ1bGUiOiAiZXZlbm9kZCIsCiAgImxpbmVDYXAiOiAicm91bmQiLAogICJsaW5lSm9pbiI6ICJyb3VuZCIsCiAgIm9wYWNpdHkiOiAxLjAsCiAgInJhZGl1cyI6IDUsCiAgInN0cm9rZSI6IHRydWUsCiAgIndlaWdodCI6IDMKfQogICAgICAgICAgICAgICAgKS5hZGRUbyhtYXBfYjYxNzVmY2YxZTUzNDY2NmJjZjc4M2RiNDVjNDRjNzMpOwogICAgICAgICAgICAKICAgIAogICAgICAgICAgICB2YXIgcG9wdXBfNDA0ZWJhMTVhNmRkNDdlMTk2MjQ3YTgzNzlhMjM0ODMgPSBMLnBvcHVwKHttYXhXaWR0aDogJzMwMCd9KTsKCiAgICAgICAgICAgIAogICAgICAgICAgICAgICAgdmFyIGh0bWxfNzYxNDUwZjE1ZTRjNDY1NmEzODU4NjNiMDI2Nzk3ZTcgPSAkKCc8ZGl2IGlkPSJodG1sXzc2MTQ1MGYxNWU0YzQ2NTZhMzg1ODYzYjAyNjc5N2U3IiBzdHlsZT0id2lkdGg6IDEwMC4wJTsgaGVpZ2h0OiAxMDAuMCU7Ij5XaWxsb3dicm9vayBIaWdoIFNjaG9vbCBDbHVzdGVyIDI8L2Rpdj4nKVswXTsKICAgICAgICAgICAgICAgIHBvcHVwXzQwNGViYTE1YTZkZDQ3ZTE5NjI0N2E4Mzc5YTIzNDgzLnNldENvbnRlbnQoaHRtbF83NjE0NTBmMTVlNGM0NjU2YTM4NTg2M2IwMjY3OTdlNyk7CiAgICAgICAgICAgIAoKICAgICAgICAgICAgY2lyY2xlX21hcmtlcl9mYWEzZmUyZDI3ZDQ0YzYwYjE2YzQ4MmQ2YTlmZDI5Ni5iaW5kUG9wdXAocG9wdXBfNDA0ZWJhMTVhNmRkNDdlMTk2MjQ3YTgzNzlhMjM0ODMpOwoKICAgICAgICAgICAgCiAgICAgICAgCiAgICAKICAgICAgICAgICAgdmFyIGNpcmNsZV9tYXJrZXJfNDEwY2ZmNGU2YWEyNDMxYjhhYjRjMjljNTZlNTNkNDYgPSBMLmNpcmNsZU1hcmtlcigKICAgICAgICAgICAgICAgIFs0MS42MTU1MzE0MTE5NzcxLC04Ny43MTUxMDQxMTU3OTU1NF0sCiAgICAgICAgICAgICAgICB7CiAgImJ1YmJsaW5nTW91c2VFdmVudHMiOiB0cnVlLAogICJjb2xvciI6ICIjZmYwMDAwIiwKICAiZGFzaEFycmF5IjogbnVsbCwKICAiZGFzaE9mZnNldCI6IG51bGwsCiAgImZpbGwiOiB0cnVlLAogICJmaWxsQ29sb3IiOiAiI2ZmMDAwMCIsCiAgImZpbGxPcGFjaXR5IjogMC43LAogICJmaWxsUnVsZSI6ICJldmVub2RkIiwKICAibGluZUNhcCI6ICJyb3VuZCIsCiAgImxpbmVKb2luIjogInJvdW5kIiwKICAib3BhY2l0eSI6IDEuMCwKICAicmFkaXVzIjogNSwKICAic3Ryb2tlIjogdHJ1ZSwKICAid2VpZ2h0IjogMwp9CiAgICAgICAgICAgICAgICApLmFkZFRvKG1hcF9iNjE3NWZjZjFlNTM0NjY2YmNmNzgzZGI0NWM0NGM3Myk7CiAgICAgICAgICAgIAogICAgCiAgICAgICAgICAgIHZhciBwb3B1cF9jOWY1ZDc5MTY2MTk0NzM2OGRiODE3MTg5NmI2NmE1OSA9IEwucG9wdXAoe21heFdpZHRoOiAnMzAwJ30pOwoKICAgICAgICAgICAgCiAgICAgICAgICAgICAgICB2YXIgaHRtbF9kNTFlOGUyZmYxMGI0M2UwOTgwNTY1YzkyMzI2MWY4MyA9ICQoJzxkaXYgaWQ9Imh0bWxfZDUxZThlMmZmMTBiNDNlMDk4MDU2NWM5MjMyNjFmODMiIHN0eWxlPSJ3aWR0aDogMTAwLjAlOyBoZWlnaHQ6IDEwMC4wJTsiPkJyZW1lbiBIaWdoIFNjaG9vbCBDbHVzdGVyIDA8L2Rpdj4nKVswXTsKICAgICAgICAgICAgICAgIHBvcHVwX2M5ZjVkNzkxNjYxOTQ3MzY4ZGI4MTcxODk2YjY2YTU5LnNldENvbnRlbnQoaHRtbF9kNTFlOGUyZmYxMGI0M2UwOTgwNTY1YzkyMzI2MWY4Myk7CiAgICAgICAgICAgIAoKICAgICAgICAgICAgY2lyY2xlX21hcmtlcl80MTBjZmY0ZTZhYTI0MzFiOGFiNGMyOWM1NmU1M2Q0Ni5iaW5kUG9wdXAocG9wdXBfYzlmNWQ3OTE2NjE5NDczNjhkYjgxNzE4OTZiNjZhNTkpOwoKICAgICAgICAgICAgCiAgICAgICAgCiAgICAKICAgICAgICAgICAgdmFyIGNpcmNsZV9tYXJrZXJfYThjOTUwNDRkNDQ2NDA1N2E1NTA0NTBhMjM4NjcxYjYgPSBMLmNpcmNsZU1hcmtlcigKICAgICAgICAgICAgICAgIFs0MS42MDYyMTc3MjkwNzc3MSwtODcuNjE5NDU1MDM4OTEzOTFdLAogICAgICAgICAgICAgICAgewogICJidWJibGluZ01vdXNlRXZlbnRzIjogdHJ1ZSwKICAiY29sb3IiOiAiI2ZmMDAwMCIsCiAgImRhc2hBcnJheSI6IG51bGwsCiAgImRhc2hPZmZzZXQiOiBudWxsLAogICJmaWxsIjogdHJ1ZSwKICAiZmlsbENvbG9yIjogIiNmZjAwMDAiLAogICJmaWxsT3BhY2l0eSI6IDAuNywKICAiZmlsbFJ1bGUiOiAiZXZlbm9kZCIsCiAgImxpbmVDYXAiOiAicm91bmQiLAogICJsaW5lSm9pbiI6ICJyb3VuZCIsCiAgIm9wYWNpdHkiOiAxLjAsCiAgInJhZGl1cyI6IDUsCiAgInN0cm9rZSI6IHRydWUsCiAgIndlaWdodCI6IDMKfQogICAgICAgICAgICAgICAgKS5hZGRUbyhtYXBfYjYxNzVmY2YxZTUzNDY2NmJjZjc4M2RiNDVjNDRjNzMpOwogICAgICAgICAgICAKICAgIAogICAgICAgICAgICB2YXIgcG9wdXBfMjhiMDA5NzY3MWZjNGQxYTg0ZTQ0ZTg4YzA3MTZiYTEgPSBMLnBvcHVwKHttYXhXaWR0aDogJzMwMCd9KTsKCiAgICAgICAgICAgIAogICAgICAgICAgICAgICAgdmFyIGh0bWxfYzFmYTFlOWNhNzc0NDQ1YWJlZWIwYmYyODhkY2M5MDMgPSAkKCc8ZGl2IGlkPSJodG1sX2MxZmExZTljYTc3NDQ0NWFiZWViMGJmMjg4ZGNjOTAzIiBzdHlsZT0id2lkdGg6IDEwMC4wJTsgaGVpZ2h0OiAxMDAuMCU7Ij5Tb3V0aCBTdWJ1cmJhbiBDb2xsZWdlIENsdXN0ZXIgMDwvZGl2PicpWzBdOwogICAgICAgICAgICAgICAgcG9wdXBfMjhiMDA5NzY3MWZjNGQxYTg0ZTQ0ZTg4YzA3MTZiYTEuc2V0Q29udGVudChodG1sX2MxZmExZTljYTc3NDQ0NWFiZWViMGJmMjg4ZGNjOTAzKTsKICAgICAgICAgICAgCgogICAgICAgICAgICBjaXJjbGVfbWFya2VyX2E4Yzk1MDQ0ZDQ0NjQwNTdhNTUwNDUwYTIzODY3MWI2LmJpbmRQb3B1cChwb3B1cF8yOGIwMDk3NjcxZmM0ZDFhODRlNDRlODhjMDcxNmJhMSk7CgogICAgICAgICAgICAKICAgICAgICAKICAgIAogICAgICAgICAgICB2YXIgY2lyY2xlX21hcmtlcl9iZTRiN2YzNDFmMjQ0MGM1OTJiYWJmMDFkOGQ5ZjMxMiA9IEwuY2lyY2xlTWFya2VyKAogICAgICAgICAgICAgICAgWzQyLjA2Nzk0NCwtODcuODA1NDgxXSwKICAgICAgICAgICAgICAgIHsKICAiYnViYmxpbmdNb3VzZUV2ZW50cyI6IHRydWUsCiAgImNvbG9yIjogIiNmZjAwMDAiLAogICJkYXNoQXJyYXkiOiBudWxsLAogICJkYXNoT2Zmc2V0IjogbnVsbCwKICAiZmlsbCI6IHRydWUsCiAgImZpbGxDb2xvciI6ICIjZmYwMDAwIiwKICAiZmlsbE9wYWNpdHkiOiAwLjcsCiAgImZpbGxSdWxlIjogImV2ZW5vZGQiLAogICJsaW5lQ2FwIjogInJvdW5kIiwKICAibGluZUpvaW4iOiAicm91bmQiLAogICJvcGFjaXR5IjogMS4wLAogICJyYWRpdXMiOiA1LAogICJzdHJva2UiOiB0cnVlLAogICJ3ZWlnaHQiOiAzCn0KICAgICAgICAgICAgICAgICkuYWRkVG8obWFwX2I2MTc1ZmNmMWU1MzQ2NjZiY2Y3ODNkYjQ1YzQ0YzczKTsKICAgICAgICAgICAgCiAgICAKICAgICAgICAgICAgdmFyIHBvcHVwX2NmOTA3ZGRiNDdjMjQ2NjBhYmNhNmUyNjVhZjVkYTgxID0gTC5wb3B1cCh7bWF4V2lkdGg6ICczMDAnfSk7CgogICAgICAgICAgICAKICAgICAgICAgICAgICAgIHZhciBodG1sX2E0NWFiOTg3YTBiMDRmYmY4OTE3ZmEwYTJmYmY3MWFlID0gJCgnPGRpdiBpZD0iaHRtbF9hNDVhYjk4N2EwYjA0ZmJmODkxN2ZhMGEyZmJmNzFhZSIgc3R5bGU9IndpZHRoOiAxMDAuMCU7IGhlaWdodDogMTAwLjAlOyI+V2VzbGV5IENoaWxkIENhcmUgQ2VudGVyICZhbXA7IEV4dGVuZGVkIFNlcnZpY2VzIENsdXN0ZXIgMDwvZGl2PicpWzBdOwogICAgICAgICAgICAgICAgcG9wdXBfY2Y5MDdkZGI0N2MyNDY2MGFiY2E2ZTI2NWFmNWRhODEuc2V0Q29udGVudChodG1sX2E0NWFiOTg3YTBiMDRmYmY4OTE3ZmEwYTJmYmY3MWFlKTsKICAgICAgICAgICAgCgogICAgICAgICAgICBjaXJjbGVfbWFya2VyX2JlNGI3ZjM0MWYyNDQwYzU5MmJhYmYwMWQ4ZDlmMzEyLmJpbmRQb3B1cChwb3B1cF9jZjkwN2RkYjQ3YzI0NjYwYWJjYTZlMjY1YWY1ZGE4MSk7CgogICAgICAgICAgICAKICAgICAgICAKICAgIAogICAgICAgICAgICB2YXIgY2lyY2xlX21hcmtlcl84YzQ4MjUwYjI5NGM0N2RmODM4YWUwMTQ3NmExNDNjYyA9IEwuY2lyY2xlTWFya2VyKAogICAgICAgICAgICAgICAgWzQxLjcxMzMyMywtODcuNzAwODAyXSwKICAgICAgICAgICAgICAgIHsKICAiYnViYmxpbmdNb3VzZUV2ZW50cyI6IHRydWUsCiAgImNvbG9yIjogIiMwMGI1ZWIiLAogICJkYXNoQXJyYXkiOiBudWxsLAogICJkYXNoT2Zmc2V0IjogbnVsbCwKICAiZmlsbCI6IHRydWUsCiAgImZpbGxDb2xvciI6ICIjMDBiNWViIiwKICAiZmlsbE9wYWNpdHkiOiAwLjcsCiAgImZpbGxSdWxlIjogImV2ZW5vZGQiLAogICJsaW5lQ2FwIjogInJvdW5kIiwKICAibGluZUpvaW4iOiAicm91bmQiLAogICJvcGFjaXR5IjogMS4wLAogICJyYWRpdXMiOiA1LAogICJzdHJva2UiOiB0cnVlLAogICJ3ZWlnaHQiOiAzCn0KICAgICAgICAgICAgICAgICkuYWRkVG8obWFwX2I2MTc1ZmNmMWU1MzQ2NjZiY2Y3ODNkYjQ1YzQ0YzczKTsKICAgICAgICAgICAgCiAgICAKICAgICAgICAgICAgdmFyIHBvcHVwXzEyMzQyY2VmYmUxYTRlNjY5OTUwYTQ1YTRhMzZmYWZlID0gTC5wb3B1cCh7bWF4V2lkdGg6ICczMDAnfSk7CgogICAgICAgICAgICAKICAgICAgICAgICAgICAgIHZhciBodG1sXzE1MjJmZDQ2YzJjNDRkMTg4MmMzZDUyOTQwN2FmZjIwID0gJCgnPGRpdiBpZD0iaHRtbF8xNTIyZmQ0NmMyYzQ0ZDE4ODJjM2Q1Mjk0MDdhZmYyMCIgc3R5bGU9IndpZHRoOiAxMDAuMCU7IGhlaWdodDogMTAwLjAlOyI+cGhvdG9ncmFwaHkgZGFyayByb29tIENsdXN0ZXIgMjwvZGl2PicpWzBdOwogICAgICAgICAgICAgICAgcG9wdXBfMTIzNDJjZWZiZTFhNGU2Njk5NTBhNDVhNGEzNmZhZmUuc2V0Q29udGVudChodG1sXzE1MjJmZDQ2YzJjNDRkMTg4MmMzZDUyOTQwN2FmZjIwKTsKICAgICAgICAgICAgCgogICAgICAgICAgICBjaXJjbGVfbWFya2VyXzhjNDgyNTBiMjk0YzQ3ZGY4MzhhZTAxNDc2YTE0M2NjLmJpbmRQb3B1cChwb3B1cF8xMjM0MmNlZmJlMWE0ZTY2OTk1MGE0NWE0YTM2ZmFmZSk7CgogICAgICAgICAgICAKICAgICAgICAKICAgIAogICAgICAgICAgICB2YXIgY2lyY2xlX21hcmtlcl80MmM0YTJjMTA5YWE0ZGUzOTM1NjNiZmE0NDY4NDFiYyA9IEwuY2lyY2xlTWFya2VyKAogICAgICAgICAgICAgICAgWzQyLjA0NjQwNTAzNDM1NzM2LC04Ny42ODExMDQzMzIzMDYwNV0sCiAgICAgICAgICAgICAgICB7CiAgImJ1YmJsaW5nTW91c2VFdmVudHMiOiB0cnVlLAogICJjb2xvciI6ICIjMDBiNWViIiwKICAiZGFzaEFycmF5IjogbnVsbCwKICAiZGFzaE9mZnNldCI6IG51bGwsCiAgImZpbGwiOiB0cnVlLAogICJmaWxsQ29sb3IiOiAiIzAwYjVlYiIsCiAgImZpbGxPcGFjaXR5IjogMC43LAogICJmaWxsUnVsZSI6ICJldmVub2RkIiwKICAibGluZUNhcCI6ICJyb3VuZCIsCiAgImxpbmVKb2luIjogInJvdW5kIiwKICAib3BhY2l0eSI6IDEuMCwKICAicmFkaXVzIjogNSwKICAic3Ryb2tlIjogdHJ1ZSwKICAid2VpZ2h0IjogMwp9CiAgICAgICAgICAgICAgICApLmFkZFRvKG1hcF9iNjE3NWZjZjFlNTM0NjY2YmNmNzgzZGI0NWM0NGM3Myk7CiAgICAgICAgICAgIAogICAgCiAgICAgICAgICAgIHZhciBwb3B1cF80OTViNzkyMWE2NzY0NDJmOTFkM2U5NzUxNDM5MzViYyA9IEwucG9wdXAoe21heFdpZHRoOiAnMzAwJ30pOwoKICAgICAgICAgICAgCiAgICAgICAgICAgICAgICB2YXIgaHRtbF8zMjkzMzMzMzYwM2Q0YWU1YjQ4NTcxM2FkMGJhMWE2ZiA9ICQoJzxkaXYgaWQ9Imh0bWxfMzI5MzMzMzM2MDNkNGFlNWI0ODU3MTNhZDBiYTFhNmYiIHN0eWxlPSJ3aWR0aDogMTAwLjAlOyBoZWlnaHQ6IDEwMC4wJTsiPkJlYWNvbiBBY2FkZW15IENsdXN0ZXIgMjwvZGl2PicpWzBdOwogICAgICAgICAgICAgICAgcG9wdXBfNDk1Yjc5MjFhNjc2NDQyZjkxZDNlOTc1MTQzOTM1YmMuc2V0Q29udGVudChodG1sXzMyOTMzMzMzNjAzZDRhZTViNDg1NzEzYWQwYmExYTZmKTsKICAgICAgICAgICAgCgogICAgICAgICAgICBjaXJjbGVfbWFya2VyXzQyYzRhMmMxMDlhYTRkZTM5MzU2M2JmYTQ0Njg0MWJjLmJpbmRQb3B1cChwb3B1cF80OTViNzkyMWE2NzY0NDJmOTFkM2U5NzUxNDM5MzViYyk7CgogICAgICAgICAgICAKICAgICAgICAKICAgIAogICAgICAgICAgICB2YXIgY2lyY2xlX21hcmtlcl9hZTUxMDgzNjI5MTI0NGIzYjM2NjVkZmIzMmRkZGIzMCA9IEwuY2lyY2xlTWFya2VyKAogICAgICAgICAgICAgICAgWzQxLjc0NTM4NCwtODcuNjUyMjIxXSwKICAgICAgICAgICAgICAgIHsKICAiYnViYmxpbmdNb3VzZUV2ZW50cyI6IHRydWUsCiAgImNvbG9yIjogIiMwMGI1ZWIiLAogICJkYXNoQXJyYXkiOiBudWxsLAogICJkYXNoT2Zmc2V0IjogbnVsbCwKICAiZmlsbCI6IHRydWUsCiAgImZpbGxDb2xvciI6ICIjMDBiNWViIiwKICAiZmlsbE9wYWNpdHkiOiAwLjcsCiAgImZpbGxSdWxlIjogImV2ZW5vZGQiLAogICJsaW5lQ2FwIjogInJvdW5kIiwKICAibGluZUpvaW4iOiAicm91bmQiLAogICJvcGFjaXR5IjogMS4wLAogICJyYWRpdXMiOiA1LAogICJzdHJva2UiOiB0cnVlLAogICJ3ZWlnaHQiOiAzCn0KICAgICAgICAgICAgICAgICkuYWRkVG8obWFwX2I2MTc1ZmNmMWU1MzQ2NjZiY2Y3ODNkYjQ1YzQ0YzczKTsKICAgICAgICAgICAgCiAgICAKICAgICAgICAgICAgdmFyIHBvcHVwXzY2NzllNDFmZmNmNTQyODliMjczZDc1Mzc2ZDRhMzE3ID0gTC5wb3B1cCh7bWF4V2lkdGg6ICczMDAnfSk7CgogICAgICAgICAgICAKICAgICAgICAgICAgICAgIHZhciBodG1sXzBiZWJiODBmMmQ1ZDRmNTBhZmZiZDA0YzdmNTE4ZDFjID0gJCgnPGRpdiBpZD0iaHRtbF8wYmViYjgwZjJkNWQ0ZjUwYWZmYmQwNGM3ZjUxOGQxYyIgc3R5bGU9IndpZHRoOiAxMDAuMCU7IGhlaWdodDogMTAwLjAlOyI+UGVyc3BlY3RpdmUgSGlnaCBTY2hvb2wgT2YgVGVjaG5vbG9neSBDbHVzdGVyIDI8L2Rpdj4nKVswXTsKICAgICAgICAgICAgICAgIHBvcHVwXzY2NzllNDFmZmNmNTQyODliMjczZDc1Mzc2ZDRhMzE3LnNldENvbnRlbnQoaHRtbF8wYmViYjgwZjJkNWQ0ZjUwYWZmYmQwNGM3ZjUxOGQxYyk7CiAgICAgICAgICAgIAoKICAgICAgICAgICAgY2lyY2xlX21hcmtlcl9hZTUxMDgzNjI5MTI0NGIzYjM2NjVkZmIzMmRkZGIzMC5iaW5kUG9wdXAocG9wdXBfNjY3OWU0MWZmY2Y1NDI4OWIyNzNkNzUzNzZkNGEzMTcpOwoKICAgICAgICAgICAgCiAgICAgICAgCiAgICAKICAgICAgICAgICAgdmFyIGNpcmNsZV9tYXJrZXJfMTg4YjI5ZjUwOTIzNDFkYmEyNjY0ZGU5YmM4YTc4NjIgPSBMLmNpcmNsZU1hcmtlcigKICAgICAgICAgICAgICAgIFs0Mi4wNjA2NzAzNywtODcuODYyNDg3MTRdLAogICAgICAgICAgICAgICAgewogICJidWJibGluZ01vdXNlRXZlbnRzIjogdHJ1ZSwKICAiY29sb3IiOiAiI2ZmMDAwMCIsCiAgImRhc2hBcnJheSI6IG51bGwsCiAgImRhc2hPZmZzZXQiOiBudWxsLAogICJmaWxsIjogdHJ1ZSwKICAiZmlsbENvbG9yIjogIiNmZjAwMDAiLAogICJmaWxsT3BhY2l0eSI6IDAuNywKICAiZmlsbFJ1bGUiOiAiZXZlbm9kZCIsCiAgImxpbmVDYXAiOiAicm91bmQiLAogICJsaW5lSm9pbiI6ICJyb3VuZCIsCiAgIm9wYWNpdHkiOiAxLjAsCiAgInJhZGl1cyI6IDUsCiAgInN0cm9rZSI6IHRydWUsCiAgIndlaWdodCI6IDMKfQogICAgICAgICAgICAgICAgKS5hZGRUbyhtYXBfYjYxNzVmY2YxZTUzNDY2NmJjZjc4M2RiNDVjNDRjNzMpOwogICAgICAgICAgICAKICAgIAogICAgICAgICAgICB2YXIgcG9wdXBfODA3YTlkZjk1Mzc0NDUyYjhhOGIyMzA1MjM2MzI4MDcgPSBMLnBvcHVwKHttYXhXaWR0aDogJzMwMCd9KTsKCiAgICAgICAgICAgIAogICAgICAgICAgICAgICAgdmFyIGh0bWxfMzE4M2NjODAyOTA1NDE4YmJmZDlmZWU3MjRiZjdhMGMgPSAkKCc8ZGl2IGlkPSJodG1sXzMxODNjYzgwMjkwNTQxOGJiZmQ5ZmVlNzI0YmY3YTBjIiBzdHlsZT0id2lkdGg6IDEwMC4wJTsgaGVpZ2h0OiAxMDAuMCU7Ij5TaGVybWVyIEhpZ2ggU2Nob29sIENsdXN0ZXIgMDwvZGl2PicpWzBdOwogICAgICAgICAgICAgICAgcG9wdXBfODA3YTlkZjk1Mzc0NDUyYjhhOGIyMzA1MjM2MzI4MDcuc2V0Q29udGVudChodG1sXzMxODNjYzgwMjkwNTQxOGJiZmQ5ZmVlNzI0YmY3YTBjKTsKICAgICAgICAgICAgCgogICAgICAgICAgICBjaXJjbGVfbWFya2VyXzE4OGIyOWY1MDkyMzQxZGJhMjY2NGRlOWJjOGE3ODYyLmJpbmRQb3B1cChwb3B1cF84MDdhOWRmOTUzNzQ0NTJiOGE4YjIzMDUyMzYzMjgwNyk7CgogICAgICAgICAgICAKICAgICAgICAKICAgIAogICAgICAgICAgICB2YXIgY2lyY2xlX21hcmtlcl81ODlkYTQzOTVlMDk0ZDZmYjQxZDkzZWVhZjcxY2RmZiA9IEwuY2lyY2xlTWFya2VyKAogICAgICAgICAgICAgICAgWzQyLjAxMzUzNTM0Nzg0NTcsLTg3LjY3NTIxMTM0MDI1MjI5XSwKICAgICAgICAgICAgICAgIHsKICAiYnViYmxpbmdNb3VzZUV2ZW50cyI6IHRydWUsCiAgImNvbG9yIjogIiMwMGI1ZWIiLAogICJkYXNoQXJyYXkiOiBudWxsLAogICJkYXNoT2Zmc2V0IjogbnVsbCwKICAiZmlsbCI6IHRydWUsCiAgImZpbGxDb2xvciI6ICIjMDBiNWViIiwKICAiZmlsbE9wYWNpdHkiOiAwLjcsCiAgImZpbGxSdWxlIjogImV2ZW5vZGQiLAogICJsaW5lQ2FwIjogInJvdW5kIiwKICAibGluZUpvaW4iOiAicm91bmQiLAogICJvcGFjaXR5IjogMS4wLAogICJyYWRpdXMiOiA1LAogICJzdHJva2UiOiB0cnVlLAogICJ3ZWlnaHQiOiAzCn0KICAgICAgICAgICAgICAgICkuYWRkVG8obWFwX2I2MTc1ZmNmMWU1MzQ2NjZiY2Y3ODNkYjQ1YzQ0YzczKTsKICAgICAgICAgICAgCiAgICAKICAgICAgICAgICAgdmFyIHBvcHVwX2FlNDY3MzVmYzUxZDRiMzU5MTI2ZmI0Mjg2NGNiMTg2ID0gTC5wb3B1cCh7bWF4V2lkdGg6ICczMDAnfSk7CgogICAgICAgICAgICAKICAgICAgICAgICAgICAgIHZhciBodG1sXzY1MzUxZDAxOGE2ZDQ2Y2I4ZTlkMDI1NTViNTkwNDk4ID0gJCgnPGRpdiBpZD0iaHRtbF82NTM1MWQwMThhNmQ0NmNiOGU5ZDAyNTU1YjU5MDQ5OCIgc3R5bGU9IndpZHRoOiAxMDAuMCU7IGhlaWdodDogMTAwLjAlOyI+Q2hpY2FnbyBtYXRoICZhbXA7IHNjaWVuY2UgYWNhZGVteSBDbHVzdGVyIDI8L2Rpdj4nKVswXTsKICAgICAgICAgICAgICAgIHBvcHVwX2FlNDY3MzVmYzUxZDRiMzU5MTI2ZmI0Mjg2NGNiMTg2LnNldENvbnRlbnQoaHRtbF82NTM1MWQwMThhNmQ0NmNiOGU5ZDAyNTU1YjU5MDQ5OCk7CiAgICAgICAgICAgIAoKICAgICAgICAgICAgY2lyY2xlX21hcmtlcl81ODlkYTQzOTVlMDk0ZDZmYjQxZDkzZWVhZjcxY2RmZi5iaW5kUG9wdXAocG9wdXBfYWU0NjczNWZjNTFkNGIzNTkxMjZmYjQyODY0Y2IxODYpOwoKICAgICAgICAgICAgCiAgICAgICAgCiAgICAKICAgICAgICAgICAgdmFyIGNpcmNsZV9tYXJrZXJfOTlhOTcxYzc3ZWQ4NGJmYzgyOTZiZTk3YjY5ZjRjNmMgPSBMLmNpcmNsZU1hcmtlcigKICAgICAgICAgICAgICAgIFs0Mi4wODk2ODY3NTAwODU1OCwtODcuNzY1MzU2OTEzMzY3MV0sCiAgICAgICAgICAgICAgICB7CiAgImJ1YmJsaW5nTW91c2VFdmVudHMiOiB0cnVlLAogICJjb2xvciI6ICIjZmYwMDAwIiwKICAiZGFzaEFycmF5IjogbnVsbCwKICAiZGFzaE9mZnNldCI6IG51bGwsCiAgImZpbGwiOiB0cnVlLAogICJmaWxsQ29sb3IiOiAiI2ZmMDAwMCIsCiAgImZpbGxPcGFjaXR5IjogMC43LAogICJmaWxsUnVsZSI6ICJldmVub2RkIiwKICAibGluZUNhcCI6ICJyb3VuZCIsCiAgImxpbmVKb2luIjogInJvdW5kIiwKICAib3BhY2l0eSI6IDEuMCwKICAicmFkaXVzIjogNSwKICAic3Ryb2tlIjogdHJ1ZSwKICAid2VpZ2h0IjogMwp9CiAgICAgICAgICAgICAgICApLmFkZFRvKG1hcF9iNjE3NWZjZjFlNTM0NjY2YmNmNzgzZGI0NWM0NGM3Myk7CiAgICAgICAgICAgIAogICAgCiAgICAgICAgICAgIHZhciBwb3B1cF8xMGVmZjVhNWNjYzg0NzMwOTgwYjY0Y2FhMDFiZWQ0ZiA9IEwucG9wdXAoe21heFdpZHRoOiAnMzAwJ30pOwoKICAgICAgICAgICAgCiAgICAgICAgICAgICAgICB2YXIgaHRtbF85ZDYwZDY3ZWQyY2E0ZDlmOTJkYzc1YzcyMTkzY2Y3YyA9ICQoJzxkaXYgaWQ9Imh0bWxfOWQ2MGQ2N2VkMmNhNGQ5ZjkyZGM3NWM3MjE5M2NmN2MiIHN0eWxlPSJ3aWR0aDogMTAwLjAlOyBoZWlnaHQ6IDEwMC4wJTsiPkNvcm5kb2cgQXVkaXRvcml1bSBDbHVzdGVyIDA8L2Rpdj4nKVswXTsKICAgICAgICAgICAgICAgIHBvcHVwXzEwZWZmNWE1Y2NjODQ3MzA5ODBiNjRjYWEwMWJlZDRmLnNldENvbnRlbnQoaHRtbF85ZDYwZDY3ZWQyY2E0ZDlmOTJkYzc1YzcyMTkzY2Y3Yyk7CiAgICAgICAgICAgIAoKICAgICAgICAgICAgY2lyY2xlX21hcmtlcl85OWE5NzFjNzdlZDg0YmZjODI5NmJlOTdiNjlmNGM2Yy5iaW5kUG9wdXAocG9wdXBfMTBlZmY1YTVjY2M4NDczMDk4MGI2NGNhYTAxYmVkNGYpOwoKICAgICAgICAgICAgCiAgICAgICAgCiAgICAKICAgICAgICAgICAgdmFyIGNpcmNsZV9tYXJrZXJfYWI2YTkwZWE2MGIyNDA3MjgzYzg0MTMwMDUyODFkMDQgPSBMLmNpcmNsZU1hcmtlcigKICAgICAgICAgICAgICAgIFs0MS43Mjk5OTc5OTk5OTk5OTUsLTg3LjYwNjcyOV0sCiAgICAgICAgICAgICAgICB7CiAgImJ1YmJsaW5nTW91c2VFdmVudHMiOiB0cnVlLAogICJjb2xvciI6ICIjMDBiNWViIiwKICAiZGFzaEFycmF5IjogbnVsbCwKICAiZGFzaE9mZnNldCI6IG51bGwsCiAgImZpbGwiOiB0cnVlLAogICJmaWxsQ29sb3IiOiAiIzAwYjVlYiIsCiAgImZpbGxPcGFjaXR5IjogMC43LAogICJmaWxsUnVsZSI6ICJldmVub2RkIiwKICAibGluZUNhcCI6ICJyb3VuZCIsCiAgImxpbmVKb2luIjogInJvdW5kIiwKICAib3BhY2l0eSI6IDEuMCwKICAicmFkaXVzIjogNSwKICAic3Ryb2tlIjogdHJ1ZSwKICAid2VpZ2h0IjogMwp9CiAgICAgICAgICAgICAgICApLmFkZFRvKG1hcF9iNjE3NWZjZjFlNTM0NjY2YmNmNzgzZGI0NWM0NGM3Myk7CiAgICAgICAgICAgIAogICAgCiAgICAgICAgICAgIHZhciBwb3B1cF84MWY4YzUxNGE2Yzk0Njk1YmUyMjUxOTgzZTg4MmJjYSA9IEwucG9wdXAoe21heFdpZHRoOiAnMzAwJ30pOwoKICAgICAgICAgICAgCiAgICAgICAgICAgICAgICB2YXIgaHRtbF9iOWZhN2Q5MDE3ODc0OGQxODM1YzhjNjRiODBiMWNkMyA9ICQoJzxkaXYgaWQ9Imh0bWxfYjlmYTdkOTAxNzg3NDhkMTgzNWM4YzY0YjgwYjFjZDMiIHN0eWxlPSJ3aWR0aDogMTAwLjAlOyBoZWlnaHQ6IDEwMC4wJTsiPkNoYXRoYW0gQWNhZGVteSBBbHRlcm5hdGl2ZSBDaGFydGVyIFNjaG9vbCBDbHVzdGVyIDI8L2Rpdj4nKVswXTsKICAgICAgICAgICAgICAgIHBvcHVwXzgxZjhjNTE0YTZjOTQ2OTViZTIyNTE5ODNlODgyYmNhLnNldENvbnRlbnQoaHRtbF9iOWZhN2Q5MDE3ODc0OGQxODM1YzhjNjRiODBiMWNkMyk7CiAgICAgICAgICAgIAoKICAgICAgICAgICAgY2lyY2xlX21hcmtlcl9hYjZhOTBlYTYwYjI0MDcyODNjODQxMzAwNTI4MWQwNC5iaW5kUG9wdXAocG9wdXBfODFmOGM1MTRhNmM5NDY5NWJlMjI1MTk4M2U4ODJiY2EpOwoKICAgICAgICAgICAgCiAgICAgICAgCiAgICAKICAgICAgICAgICAgdmFyIGNpcmNsZV9tYXJrZXJfY2JkODhlYWE4M2FlNDAzNGE4YWFjZTUyMDcyMWFiNmMgPSBMLmNpcmNsZU1hcmtlcigKICAgICAgICAgICAgICAgIFs0MS45MzMxMjksLTg3LjcxOTM5MV0sCiAgICAgICAgICAgICAgICB7CiAgImJ1YmJsaW5nTW91c2VFdmVudHMiOiB0cnVlLAogICJjb2xvciI6ICIjODAwMGZmIiwKICAiZGFzaEFycmF5IjogbnVsbCwKICAiZGFzaE9mZnNldCI6IG51bGwsCiAgImZpbGwiOiB0cnVlLAogICJmaWxsQ29sb3IiOiAiIzgwMDBmZiIsCiAgImZpbGxPcGFjaXR5IjogMC43LAogICJmaWxsUnVsZSI6ICJldmVub2RkIiwKICAibGluZUNhcCI6ICJyb3VuZCIsCiAgImxpbmVKb2luIjogInJvdW5kIiwKICAib3BhY2l0eSI6IDEuMCwKICAicmFkaXVzIjogNSwKICAic3Ryb2tlIjogdHJ1ZSwKICAid2VpZ2h0IjogMwp9CiAgICAgICAgICAgICAgICApLmFkZFRvKG1hcF9iNjE3NWZjZjFlNTM0NjY2YmNmNzgzZGI0NWM0NGM3Myk7CiAgICAgICAgICAgIAogICAgCiAgICAgICAgICAgIHZhciBwb3B1cF9kMmIwNDk0MWFlNDQ0OTA4ODU1YmIyY2Q3ODkwN2Q0ZCA9IEwucG9wdXAoe21heFdpZHRoOiAnMzAwJ30pOwoKICAgICAgICAgICAgCiAgICAgICAgICAgICAgICB2YXIgaHRtbF8zYjk5NDc2NzYxNGY0MWQyODFlNTBlYWJjOGJkMGM5ZCA9ICQoJzxkaXYgaWQ9Imh0bWxfM2I5OTQ3Njc2MTRmNDFkMjgxZTUwZWFiYzhiZDBjOWQiIHN0eWxlPSJ3aWR0aDogMTAwLjAlOyBoZWlnaHQ6IDEwMC4wJTsiPkVsbGVuIEdhdGVzIFN0YXJyIEhpZ2ggU2Nob29sIENsdXN0ZXIgMTwvZGl2PicpWzBdOwogICAgICAgICAgICAgICAgcG9wdXBfZDJiMDQ5NDFhZTQ0NDkwODg1NWJiMmNkNzg5MDdkNGQuc2V0Q29udGVudChodG1sXzNiOTk0NzY3NjE0ZjQxZDI4MWU1MGVhYmM4YmQwYzlkKTsKICAgICAgICAgICAgCgogICAgICAgICAgICBjaXJjbGVfbWFya2VyX2NiZDg4ZWFhODNhZTQwMzRhOGFhY2U1MjA3MjFhYjZjLmJpbmRQb3B1cChwb3B1cF9kMmIwNDk0MWFlNDQ0OTA4ODU1YmIyY2Q3ODkwN2Q0ZCk7CgogICAgICAgICAgICAKICAgICAgICAKICAgIAogICAgICAgICAgICB2YXIgY2lyY2xlX21hcmtlcl82ODgxMmJlNDNiMDU0NTE3YWJjZDA2MGIyNDBjNzEwNCA9IEwuY2lyY2xlTWFya2VyKAogICAgICAgICAgICAgICAgWzQxLjg5NjA1NTA0NDM0ODY3LC04Ny42NTgzNDE4MDY0MTU3Nl0sCiAgICAgICAgICAgICAgICB7CiAgImJ1YmJsaW5nTW91c2VFdmVudHMiOiB0cnVlLAogICJjb2xvciI6ICIjMDBiNWViIiwKICAiZGFzaEFycmF5IjogbnVsbCwKICAiZGFzaE9mZnNldCI6IG51bGwsCiAgImZpbGwiOiB0cnVlLAogICJmaWxsQ29sb3IiOiAiIzAwYjVlYiIsCiAgImZpbGxPcGFjaXR5IjogMC43LAogICJmaWxsUnVsZSI6ICJldmVub2RkIiwKICAibGluZUNhcCI6ICJyb3VuZCIsCiAgImxpbmVKb2luIjogInJvdW5kIiwKICAib3BhY2l0eSI6IDEuMCwKICAicmFkaXVzIjogNSwKICAic3Ryb2tlIjogdHJ1ZSwKICAid2VpZ2h0IjogMwp9CiAgICAgICAgICAgICAgICApLmFkZFRvKG1hcF9iNjE3NWZjZjFlNTM0NjY2YmNmNzgzZGI0NWM0NGM3Myk7CiAgICAgICAgICAgIAogICAgCiAgICAgICAgICAgIHZhciBwb3B1cF9hZjBiYWFlNmJkMjc0N2VjYmQ0ZTM3YjRiZmRiZTYzYiA9IEwucG9wdXAoe21heFdpZHRoOiAnMzAwJ30pOwoKICAgICAgICAgICAgCiAgICAgICAgICAgICAgICB2YXIgaHRtbF81ZTQzZjlkZTRhNTA0MTM0YmQyN2I1NzI0NjE4NmRlMCA9ICQoJzxkaXYgaWQ9Imh0bWxfNWU0M2Y5ZGU0YTUwNDEzNGJkMjdiNTcyNDYxODZkZTAiIHN0eWxlPSJ3aWR0aDogMTAwLjAlOyBoZWlnaHQ6IDEwMC4wJTsiPkNBQSBNdXNpYyBUaGVhdHJlIERlcHQgKFJvb20gNDA1KSBDbHVzdGVyIDI8L2Rpdj4nKVswXTsKICAgICAgICAgICAgICAgIHBvcHVwX2FmMGJhYWU2YmQyNzQ3ZWNiZDRlMzdiNGJmZGJlNjNiLnNldENvbnRlbnQoaHRtbF81ZTQzZjlkZTRhNTA0MTM0YmQyN2I1NzI0NjE4NmRlMCk7CiAgICAgICAgICAgIAoKICAgICAgICAgICAgY2lyY2xlX21hcmtlcl82ODgxMmJlNDNiMDU0NTE3YWJjZDA2MGIyNDBjNzEwNC5iaW5kUG9wdXAocG9wdXBfYWYwYmFhZTZiZDI3NDdlY2JkNGUzN2I0YmZkYmU2M2IpOwoKICAgICAgICAgICAgCiAgICAgICAgCiAgICAKICAgICAgICAgICAgdmFyIGNpcmNsZV9tYXJrZXJfOWVkYzgwNzNkMDgwNGI1NDhiYzMyYzY0ZGE1Mzk0ZDggPSBMLmNpcmNsZU1hcmtlcigKICAgICAgICAgICAgICAgIFs0MS44MDk2MDEyOTYwOTA4NzUsLTg3LjYwMDE0ODc0ODU0NTk4XSwKICAgICAgICAgICAgICAgIHsKICAiYnViYmxpbmdNb3VzZUV2ZW50cyI6IHRydWUsCiAgImNvbG9yIjogIiMwMGI1ZWIiLAogICJkYXNoQXJyYXkiOiBudWxsLAogICJkYXNoT2Zmc2V0IjogbnVsbCwKICAiZmlsbCI6IHRydWUsCiAgImZpbGxDb2xvciI6ICIjMDBiNWViIiwKICAiZmlsbE9wYWNpdHkiOiAwLjcsCiAgImZpbGxSdWxlIjogImV2ZW5vZGQiLAogICJsaW5lQ2FwIjogInJvdW5kIiwKICAibGluZUpvaW4iOiAicm91bmQiLAogICJvcGFjaXR5IjogMS4wLAogICJyYWRpdXMiOiA1LAogICJzdHJva2UiOiB0cnVlLAogICJ3ZWlnaHQiOiAzCn0KICAgICAgICAgICAgICAgICkuYWRkVG8obWFwX2I2MTc1ZmNmMWU1MzQ2NjZiY2Y3ODNkYjQ1YzQ0YzczKTsKICAgICAgICAgICAgCiAgICAKICAgICAgICAgICAgdmFyIHBvcHVwXzhhMGJlYzc5MzRhZDRlMGVhNzcxYTRkYjIzZGIwNjU2ID0gTC5wb3B1cCh7bWF4V2lkdGg6ICczMDAnfSk7CgogICAgICAgICAgICAKICAgICAgICAgICAgICAgIHZhciBodG1sXzIwNmYwNmU1YWM5MjRjOTFiNWJkODcyZjQ2NzBlZGFjID0gJCgnPGRpdiBpZD0iaHRtbF8yMDZmMDZlNWFjOTI0YzkxYjViZDg3MmY0NjcwZWRhYyIgc3R5bGU9IndpZHRoOiAxMDAuMCU7IGhlaWdodDogMTAwLjAlOyI+T3B0aW9ucyBMYWJvcmF0b3J5IEhpZ2ggU2Nob29sIENsdXN0ZXIgMjwvZGl2PicpWzBdOwogICAgICAgICAgICAgICAgcG9wdXBfOGEwYmVjNzkzNGFkNGUwZWE3NzFhNGRiMjNkYjA2NTYuc2V0Q29udGVudChodG1sXzIwNmYwNmU1YWM5MjRjOTFiNWJkODcyZjQ2NzBlZGFjKTsKICAgICAgICAgICAgCgogICAgICAgICAgICBjaXJjbGVfbWFya2VyXzllZGM4MDczZDA4MDRiNTQ4YmMzMmM2NGRhNTM5NGQ4LmJpbmRQb3B1cChwb3B1cF84YTBiZWM3OTM0YWQ0ZTBlYTc3MWE0ZGIyM2RiMDY1Nik7CgogICAgICAgICAgICAKICAgICAgICAKICAgIAogICAgICAgICAgICB2YXIgY2lyY2xlX21hcmtlcl9mYTRhOGMzMWU0Yzk0NmMzYTBiMTMxZWZjZjE5Y2UwOCA9IEwuY2lyY2xlTWFya2VyKAogICAgICAgICAgICAgICAgWzQxLjY5MTk5Njc4NTMwMjkzLC04Ny42NTM3MTE0NjI2OTc1Nl0sCiAgICAgICAgICAgICAgICB7CiAgImJ1YmJsaW5nTW91c2VFdmVudHMiOiB0cnVlLAogICJjb2xvciI6ICIjZmYwMDAwIiwKICAiZGFzaEFycmF5IjogbnVsbCwKICAiZGFzaE9mZnNldCI6IG51bGwsCiAgImZpbGwiOiB0cnVlLAogICJmaWxsQ29sb3IiOiAiI2ZmMDAwMCIsCiAgImZpbGxPcGFjaXR5IjogMC43LAogICJmaWxsUnVsZSI6ICJldmVub2RkIiwKICAibGluZUNhcCI6ICJyb3VuZCIsCiAgImxpbmVKb2luIjogInJvdW5kIiwKICAib3BhY2l0eSI6IDEuMCwKICAicmFkaXVzIjogNSwKICAic3Ryb2tlIjogdHJ1ZSwKICAid2VpZ2h0IjogMwp9CiAgICAgICAgICAgICAgICApLmFkZFRvKG1hcF9iNjE3NWZjZjFlNTM0NjY2YmNmNzgzZGI0NWM0NGM3Myk7CiAgICAgICAgICAgIAogICAgCiAgICAgICAgICAgIHZhciBwb3B1cF85MjU1ZTFlZTlkN2M0NDNlOTdhMTMzOTgzNWE2OGUxMiA9IEwucG9wdXAoe21heFdpZHRoOiAnMzAwJ30pOwoKICAgICAgICAgICAgCiAgICAgICAgICAgICAgICB2YXIgaHRtbF82N2E4MWE3ODliMDc0YjNmYjhhNzdlYTM1YmY0NjJhZSA9ICQoJzxkaXYgaWQ9Imh0bWxfNjdhODFhNzg5YjA3NGIzZmI4YTc3ZWEzNWJmNDYyYWUiIHN0eWxlPSJ3aWR0aDogMTAwLjAlOyBoZWlnaHQ6IDEwMC4wJTsiPkNoaWNhZ28gRXhjZWwgQWNhZGVteSBDbHVzdGVyIDA8L2Rpdj4nKVswXTsKICAgICAgICAgICAgICAgIHBvcHVwXzkyNTVlMWVlOWQ3YzQ0M2U5N2ExMzM5ODM1YTY4ZTEyLnNldENvbnRlbnQoaHRtbF82N2E4MWE3ODliMDc0YjNmYjhhNzdlYTM1YmY0NjJhZSk7CiAgICAgICAgICAgIAoKICAgICAgICAgICAgY2lyY2xlX21hcmtlcl9mYTRhOGMzMWU0Yzk0NmMzYTBiMTMxZWZjZjE5Y2UwOC5iaW5kUG9wdXAocG9wdXBfOTI1NWUxZWU5ZDdjNDQzZTk3YTEzMzk4MzVhNjhlMTIpOwoKICAgICAgICAgICAgCiAgICAgICAgCiAgICAKICAgICAgICAgICAgdmFyIGNpcmNsZV9tYXJrZXJfMjEwY2E2NjNjZDU2NDQyMTliMjFiMTgzZGIyMDYyNDMgPSBMLmNpcmNsZU1hcmtlcigKICAgICAgICAgICAgICAgIFs0Mi4wMTk5ODY1NzM5MDE2MiwtODcuOTA2ODY2NjM1ODQ1MV0sCiAgICAgICAgICAgICAgICB7CiAgImJ1YmJsaW5nTW91c2VFdmVudHMiOiB0cnVlLAogICJjb2xvciI6ICIjZmYwMDAwIiwKICAiZGFzaEFycmF5IjogbnVsbCwKICAiZGFzaE9mZnNldCI6IG51bGwsCiAgImZpbGwiOiB0cnVlLAogICJmaWxsQ29sb3IiOiAiI2ZmMDAwMCIsCiAgImZpbGxPcGFjaXR5IjogMC43LAogICJmaWxsUnVsZSI6ICJldmVub2RkIiwKICAibGluZUNhcCI6ICJyb3VuZCIsCiAgImxpbmVKb2luIjogInJvdW5kIiwKICAib3BhY2l0eSI6IDEuMCwKICAicmFkaXVzIjogNSwKICAic3Ryb2tlIjogdHJ1ZSwKICAid2VpZ2h0IjogMwp9CiAgICAgICAgICAgICAgICApLmFkZFRvKG1hcF9iNjE3NWZjZjFlNTM0NjY2YmNmNzgzZGI0NWM0NGM3Myk7CiAgICAgICAgICAgIAogICAgCiAgICAgICAgICAgIHZhciBwb3B1cF81MTNkZjY0NzZkZWU0NzMwODY5NWZkNTA1ZjVhM2M2NCA9IEwucG9wdXAoe21heFdpZHRoOiAnMzAwJ30pOwoKICAgICAgICAgICAgCiAgICAgICAgICAgICAgICB2YXIgaHRtbF9lYmYxNDBmOTMyMzA0YjhjYjFiYWE1ZGViNWE1MTBiZSA9ICQoJzxkaXYgaWQ9Imh0bWxfZWJmMTQwZjkzMjMwNGI4Y2IxYmFhNWRlYjVhNTEwYmUiIHN0eWxlPSJ3aWR0aDogMTAwLjAlOyBoZWlnaHQ6IDEwMC4wJTsiPlRoZSBIYXJvbGQgRy4gQmFlciBOYXRhdG9yaXVtIChQb29sKSBDbHVzdGVyIDA8L2Rpdj4nKVswXTsKICAgICAgICAgICAgICAgIHBvcHVwXzUxM2RmNjQ3NmRlZTQ3MzA4Njk1ZmQ1MDVmNWEzYzY0LnNldENvbnRlbnQoaHRtbF9lYmYxNDBmOTMyMzA0YjhjYjFiYWE1ZGViNWE1MTBiZSk7CiAgICAgICAgICAgIAoKICAgICAgICAgICAgY2lyY2xlX21hcmtlcl8yMTBjYTY2M2NkNTY0NDIxOWIyMWIxODNkYjIwNjI0My5iaW5kUG9wdXAocG9wdXBfNTEzZGY2NDc2ZGVlNDczMDg2OTVmZDUwNWY1YTNjNjQpOwoKICAgICAgICAgICAgCiAgICAgICAgCiAgICAKICAgICAgICAgICAgdmFyIGNpcmNsZV9tYXJrZXJfNTVjNTc2NmQ0MjgyNDUyNWIwYzAwNzAyNzYxOTFlOTkgPSBMLmNpcmNsZU1hcmtlcigKICAgICAgICAgICAgICAgIFs0Mi4wMjQzNTM5ODcxODA0MywtODcuODc4MjY0NzkxMzIzMTZdLAogICAgICAgICAgICAgICAgewogICJidWJibGluZ01vdXNlRXZlbnRzIjogdHJ1ZSwKICAiY29sb3IiOiAiI2ZmMDAwMCIsCiAgImRhc2hBcnJheSI6IG51bGwsCiAgImRhc2hPZmZzZXQiOiBudWxsLAogICJmaWxsIjogdHJ1ZSwKICAiZmlsbENvbG9yIjogIiNmZjAwMDAiLAogICJmaWxsT3BhY2l0eSI6IDAuNywKICAiZmlsbFJ1bGUiOiAiZXZlbm9kZCIsCiAgImxpbmVDYXAiOiAicm91bmQiLAogICJsaW5lSm9pbiI6ICJyb3VuZCIsCiAgIm9wYWNpdHkiOiAxLjAsCiAgInJhZGl1cyI6IDUsCiAgInN0cm9rZSI6IHRydWUsCiAgIndlaWdodCI6IDMKfQogICAgICAgICAgICAgICAgKS5hZGRUbyhtYXBfYjYxNzVmY2YxZTUzNDY2NmJjZjc4M2RiNDVjNDRjNzMpOwogICAgICAgICAgICAKICAgIAogICAgICAgICAgICB2YXIgcG9wdXBfNWM1YTlhNWYzOGIxNDFlNzk2YTViZDIwZmY5Y2UwNWUgPSBMLnBvcHVwKHttYXhXaWR0aDogJzMwMCd9KTsKCiAgICAgICAgICAgIAogICAgICAgICAgICAgICAgdmFyIGh0bWxfNzM1MTYwNzhkNjJkNDVlM2FlMmEwNWY1OGYwZTgxNDYgPSAkKCc8ZGl2IGlkPSJodG1sXzczNTE2MDc4ZDYyZDQ1ZTNhZTJhMDVmNThmMGU4MTQ2IiBzdHlsZT0id2lkdGg6IDEwMC4wJTsgaGVpZ2h0OiAxMDAuMCU7Ij5NYWluZSBXZXN0IEhpZ2ggU2Nob29sIENhbXB1cyBDbHVzdGVyIDA8L2Rpdj4nKVswXTsKICAgICAgICAgICAgICAgIHBvcHVwXzVjNWE5YTVmMzhiMTQxZTc5NmE1YmQyMGZmOWNlMDVlLnNldENvbnRlbnQoaHRtbF83MzUxNjA3OGQ2MmQ0NWUzYWUyYTA1ZjU4ZjBlODE0Nik7CiAgICAgICAgICAgIAoKICAgICAgICAgICAgY2lyY2xlX21hcmtlcl81NWM1NzY2ZDQyODI0NTI1YjBjMDA3MDI3NjE5MWU5OS5iaW5kUG9wdXAocG9wdXBfNWM1YTlhNWYzOGIxNDFlNzk2YTViZDIwZmY5Y2UwNWUpOwoKICAgICAgICAgICAgCiAgICAgICAgCiAgICAKICAgICAgICAgICAgdmFyIGNpcmNsZV9tYXJrZXJfNzdlOTlkM2Q1YTE1NGU3MDg3YTdhY2UyMWYzZTFhM2QgPSBMLmNpcmNsZU1hcmtlcigKICAgICAgICAgICAgICAgIFs0MS43NTE0OTk3MjE2MDQ2NCwtODcuNjQxOTA5MzIwOTQ4MzNdLAogICAgICAgICAgICAgICAgewogICJidWJibGluZ01vdXNlRXZlbnRzIjogdHJ1ZSwKICAiY29sb3IiOiAiIzAwYjVlYiIsCiAgImRhc2hBcnJheSI6IG51bGwsCiAgImRhc2hPZmZzZXQiOiBudWxsLAogICJmaWxsIjogdHJ1ZSwKICAiZmlsbENvbG9yIjogIiMwMGI1ZWIiLAogICJmaWxsT3BhY2l0eSI6IDAuNywKICAiZmlsbFJ1bGUiOiAiZXZlbm9kZCIsCiAgImxpbmVDYXAiOiAicm91bmQiLAogICJsaW5lSm9pbiI6ICJyb3VuZCIsCiAgIm9wYWNpdHkiOiAxLjAsCiAgInJhZGl1cyI6IDUsCiAgInN0cm9rZSI6IHRydWUsCiAgIndlaWdodCI6IDMKfQogICAgICAgICAgICAgICAgKS5hZGRUbyhtYXBfYjYxNzVmY2YxZTUzNDY2NmJjZjc4M2RiNDVjNDRjNzMpOwogICAgICAgICAgICAKICAgIAogICAgICAgICAgICB2YXIgcG9wdXBfZmVkYThlOTU4MTMzNDRiM2I2MzFmYzk5NDhkZDZlYWEgPSBMLnBvcHVwKHttYXhXaWR0aDogJzMwMCd9KTsKCiAgICAgICAgICAgIAogICAgICAgICAgICAgICAgdmFyIGh0bWxfMjNjM2U3NjAwNTZiNDgyOTk2ZDMyNzJiMzJiMjdkYmMgPSAkKCc8ZGl2IGlkPSJodG1sXzIzYzNlNzYwMDU2YjQ4Mjk5NmQzMjcyYjMyYjI3ZGJjIiBzdHlsZT0id2lkdGg6IDEwMC4wJTsgaGVpZ2h0OiAxMDAuMCU7Ij55b3V0aCBjb25uZWN0aW9uIGNoYXJ0ZXIgc2Nob29sIENsdXN0ZXIgMjwvZGl2PicpWzBdOwogICAgICAgICAgICAgICAgcG9wdXBfZmVkYThlOTU4MTMzNDRiM2I2MzFmYzk5NDhkZDZlYWEuc2V0Q29udGVudChodG1sXzIzYzNlNzYwMDU2YjQ4Mjk5NmQzMjcyYjMyYjI3ZGJjKTsKICAgICAgICAgICAgCgogICAgICAgICAgICBjaXJjbGVfbWFya2VyXzc3ZTk5ZDNkNWExNTRlNzA4N2E3YWNlMjFmM2UxYTNkLmJpbmRQb3B1cChwb3B1cF9mZWRhOGU5NTgxMzM0NGIzYjYzMWZjOTk0OGRkNmVhYSk7CgogICAgICAgICAgICAKICAgICAgICAKICAgIAogICAgICAgICAgICB2YXIgY2lyY2xlX21hcmtlcl9hMTVhY2MxMjA0ZjQ0Mjg2ODRkZTNhMzg2ZmE3ZTYzNCA9IEwuY2lyY2xlTWFya2VyKAogICAgICAgICAgICAgICAgWzQxLjgwMjAzNiwtODcuNzEwNTI3XSwKICAgICAgICAgICAgICAgIHsKICAiYnViYmxpbmdNb3VzZUV2ZW50cyI6IHRydWUsCiAgImNvbG9yIjogIiNmZjAwMDAiLAogICJkYXNoQXJyYXkiOiBudWxsLAogICJkYXNoT2Zmc2V0IjogbnVsbCwKICAiZmlsbCI6IHRydWUsCiAgImZpbGxDb2xvciI6ICIjZmYwMDAwIiwKICAiZmlsbE9wYWNpdHkiOiAwLjcsCiAgImZpbGxSdWxlIjogImV2ZW5vZGQiLAogICJsaW5lQ2FwIjogInJvdW5kIiwKICAibGluZUpvaW4iOiAicm91bmQiLAogICJvcGFjaXR5IjogMS4wLAogICJyYWRpdXMiOiA1LAogICJzdHJva2UiOiB0cnVlLAogICJ3ZWlnaHQiOiAzCn0KICAgICAgICAgICAgICAgICkuYWRkVG8obWFwX2I2MTc1ZmNmMWU1MzQ2NjZiY2Y3ODNkYjQ1YzQ0YzczKTsKICAgICAgICAgICAgCiAgICAKICAgICAgICAgICAgdmFyIHBvcHVwXzQ1MzI4YzA0MTk0MjQxYjQ4NzkxM2JkNTc1MzhiYTBjID0gTC5wb3B1cCh7bWF4V2lkdGg6ICczMDAnfSk7CgogICAgICAgICAgICAKICAgICAgICAgICAgICAgIHZhciBodG1sX2ExYjEyNjA4ZjFkNzRmNjhhOTg3OWY1YTMwZjhmOWYyID0gJCgnPGRpdiBpZD0iaHRtbF9hMWIxMjYwOGYxZDc0ZjY4YTk4NzlmNWEzMGY4ZjlmMiIgc3R5bGU9IndpZHRoOiAxMDAuMCU7IGhlaWdodDogMTAwLjAlOyI+VU5PIFNvY2NlciBBY2FkZW15IEhpZ2ggU2Nob29sIENsdXN0ZXIgMDwvZGl2PicpWzBdOwogICAgICAgICAgICAgICAgcG9wdXBfNDUzMjhjMDQxOTQyNDFiNDg3OTEzYmQ1NzUzOGJhMGMuc2V0Q29udGVudChodG1sX2ExYjEyNjA4ZjFkNzRmNjhhOTg3OWY1YTMwZjhmOWYyKTsKICAgICAgICAgICAgCgogICAgICAgICAgICBjaXJjbGVfbWFya2VyX2ExNWFjYzEyMDRmNDQyODY4NGRlM2EzODZmYTdlNjM0LmJpbmRQb3B1cChwb3B1cF80NTMyOGMwNDE5NDI0MWI0ODc5MTNiZDU3NTM4YmEwYyk7CgogICAgICAgICAgICAKICAgICAgICAKICAgIAogICAgICAgICAgICB2YXIgY2lyY2xlX21hcmtlcl9kODViMDZkNTQ1Mzc0ZmI3YWE4MWRlOGYwNTkyZWZjYiA9IEwuY2lyY2xlTWFya2VyKAogICAgICAgICAgICAgICAgWzQxLjg0NjM3OTY5MzQ4MTg1LC04Ny44MDAxMjkwNDk5Mjk0NF0sCiAgICAgICAgICAgICAgICB7CiAgImJ1YmJsaW5nTW91c2VFdmVudHMiOiB0cnVlLAogICJjb2xvciI6ICIjMDBiNWViIiwKICAiZGFzaEFycmF5IjogbnVsbCwKICAiZGFzaE9mZnNldCI6IG51bGwsCiAgImZpbGwiOiB0cnVlLAogICJmaWxsQ29sb3IiOiAiIzAwYjVlYiIsCiAgImZpbGxPcGFjaXR5IjogMC43LAogICJmaWxsUnVsZSI6ICJldmVub2RkIiwKICAibGluZUNhcCI6ICJyb3VuZCIsCiAgImxpbmVKb2luIjogInJvdW5kIiwKICAib3BhY2l0eSI6IDEuMCwKICAicmFkaXVzIjogNSwKICAic3Ryb2tlIjogdHJ1ZSwKICAid2VpZ2h0IjogMwp9CiAgICAgICAgICAgICAgICApLmFkZFRvKG1hcF9iNjE3NWZjZjFlNTM0NjY2YmNmNzgzZGI0NWM0NGM3Myk7CiAgICAgICAgICAgIAogICAgCiAgICAgICAgICAgIHZhciBwb3B1cF83MWQxOGNhMDZjOTA0OTY0YmQyN2ExNDczNTI1MjVlYiA9IEwucG9wdXAoe21heFdpZHRoOiAnMzAwJ30pOwoKICAgICAgICAgICAgCiAgICAgICAgICAgICAgICB2YXIgaHRtbF9kYjE3NmUxMTE0MWE0OTdjODYzNWQxZTI4YTBjZWM5OSA9ICQoJzxkaXYgaWQ9Imh0bWxfZGIxNzZlMTExNDFhNDk3Yzg2MzVkMWUyOGEwY2VjOTkiIHN0eWxlPSJ3aWR0aDogMTAwLjAlOyBoZWlnaHQ6IDEwMC4wJTsiPk0yNDAgSW4gU0NIT09MIFNVU1BFTlNJT04gQ2x1c3RlciAyPC9kaXY+JylbMF07CiAgICAgICAgICAgICAgICBwb3B1cF83MWQxOGNhMDZjOTA0OTY0YmQyN2ExNDczNTI1MjVlYi5zZXRDb250ZW50KGh0bWxfZGIxNzZlMTExNDFhNDk3Yzg2MzVkMWUyOGEwY2VjOTkpOwogICAgICAgICAgICAKCiAgICAgICAgICAgIGNpcmNsZV9tYXJrZXJfZDg1YjA2ZDU0NTM3NGZiN2FhODFkZThmMDU5MmVmY2IuYmluZFBvcHVwKHBvcHVwXzcxZDE4Y2EwNmM5MDQ5NjRiZDI3YTE0NzM1MjUyNWViKTsKCiAgICAgICAgICAgIAogICAgICAgIAo8L3NjcmlwdD4= onload=\"this.contentDocument.open();this.contentDocument.write(atob(this.getAttribute('data-html')));this.contentDocument.close();\" allowfullscreen webkitallowfullscreen mozallowfullscreen></iframe></div></div>"
      ],
      "text/plain": [
       "<folium.folium.Map at 0x1a21397b90>"
      ]
     },
     "execution_count": 76,
     "metadata": {},
     "output_type": "execute_result"
    }
   ],
   "source": [
    "# create map\n",
    "map_clusters = folium.Map(location=[locationLat, locationLon], zoom_start=10)\n",
    "\n",
    "# set color scheme for the clusters\n",
    "x = np.arange(kclusters)\n",
    "ys = [i + x + (i*x)**2 for i in range(kclusters)]\n",
    "colors_array = cm.rainbow(np.linspace(0, 1, len(ys)))\n",
    "rainbow = [colors.rgb2hex(i) for i in colors_array]\n",
    "\n",
    "# add markers to the map\n",
    "markers_colors = []\n",
    "for lat, lon, poi, cluster in zip(dfFinal['Latitude'], dfFinal['Longitude'], dfFinal['Name'], dfFinal['Cluster Labels']):\n",
    "    label = folium.Popup(str(poi) + ' Cluster ' + str(cluster), parse_html=True)\n",
    "    folium.CircleMarker(\n",
    "        [lat, lon],\n",
    "        radius=5,\n",
    "        popup=label,\n",
    "        color=rainbow[cluster-1],\n",
    "        fill=True,\n",
    "        fill_color=rainbow[cluster-1],\n",
    "        fill_opacity=0.7).add_to(map_clusters)\n",
    "       \n",
    "map_clusters"
   ]
  },
  {
   "cell_type": "markdown",
   "metadata": {},
   "source": [
    "### Results"
   ]
  },
  {
   "cell_type": "markdown",
   "metadata": {},
   "source": [
    "Clicking on the schools locations we see which clusters are associated with each color:\n",
    "* Cluster 0 - red\n",
    "* Cluster 1 - purple\n",
    "* Cluster 2 - blue\n",
    "* Cluster 3 - green\n",
    "* Cluster 4 - orange"
   ]
  },
  {
   "cell_type": "markdown",
   "metadata": {},
   "source": [
    "Based on this plot we can conclude that:\n",
    "* The 'safest' school (cluster 0, marked red) based on the chosen categories are located away from the city center.\n",
    "* There is a high number of both fastfood restaurants and liquor stores near schools north of Chicago's city centre (cluster 1, marked purple)\n",
    "* The concentration of fastfood restaurants and liquor stores seems to decrease as the distance from the city centre increases (compare cluster 2, marked blue with cluster 0 marked red)\n",
    "* A high concentration of fastfood restaurants near schools are in the city centre (cluster 3, marked green)\n",
    "* Two schools are near gun shops (cluster 4, marked orange). Probably the same gun shop causing both schools to be clustered like this though"
   ]
  },
  {
   "cell_type": "markdown",
   "metadata": {},
   "source": [
    "### Discussion"
   ]
  },
  {
   "cell_type": "markdown",
   "metadata": {},
   "source": [
    "We have been able to cluster schools based on the vicinity of nearby venue types. This may be helpful for parents in their choice of high school. Especially when new to a city or neighborhood. We must note that we have been able to clearly visualize how clusters were formed since we used three categories. When using more categories this might become less transparant. \n",
    "\n",
    "To expand on this idea we might think of an application where the user enters it's location, search radius and categories himself. For people living in Las Vegas the vicinity of casino's and betting stores might be the categories of concern they want the clustering to be based on. And in countries outside the US gun shops might not be an issue at all. \n",
    "Besides that we can also perform a similar analysis based on 'good' categories (eg. the vicinity of healthy food shops and sport locations). However, retrieving the locations from the API sometimes prove to be instable and too slow for a good user experience.\n",
    "\n",
    "Finally, this application can prove to be helpful to analyse whether there is a correlation between crimes, violations or accidents involving students from high schools and the vicinity of certain venue types."
   ]
  },
  {
   "cell_type": "markdown",
   "metadata": {},
   "source": [
    "### Conclusion"
   ]
  },
  {
   "cell_type": "markdown",
   "metadata": {},
   "source": [
    "We have proven that schools can be clustered using Phyton and its libraries, the Foursquare API and the k-means algorithm.\n",
    "\n",
    "Hopefully this idea and code inspires others to think of future applications using Foursquare data and clustering to help solving real life challenges."
   ]
  }
 ],
 "metadata": {
  "celltoolbar": "Hide code",
  "kernelspec": {
   "display_name": "Python 3",
   "language": "python",
   "name": "python3"
  },
  "language_info": {
   "codemirror_mode": {
    "name": "ipython",
    "version": 3
   },
   "file_extension": ".py",
   "mimetype": "text/x-python",
   "name": "python",
   "nbconvert_exporter": "python",
   "pygments_lexer": "ipython3",
   "version": "3.7.4"
  }
 },
 "nbformat": 4,
 "nbformat_minor": 2
}
