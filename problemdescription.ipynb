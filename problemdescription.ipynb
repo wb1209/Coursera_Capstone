{
 "cells": [
  {
   "cell_type": "markdown",
   "metadata": {},
   "source": [
    "# Capstone Project\n",
    "\n",
    "### A description of the problem and a discussion of the background"
   ]
  },
  {
   "cell_type": "markdown",
   "metadata": {},
   "source": [
    "When children reach the age they go to high school parents have to deal with an important decision: which school should I send my child to? \n",
    "\n",
    "Obviously parents will look at the quality of education and probably take into account the travel distance as well. But when children go into puberty you also want to protect them getting exposed to unhealthy temptations in the world out there. Especially those that may exist in the immediate vicinity of the school. \n",
    "\n",
    "For instance tempations that increase the chance of developing unhealthy eating and/or drinking behaviour."
   ]
  },
  {
   "cell_type": "markdown",
   "metadata": {},
   "source": [
    "Using foursquare data and its api we should be able to determine the venues in the near vicinity of schools we want to our children exposed to as little as possible."
   ]
  },
  {
   "cell_type": "markdown",
   "metadata": {},
   "source": [
    "The idea is to cluster schools near a given location on the number of venues of a certain category within a certain radius of the schools.\n"
   ]
  },
  {
   "cell_type": "markdown",
   "metadata": {},
   "source": [
    "As an example I intend to use the high schools in *Los Angelos* and find the number of venues of certain categories within a *1000m* radius of the school (ie. walking distance). I intend to use the following (Foursquare) categories in my example:\n",
    "* *Bar*\n",
    "* *Liquor Store*\n",
    "* *Fast Food Restaurant*"
   ]
  },
  {
   "cell_type": "markdown",
   "metadata": {},
   "source": [
    "Schools that are most similar in terms of number of bars, liquor stores and fast food restaurant will form clusters which we visualize on a map. **This will help parents in their high school selection**. \n",
    "\n",
    "By giving weights to categories the user can fine tune the 'relative concern'. For instance one might say they find the absence of liquor stores twice as important compared to the number fast food restaurants and bars. By giving liquor stores weight 2 and the other categories weight 1 it will take this into account in the clustering of schools. In this example the actual number of liquor store's will be doubled before training the clustering algorithm."
   ]
  },
  {
   "cell_type": "markdown",
   "metadata": {},
   "source": [
    "Clustering schools based on nearby venue types may also prove to be useful in other types of analysis by tweeking one of more parameters (marked italic in the above text). For instance: do we see a correlation between problematic drinking behaviour amongst children in the age of 15-18 and the number of liquor stores or bars in the near vicinity? Or do we see problematic gambling behaviour more often when there is a casino or betting shops near school?"
   ]
  },
  {
   "cell_type": "markdown",
   "metadata": {},
   "source": [
    "In the future we might be able to develop a mobile app where the user enters a location, radius and the categories of concern. People living in Las Vegas might find the vicinity of casino's a more relevant category to cluster by where people living in an area with a high number of gun shops would like to take that factor into account) "
   ]
  },
  {
   "cell_type": "code",
   "execution_count": null,
   "metadata": {},
   "outputs": [],
   "source": []
  }
 ],
 "metadata": {
  "kernelspec": {
   "display_name": "Python 3",
   "language": "python",
   "name": "python3"
  },
  "language_info": {
   "codemirror_mode": {
    "name": "ipython",
    "version": 3
   },
   "file_extension": ".py",
   "mimetype": "text/x-python",
   "name": "python",
   "nbconvert_exporter": "python",
   "pygments_lexer": "ipython3",
   "version": "3.7.4"
  }
 },
 "nbformat": 4,
 "nbformat_minor": 2
}
